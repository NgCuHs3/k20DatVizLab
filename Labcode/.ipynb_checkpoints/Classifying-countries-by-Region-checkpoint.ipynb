{
 "cells": [
  {
   "cell_type": "code",
   "execution_count": null,
   "id": "3a5facdb",
   "metadata": {},
   "outputs": [],
   "source": [
    "import pandas as pd\n",
    "import numpy as np\n",
    "import matplotlib.pyplot as plt\n",
    "from PIL import ImageColor\n",
    "import plotly.express as px\n",
    "import plotly.graph_objects as go\n",
    "from plotly.subplots import make_subplots\n",
    "import json\n",
    "owid_covid_data = pd.read_csv('owid-covid-data-reduce.csv')"
   ]
  },
  {
   "cell_type": "code",
   "execution_count": null,
   "id": "3a9e8b8c",
   "metadata": {},
   "outputs": [],
   "source": [
    "owid_covid_data.head()"
   ]
  },
  {
   "cell_type": "code",
   "execution_count": null,
   "id": "3b619ac7",
   "metadata": {},
   "outputs": [],
   "source": [
    "owid_covid_data = owid_covid_data[owid_covid_data['continent'].notna()]"
   ]
  },
  {
   "cell_type": "code",
   "execution_count": null,
   "id": "e1234242",
   "metadata": {},
   "outputs": [],
   "source": [
    "owid_covid_data.head()"
   ]
  },
  {
   "cell_type": "code",
   "execution_count": null,
   "id": "96ac362d",
   "metadata": {},
   "outputs": [],
   "source": [
    "list_nations = owid_covid_data.location.unique().tolist()"
   ]
  },
  {
   "cell_type": "code",
   "execution_count": null,
   "id": "a7592513",
   "metadata": {},
   "outputs": [],
   "source": [
    "list_nations"
   ]
  },
  {
   "cell_type": "code",
   "execution_count": null,
   "id": "6b6c84e3",
   "metadata": {},
   "outputs": [],
   "source": [
    "# based on Global Data on National Paliarments\n",
    "Australia_and_New_Zealand_list = ['Australia','New Zealand']\n",
    "\n",
    "Caribbean_list = ['Anguilla','Antigua and Barbuda','Aruba','Bahamas','Barbados','Bermuda','Bonaire Sint Eustatius and Saba',\n",
    "                 'British Virgin Islands','Cayman Islands','Cuba','Curacao','Dominica','Dominican Republic','Grenada','Haiti',\n",
    "                 'Jamaica','Montserrat','Saint Kitts and Nevis','Saint Lucia','Saint Vincent and the Grenadines',\n",
    "                 'Sint Maarten (Dutch part)','Trinidad and Tobago','Turks and Caicos Islands']\n",
    "\n",
    "Central_Africa_list = ['Burundi','Cameroon','Central African Republic','Chad','Congo','Democratic Republic of Congo',\n",
    "                      'Equatorial Guinea','Gabon','Rwanda','Sao Tome and Principe']\n",
    "\n",
    "Central_America_list = ['Belize','Costa Rica','El Salvador','Guatemala','Honduras','Nicaragua','Panama']\n",
    "\n",
    "Central_and_Eastern_Europe_list = ['Albania','Armenia','Azerbaijan','Belarus','Bosnia and Herzegovina','Bulgaria','Croatia',\n",
    "                                  'Czechia','Estonia','Georgia','Hungary','Kosovo','Latvia','Lithuania','Moldova','Montenegro',\n",
    "                                  'North Macedonia','Poland','Romania','Russia','Serbia','Slovakia','Slovenia','Ukraine']\n",
    "\n",
    "Central_Asia_list = ['Kazakhstan','Kyrgyzstan','Tajikistan','Turkmenistan','Uzbekistan']\n",
    "\n",
    "East_Africa_list = ['Comoros','Djibouti','Eritrea','Ethiopia','Kenya','Somalia','South Sudan','Sudan','Tanzania','Uganda']\n",
    "\n",
    "East_Asia_list = ['China','Hong Kong','Japan','Macao','Mongolia','South Korea','Taiwan']\n",
    "\n",
    "Middle_East_list = ['Bahrain','Egypt','Iraq','Israel','Jordan','Kuwait','Lebanon','Oman','Palestine','Qatar','Saudi Arabia',\n",
    "                   'Syria','United Arab Emirates','Yemen']\n",
    "\n",
    "North_Africa_list = ['Algeria','Libya','Mauritania','Morocco','Tunisia']\n",
    "\n",
    "Nordic_countries_list = ['Denmark','Faeroe Islands','Finland','Greenland','Iceland','Norway','Sweden']\n",
    "\n",
    "North_America_list = ['Canada','Mexico','United States']\n",
    "\n",
    "Pacific_Islands_list = ['Cook Islands','Fiji','French Polynesia','Kiribati','Marshall Islands','Micronesia (country)','Nauru',\n",
    "                       'New Caledonia','Niue','Palau','Papua New Guinea','Pitcairn','Samoa','Solomon Islands','Tokelau',\n",
    "                       'Tonga','Tuvalu','Vanuatu','Wallis and Futuna']\n",
    "\n",
    "South_America_list = ['Argentina','Bolivia','Brazil','Chile','Colombia','Ecuador','Falkland Islands','Guyana','Paraguay','Peru',\n",
    "                     'Suriname','Uruguay','Venezuela']\n",
    "\n",
    "South_Asia_list = ['Afghanistan','Bangladesh','Bhutan','India','Iran','Maldives','Nepal','Pakistan','Sri Lanka']\n",
    "\n",
    "South_East_Asia_list = ['Brunei','Cambodia','Indonesia','Laos','Malaysia','Myanmar','Philippines','Singapore','Thailand',\n",
    "                       'Timor','Vietnam']\n",
    "\n",
    "Southern_Africa_list = ['Angola','Botswana','Eswatini','Lesotho','Madagascar','Malawi','Mauritius','Mozambique','Namibia',\n",
    "                       'Seychelles','South Africa','Zambia','Zimbabwe']\n",
    "\n",
    "Southern_Europe_list = ['Cyprus','Gibraltar','Greece','Italy','Malta','Northern Cyprus','Portugal','San Marino','Spain',\n",
    "                       'Turkey','Vatican']\n",
    "\n",
    "West_Africa_list = ['Benin','Burkina Faso','Cape Verde',\"Cote d'Ivoire\",'Gambia','Ghana','Guinea','Guinea-Bissau','Liberia',\n",
    "                   'Mali','Niger','Nigeria','Saint Helena','Senegal','Sierra Leone','Togo']\n",
    "\n",
    "Western_Europe_list = ['Andorra','Austria','Belgium','France','Germany','Guernsey','Ireland','Isle of Man','Jersey',\n",
    "                      'Liechtenstein','Luxembourg','Monaco','Netherlands','Switzerland','United Kingdom']"
   ]
  },
  {
   "cell_type": "code",
   "execution_count": null,
   "id": "9b539fff",
   "metadata": {},
   "outputs": [],
   "source": [
    "def check_region(x):\n",
    "    if x in Australia_and_New_Zealand_list:\n",
    "        return 'Australia and New Zealand'\n",
    "    elif x in Caribbean_list:\n",
    "        return 'Caribbean'\n",
    "    elif x in Central_Africa_list :\n",
    "        return 'Central Africa'\n",
    "    elif x in Central_America_list :\n",
    "        return 'Central America'\n",
    "    elif x in Central_and_Eastern_Europe_list :\n",
    "        return 'Central and Eastern Europe'\n",
    "    elif x in Central_Asia_list :\n",
    "        return 'Central Asia'\n",
    "    elif x in East_Africa_list :\n",
    "        return 'East Africa'\n",
    "    elif x in East_Asia_list :\n",
    "        return 'East Asia'\n",
    "    elif x in Middle_East_list :\n",
    "        return 'Middle East'\n",
    "    elif x in North_Africa_list :\n",
    "        return 'North Africa'\n",
    "    elif x in Nordic_countries_list :\n",
    "        return 'Nordic countries'\n",
    "    elif x in North_America_list :\n",
    "        return 'North America'\n",
    "    elif x in Pacific_Islands_list :\n",
    "        return 'Pacific Islands'\n",
    "    elif x in South_America_list :\n",
    "        return 'South America'\n",
    "    elif x in South_Asia_list :\n",
    "        return 'South Asia'\n",
    "    elif x in South_East_Asia_list :\n",
    "        return 'South East Asia'\n",
    "    elif x in Southern_Africa_list :\n",
    "        return 'Southern Africa'\n",
    "    elif x in Southern_Europe_list :\n",
    "        return 'Southern Europe'\n",
    "    elif x in West_Africa_list :\n",
    "        return 'West Africa'\n",
    "    else : \n",
    "        return 'Western Europe'"
   ]
  },
  {
   "cell_type": "code",
   "execution_count": null,
   "id": "9b095239",
   "metadata": {},
   "outputs": [],
   "source": [
    "owid_covid_data['region'] = owid_covid_data['location'].apply(lambda x : check_region(x))"
   ]
  },
  {
   "cell_type": "code",
   "execution_count": null,
   "id": "4fe7ccb6",
   "metadata": {},
   "outputs": [],
   "source": [
    "owid_covid_data.to_csv('owid_covid_data_reduce_gregion.csv',index=False)"
   ]
  },
  {
   "cell_type": "code",
   "execution_count": null,
   "id": "214c696b",
   "metadata": {},
   "outputs": [],
   "source": [
    "owid_covid_data.columns.tolist()"
   ]
  },
  {
   "cell_type": "code",
   "execution_count": null,
   "id": "6f312d43",
   "metadata": {},
   "outputs": [],
   "source": [
    "# reorder the columns so that the column 'region' show up visibly at first columns\n",
    "owid_covid_data = owid_covid_data[['date',\n",
    " 'iso_code',\n",
    " 'continent',\n",
    " 'region',                                  \n",
    " 'location',\n",
    " 'total_cases',\n",
    " 'new_cases',\n",
    " 'new_cases_smoothed',\n",
    " 'total_deaths',\n",
    " 'new_deaths',\n",
    " 'new_deaths_smoothed',\n",
    " 'total_cases_per_million',\n",
    " 'new_cases_per_million',\n",
    " 'new_cases_smoothed_per_million',\n",
    " 'total_deaths_per_million',\n",
    " 'new_deaths_per_million',\n",
    " 'new_deaths_smoothed_per_million',\n",
    " 'reproduction_rate',\n",
    " 'icu_patients',\n",
    " 'icu_patients_per_million',\n",
    " 'hosp_patients',\n",
    " 'hosp_patients_per_million',\n",
    " 'weekly_icu_admissions',\n",
    " 'weekly_icu_admissions_per_million',\n",
    " 'weekly_hosp_admissions',\n",
    " 'weekly_hosp_admissions_per_million',\n",
    " 'new_tests',\n",
    " 'total_tests',\n",
    " 'total_tests_per_thousand',\n",
    " 'new_tests_per_thousand',\n",
    " 'new_tests_smoothed',\n",
    " 'new_tests_smoothed_per_thousand',\n",
    " 'positive_rate',\n",
    " 'tests_per_case',\n",
    " 'tests_units',\n",
    " 'total_vaccinations',\n",
    " 'people_vaccinated',\n",
    " 'people_fully_vaccinated',\n",
    " 'total_boosters',\n",
    " 'new_vaccinations',\n",
    " 'new_vaccinations_smoothed',\n",
    " 'total_vaccinations_per_hundred',\n",
    " 'people_vaccinated_per_hundred',\n",
    " 'people_fully_vaccinated_per_hundred',\n",
    " 'total_boosters_per_hundred',\n",
    " 'new_vaccinations_smoothed_per_million',\n",
    " 'stringency_index',\n",
    " 'population',\n",
    " 'population_density',\n",
    " 'median_age',\n",
    " 'aged_65_older',\n",
    " 'aged_70_older',\n",
    " 'gdp_per_capita',\n",
    " 'extreme_poverty',\n",
    " 'cardiovasc_death_rate',\n",
    " 'diabetes_prevalence',\n",
    " 'female_smokers',\n",
    " 'male_smokers',\n",
    " 'handwashing_facilities',\n",
    " 'hospital_beds_per_thousand',\n",
    " 'life_expectancy',\n",
    " 'human_development_index',\n",
    " 'excess_mortality_cumulative_absolute',\n",
    " 'excess_mortality_cumulative',\n",
    " 'excess_mortality',\n",
    " 'excess_mortality_cumulative_per_million']]"
   ]
  },
  {
   "cell_type": "code",
   "execution_count": null,
   "id": "9a30b634",
   "metadata": {},
   "outputs": [],
   "source": [
    "owid_covid_data.head()\n"
   ]
  },
  {
   "cell_type": "code",
   "execution_count": null,
   "id": "8d514e2d",
   "metadata": {},
   "outputs": [],
   "source": [
    "colors6 = ['#FD0100','#F76915','#EEDE04','#A0D636','#2FA236','#333ED4']"
   ]
  }
 ],
 "metadata": {
  "kernelspec": {
   "display_name": "Python 3",
   "language": "python",
   "name": "python3"
  },
  "language_info": {
   "codemirror_mode": {
    "name": "ipython",
    "version": 3
   },
   "file_extension": ".py",
   "mimetype": "text/x-python",
   "name": "python",
   "nbconvert_exporter": "python",
   "pygments_lexer": "ipython3",
   "version": "3.9.7"
  }
 },
 "nbformat": 4,
 "nbformat_minor": 5
}
