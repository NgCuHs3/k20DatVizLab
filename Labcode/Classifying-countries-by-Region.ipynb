{
 "cells": [
  {
   "cell_type": "code",
   "execution_count": 5,
   "id": "3a5facdb",
   "metadata": {},
   "outputs": [],
   "source": [
    "import pandas as pd\n",
    "import numpy as np\n",
    "import matplotlib.pyplot as plt\n",
    "from PIL import ImageColor\n",
    "import plotly.express as px\n",
    "import plotly.graph_objects as go\n",
    "from plotly.subplots import make_subplots\n",
    "import json\n",
    "owid_covid_data = pd.read_csv('owid_covid_data.csv')"
   ]
  },
  {
   "cell_type": "code",
   "execution_count": 6,
   "id": "6b6c84e3",
   "metadata": {},
   "outputs": [],
   "source": [
    "# based on Global Data on National Paliarments\n",
    "Australia_and_New_Zealand_list = ['Australia','New Zealand']\n",
    "\n",
    "Caribbean_list = ['Anguilla','Antigua and Barbuda','Aruba','Bahamas','Barbados','Bermuda','Bonaire Sint Eustatius and Saba',\n",
    "                 'British Virgin Islands','Cayman Islands','Cuba','Curacao','Dominica','Dominican Republic','Grenada','Haiti',\n",
    "                 'Jamaica','Montserrat','Saint Kitts and Nevis','Saint Lucia','Saint Vincent and the Grenadines',\n",
    "                 'Sint Maarten (Dutch part)','Trinidad and Tobago','Turks and Caicos Islands']\n",
    "\n",
    "Central_Africa_list = ['Burundi','Cameroon','Central African Republic','Chad','Congo','Democratic Republic of Congo',\n",
    "                      'Equatorial Guinea','Gabon','Rwanda','Sao Tome and Principe']\n",
    "\n",
    "Central_America_list = ['Belize','Costa Rica','El Salvador','Guatemala','Honduras','Nicaragua','Panama']\n",
    "\n",
    "Central_and_Eastern_Europe_list = ['Albania','Armenia','Azerbaijan','Belarus','Bosnia and Herzegovina','Bulgaria','Croatia',\n",
    "                                  'Czechia','Estonia','Georgia','Hungary','Kosovo','Latvia','Lithuania','Moldova','Montenegro',\n",
    "                                  'North Macedonia','Poland','Romania','Russia','Serbia','Slovakia','Slovenia','Ukraine']\n",
    "\n",
    "Central_Asia_list = ['Kazakhstan','Kyrgyzstan','Tajikistan','Turkmenistan','Uzbekistan']\n",
    "\n",
    "East_Africa_list = ['Comoros','Djibouti','Eritrea','Ethiopia','Kenya','Somalia','South Sudan','Sudan','Tanzania','Uganda']\n",
    "\n",
    "East_Asia_list = ['China','Hong Kong','Japan','Macao','Mongolia','South Korea','Taiwan']\n",
    "\n",
    "Middle_East_list = ['Bahrain','Egypt','Iraq','Israel','Jordan','Kuwait','Lebanon','Oman','Palestine','Qatar','Saudi Arabia',\n",
    "                   'Syria','United Arab Emirates','Yemen']\n",
    "\n",
    "North_Africa_list = ['Algeria','Libya','Mauritania','Morocco','Tunisia']\n",
    "\n",
    "Nordic_countries_list = ['Denmark','Faeroe Islands','Finland','Greenland','Iceland','Norway','Sweden']\n",
    "\n",
    "North_America_list = ['Canada','Mexico','United States']\n",
    "\n",
    "Pacific_Islands_list = ['Cook Islands','Fiji','French Polynesia','Kiribati','Marshall Islands','Micronesia (country)','Nauru',\n",
    "                       'New Caledonia','Niue','Palau','Papua New Guinea','Pitcairn','Samoa','Solomon Islands','Tokelau',\n",
    "                       'Tonga','Tuvalu','Vanuatu','Wallis and Futuna']\n",
    "\n",
    "South_America_list = ['Argentina','Bolivia','Brazil','Chile','Colombia','Ecuador','Falkland Islands','Guyana','Paraguay','Peru',\n",
    "                     'Suriname','Uruguay','Venezuela']\n",
    "\n",
    "South_Asia_list = ['Afghanistan','Bangladesh','Bhutan','India','Iran','Maldives','Nepal','Pakistan','Sri Lanka']\n",
    "\n",
    "South_East_Asia_list = ['Brunei','Cambodia','Indonesia','Laos','Malaysia','Myanmar','Philippines','Singapore','Thailand',\n",
    "                       'Timor','Vietnam']\n",
    "\n",
    "Southern_Africa_list = ['Angola','Botswana','Eswatini','Lesotho','Madagascar','Malawi','Mauritius','Mozambique','Namibia',\n",
    "                       'Seychelles','South Africa','Zambia','Zimbabwe']\n",
    "\n",
    "Southern_Europe_list = ['Cyprus','Gibraltar','Greece','Italy','Malta','Northern Cyprus','Portugal','San Marino','Spain',\n",
    "                       'Turkey','Vatican']\n",
    "\n",
    "West_Africa_list = ['Benin','Burkina Faso','Cape Verde',\"Cote d'Ivoire\",'Gambia','Ghana','Guinea','Guinea-Bissau','Liberia',\n",
    "                   'Mali','Niger','Nigeria','Saint Helena','Senegal','Sierra Leone','Togo']\n",
    "\n",
    "Western_Europe_list = ['Andorra','Austria','Belgium','France','Germany','Guernsey','Ireland','Isle of Man','Jersey',\n",
    "                      'Liechtenstein','Luxembourg','Monaco','Netherlands','Switzerland','United Kingdom']"
   ]
  },
  {
   "cell_type": "code",
   "execution_count": 7,
   "id": "9b539fff",
   "metadata": {},
   "outputs": [],
   "source": [
    "def check_region(x):\n",
    "    if x in Australia_and_New_Zealand_list:\n",
    "        return 'Australia and New Zealand'\n",
    "    elif x in Caribbean_list:\n",
    "        return 'Caribbean'\n",
    "    elif x in Central_Africa_list :\n",
    "        return 'Central Africa'\n",
    "    elif x in Central_America_list :\n",
    "        return 'Central America'\n",
    "    elif x in Central_and_Eastern_Europe_list :\n",
    "        return 'Central and Eastern Europe'\n",
    "    elif x in Central_Asia_list :\n",
    "        return 'Central Asia'\n",
    "    elif x in East_Africa_list :\n",
    "        return 'East Africa'\n",
    "    elif x in East_Asia_list :\n",
    "        return 'East Asia'\n",
    "    elif x in Middle_East_list :\n",
    "        return 'Middle East'\n",
    "    elif x in North_Africa_list :\n",
    "        return 'North Africa'\n",
    "    elif x in Nordic_countries_list :\n",
    "        return 'Nordic countries'\n",
    "    elif x in North_America_list :\n",
    "        return 'North America'\n",
    "    elif x in Pacific_Islands_list :\n",
    "        return 'Pacific Islands'\n",
    "    elif x in South_America_list :\n",
    "        return 'South America'\n",
    "    elif x in South_Asia_list :\n",
    "        return 'South Asia'\n",
    "    elif x in South_East_Asia_list :\n",
    "        return 'South East Asia'\n",
    "    elif x in Southern_Africa_list :\n",
    "        return 'Southern Africa'\n",
    "    elif x in Southern_Europe_list :\n",
    "        return 'Southern Europe'\n",
    "    elif x in West_Africa_list :\n",
    "        return 'West Africa'\n",
    "    else : \n",
    "        return 'Western Europe'"
   ]
  },
  {
   "cell_type": "code",
   "execution_count": 8,
   "id": "9b095239",
   "metadata": {},
   "outputs": [],
   "source": [
    "owid_covid_data['region'] = owid_covid_data['location'].apply(lambda x : check_region(x))"
   ]
  },
  {
   "cell_type": "code",
   "execution_count": 9,
   "id": "4fe7ccb6",
   "metadata": {},
   "outputs": [
    {
     "name": "stdout",
     "output_type": "stream",
     "text": [
      "60.13000000000001\n"
     ]
    }
   ],
   "source": [
    "owid_covid_data.to_csv('owid_covid_data_reduce_gregion.csv',index=False)\n",
    "\n",
    "wteuro = owid_covid_data[owid_covid_data['region'] == 'Western Europe']\n",
    "\n",
    "print(wteuro['handwashing_facilities'].mean())"
   ]
  }
 ],
 "metadata": {
  "kernelspec": {
   "display_name": "Python 3",
   "language": "python",
   "name": "python3"
  },
  "language_info": {
   "codemirror_mode": {
    "name": "ipython",
    "version": 3
   },
   "file_extension": ".py",
   "mimetype": "text/x-python",
   "name": "python",
   "nbconvert_exporter": "python",
   "pygments_lexer": "ipython3",
   "version": "3.9.7"
  }
 },
 "nbformat": 4,
 "nbformat_minor": 5
}
