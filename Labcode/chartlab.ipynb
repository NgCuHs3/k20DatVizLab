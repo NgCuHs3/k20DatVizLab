{
 "cells": [
  {
   "cell_type": "code",
   "execution_count": null,
   "metadata": {
    "execution": {
     "iopub.execute_input": "2021-11-14T07:34:52.615410Z",
     "iopub.status.busy": "2021-11-14T07:34:52.614407Z",
     "iopub.status.idle": "2021-11-14T07:34:52.621866Z",
     "shell.execute_reply": "2021-11-14T07:34:52.621866Z"
    }
   },
   "outputs": [],
   "source": [
    "#!pip install pandas matplotlib plotly==5.3.1"
   ]
  },
  {
   "cell_type": "code",
   "execution_count": null,
   "metadata": {
    "execution": {
     "iopub.execute_input": "2021-11-14T07:34:52.633177Z",
     "iopub.status.busy": "2021-11-14T07:34:52.632127Z",
     "iopub.status.idle": "2021-11-14T07:34:55.374973Z",
     "shell.execute_reply": "2021-11-14T07:34:55.374973Z"
    },
    "tags": []
   },
   "outputs": [],
   "source": [
    "import pandas as pd\n",
    "import numpy as np\n",
    "import matplotlib.pyplot as plt\n",
    "from PIL import ImageColor\n",
    "import plotly.express as px\n",
    "import plotly.graph_objects as go\n",
    "from plotly.subplots import make_subplots\n",
    "import json\n",
    "from urllib.request import urlopen\n",
    "owid_covid_data = pd.read_csv('owid_covid_data_reduce_gregion.csv')\n",
    "world_geo = json.load(open('countries.geojson'))\n"
   ]
  },
  {
   "cell_type": "code",
   "execution_count": null,
   "metadata": {
    "execution": {
     "iopub.execute_input": "2021-11-14T07:34:55.383975Z",
     "iopub.status.busy": "2021-11-14T07:34:55.383975Z",
     "iopub.status.idle": "2021-11-14T07:34:55.435764Z",
     "shell.execute_reply": "2021-11-14T07:34:55.435764Z"
    },
    "tags": []
   },
   "outputs": [],
   "source": [
    "owid_covid_data.head()\n",
    "owid_covid_data = owid_covid_data[owid_covid_data['continent'].notna()]"
   ]
  },
  {
   "cell_type": "code",
   "execution_count": null,
   "metadata": {
    "execution": {
     "iopub.execute_input": "2021-11-14T07:34:55.455100Z",
     "iopub.status.busy": "2021-11-14T07:34:55.455100Z",
     "iopub.status.idle": "2021-11-14T07:34:55.529625Z",
     "shell.execute_reply": "2021-11-14T07:34:55.529625Z"
    }
   },
   "outputs": [],
   "source": [
    "observe_regions = ['Southern Europe','Western Europe','East Asia','South East Asia','North America','Australia and New Zealand','Middle East','South Asia']\n",
    "\n",
    "\n",
    "# get 8 regions\n",
    "owid_covid_data.set_index('region',inplace=True)\n",
    "observe_regions_data = owid_covid_data.loc[observe_regions,:]\n",
    "observe_regions_data.reset_index(inplace=True)\n",
    "owid_covid_data.reset_index(inplace=True)"
   ]
  },
  {
   "cell_type": "markdown",
   "metadata": {},
   "source": [
    "# OVERVIEW PEOPLE FULL VACCINETED PER HUNDRED "
   ]
  },
  {
   "cell_type": "code",
   "execution_count": null,
   "metadata": {
    "execution": {
     "iopub.execute_input": "2021-11-14T07:34:55.552101Z",
     "iopub.status.busy": "2021-11-14T07:34:55.545837Z",
     "iopub.status.idle": "2021-11-14T07:35:13.851945Z",
     "shell.execute_reply": "2021-11-14T07:35:13.830482Z"
    }
   },
   "outputs": [],
   "source": [
    "\n",
    "people_group_vaccinated = owid_covid_data[['iso_code','people_fully_vaccinated_per_hundred']].groupby('iso_code').last()\n",
    "\n",
    "people_group_vaccinated.reset_index(inplace=True)\n",
    "\n",
    "\n",
    "fig = px.choropleth_mapbox(people_group_vaccinated, geojson=world_geo, locations='iso_code', color='people_fully_vaccinated_per_hundred',\n",
    "                           color_continuous_scale=\"Viridis\",\n",
    "                           range_color=(0, people_group_vaccinated['people_fully_vaccinated_per_hundred'].max()),\n",
    "                           mapbox_style=\"carto-positron\",\n",
    "                           zoom= 0.6, center = {\"lat\": -10, \"lon\": -10},\n",
    "                           featureidkey=\"properties.ISO_A3\",\n",
    "                           opacity=0.5,\n",
    "                           labels={'people_fully_vaccinated_per_hundred':'people full vaccinated per 100'}\n",
    "                          )\n",
    "fig.update_layout(  margin={\"r\":0,\"t\":40,\"l\":0,\"b\":0},\n",
    "                     title=dict(text = 'Set me title !'),height=550,width=850)\n",
    "fig.show()\n",
    "\n",
    "\n",
    "fig.write_html(\"./elementHTML_export/geomap.html\",include_plotlyjs=False,full_html=False)\n"
   ]
  },
  {
   "cell_type": "markdown",
   "metadata": {},
   "source": [
    "# 8 REGION VACCINATIONS PERCENT AT 2/11/2021"
   ]
  },
  {
   "cell_type": "code",
   "execution_count": null,
   "metadata": {
    "execution": {
     "iopub.execute_input": "2021-11-14T07:35:13.863962Z",
     "iopub.status.busy": "2021-11-14T07:35:13.862963Z",
     "iopub.status.idle": "2021-11-14T07:35:13.985269Z",
     "shell.execute_reply": "2021-11-14T07:35:13.986239Z"
    },
    "tags": []
   },
   "outputs": [],
   "source": [
    "# at 2/11/2021\n",
    "\n",
    "# lấy max trong nước và lấy trung bình trong châu lục 2 lần group\n",
    "vaccinated   = observe_regions_data[['region','location','people_fully_vaccinated_per_hundred','people_vaccinated_per_hundred','total_vaccinations_per_hundred']].groupby('location').last().groupby('region').mean()\n",
    "\n",
    "vaccinated.reset_index(inplace=True)\n",
    "\n",
    "region8vaccinated = vaccinated.sort_values('people_fully_vaccinated_per_hundred',ascending=False)\n",
    "\n",
    "#doi ten cot\n",
    "region8vaccinated.rename(columns={\n",
    "    'people_fully_vaccinated_per_hundred': 'people fully vaccinated per hundred',\n",
    "    'people_vaccinated_per_hundred': 'people vaccinated perhundred',\n",
    "    'total_vaccinations_per_hundred' : 'total vaccinations per hundred'\n",
    "},inplace=True)\n",
    "\n",
    "region8vaccinated_sns = pd.melt(region8vaccinated,id_vars=['region'],value_vars=['people fully vaccinated per hundred','people vaccinated perhundred','total vaccinations per hundred']\n",
    ",var_name='percent type',value_name='people per hundred')\n",
    "\n",
    "\n",
    "fig = px.bar(region8vaccinated_sns, x=\"region\", y=\"people per hundred\",\n",
    "             color='percent type',barmode='group',\n",
    "             height=600,width=750)\n",
    "fig.show()\n",
    "\n",
    "fig.write_html(\"./elementHTML_export/barchart.html\",include_plotlyjs=False,full_html=False)"
   ]
  },
  {
   "cell_type": "markdown",
   "metadata": {},
   "source": [
    "# TIME LINE OF VACCINATED "
   ]
  },
  {
   "cell_type": "code",
   "execution_count": null,
   "metadata": {
    "execution": {
     "iopub.execute_input": "2021-11-14T07:35:14.009988Z",
     "iopub.status.busy": "2021-11-14T07:35:14.009988Z",
     "iopub.status.idle": "2021-11-14T07:35:14.172811Z",
     "shell.execute_reply": "2021-11-14T07:35:14.171896Z"
    },
    "tags": []
   },
   "outputs": [],
   "source": [
    "observe_regions_data['date'] = pd.to_datetime(observe_regions_data['date'])\n",
    "\n",
    "\n",
    "region = observe_regions_data['region'].unique()\n",
    "\n",
    "container = []\n",
    "for er in region:\n",
    "     df_erea = observe_regions_data[observe_regions_data['region'] == er]\n",
    "     df_erea = df_erea[['date','total_vaccinations_per_hundred']].groupby('date').mean()\n",
    "     df_erea['region'] = er\n",
    "     df_erea.reset_index(inplace=True)\n",
    "     container.append(df_erea)\n",
    "\n",
    "area_time_sr = pd.concat(container,axis=0)\n",
    "\n",
    "area_time_sr['date'] =  area_time_sr['date'].dt.to_period('M')\n",
    "\n",
    "#max it  mean least \n",
    "area_time_sr = area_time_sr.groupby(['date','region']).max() \n",
    "\n",
    "area_time_sr.reset_index(inplace=True)\n",
    "\n",
    "area_time_sr['date'] = area_time_sr['date'].astype(str)\n",
    "\n",
    "\n",
    "fig = px.line(area_time_sr, x=\"date\", y=\"total_vaccinations_per_hundred\", color='region',height=550,width=700\n",
    ",title='Set title here')\n",
    "fig.show()\n",
    "\n",
    "\n",
    "fig.write_html(\"./elementHTML_export/linechart.html\",include_plotlyjs=False,full_html=False)\n"
   ]
  },
  {
   "cell_type": "markdown",
   "metadata": {},
   "source": [
    "# AREA PROPERTIES ABILITY COMPARE\n"
   ]
  },
  {
   "cell_type": "code",
   "execution_count": null,
   "metadata": {
    "execution": {
     "iopub.execute_input": "2021-11-14T07:35:14.182486Z",
     "iopub.status.busy": "2021-11-14T07:35:14.176641Z",
     "iopub.status.idle": "2021-11-14T07:35:14.264993Z",
     "shell.execute_reply": "2021-11-14T07:35:14.264993Z"
    },
    "tags": []
   },
   "outputs": [],
   "source": [
    "\n",
    "\n",
    "\n",
    "Ability8_base_location = observe_regions_data[['region','location','stringency_index','extreme_poverty','handwashing_facilities'\n",
    ",'human_development_index','gdp_per_capita','hospital_beds_per_thousand']].groupby('location').last()\n",
    "\n",
    "\n",
    "\n",
    "# phần bù của tỉ lệ nghèo đói\n",
    "Ability8_base_location['extreme_poverty_r'] = 100 - Ability8_base_location['extreme_poverty']\n",
    "Ability8_base_location.drop(columns=['extreme_poverty'],inplace=True)\n",
    "\n",
    "\n",
    "Ability8_base_region = Ability8_base_location.groupby('region').mean()\n",
    "\n",
    "\n",
    "# tẻ lệ gpd trê nuocs lớn nhất\n",
    "Ability8_base_region['gdp_per_capita'] *= 100 / Ability8_base_region['gdp_per_capita'].max()\n",
    "Ability8_base_region['stringency_index'] *= 100 / Ability8_base_region['stringency_index'].max()\n",
    "Ability8_base_region['human_development_index'] *= 100 / Ability8_base_region['human_development_index'].max()\n",
    "Ability8_base_region['extreme_poverty_r'] *= 100 / Ability8_base_region['extreme_poverty_r'].max()\n",
    "Ability8_base_region['hospital_beds_per_thousand'] *= 100 / Ability8_base_region['hospital_beds_per_thousand'].max()\n",
    "# #  --------------------------------------------------------------------\n",
    "\n",
    "figgo = go.Figure()\n",
    "\n",
    "idc = 0\n",
    "\n",
    "for er in Ability8_base_region.index:\n",
    "      record = Ability8_base_region.loc[er]\n",
    "      det = record.tolist()\n",
    "      aColor = px.colors.qualitative.Plotly[idc]\n",
    "      r,g,b = ImageColor.getcolor(aColor, \"RGB\")\n",
    "      figgo.add_trace(go.Scatterpolar(\n",
    "      r= det,\n",
    "      theta= Ability8_base_region.columns,\n",
    "      line = dict(color= aColor),\n",
    "      fill='toself',\n",
    "      fillcolor = \"rgba({r}, {g}, {b}, 0.09)\".format(r=r,g=g,b=b),\n",
    "      name=er,\n",
    "      ))\n",
    "      idc+=1\n",
    "\n",
    "figgo.update_layout(\n",
    "  polar=dict(\n",
    "    radialaxis=dict(\n",
    "      visible=True,\n",
    "      range=[0, 100]\n",
    "    )),\n",
    "  showlegend=True,\n",
    "  title= dict(text='Put title here for me'),\n",
    "  height=600\n",
    ")\n",
    "\n",
    "figgo.show()\n",
    "\n",
    "figgo.write_html(\"./elementHTML_export/radarchart.html\",include_plotlyjs=False,full_html=False)\n"
   ]
  },
  {
   "cell_type": "markdown",
   "metadata": {},
   "source": [
    "# SHARE POPULATION IN CASE"
   ]
  },
  {
   "cell_type": "code",
   "execution_count": null,
   "metadata": {
    "execution": {
     "iopub.execute_input": "2021-11-14T07:35:14.285907Z",
     "iopub.status.busy": "2021-11-14T07:35:14.285907Z",
     "iopub.status.idle": "2021-11-14T07:35:14.358611Z",
     "shell.execute_reply": "2021-11-14T07:35:14.358611Z"
    },
    "tags": []
   },
   "outputs": [],
   "source": [
    "\n",
    "\n",
    "\n",
    "fig = make_subplots(rows=2, cols=2, specs=[[{'type':'domain'}, {'type':'domain'}],[{'type':'domain'}, {'type':'domain'}]])\n",
    "\n",
    "\n",
    "c4date = observe_regions_data[['region','location','population','total_cases','total_deaths','total_vaccinations']].groupby('location').last().groupby('region').sum()\n",
    "\n",
    "\n",
    "labels = c4date.index\n",
    "\n",
    "fig.add_trace(go.Pie(labels=labels, values=c4date.loc[c4date.index,'population'], name=\"Share Population\"),\n",
    "              1, 1)\n",
    "fig.add_trace(go.Pie(labels=labels, values=c4date.loc[c4date.index,'total_cases'].tolist(), name=\"Share Cases\"),\n",
    "              1, 2)\n",
    "fig.add_trace(go.Pie(labels=labels, values=c4date.loc[c4date.index,'total_deaths'].tolist(), name=\"Share Deaths\"),\n",
    "              2, 1)\n",
    "fig.add_trace(go.Pie(labels=labels, values=c4date.loc[c4date.index,'total_vaccinations'].tolist(), name=\"Share Vaccinations\"),\n",
    "              2, 2)        \n",
    "\n",
    "fig.update_traces(hole=.4, hoverinfo=\"label+percent+name\")\n",
    "\n",
    "fig.update_layout(\n",
    "    title_text=\"Give me title here\",\n",
    "    margin={\"r\":5,\"t\":40,\"l\":5,\"b\":5},\n",
    "    height= 550,\n",
    "    width = 800,\n",
    "    # Add annotations in the center of the donut pies.\n",
    "    annotations=[dict(text='Population', x= 0.17, y=0.805, font_size=13, showarrow=False),\n",
    "                 dict(text='Case', x=0.79, y=0.805, font_size=13, showarrow=False),\n",
    "                 dict(text='Death',x=0.2, y= 0.19, font_size=13, showarrow=False),\n",
    "                 dict(text='Vaccination', x=0.83, y= 0.19, font_size=13, showarrow=False)\n",
    "                 ])\n",
    "fig.show()\n",
    "\n",
    "fig.write_html(\"./elementHTML_export/piechart.html\",include_plotlyjs=False,full_html=False)"
   ]
  },
  {
   "cell_type": "markdown",
   "metadata": {},
   "source": [
    "# RELATION BETWEEN VACCINATION AND NEW CASE ,NEW DEATH"
   ]
  },
  {
   "cell_type": "code",
   "execution_count": null,
   "metadata": {
    "execution": {
     "iopub.execute_input": "2021-11-14T07:35:14.368579Z",
     "iopub.status.busy": "2021-11-14T07:35:14.368579Z",
     "iopub.status.idle": "2021-11-14T07:35:14.452107Z",
     "shell.execute_reply": "2021-11-14T07:35:14.452107Z"
    },
    "tags": []
   },
   "outputs": [],
   "source": [
    "# HEAT MAP people_vaccinated,people_fully_vaccinated,total_boosters,NEW CASE,NEW DEATH\n",
    "\n",
    "\n",
    "relation5_el = observe_regions_data[['people_vaccinated','people_fully_vaccinated','total_boosters'\n",
    ",'new_cases','new_deaths','location','date','stringency_index','new_vaccinations']]\n",
    "\n",
    "relation5_el= relation5_el.groupby('date').mean()\n",
    "\n",
    "corr_relation5_el = relation5_el.corr()\n",
    "\n",
    "corr_relation5_el.head()\n",
    "\n",
    "fig = px.imshow(corr_relation5_el\n",
    ", title=\"Set title here\",width=600)\n",
    "\n",
    "fig.show()\n",
    "\n",
    "fig.write_html(\"./elementHTML_export/heatmap.html\",include_plotlyjs=False,full_html=False)"
   ]
  },
  {
   "cell_type": "markdown",
   "metadata": {},
   "source": [
    "# BOX PLOT NEW VACCINATIONS "
   ]
  },
  {
   "cell_type": "code",
   "execution_count": null,
   "metadata": {
    "execution": {
     "iopub.execute_input": "2021-11-14T07:35:14.461104Z",
     "iopub.status.busy": "2021-11-14T07:35:14.460106Z",
     "iopub.status.idle": "2021-11-14T07:35:14.654160Z",
     "shell.execute_reply": "2021-11-14T07:35:14.654160Z"
    },
    "tags": []
   },
   "outputs": [],
   "source": [
    "\n",
    "#use date above\n",
    "erea = observe_regions_data['region'].unique()\n",
    "\n",
    "container = []\n",
    "\n",
    "for er in erea:\n",
    "    df_erea = observe_regions_data[observe_regions_data['region'] == er].groupby('date').mean()\n",
    "    df_erea['region'] = er\n",
    "    df_erea.reset_index(inplace=True)\n",
    "    df_erea = df_erea[['region','new_vaccinations']]\n",
    "    container.append(df_erea)\n",
    "\n",
    "boxerea_vaccine = pd.concat(container,axis=0)\n",
    "\n",
    "fig = px.box(boxerea_vaccine, x=\"new_vaccinations\", color=\"region\",height= 550,width=600,\n",
    " labels={   \"new_vaccinations\": \"x title (unit)\",\n",
    "            \"erea\": \"Y title (unit)\",})\n",
    "\n",
    "fig.update_layout(title_text='set title here',margin={\"r\":0,\"t\":40,\"l\":0,\"b\":0})\n",
    "fig.show()\n",
    "\n",
    "fig.write_html(\"./elementHTML_export/boxplot.html\",include_plotlyjs=False,full_html=False)\n"
   ]
  },
  {
   "cell_type": "markdown",
   "metadata": {},
   "source": [
    "# SHARE POPLATION BY SUNBURTS"
   ]
  },
  {
   "cell_type": "code",
   "execution_count": null,
   "metadata": {
    "execution": {
     "iopub.execute_input": "2021-11-14T07:35:14.663264Z",
     "iopub.status.busy": "2021-11-14T07:35:14.660264Z",
     "iopub.status.idle": "2021-11-14T07:35:14.795282Z",
     "shell.execute_reply": "2021-11-14T07:35:14.795282Z"
    },
    "tags": []
   },
   "outputs": [],
   "source": [
    "df_sunburst_plot = observe_regions_data[['region','location','population','new_cases']].groupby('location').last()\n",
    "\n",
    "df_sunburst_plot.reset_index(inplace=True)\n",
    "\n",
    "\n",
    "fig = px.sunburst(df_sunburst_plot, path = ['region','location'], values ='population', hover_name = 'location', color = 'new_cases', height = 550, width = 600\n",
    ",color_continuous_scale='aggrnyl')\n",
    "\n",
    "fig.update_layout(title_text='test auto deploy script',margin={\"r\":0,\"t\":40,\"l\":3,\"b\":3})\n",
    "\n",
    "fig.show()\n",
    "fig.write_html(\"./elementHTML_export/sunburst.html\",include_plotlyjs=False,full_html=False)"
   ]
  }
 ],
 "metadata": {
  "interpreter": {
   "hash": "0ac516125b3ee16d4eaa41f008fade7bad50b808bd1b6d74d2e8ae0015ba9066"
  },
  "kernelspec": {
   "display_name": "Python 3 (ipykernel)",
   "language": "python",
   "name": "python3"
  },
  "language_info": {
   "codemirror_mode": {
    "name": "ipython",
    "version": 3
   },
   "file_extension": ".py",
   "mimetype": "text/x-python",
   "name": "python",
   "nbconvert_exporter": "python",
   "pygments_lexer": "ipython3",
   "version": "3.9.7"
  }
 },
 "nbformat": 4,
 "nbformat_minor": 4
}
