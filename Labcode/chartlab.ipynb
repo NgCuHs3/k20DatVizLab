{
 "cells": [
  {
   "cell_type": "code",
   "execution_count": null,
   "metadata": {
    "execution": {
     "iopub.execute_input": "2021-11-20T02:35:35.818829Z",
     "iopub.status.busy": "2021-11-20T02:35:35.818829Z",
     "iopub.status.idle": "2021-11-20T02:35:35.830757Z",
     "shell.execute_reply": "2021-11-20T02:35:35.830757Z"
    },
    "tags": []
   },
   "outputs": [],
   "source": [
    "#!pip install pandas matplotlib plotly==5.3.1"
   ]
  },
  {
   "cell_type": "code",
   "execution_count": null,
   "metadata": {
    "execution": {
     "iopub.execute_input": "2021-11-20T02:35:35.838799Z",
     "iopub.status.busy": "2021-11-20T02:35:35.838799Z",
     "iopub.status.idle": "2021-11-20T02:35:38.016878Z",
     "shell.execute_reply": "2021-11-20T02:35:38.016878Z"
    },
    "tags": []
   },
   "outputs": [],
   "source": [
    "import pandas as pd\n",
    "import math\n",
    "from PIL import ImageColor\n",
    "import plotly.express as px\n",
    "import plotly.graph_objects as go\n",
    "from plotly.subplots import make_subplots\n",
    "import json\n",
    "owid_covid_data = pd.read_csv('owid_covid_data_reduce.csv')\n",
    "world_geo = json.load(open('countries.geojson'))\n"
   ]
  },
  {
   "cell_type": "code",
   "execution_count": null,
   "metadata": {
    "execution": {
     "iopub.execute_input": "2021-11-20T02:35:38.024878Z",
     "iopub.status.busy": "2021-11-20T02:35:38.024878Z",
     "iopub.status.idle": "2021-11-20T02:35:38.080879Z",
     "shell.execute_reply": "2021-11-20T02:35:38.080879Z"
    },
    "tags": []
   },
   "outputs": [],
   "source": [
    "owid_covid_data.head()\n",
    "owid_covid_data = owid_covid_data[owid_covid_data['continent'].notna()]"
   ]
  },
  {
   "cell_type": "code",
   "execution_count": null,
   "metadata": {
    "execution": {
     "iopub.execute_input": "2021-11-20T02:35:38.096879Z",
     "iopub.status.busy": "2021-11-20T02:35:38.096879Z",
     "iopub.status.idle": "2021-11-20T02:35:38.173019Z",
     "shell.execute_reply": "2021-11-20T02:35:38.173019Z"
    },
    "tags": []
   },
   "outputs": [],
   "source": [
    "observe_regions = ['Southern Europe','Western Europe','East Asia','South East Asia','North America','Australia and New Zealand','Middle East','South Asia']\n",
    "\n",
    "\n",
    "# get 8 regions\n",
    "owid_covid_data.set_index('region',inplace=True)\n",
    "observe_regions_data = owid_covid_data.loc[observe_regions,:]\n",
    "observe_regions_data.reset_index(inplace=True)\n",
    "owid_covid_data.reset_index(inplace=True)"
   ]
  },
  {
   "cell_type": "markdown",
   "metadata": {},
   "source": [
    "*Geographic map of people full vaccinated*"
   ]
  },
  {
   "cell_type": "code",
   "execution_count": null,
   "metadata": {
    "execution": {
     "iopub.execute_input": "2021-11-20T02:35:38.196954Z",
     "iopub.status.busy": "2021-11-20T02:35:38.196954Z",
     "iopub.status.idle": "2021-11-20T02:35:55.620715Z",
     "shell.execute_reply": "2021-11-20T02:35:55.600830Z"
    },
    "tags": []
   },
   "outputs": [],
   "source": [
    "\n",
    "people_group_vaccinated = owid_covid_data[[\n",
    "    'iso_code', 'people_fully_vaccinated_per_hundred']].groupby('iso_code').last()\n",
    "\n",
    "people_group_vaccinated.reset_index(inplace=True)\n",
    "\n",
    "\n",
    "fig = px.choropleth_mapbox(people_group_vaccinated, geojson=world_geo, locations='iso_code', color='people_fully_vaccinated_per_hundred',\n",
    "                           color_continuous_scale=\"Viridis\",\n",
    "                           range_color=(\n",
    "                               0, people_group_vaccinated['people_fully_vaccinated_per_hundred'].max()),\n",
    "                           mapbox_style=\"carto-positron\",\n",
    "                           zoom=0.6, center={\"lat\": -10, \"lon\": -10},\n",
    "                           featureidkey=\"properties.ISO_A3\",\n",
    "                           opacity=0.5,\n",
    "                           labels={\n",
    "                               'people_fully_vaccinated_per_hundred': 'People fully <br>vaccinated per 100'}\n",
    "                           )\n",
    "fig.update_layout(margin={\"r\": 0, \"t\": 40, \"l\": 0, \"b\": 0},\n",
    "                  title=dict(text='Geographic map of people fully vaccinated'), height=550, width=850,\n",
    "                  paper_bgcolor='rgba(0,0,0,0)',\n",
    "                  plot_bgcolor='rgba(0,0,0,0)',\n",
    "                  legend_title_font_color='#333333',\n",
    "                  legend_font_color='#333333',\n",
    "                  title_font_color='#333333',font_color='#333333')\n",
    "fig.show()\n",
    "\n",
    "\n",
    "fig.write_html(\"./elementHTML_export/geomap.html\",\n",
    "               include_plotlyjs=False, full_html=False)\n"
   ]
  },
  {
   "cell_type": "markdown",
   "metadata": {},
   "source": [
    "*The bar plot comparing per hundred people who are fully and vaccinated throughout world regions  2/11/202*"
   ]
  },
  {
   "cell_type": "code",
   "execution_count": null,
   "metadata": {
    "execution": {
     "iopub.execute_input": "2021-11-20T02:35:55.632753Z",
     "iopub.status.busy": "2021-11-20T02:35:55.628815Z",
     "iopub.status.idle": "2021-11-20T02:35:55.784714Z",
     "shell.execute_reply": "2021-11-20T02:35:55.784714Z"
    },
    "tags": []
   },
   "outputs": [],
   "source": [
    "# lấy max trong nước và lấy trung bình trong châu lục 2 lần group\n",
    "vaccinated   = observe_regions_data[['region','location','people_fully_vaccinated_per_hundred','people_vaccinated_per_hundred','total_vaccinations_per_hundred'\n",
    ",'total_cases','total_deaths']].groupby('location').last().groupby('region').mean()\n",
    "\n",
    "vaccinated.reset_index(inplace=True)\n",
    "\n",
    "region8vaccinated = vaccinated.sort_values('people_fully_vaccinated_per_hundred',ascending=False)\n",
    "\n",
    "#doi ten cot\n",
    "region8vaccinated.rename(columns={\n",
    "    'people_fully_vaccinated_per_hundred': 'People fully vaccinated per hundred',\n",
    "    'people_vaccinated_per_hundred': 'People vaccinated per hundred',\n",
    "    'total_vaccinations_per_hundred' : 'Total vaccinations per hundred',\n",
    "    'total_deaths':'Total deaths',\n",
    "    'total_cases':'Total cases',\n",
    "    'region':'Regions'\n",
    "},inplace=True)\n",
    "\n",
    "region8vaccinated_sns = pd.melt(region8vaccinated,id_vars=['Regions'],value_vars=['People fully vaccinated per hundred','People vaccinated per hundred','Total vaccinations per hundred'\n",
    ",'Total deaths','Total cases']\n",
    ",var_name='Criteria',value_name='Calculated in logarithms 10')\n",
    "\n",
    "\n",
    "region8vaccinated_sns['Calculated in logarithms 10'] = region8vaccinated_sns['Calculated in logarithms 10'].apply(math.log10)\n",
    "\n",
    "fig = px.bar(region8vaccinated_sns, x=\"Regions\", y='Calculated in logarithms 10',\n",
    "             color='Criteria',barmode='group',\n",
    "             height=600,width=800)\n",
    "fig.update_layout(title_text='The bar plot comparing per hundred people who are fully <br>     and vaccinated throughout world regions  2/11/2021',paper_bgcolor='rgba(0,0,0,0)',\n",
    "plot_bgcolor='rgba(0,0,0,0)',yaxis=dict(gridcolor='#333333'),xaxis=dict(gridcolor='#333333'),\n",
    "legend_title_font_color='#333333',title_font_color='#333333',legend_font_color='#333333',font_color='#333333')        \n",
    "fig.show()\n",
    "fig.write_html(\"./elementHTML_export/barchart.html\",include_plotlyjs=False,full_html=False)"
   ]
  },
  {
   "cell_type": "markdown",
   "metadata": {},
   "source": [
    "*The line plot shows the vaccinated speed per hundred of the regions from the beginning of 2020 to the end of 2021*\n"
   ]
  },
  {
   "cell_type": "code",
   "execution_count": null,
   "metadata": {
    "execution": {
     "iopub.execute_input": "2021-11-20T02:35:55.824717Z",
     "iopub.status.busy": "2021-11-20T02:35:55.824717Z",
     "iopub.status.idle": "2021-11-20T02:35:56.308398Z",
     "shell.execute_reply": "2021-11-20T02:35:56.308398Z"
    },
    "tags": []
   },
   "outputs": [],
   "source": [
    "observe_regions_data['date'] = pd.to_datetime(observe_regions_data['date'])\n",
    "\n",
    "\n",
    "region = observe_regions_data['region'].unique()\n",
    "\n",
    "observe_regions_data['date'] = observe_regions_data['date'].dt.to_period('M')\n",
    "observe_regions_data['date'] = observe_regions_data['date'].astype(str)\n",
    "\n",
    "\n",
    "container = []\n",
    "for er in region:\n",
    "    df_erea = observe_regions_data[observe_regions_data['region'] == er]\n",
    "    df_erea = df_erea[['date', 'total_vaccinations_per_hundred', 'new_deaths','new_cases']].groupby(\n",
    "        'date').mean()\n",
    "    df_erea['region'] = er\n",
    "    df_erea.reset_index(inplace=True)\n",
    "    container.append(df_erea)\n",
    "\n",
    "area_time_sr = pd.concat(container, axis=0)\n",
    "\n",
    "\n",
    "area_time_sr = observe_regions_data.groupby(['date', 'region']).mean()\n",
    "\n",
    "area_time_sr.reset_index(inplace=True)\n",
    "\n",
    "area_time_sr.rename(columns={\n",
    "    'total_vaccinations_per_hundred': 'Total vaccinations per hundred',\n",
    "    'date': 'Date',\n",
    "    'region': 'Regions',\n",
    "    'new_deaths': 'New Deaths',\n",
    "    'new_cases': 'New Cases'\n",
    "}, inplace=True)\n",
    "\n",
    "\n",
    "fig = make_subplots(rows=3, cols=1)\n",
    "\n",
    "idc = 0\n",
    "\n",
    "regs = area_time_sr['Regions'].unique()\n",
    "\n",
    "for reg in regs:\n",
    "    df_ref = area_time_sr[area_time_sr['Regions'] == reg]\n",
    "    fig.add_trace(go.Scatter(x=df_ref['Date'],\n",
    "                             y=df_ref['Total vaccinations per hundred'],\n",
    "                             marker=dict(\n",
    "                                 color=px.colors.qualitative.Plotly[idc]),\n",
    "                             legendgroup=reg,\n",
    "                             name=reg,\n",
    "                             \n",
    "                             ),\n",
    "                  row=1, col=1)\n",
    "    fig.add_trace(go.Scatter(x=df_ref['Date'],\n",
    "                             y=df_ref['New Deaths'],\n",
    "                             marker=dict(\n",
    "                                 color=px.colors.qualitative.Plotly[idc]),\n",
    "                             showlegend=False,\n",
    "                             legendgroup=reg,\n",
    "                             name=reg\n",
    "                             ),\n",
    "                  row=2, col=1)\n",
    "    fig.add_trace(go.Scatter(x=df_ref['Date'],\n",
    "                             y=df_ref['New Cases'],\n",
    "                             marker=dict(\n",
    "        color=px.colors.qualitative.Plotly[idc]),\n",
    "        showlegend=False,\n",
    "        legendgroup=reg,\n",
    "        name=reg\n",
    "    ),\n",
    "                 row=3, col=1)\n",
    "    idc += 1\n",
    "\n",
    "\n",
    "fig.update_layout(paper_bgcolor='rgba(0,0,0,0)',\n",
    "                  plot_bgcolor='rgba(0,0,0,0)', \n",
    "                  width=850, height=650, \n",
    "                  title_text=\"Line chart of the number of vaccines injected per 100 people, the number <br>of deaths, the number of infections\",\n",
    "                  legend_title_font_color='#333333',title_font_color='#333333',font_color='#333333')\n",
    "\n",
    "fig.update_yaxes(title_text=\"Total vaccinations per hundred\",gridcolor='#333333', row=1, col=1,title_font_color='#333333')\n",
    "fig.update_yaxes(title_text=\"New Deaths\",gridcolor='#333333', row=2, col=1,title_font_color='#333333')\n",
    "fig.update_yaxes(title_text=\"New Cases\",gridcolor='#333333', row=3, col=1,title_font_color='#333333')\n",
    "fig.update_xaxes(gridcolor='#333333', row=1, col=1)\n",
    "fig.update_xaxes(gridcolor='#333333', row=2, col=1)\n",
    "fig.update_xaxes(gridcolor='#333333', row=3, col=1) \n",
    "\n",
    "fig.show()\n",
    "\n",
    "\n",
    "fig.write_html(\"./elementHTML_export/linechart.html\",\n",
    "               include_plotlyjs=False, full_html=False)\n"
   ]
  },
  {
   "cell_type": "markdown",
   "metadata": {},
   "source": [
    "*The polar plot comparing parameters between regions*\n"
   ]
  },
  {
   "cell_type": "code",
   "execution_count": null,
   "metadata": {
    "execution": {
     "iopub.execute_input": "2021-11-20T02:35:56.328397Z",
     "iopub.status.busy": "2021-11-20T02:35:56.328397Z",
     "iopub.status.idle": "2021-11-20T02:35:56.412534Z",
     "shell.execute_reply": "2021-11-20T02:35:56.412534Z"
    },
    "tags": []
   },
   "outputs": [],
   "source": [
    "\n",
    "Ability8_base_location = observe_regions_data[['region','location','stringency_index','extreme_poverty'\n",
    ",'human_development_index','gdp_per_capita','hospital_beds_per_thousand']].groupby('location').last()\n",
    "\n",
    "# phần bù của tỉ lệ nghèo đói\n",
    "Ability8_base_location['extreme_poverty_reversed'] = 100 - Ability8_base_location['extreme_poverty']\n",
    "Ability8_base_location.drop(columns=['extreme_poverty'],inplace=True)\n",
    "\n",
    "\n",
    "Ability8_base_region = Ability8_base_location.groupby('region').mean()\n",
    "\n",
    "\n",
    "# tẻ lệ gpd trê nuocs lớn nhất\n",
    "Ability8_base_region['gdp_per_capita'] *= 100 / Ability8_base_region['gdp_per_capita'].max()\n",
    "Ability8_base_region['stringency_index'] *= 100 / Ability8_base_region['stringency_index'].max()\n",
    "Ability8_base_region['human_development_index'] *= 100 / Ability8_base_region['human_development_index'].max()\n",
    "Ability8_base_region['extreme_poverty_reversed'] *= 100 / Ability8_base_region['extreme_poverty_reversed'].max()\n",
    "Ability8_base_region['hospital_beds_per_thousand'] *= 100 / Ability8_base_region['hospital_beds_per_thousand'].max()\n",
    "# #  --------------------------------------------------------------------\n",
    "\n",
    "\n",
    "Ability8_base_region.head(8)\n",
    "\n",
    "figgo = go.Figure()\n",
    "idc = 0\n",
    "\n",
    "\n",
    "for er in Ability8_base_region.index:\n",
    "      record = Ability8_base_region.loc[er]\n",
    "      det = record.tolist()\n",
    "      aColor = px.colors.qualitative.Plotly[idc]\n",
    "      r,g,b = ImageColor.getcolor(aColor, \"RGB\")\n",
    "      the = Ability8_base_region.columns.tolist()\n",
    "      figgo.add_trace(go.Scatterpolar(\n",
    "      r= det,\n",
    "      theta= the,\n",
    "      line = dict(color= aColor),\n",
    "      fill='toself',\n",
    "      fillcolor = \"rgba({r}, {g}, {b}, 0.09)\".format(r=r,g=g,b=b),\n",
    "      name=er\n",
    "      ))\n",
    "      idc+=1\n",
    "\n",
    "figgo.update_layout(\n",
    "  polar=dict(\n",
    "    radialaxis=dict(\n",
    "      visible=True,\n",
    "      range=[0, 100]\n",
    "    )),\n",
    "  showlegend=True,\n",
    "  title= dict(text='The polar plot comparing parameters between regions'),\n",
    "  height=600,width=820,\n",
    "  paper_bgcolor='rgba(0,0,0,0)',\n",
    "  plot_bgcolor='rgba(0,0,0,0)',\n",
    "  yaxis=dict(gridcolor='#333333'),xaxis=dict(gridcolor='#333333')\n",
    "  ,font_color='#333333'\n",
    ")\n",
    "\n",
    "figgo.show()\n",
    "\n",
    "figgo.write_html(\"./elementHTML_export/radarchart.html\",include_plotlyjs=False,full_html=False)\n"
   ]
  },
  {
   "cell_type": "markdown",
   "metadata": {},
   "source": [
    "*The pie plot of the rate of population, covid cases, dead, vaccinated, between region*"
   ]
  },
  {
   "cell_type": "code",
   "execution_count": null,
   "metadata": {
    "execution": {
     "iopub.execute_input": "2021-11-20T02:35:56.436529Z",
     "iopub.status.busy": "2021-11-20T02:35:56.432526Z",
     "iopub.status.idle": "2021-11-20T02:35:56.520720Z",
     "shell.execute_reply": "2021-11-20T02:35:56.516656Z"
    },
    "tags": []
   },
   "outputs": [],
   "source": [
    "\n",
    "fig = make_subplots(rows=2, cols=2, specs=[[{'type':'domain'}, {'type':'domain'}],[{'type':'domain'}, {'type':'domain'}]])\n",
    "\n",
    "\n",
    "c4date = observe_regions_data[['region','location','population','total_cases','total_deaths','total_vaccinations']].groupby('location').last().groupby('region').sum()\n",
    "\n",
    "\n",
    "labels = c4date.index\n",
    "\n",
    "fig.add_trace(go.Pie(labels=labels, values=c4date.loc[c4date.index,'population'], name=\"Share Population\"),\n",
    "              1, 1)\n",
    "fig.add_trace(go.Pie(labels=labels, values=c4date.loc[c4date.index,'total_cases'].tolist(), name=\"Share Cases\"),\n",
    "              1, 2)\n",
    "fig.add_trace(go.Pie(labels=labels, values=c4date.loc[c4date.index,'total_deaths'].tolist(), name=\"Share Deaths\"),\n",
    "              2, 1)\n",
    "fig.add_trace(go.Pie(labels=labels, values=c4date.loc[c4date.index,'total_vaccinations'].tolist(), name=\"Share Vaccinations\"),\n",
    "              2, 2)        \n",
    "\n",
    "fig.update_traces(hole=.4, hoverinfo=\"label+percent+name\")\n",
    "\n",
    "fig.update_layout(\n",
    "    title_text=\"The pie plot of the rate of population, covid cases, dead, vaccinations, among regions\",\n",
    "    margin={\"r\":5,\"t\":40,\"l\":5,\"b\":5},\n",
    "    height= 550,\n",
    "    width = 800,\n",
    "    # Add annotations in the center of the donut pies.\n",
    "    annotations=[dict(text='Population', x= 0.165, y=0.805, font_size=13, showarrow=False),\n",
    "                 dict(text='Case', x=0.807, y=0.805, font_size=13, showarrow=False),\n",
    "                 dict(text='Death',x=0.18, y= 0.19, font_size=13, showarrow=False),\n",
    "                 dict(text='Vaccination', x=0.834, y= 0.19, font_size=13, showarrow=False)\n",
    "                 ],\n",
    "    paper_bgcolor='rgba(0,0,0,0)',\n",
    "    plot_bgcolor='rgba(0,0,0,0)',font_color='#333333')\n",
    "fig.show()\n",
    "\n",
    "fig.write_html(\"./elementHTML_export/piechart.html\",include_plotlyjs=False,full_html=False)"
   ]
  },
  {
   "cell_type": "markdown",
   "metadata": {},
   "source": [
    "  *RELATION BETWEEN VACCINATION AND NEW CASE ,NEW DEATH*"
   ]
  },
  {
   "cell_type": "code",
   "execution_count": null,
   "metadata": {
    "execution": {
     "iopub.execute_input": "2021-11-20T02:35:56.534575Z",
     "iopub.status.busy": "2021-11-20T02:35:56.534575Z",
     "iopub.status.idle": "2021-11-20T02:35:56.609045Z",
     "shell.execute_reply": "2021-11-20T02:35:56.609045Z"
    },
    "tags": []
   },
   "outputs": [],
   "source": [
    "# HEAT MAP people_vaccinated,people_fully_vaccinated,total_boosters,NEW CASE,NEW DEATH\n",
    "\n",
    "\n",
    "relation5_el = observe_regions_data[['people_vaccinated','people_fully_vaccinated'\n",
    ",'new_cases','new_deaths','location','date','stringency_index','new_vaccinations','hospital_beds_per_thousand']]\n",
    "\n",
    "relation5_el= relation5_el.groupby('date').mean()\n",
    "\n",
    "corr_relation5_el = relation5_el.corr()\n",
    "\n",
    "corr_relation5_el.head()\n",
    "\n",
    "fig = px.imshow(corr_relation5_el\n",
    ", title=\"Heatmap checks the correlation between factors together\",width=600)\n",
    "\n",
    "fig.update_layout(paper_bgcolor='rgba(0,0,0,0)',\n",
    "    plot_bgcolor='rgba(0,0,0,0)',font_color='#333333')\n",
    "\n",
    "fig.show()\n",
    "\n",
    "fig.write_html(\"./elementHTML_export/heatmap.html\",include_plotlyjs=False,full_html=False)"
   ]
  },
  {
   "cell_type": "markdown",
   "metadata": {},
   "source": [
    "*BOX PLOT NEW VACCINATIONS*"
   ]
  },
  {
   "cell_type": "code",
   "execution_count": null,
   "metadata": {
    "execution": {
     "iopub.execute_input": "2021-11-20T02:35:56.617024Z",
     "iopub.status.busy": "2021-11-20T02:35:56.617024Z",
     "iopub.status.idle": "2021-11-20T02:35:56.818784Z",
     "shell.execute_reply": "2021-11-20T02:35:56.818784Z"
    },
    "tags": []
   },
   "outputs": [],
   "source": [
    "\n",
    "#use date above\n",
    "erea = observe_regions_data['region'].unique()\n",
    "\n",
    "container = []\n",
    "\n",
    "for er in erea:\n",
    "    df_erea = observe_regions_data[observe_regions_data['region'] == er].groupby('date').mean()\n",
    "    df_erea['region'] = er\n",
    "    df_erea.reset_index(inplace=True)\n",
    "    df_erea = df_erea[['region','new_vaccinations','new_deaths','new_cases']]\n",
    "    container.append(df_erea)\n",
    "\n",
    "boxerea = pd.concat(container,axis=0)\n",
    "\n",
    "boxerea = boxerea.dropna()\n",
    "\n",
    "boxerea_melt = boxerea.melt(id_vars=['region'],value_vars=['new_vaccinations','new_deaths','new_cases'],var_name='Criteria',\n",
    "value_name='count')\n",
    "\n",
    "boxerea_melt['count'] = boxerea_melt['count'].apply(lambda x : math.log10(x) if x > 1 else 0)\n",
    "\n",
    "\n",
    "\n",
    "boxerea_melt.rename(columns={'region':'Regions'},inplace=True)\n",
    "\n",
    "fig = px.box(boxerea_melt, y=\"count\",x = 'Criteria',color=\"Regions\",height= 550,width=600,\n",
    " labels={   \"count\": \"count log 10\"})\n",
    "\n",
    "fig.update_layout(title_text='The Box Plot of the number of new vaccines,new deaths <br> new cases according to the log10 of the regions',margin={\"r\":0,\"t\":40,\"l\":0,\"b\":0},paper_bgcolor='rgba(0,0,0,0)',\n",
    "    plot_bgcolor='rgba(0,0,0,0)',yaxis=dict(gridcolor='#333333'),xaxis=dict(gridcolor='#333333'),width=750,font_color='#333333')\n",
    "fig.show()\n",
    "\n",
    "fig.write_html(\"./elementHTML_export/boxplot.html\",include_plotlyjs=False,full_html=False)\n"
   ]
  },
  {
   "cell_type": "markdown",
   "metadata": {},
   "source": [
    "# SHARE VACCINATIONS BY SUNBURTS"
   ]
  },
  {
   "cell_type": "code",
   "execution_count": null,
   "metadata": {
    "execution": {
     "iopub.execute_input": "2021-11-20T02:35:56.830730Z",
     "iopub.status.busy": "2021-11-20T02:35:56.830730Z",
     "iopub.status.idle": "2021-11-20T02:35:56.968170Z",
     "shell.execute_reply": "2021-11-20T02:35:56.968170Z"
    },
    "tags": []
   },
   "outputs": [],
   "source": [
    "df_sunburst_plot = observe_regions_data[['region','location','total_vaccinations','total_deaths']].dropna().groupby('location').last()\n",
    "\n",
    "df_sunburst_plot.reset_index(inplace=True)\n",
    "\n",
    "\n",
    "df_sunburst_plot.rename(columns={'total_deaths':'Total deaths'},inplace=True)\n",
    "\n",
    "fig = px.sunburst(df_sunburst_plot, path = ['region','location'], values ='total_vaccinations', hover_name = 'location', color = 'Total deaths', height = 550, width = 600\n",
    ",color_continuous_scale='aggrnyl')\n",
    "\n",
    "fig.update_layout(title_text='The sunburst plot shows the share of vaccines given <br>and deaths by regions as of November 2, 2021',\n",
    "margin={\"r\":0,\"t\":100,\"l\":3,\"b\":3},paper_bgcolor='rgba(0,0,0,0)',\n",
    "    plot_bgcolor='rgba(0,0,0,0)',font_color='pink')\n",
    "\n",
    "fig.show()\n",
    "fig.write_html(\"./elementHTML_export/sunburst.html\",include_plotlyjs=False,full_html=False)"
   ]
  }
 ],
 "metadata": {
  "interpreter": {
   "hash": "0ac516125b3ee16d4eaa41f008fade7bad50b808bd1b6d74d2e8ae0015ba9066"
  },
  "kernelspec": {
   "display_name": "Python 3",
   "language": "python",
   "name": "python3"
  },
  "language_info": {
   "codemirror_mode": {
    "name": "ipython",
    "version": 3
   },
   "file_extension": ".py",
   "mimetype": "text/x-python",
   "name": "python",
   "nbconvert_exporter": "python",
   "pygments_lexer": "ipython3",
   "version": "3.9.7"
  }
 },
 "nbformat": 4,
 "nbformat_minor": 4
}
