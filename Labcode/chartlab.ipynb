{
 "cells": [
  {
   "cell_type": "code",
   "execution_count": null,
   "metadata": {
    "execution": {
     "iopub.execute_input": "2021-11-18T09:37:27.902687Z",
     "iopub.status.busy": "2021-11-18T09:37:27.902687Z",
     "iopub.status.idle": "2021-11-18T09:37:27.910973Z",
     "shell.execute_reply": "2021-11-18T09:37:27.910973Z"
    },
    "tags": []
   },
   "outputs": [],
   "source": [
    "#!pip install pandas matplotlib plotly==5.3.1"
   ]
  },
  {
   "cell_type": "code",
   "execution_count": null,
   "metadata": {
    "execution": {
     "iopub.execute_input": "2021-11-18T09:37:27.917043Z",
     "iopub.status.busy": "2021-11-18T09:37:27.917043Z",
     "iopub.status.idle": "2021-11-18T09:37:30.565686Z",
     "shell.execute_reply": "2021-11-18T09:37:30.564690Z"
    },
    "tags": []
   },
   "outputs": [],
   "source": [
    "import pandas as pd\n",
    "import math\n",
    "from PIL import ImageColor\n",
    "import plotly.express as px\n",
    "import plotly.graph_objects as go\n",
    "from plotly.subplots import make_subplots\n",
    "import json\n",
    "owid_covid_data = pd.read_csv('owid_covid_data_reduce.csv')\n",
    "world_geo = json.load(open('countries.geojson'))\n"
   ]
  },
  {
   "cell_type": "code",
   "execution_count": null,
   "metadata": {
    "execution": {
     "iopub.execute_input": "2021-11-18T09:37:30.581283Z",
     "iopub.status.busy": "2021-11-18T09:37:30.580281Z",
     "iopub.status.idle": "2021-11-18T09:37:30.642765Z",
     "shell.execute_reply": "2021-11-18T09:37:30.642765Z"
    },
    "tags": []
   },
   "outputs": [],
   "source": [
    "owid_covid_data.head()\n",
    "owid_covid_data = owid_covid_data[owid_covid_data['continent'].notna()]"
   ]
  },
  {
   "cell_type": "code",
   "execution_count": null,
   "metadata": {
    "execution": {
     "iopub.execute_input": "2021-11-18T09:37:30.659769Z",
     "iopub.status.busy": "2021-11-18T09:37:30.659769Z",
     "iopub.status.idle": "2021-11-18T09:37:30.737576Z",
     "shell.execute_reply": "2021-11-18T09:37:30.737576Z"
    },
    "tags": []
   },
   "outputs": [],
   "source": [
    "observe_regions = ['Southern Europe','Western Europe','East Asia','South East Asia','North America','Australia and New Zealand','Middle East','South Asia']\n",
    "\n",
    "\n",
    "# get 8 regions\n",
    "owid_covid_data.set_index('region',inplace=True)\n",
    "observe_regions_data = owid_covid_data.loc[observe_regions,:]\n",
    "observe_regions_data.reset_index(inplace=True)\n",
    "owid_covid_data.reset_index(inplace=True)"
   ]
  },
  {
   "cell_type": "markdown",
   "metadata": {},
   "source": [
    "*Geographic map of people full vaccinated*"
   ]
  },
  {
   "cell_type": "code",
   "execution_count": null,
   "metadata": {
    "execution": {
     "iopub.execute_input": "2021-11-18T09:37:30.768126Z",
     "iopub.status.busy": "2021-11-18T09:37:30.753052Z",
     "iopub.status.idle": "2021-11-18T09:37:49.069047Z",
     "shell.execute_reply": "2021-11-18T09:37:49.052301Z"
    },
    "tags": []
   },
   "outputs": [],
   "source": [
    "\n",
    "people_group_vaccinated = owid_covid_data[[\n",
    "    'iso_code', 'people_fully_vaccinated_per_hundred']].groupby('iso_code').last()\n",
    "\n",
    "people_group_vaccinated.reset_index(inplace=True)\n",
    "\n",
    "\n",
    "fig = px.choropleth_mapbox(people_group_vaccinated, geojson=world_geo, locations='iso_code', color='people_fully_vaccinated_per_hundred',\n",
    "                           color_continuous_scale=\"Viridis\",\n",
    "                           range_color=(\n",
    "                               0, people_group_vaccinated['people_fully_vaccinated_per_hundred'].max()),\n",
    "                           mapbox_style=\"carto-positron\",\n",
    "                           zoom=0.6, center={\"lat\": -10, \"lon\": -10},\n",
    "                           featureidkey=\"properties.ISO_A3\",\n",
    "                           opacity=0.5,\n",
    "                           labels={\n",
    "                               'people_fully_vaccinated_per_hundred': 'People fully <br>vaccinated per 100'}\n",
    "                           )\n",
    "fig.update_layout(margin={\"r\": 0, \"t\": 40, \"l\": 0, \"b\": 0},\n",
    "                  title=dict(text='Geographic map of people fully vaccinated'), height=550, width=850,\n",
    "                  paper_bgcolor='rgba(0,0,0,0)',\n",
    "                  plot_bgcolor='rgba(0,0,0,0)')\n",
    "fig.show()\n",
    "\n",
    "\n",
    "fig.write_html(\"./elementHTML_export/geomap.html\",\n",
    "               include_plotlyjs=False, full_html=False)\n"
   ]
  },
  {
   "cell_type": "markdown",
   "metadata": {},
   "source": [
    "*The bar plot comparing per hundred people who are fully and vaccinated throughout world regions  2/11/202*"
   ]
  },
  {
   "cell_type": "code",
   "execution_count": null,
   "metadata": {
    "execution": {
     "iopub.execute_input": "2021-11-18T09:37:49.090576Z",
     "iopub.status.busy": "2021-11-18T09:37:49.079929Z",
     "iopub.status.idle": "2021-11-18T09:37:49.253442Z",
     "shell.execute_reply": "2021-11-18T09:37:49.254465Z"
    },
    "tags": []
   },
   "outputs": [],
   "source": [
    "# lấy max trong nước và lấy trung bình trong châu lục 2 lần group\n",
    "vaccinated   = observe_regions_data[['region','location','people_fully_vaccinated_per_hundred','people_vaccinated_per_hundred','total_vaccinations_per_hundred']].groupby('location').last().groupby('region').mean()\n",
    "\n",
    "vaccinated.reset_index(inplace=True)\n",
    "\n",
    "region8vaccinated = vaccinated.sort_values('people_fully_vaccinated_per_hundred',ascending=False)\n",
    "\n",
    "#doi ten cot\n",
    "region8vaccinated.rename(columns={\n",
    "    'people_fully_vaccinated_per_hundred': 'People fully vaccinated per hundred',\n",
    "    'people_vaccinated_per_hundred': 'People vaccinated per hundred',\n",
    "    'total_vaccinations_per_hundred' : 'Total vaccinations per hundred',\n",
    "    'region':'Regions'\n",
    "},inplace=True)\n",
    "\n",
    "region8vaccinated_sns = pd.melt(region8vaccinated,id_vars=['Regions'],value_vars=['People fully vaccinated per hundred','People vaccinated per hundred','Total vaccinations per hundred']\n",
    ",var_name='Criteria',value_name='People per hundred')\n",
    "\n",
    "\n",
    "fig = px.bar(region8vaccinated_sns, x=\"Regions\", y=\"People per hundred\",\n",
    "             color='Criteria',barmode='group',\n",
    "             height=600,width=800)\n",
    "fig.update_layout(title_text='The bar plot comparing per hundred people who are fully <br>     and vaccinated throughout world regions  2/11/2021',paper_bgcolor='rgba(0,0,0,0)',\n",
    "plot_bgcolor='rgba(0,0,0,0)',yaxis=dict(gridcolor='#333333'),xaxis=dict(gridcolor='#333333'))        \n",
    "fig.show()\n",
    "fig.write_html(\"./elementHTML_export/barchart.html\",include_plotlyjs=False,full_html=False)"
   ]
  },
  {
   "cell_type": "markdown",
   "metadata": {},
   "source": [
    "*The line plot shows the vaccinated speed per hundred of the regions from the beginning of 2020 to the end of 2021*\n"
   ]
  },
  {
   "cell_type": "code",
   "execution_count": null,
   "metadata": {
    "execution": {
     "iopub.execute_input": "2021-11-18T09:37:49.306116Z",
     "iopub.status.busy": "2021-11-18T09:37:49.266713Z",
     "iopub.status.idle": "2021-11-18T09:37:49.827208Z",
     "shell.execute_reply": "2021-11-18T09:37:49.827208Z"
    },
    "tags": []
   },
   "outputs": [],
   "source": [
    "observe_regions_data['date'] = pd.to_datetime(observe_regions_data['date'])\n",
    "\n",
    "\n",
    "region = observe_regions_data['region'].unique()\n",
    "\n",
    "observe_regions_data['date'] = observe_regions_data['date'].dt.to_period('M')\n",
    "observe_regions_data['date'] = observe_regions_data['date'].astype(str)\n",
    "\n",
    "\n",
    "container = []\n",
    "for er in region:\n",
    "    df_erea = observe_regions_data[observe_regions_data['region'] == er]\n",
    "    df_erea = df_erea[['date', 'total_vaccinations_per_hundred', 'new_deaths','new_cases']].groupby(\n",
    "        'date').mean()\n",
    "    df_erea['region'] = er\n",
    "    df_erea.reset_index(inplace=True)\n",
    "    container.append(df_erea)\n",
    "\n",
    "area_time_sr = pd.concat(container, axis=0)\n",
    "\n",
    "\n",
    "area_time_sr = observe_regions_data.groupby(['date', 'region']).mean()\n",
    "\n",
    "area_time_sr.reset_index(inplace=True)\n",
    "\n",
    "area_time_sr.rename(columns={\n",
    "    'total_vaccinations_per_hundred': 'Total vaccinations per hundred',\n",
    "    'date': 'Date',\n",
    "    'region': 'Regions',\n",
    "    'new_deaths': 'New Deaths',\n",
    "    'new_cases': 'New Cases'\n",
    "}, inplace=True)\n",
    "\n",
    "\n",
    "fig = make_subplots(rows=3, cols=1)\n",
    "\n",
    "idc = 0\n",
    "\n",
    "regs = area_time_sr['Regions'].unique()\n",
    "\n",
    "for reg in regs:\n",
    "    df_ref = area_time_sr[area_time_sr['Regions'] == reg]\n",
    "    fig.add_trace(go.Scatter(x=df_ref['Date'],\n",
    "                             y=df_ref['Total vaccinations per hundred'],\n",
    "                             marker=dict(\n",
    "                                 color=px.colors.qualitative.Plotly[idc]),\n",
    "                             legendgroup=reg,\n",
    "                             name=reg,\n",
    "                             \n",
    "                             ),\n",
    "                  row=1, col=1)\n",
    "    fig.add_trace(go.Scatter(x=df_ref['Date'],\n",
    "                             y=df_ref['New Deaths'],\n",
    "                             marker=dict(\n",
    "                                 color=px.colors.qualitative.Plotly[idc]),\n",
    "                             showlegend=False,\n",
    "                             legendgroup=reg,\n",
    "                             name=reg\n",
    "                             ),\n",
    "                  row=2, col=1)\n",
    "    fig.add_trace(go.Scatter(x=df_ref['Date'],\n",
    "                             y=df_ref['New Cases'],\n",
    "                             marker=dict(\n",
    "        color=px.colors.qualitative.Plotly[idc]),\n",
    "        showlegend=False,\n",
    "        legendgroup=reg,\n",
    "        name=reg\n",
    "    ),\n",
    "                 row=3, col=1)\n",
    "    idc += 1\n",
    "\n",
    "\n",
    "fig.update_layout(paper_bgcolor='rgba(0,0,0,0)',\n",
    "                  plot_bgcolor='rgba(0,0,0,0)', \n",
    "                  width=850, height=650, \n",
    "                  title_text=\"Line chart of the number of vaccines injected per 100 people, the number <br>of deaths, the number of infections\")\n",
    "\n",
    "fig.update_yaxes(title_text=\"Total vaccinations per hundred\",gridcolor='#333333', row=1, col=1)\n",
    "fig.update_yaxes(title_text=\"New Deaths\",gridcolor='#333333', row=2, col=1)\n",
    "fig.update_yaxes(title_text=\"New Cases\",gridcolor='#333333', row=3, col=1)\n",
    "fig.update_xaxes(gridcolor='#333333', row=1, col=1)\n",
    "fig.update_xaxes(gridcolor='#333333', row=2, col=1)\n",
    "fig.update_xaxes(gridcolor='#333333', row=3, col=1) \n",
    "\n",
    "fig.show()\n",
    "\n",
    "\n",
    "fig.write_html(\"./elementHTML_export/linechart.html\",\n",
    "               include_plotlyjs=False, full_html=False)\n"
   ]
  },
  {
   "cell_type": "markdown",
   "metadata": {},
   "source": [
    "*The polar plot comparing parameters between regions*\n"
   ]
  },
  {
   "cell_type": "code",
   "execution_count": null,
   "metadata": {
    "execution": {
     "iopub.execute_input": "2021-11-18T09:37:49.847570Z",
     "iopub.status.busy": "2021-11-18T09:37:49.839441Z",
     "iopub.status.idle": "2021-11-18T09:37:49.921170Z",
     "shell.execute_reply": "2021-11-18T09:37:49.920669Z"
    },
    "tags": []
   },
   "outputs": [],
   "source": [
    "\n",
    "Ability8_base_location = observe_regions_data[['region','location','stringency_index','extreme_poverty'\n",
    ",'human_development_index','gdp_per_capita','hospital_beds_per_thousand']].groupby('location').last()\n",
    "\n",
    "# phần bù của tỉ lệ nghèo đói\n",
    "Ability8_base_location['extreme_poverty_reversed'] = 100 - Ability8_base_location['extreme_poverty']\n",
    "Ability8_base_location.drop(columns=['extreme_poverty'],inplace=True)\n",
    "\n",
    "\n",
    "Ability8_base_region = Ability8_base_location.groupby('region').mean()\n",
    "\n",
    "\n",
    "# tẻ lệ gpd trê nuocs lớn nhất\n",
    "Ability8_base_region['gdp_per_capita'] *= 100 / Ability8_base_region['gdp_per_capita'].max()\n",
    "Ability8_base_region['stringency_index'] *= 100 / Ability8_base_region['stringency_index'].max()\n",
    "Ability8_base_region['human_development_index'] *= 100 / Ability8_base_region['human_development_index'].max()\n",
    "Ability8_base_region['extreme_poverty_reversed'] *= 100 / Ability8_base_region['extreme_poverty_reversed'].max()\n",
    "Ability8_base_region['hospital_beds_per_thousand'] *= 100 / Ability8_base_region['hospital_beds_per_thousand'].max()\n",
    "# #  --------------------------------------------------------------------\n",
    "\n",
    "\n",
    "Ability8_base_region.head(8)\n",
    "\n",
    "figgo = go.Figure()\n",
    "idc = 0\n",
    "\n",
    "\n",
    "for er in Ability8_base_region.index:\n",
    "      record = Ability8_base_region.loc[er]\n",
    "      det = record.tolist()\n",
    "      aColor = px.colors.qualitative.Plotly[idc]\n",
    "      r,g,b = ImageColor.getcolor(aColor, \"RGB\")\n",
    "      the = Ability8_base_region.columns.tolist()\n",
    "      figgo.add_trace(go.Scatterpolar(\n",
    "      r= det,\n",
    "      theta= the,\n",
    "      line = dict(color= aColor),\n",
    "      fill='toself',\n",
    "      fillcolor = \"rgba({r}, {g}, {b}, 0.09)\".format(r=r,g=g,b=b),\n",
    "      name=er\n",
    "      ))\n",
    "      idc+=1\n",
    "\n",
    "figgo.update_layout(\n",
    "  polar=dict(\n",
    "    radialaxis=dict(\n",
    "      visible=True,\n",
    "      range=[0, 100]\n",
    "    )),\n",
    "  showlegend=True,\n",
    "  title= dict(text='The polar plot comparing parameters between regions'),\n",
    "  height=600,width=750,\n",
    "  paper_bgcolor='rgba(0,0,0,0)',\n",
    "  plot_bgcolor='rgba(0,0,0,0)',\n",
    "  yaxis=dict(gridcolor='#333333'),xaxis=dict(gridcolor='#333333')\n",
    "\n",
    ")\n",
    "\n",
    "figgo.show()\n",
    "\n",
    "figgo.write_html(\"./elementHTML_export/radarchart.html\",include_plotlyjs=False,full_html=False)\n"
   ]
  },
  {
   "cell_type": "markdown",
   "metadata": {},
   "source": [
    "*The pie plot of the rate of population, covid cases, dead, vaccinated, between region*"
   ]
  },
  {
   "cell_type": "code",
   "execution_count": null,
   "metadata": {
    "execution": {
     "iopub.execute_input": "2021-11-18T09:37:49.935838Z",
     "iopub.status.busy": "2021-11-18T09:37:49.935838Z",
     "iopub.status.idle": "2021-11-18T09:37:50.029224Z",
     "shell.execute_reply": "2021-11-18T09:37:50.030224Z"
    },
    "tags": []
   },
   "outputs": [],
   "source": [
    "\n",
    "fig = make_subplots(rows=2, cols=2, specs=[[{'type':'domain'}, {'type':'domain'}],[{'type':'domain'}, {'type':'domain'}]])\n",
    "\n",
    "\n",
    "c4date = observe_regions_data[['region','location','population','total_cases','total_deaths','total_vaccinations']].groupby('location').last().groupby('region').sum()\n",
    "\n",
    "\n",
    "labels = c4date.index\n",
    "\n",
    "fig.add_trace(go.Pie(labels=labels, values=c4date.loc[c4date.index,'population'], name=\"Share Population\"),\n",
    "              1, 1)\n",
    "fig.add_trace(go.Pie(labels=labels, values=c4date.loc[c4date.index,'total_cases'].tolist(), name=\"Share Cases\"),\n",
    "              1, 2)\n",
    "fig.add_trace(go.Pie(labels=labels, values=c4date.loc[c4date.index,'total_deaths'].tolist(), name=\"Share Deaths\"),\n",
    "              2, 1)\n",
    "fig.add_trace(go.Pie(labels=labels, values=c4date.loc[c4date.index,'total_vaccinations'].tolist(), name=\"Share Vaccinations\"),\n",
    "              2, 2)        \n",
    "\n",
    "fig.update_traces(hole=.4, hoverinfo=\"label+percent+name\")\n",
    "\n",
    "fig.update_layout(\n",
    "    title_text=\"The pie plot of the rate of population, covid cases, dead, vaccinations, among regions\",\n",
    "    margin={\"r\":5,\"t\":40,\"l\":5,\"b\":5},\n",
    "    height= 550,\n",
    "    width = 800,\n",
    "    # Add annotations in the center of the donut pies.\n",
    "    annotations=[dict(text='Population', x= 0.165, y=0.805, font_size=13, showarrow=False),\n",
    "                 dict(text='Case', x=0.807, y=0.805, font_size=13, showarrow=False),\n",
    "                 dict(text='Death',x=0.18, y= 0.19, font_size=13, showarrow=False),\n",
    "                 dict(text='Vaccination', x=0.834, y= 0.19, font_size=13, showarrow=False)\n",
    "                 ],\n",
    "    paper_bgcolor='rgba(0,0,0,0)',\n",
    "    plot_bgcolor='rgba(0,0,0,0)')\n",
    "fig.show()\n",
    "\n",
    "fig.write_html(\"./elementHTML_export/piechart.html\",include_plotlyjs=False,full_html=False)"
   ]
  },
  {
   "cell_type": "markdown",
   "metadata": {},
   "source": [
    "  *RELATION BETWEEN VACCINATION AND NEW CASE ,NEW DEATH*"
   ]
  },
  {
   "cell_type": "code",
   "execution_count": null,
   "metadata": {
    "execution": {
     "iopub.execute_input": "2021-11-18T09:37:50.052716Z",
     "iopub.status.busy": "2021-11-18T09:37:50.049625Z",
     "iopub.status.idle": "2021-11-18T09:37:50.153348Z",
     "shell.execute_reply": "2021-11-18T09:37:50.152326Z"
    },
    "tags": []
   },
   "outputs": [],
   "source": [
    "# HEAT MAP people_vaccinated,people_fully_vaccinated,total_boosters,NEW CASE,NEW DEATH\n",
    "\n",
    "\n",
    "relation5_el = observe_regions_data[['people_vaccinated','people_fully_vaccinated'\n",
    ",'new_cases','new_deaths','location','date','stringency_index','new_vaccinations','hospital_beds_per_thousand']]\n",
    "\n",
    "relation5_el= relation5_el.groupby('date').mean()\n",
    "\n",
    "corr_relation5_el = relation5_el.corr()\n",
    "\n",
    "corr_relation5_el.head()\n",
    "\n",
    "fig = px.imshow(corr_relation5_el\n",
    ", title=\"Heatmap checks the correlation between factors together\",width=600)\n",
    "\n",
    "fig.update_layout(paper_bgcolor='rgba(0,0,0,0)',\n",
    "    plot_bgcolor='rgba(0,0,0,0)')\n",
    "\n",
    "fig.show()\n",
    "\n",
    "fig.write_html(\"./elementHTML_export/heatmap.html\",include_plotlyjs=False,full_html=False)"
   ]
  },
  {
   "cell_type": "markdown",
   "metadata": {},
   "source": [
    "*BOX PLOT NEW VACCINATIONS*"
   ]
  },
  {
   "cell_type": "code",
   "execution_count": null,
   "metadata": {
    "execution": {
     "iopub.execute_input": "2021-11-18T09:37:50.163329Z",
     "iopub.status.busy": "2021-11-18T09:37:50.162325Z",
     "iopub.status.idle": "2021-11-18T09:37:50.388147Z",
     "shell.execute_reply": "2021-11-18T09:37:50.388647Z"
    },
    "tags": []
   },
   "outputs": [],
   "source": [
    "\n",
    "#use date above\n",
    "erea = observe_regions_data['region'].unique()\n",
    "\n",
    "container = []\n",
    "\n",
    "for er in erea:\n",
    "    df_erea = observe_regions_data[observe_regions_data['region'] == er].groupby('date').mean()\n",
    "    df_erea['region'] = er\n",
    "    df_erea.reset_index(inplace=True)\n",
    "    df_erea = df_erea[['region','new_vaccinations']]\n",
    "    container.append(df_erea)\n",
    "\n",
    "\n",
    "boxerea_vaccine = pd.concat(container,axis=0)\n",
    "\n",
    "boxerea_vaccine['new_vaccinations'] = boxerea_vaccine['new_vaccinations'].apply(math.log10)\n",
    "\n",
    "boxerea_vaccine.rename(columns={'region':'Regions'},inplace=True)\n",
    "\n",
    "fig = px.box(boxerea_vaccine, x=\"new_vaccinations\", color=\"Regions\",height= 550,width=600,\n",
    " labels={   \"new_vaccinations\": \"Log10 of new vaccinations\",\n",
    "            \"erea\": \"Y title (unit)\",})\n",
    "\n",
    "fig.update_layout(title_text='The Box Plot of the number of new vaccines according <br>to the log10 of the regions',margin={\"r\":0,\"t\":40,\"l\":0,\"b\":0},paper_bgcolor='rgba(0,0,0,0)',\n",
    "    plot_bgcolor='rgba(0,0,0,0)',yaxis=dict(gridcolor='#333333'),xaxis=dict(gridcolor='#333333'))\n",
    "fig.show()\n",
    "\n",
    "fig.write_html(\"./elementHTML_export/boxplot.html\",include_plotlyjs=False,full_html=False)\n"
   ]
  },
  {
   "cell_type": "markdown",
   "metadata": {},
   "source": [
    "# SHARE POPLATION BY SUNBURTS"
   ]
  },
  {
   "cell_type": "code",
   "execution_count": null,
   "metadata": {
    "execution": {
     "iopub.execute_input": "2021-11-18T09:37:50.406103Z",
     "iopub.status.busy": "2021-11-18T09:37:50.402727Z",
     "iopub.status.idle": "2021-11-18T09:37:50.605993Z",
     "shell.execute_reply": "2021-11-18T09:37:50.606993Z"
    },
    "tags": []
   },
   "outputs": [],
   "source": [
    "df_sunburst_plot = observe_regions_data[['region','location','total_vaccinations','total_deaths']].dropna().groupby('location').last()\n",
    "\n",
    "df_sunburst_plot.reset_index(inplace=True)\n",
    "\n",
    "\n",
    "df_sunburst_plot.rename(columns={'total_deaths':'Total deaths'},inplace=True)\n",
    "\n",
    "fig = px.sunburst(df_sunburst_plot, path = ['region','location'], values ='total_vaccinations', hover_name = 'location', color = 'Total deaths', height = 550, width = 600\n",
    ",color_continuous_scale='aggrnyl')\n",
    "\n",
    "fig.update_layout(title_text='The sunburst plot shows the share of vaccines given <br>and deaths by regions as of November 2, 2021',\n",
    "margin={\"r\":0,\"t\":100,\"l\":3,\"b\":3},paper_bgcolor='rgba(0,0,0,0)',\n",
    "    plot_bgcolor='rgba(0,0,0,0)')\n",
    "\n",
    "fig.show()\n",
    "fig.write_html(\"./elementHTML_export/sunburst.html\",include_plotlyjs=False,full_html=False)"
   ]
  }
 ],
 "metadata": {
  "interpreter": {
   "hash": "0ac516125b3ee16d4eaa41f008fade7bad50b808bd1b6d74d2e8ae0015ba9066"
  },
  "kernelspec": {
   "display_name": "Python 3",
   "language": "python",
   "name": "python3"
  },
  "language_info": {
   "codemirror_mode": {
    "name": "ipython",
    "version": 3
   },
   "file_extension": ".py",
   "mimetype": "text/x-python",
   "name": "python",
   "nbconvert_exporter": "python",
   "pygments_lexer": "ipython3",
   "version": "3.9.7"
  }
 },
 "nbformat": 4,
 "nbformat_minor": 4
}
