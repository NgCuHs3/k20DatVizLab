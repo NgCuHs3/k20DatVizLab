{
 "cells": [
  {
   "cell_type": "code",
   "execution_count": null,
   "metadata": {},
   "outputs": [],
   "source": [
    "#!pip install pandas matplotlib plotly==5.3.1"
   ]
  },
  {
   "cell_type": "code",
   "execution_count": null,
   "metadata": {},
   "outputs": [],
   "source": [
    "import pandas as pd\n",
    "import numpy as np\n",
    "import matplotlib.pyplot as plt\n",
    "from PIL import ImageColor\n",
    "import plotly.express as px\n",
    "import plotly.graph_objects as go\n",
    "from plotly.subplots import make_subplots\n",
    "import json\n",
    "owid_covid_data = pd.read_csv('owid-covid-data-reduce.csv')\n",
    "countries_coordinate = pd.read_csv('countries_codes_and_coordinates.csv')"
   ]
  },
  {
   "cell_type": "code",
   "execution_count": null,
   "metadata": {},
   "outputs": [],
   "source": [
    "owid_covid_data.head()\n",
    "owid_covid_data = owid_covid_data[owid_covid_data['continent'].notna()]\n",
    "\n",
    "colors6 = ['#FD0100','#F76915','#EEDE04','#A0D636','#2FA236','#333ED4']"
   ]
  },
  {
   "cell_type": "code",
   "execution_count": null,
   "metadata": {},
   "outputs": [],
   "source": [
    "for col in countries_coordinate.columns:\n",
    "       countries_coordinate[col] = countries_coordinate[col].str.strip(' \\\"')\n",
    "\n",
    "countries_coordinate = countries_coordinate.astype({'Latitude (average)': float,'Longitude (average)':float})\n",
    "\n",
    "countries_coordinate.set_index('Alpha-3 code',inplace=True)\n",
    "\n",
    "countries_coordinate.head()"
   ]
  },
  {
   "cell_type": "markdown",
   "metadata": {},
   "source": [
    "# PEOPLE FULL VACCINETED PER HUNDRED "
   ]
  },
  {
   "cell_type": "code",
   "execution_count": null,
   "metadata": {},
   "outputs": [],
   "source": [
    "f = open('countriesgeo.json')\n",
    "\n",
    "world_geo = json.load(f)\n",
    "\n",
    "people_group_vaccinated = owid_covid_data[['iso_code','people_fully_vaccinated_per_hundred']].groupby('iso_code').max()\n",
    "\n",
    "people_group_vaccinated.reset_index(inplace=True)\n",
    "\n",
    "\n",
    "\n",
    "fig = px.choropleth_mapbox(people_group_vaccinated, geojson=world_geo, locations='iso_code', color='people_fully_vaccinated_per_hundred',\n",
    "                           color_continuous_scale=\"Viridis\",\n",
    "                           range_color=(0, people_group_vaccinated['people_fully_vaccinated_per_hundred'].max()),\n",
    "                           mapbox_style=\"carto-positron\",\n",
    "                           zoom= 0.6, center = {\"lat\": -10, \"lon\": -10},\n",
    "                           featureidkey=\"properties.ISO_A3\",\n",
    "                           opacity=0.5,\n",
    "                           labels={'people_fully_vaccinated_per_hundred':'people full vaccinated per 100'}\n",
    "                          )\n",
    "fig.update_layout(  margin={\"r\":0,\"t\":40,\"l\":0,\"b\":0},\n",
    "                     title=dict(text = 'Set me title !'),height=550,width=850)\n",
    "fig.show()\n",
    "\n",
    "\n",
    "# fig.write_html(\"./elementHTML_export/geomap.html\",include_plotlyjs=False,full_html=False)\n",
    "\n"
   ]
  },
  {
   "cell_type": "markdown",
   "metadata": {},
   "source": [
    "# TOP 5 AREA HAVE BEST VACCINATIONS PERCENT AT 2/11/2021"
   ]
  },
  {
   "cell_type": "code",
   "execution_count": null,
   "metadata": {},
   "outputs": [],
   "source": [
    "# at 2/11/2021\n",
    "\n",
    "# lấy max trong nước và lấy trung bình trong châu lục 2 lần group\n",
    "vaccinated   = owid_covid_data[['continent','location','people_fully_vaccinated_per_hundred','people_vaccinated_per_hundred','total_vaccinations_per_hundred']].groupby('location').max(\n",
    ").groupby('continent').mean()\n",
    "\n",
    "top5vaccinated = vaccinated.sort_values('people_fully_vaccinated_per_hundred',ascending=False)\n",
    "\n",
    "top5vaccinated.reset_index(inplace=True)\n",
    "\n",
    "\n",
    "\n",
    "#doi ten cot\n",
    "top5vaccinated.rename(columns={\n",
    "    'people_fully_vaccinated_per_hundred': 'people fully vaccinated per hundred',\n",
    "    'people_vaccinated_per_hundred': 'people vaccinated perhundred',\n",
    "    'total_vaccinations_per_hundred' : 'total vaccinations per hundred'\n",
    "},inplace=True)\n",
    "\n",
    "\n",
    "top5vaccinated_sns = pd.melt(top5vaccinated,id_vars=['continent'],value_vars=['people fully vaccinated per hundred','people vaccinated perhundred','total vaccinations per hundred']\n",
    ",var_name='percent type',value_name='people per hundred')\n",
    "\n",
    "\n",
    "\n",
    "fig = px.bar(top5vaccinated_sns, x=\"continent\", y=\"people per hundred\",\n",
    "             color='percent type',barmode='group',\n",
    "             height=600,width=750)\n",
    "fig.show()\n",
    "\n",
    "# fig.write_html(\"./elementHTML_export/barchart.html\",include_plotlyjs=False,full_html=False)"
   ]
  },
  {
   "cell_type": "markdown",
   "metadata": {},
   "source": [
    "# TIME LINE OF VACCINATED "
   ]
  },
  {
   "cell_type": "code",
   "execution_count": null,
   "metadata": {},
   "outputs": [],
   "source": [
    "owid_covid_data['date'] = pd.to_datetime(owid_covid_data['date'])\n",
    "\n",
    "area = owid_covid_data['continent'].unique()\n",
    "\n",
    "container = []\n",
    "for er in area:\n",
    "     df_erea = owid_covid_data[owid_covid_data['continent'] == er]\n",
    "     df_erea = df_erea[['date','total_vaccinations_per_hundred']].groupby('date').mean()\n",
    "     df_erea['area'] = er\n",
    "     df_erea.reset_index(inplace=True)\n",
    "     container.append(df_erea)\n",
    "\n",
    "area_time_sr = pd.concat(container,axis=0)\n",
    "\n",
    "area_time_sr['date'] =  area_time_sr['date'].dt.to_period('M')\n",
    "\n",
    "#max it  mean least \n",
    "area_time_sr = area_time_sr.groupby(['date','area']).max() \n",
    "\n",
    "area_time_sr.reset_index(inplace=True)\n",
    "\n",
    "area_time_sr['date'] = area_time_sr['date'].astype(str)\n",
    "\n",
    "\n",
    "fig = px.line(area_time_sr, x=\"date\", y=\"total_vaccinations_per_hundred\", color='area',height=550,width=700\n",
    ",title='Set title here')\n",
    "fig.show()\n",
    "\n",
    "# fig.write_html(\"./elementHTML_export/linechart.html\",include_plotlyjs=False,full_html=False)\n"
   ]
  },
  {
   "cell_type": "markdown",
   "metadata": {},
   "source": [
    "# AREA PROPERTIES ABILITY COMPARE\n"
   ]
  },
  {
   "cell_type": "code",
   "execution_count": null,
   "metadata": {},
   "outputs": [],
   "source": [
    "#TODO: 5 properties to compare \n",
    "# stringency_index\n",
    "# median_age\n",
    "# 1 -  extreme_poverty (we need good properties)\n",
    "# handwashing_facilities\n",
    "# human_development_index\n",
    "# gdp_per_capita\n",
    "\n",
    "Ability5_base_location = owid_covid_data[['continent','date','location','stringency_index','median_age','extreme_poverty','handwashing_facilities'\n",
    ",'human_development_index','gdp_per_capita']].groupby('location').last()\n",
    "\n",
    "\n",
    "\n",
    "# phần bù của tỉ lệ nghèo đói\n",
    "Ability5_base_location['extreme_poverty_r'] = 100 - Ability5_base_location['extreme_poverty']\n",
    "Ability5_base_location.drop(columns=['extreme_poverty'],inplace=True)\n",
    "\n",
    "\n",
    "Ability5_base_area = Ability5_base_location.groupby('continent').mean()\n",
    "\n",
    "\n",
    "# tẻ lệ gpd trê nuocs lớn nhất\n",
    "Ability5_base_area['gdp_per_capita'] *= 100 / Ability5_base_area['gdp_per_capita'].max()\n",
    "Ability5_base_area['stringency_index'] *= 100 / Ability5_base_area['stringency_index'].max()\n",
    "Ability5_base_area['human_development_index'] *= 100 / Ability5_base_area['human_development_index'].max()\n",
    "Ability5_base_area['extreme_poverty_r'] *= 100 / Ability5_base_area['extreme_poverty_r'].max()\n",
    "Ability5_base_area['median_age'] *= 100 / Ability5_base_area['median_age'].max()\n",
    "# #  --------------------------------------------------------------------\n",
    "\n",
    "figgo = go.Figure()\n",
    "\n",
    "idc = 0\n",
    "\n",
    "for er in Ability5_base_area.index:\n",
    "      record = Ability5_base_area.loc[er]\n",
    "      det = record.tolist()\n",
    "      aColor = colors6[idc]\n",
    "      r,g,b = ImageColor.getcolor(aColor, \"RGB\")\n",
    "      figgo.add_trace(go.Scatterpolar(\n",
    "      r= det,\n",
    "      theta=Ability5_base_area.columns,\n",
    "      line = dict(color= aColor),\n",
    "      fill='toself',\n",
    "      fillcolor = \"rgba({r}, {g}, {b}, 0.2)\".format(r=r,g=g,b=b),\n",
    "      name=er,\n",
    "      ))\n",
    "      idc+=1\n",
    "\n",
    "figgo.update_layout(\n",
    "  polar=dict(\n",
    "    radialaxis=dict(\n",
    "      visible=True,\n",
    "      range=[0, 100]\n",
    "    )),\n",
    "  showlegend=True,\n",
    "  title= dict(text='Put title here for me'),\n",
    "  width=600\n",
    ")\n",
    "\n",
    "figgo.show()\n",
    "\n",
    "figgo.write_html(\"./elementHTML_export/radarchart.html\",include_plotlyjs=False,full_html=False)\n"
   ]
  },
  {
   "cell_type": "markdown",
   "metadata": {},
   "source": [
    "# SHARE POPULATION IN CASE"
   ]
  },
  {
   "cell_type": "code",
   "execution_count": null,
   "metadata": {},
   "outputs": [],
   "source": [
    "\n",
    "\n",
    "\n",
    "fig = make_subplots(rows=2, cols=2, specs=[[{'type':'domain'}, {'type':'domain'}],[{'type':'domain'}, {'type':'domain'}]])\n",
    "\n",
    "\n",
    "c4date = owid_covid_data[['continent','location','population','total_cases','total_deaths','total_vaccinations']].groupby('location').last().groupby('continent').sum()\n",
    "\n",
    "\n",
    "labels = c4date.index\n",
    "\n",
    "fig.add_trace(go.Pie(labels=labels, values=c4date.loc[c4date.index,'population'], name=\"Share Population\"),\n",
    "              1, 1)\n",
    "fig.add_trace(go.Pie(labels=labels, values=c4date.loc[c4date.index,'total_cases'].tolist(), name=\"Share Cases\"),\n",
    "              1, 2)\n",
    "fig.add_trace(go.Pie(labels=labels, values=c4date.loc[c4date.index,'total_deaths'].tolist(), name=\"Share Deaths\"),\n",
    "              2, 1)\n",
    "fig.add_trace(go.Pie(labels=labels, values=c4date.loc[c4date.index,'total_vaccinations'].tolist(), name=\"Share Vaccinations\"),\n",
    "              2, 2)        \n",
    "\n",
    "fig.update_traces(hole=.4, hoverinfo=\"label+percent+name\")\n",
    "\n",
    "fig.update_layout(\n",
    "    title_text=\"Give me title here\",\n",
    "    margin={\"r\":5,\"t\":40,\"l\":5,\"b\":5},\n",
    "    height= 550,\n",
    "    width = 800,\n",
    "    # Add annotations in the center of the donut pies.\n",
    "    annotations=[dict(text='Population', x= 0.17, y=0.805, font_size=13, showarrow=False),\n",
    "                 dict(text='Case', x=0.79, y=0.805, font_size=13, showarrow=False),\n",
    "                 dict(text='Death',x=0.2, y= 0.19, font_size=13, showarrow=False),\n",
    "                 dict(text='Vaccination', x=0.83, y= 0.19, font_size=13, showarrow=False)\n",
    "                 ])\n",
    "fig.show()\n",
    "\n",
    "# fig.write_html(\"./elementHTML_export/piechart.html\",include_plotlyjs=False,full_html=False)"
   ]
  },
  {
   "cell_type": "markdown",
   "metadata": {},
   "source": [
    "# RELATION BETWEEN VACCINATION AND NEW CASE ,NEW DEATH"
   ]
  },
  {
   "cell_type": "code",
   "execution_count": null,
   "metadata": {},
   "outputs": [],
   "source": [
    "# HEAT MAP people_vaccinated,people_fully_vaccinated,total_boosters,NEW CASE,NEW DEATH\n",
    "\n",
    "\n",
    "relation5_el = owid_covid_data[['people_vaccinated','people_fully_vaccinated','total_boosters'\n",
    ",'new_cases','new_deaths','location','date','stringency_index','new_vaccinations']]\n",
    "\n",
    "relation5_el= relation5_el.groupby('date').mean()\n",
    "\n",
    "corr_relation5_el = relation5_el.corr()\n",
    "\n",
    "corr_relation5_el.head()\n",
    "\n",
    "fig = px.imshow(corr_relation5_el\n",
    ", title=\"Set title here\",width=600)\n",
    "\n",
    "fig.show()\n",
    "\n",
    "# fig.write_html(\"./elementHTML_export/heatmap.html\",include_plotlyjs=False,full_html=False)"
   ]
  },
  {
   "cell_type": "markdown",
   "metadata": {},
   "source": [
    "# BOX PLOT NEW VACCINATIONS "
   ]
  },
  {
   "cell_type": "code",
   "execution_count": null,
   "metadata": {},
   "outputs": [],
   "source": [
    "\n",
    "#use date above\n",
    "erea = owid_covid_data['continent'].unique()\n",
    "\n",
    "container = []\n",
    "\n",
    "for er in erea:\n",
    "    df_erea = owid_covid_data[owid_covid_data['continent'] == er].groupby('date').mean()\n",
    "    df_erea['erea'] = er\n",
    "    df_erea.reset_index(inplace=True)\n",
    "    df_erea = df_erea[['erea','new_vaccinations']]\n",
    "    container.append(df_erea)\n",
    "\n",
    "boxerea_vaccine = pd.concat(container,axis=0)\n",
    "\n",
    "fig = px.box(boxerea_vaccine, x=\"new_vaccinations\", color=\"erea\",height= 550,width=600,\n",
    " labels={   \"new_vaccinations\": \"x title (unit)\",\n",
    "            \"erea\": \"Y title (unit)\",})\n",
    "\n",
    "fig.update_layout(title_text='set title here',margin={\"r\":0,\"t\":40,\"l\":0,\"b\":0})\n",
    "fig.show()\n",
    "\n",
    "# fig.write_html(\"./elementHTML_export/boxplot.html\",include_plotlyjs=False,full_html=False)\n"
   ]
  }
 ],
 "metadata": {
  "interpreter": {
   "hash": "0ac516125b3ee16d4eaa41f008fade7bad50b808bd1b6d74d2e8ae0015ba9066"
  },
  "kernelspec": {
   "display_name": "Python 3 (ipykernel)",
   "language": "python",
   "name": "python3"
  },
  "language_info": {
   "codemirror_mode": {
    "name": "ipython",
    "version": 3
   },
   "file_extension": ".py",
   "mimetype": "text/x-python",
   "name": "python",
   "nbconvert_exporter": "python",
   "pygments_lexer": "ipython3",
   "version": "3.9.7"
  }
 },
 "nbformat": 4,
 "nbformat_minor": 4
}
