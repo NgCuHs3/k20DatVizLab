{
 "cells": [
  {
   "cell_type": "code",
   "execution_count": 12,
   "metadata": {},
   "outputs": [],
   "source": [
    "import sys\n",
    "sys.path.append('./packages')"
   ]
  },
  {
   "cell_type": "code",
   "execution_count": 24,
   "metadata": {},
   "outputs": [],
   "source": [
    "import pandas as pd\n",
    "import numpy as np\n",
    "import matplotlib.pyplot as plt\n",
    "from PIL import ImageColor\n",
    "import plotly.express as px\n",
    "import plotly.graph_objects as go\n",
    "from plotly.subplots import make_subplots\n",
    "import json\n",
    "owid_covid_data = pd.read_csv('owid-covid-data-reduce.csv')\n",
    "countries_coordinate = pd.read_csv('countries_codes_and_coordinates.csv')"
   ]
  },
  {
   "cell_type": "code",
   "execution_count": 25,
   "metadata": {},
   "outputs": [],
   "source": [
    "owid_covid_data.head()\n",
    "owid_covid_data = owid_covid_data[owid_covid_data['continent'].notna()]\n",
    "\n",
    "colors6 = ['#FD0100','#F76915','#EEDE04','#A0D636','#2FA236','#333ED4']"
   ]
  },
  {
   "cell_type": "code",
   "execution_count": 26,
   "metadata": {},
   "outputs": [
    {
     "data": {
      "text/html": [
       "<div>\n",
       "<style scoped>\n",
       "    .dataframe tbody tr th:only-of-type {\n",
       "        vertical-align: middle;\n",
       "    }\n",
       "\n",
       "    .dataframe tbody tr th {\n",
       "        vertical-align: top;\n",
       "    }\n",
       "\n",
       "    .dataframe thead th {\n",
       "        text-align: right;\n",
       "    }\n",
       "</style>\n",
       "<table border=\"1\" class=\"dataframe\">\n",
       "  <thead>\n",
       "    <tr style=\"text-align: right;\">\n",
       "      <th></th>\n",
       "      <th>Country</th>\n",
       "      <th>Alpha-2 code</th>\n",
       "      <th>Numeric code</th>\n",
       "      <th>Latitude (average)</th>\n",
       "      <th>Longitude (average)</th>\n",
       "    </tr>\n",
       "    <tr>\n",
       "      <th>Alpha-3 code</th>\n",
       "      <th></th>\n",
       "      <th></th>\n",
       "      <th></th>\n",
       "      <th></th>\n",
       "      <th></th>\n",
       "    </tr>\n",
       "  </thead>\n",
       "  <tbody>\n",
       "    <tr>\n",
       "      <th>AFG</th>\n",
       "      <td>Afghanistan</td>\n",
       "      <td>AF</td>\n",
       "      <td>4</td>\n",
       "      <td>33.0000</td>\n",
       "      <td>65.0</td>\n",
       "    </tr>\n",
       "    <tr>\n",
       "      <th>ALB</th>\n",
       "      <td>Albania</td>\n",
       "      <td>AL</td>\n",
       "      <td>8</td>\n",
       "      <td>41.0000</td>\n",
       "      <td>20.0</td>\n",
       "    </tr>\n",
       "    <tr>\n",
       "      <th>DZA</th>\n",
       "      <td>Algeria</td>\n",
       "      <td>DZ</td>\n",
       "      <td>12</td>\n",
       "      <td>28.0000</td>\n",
       "      <td>3.0</td>\n",
       "    </tr>\n",
       "    <tr>\n",
       "      <th>ASM</th>\n",
       "      <td>American Samoa</td>\n",
       "      <td>AS</td>\n",
       "      <td>16</td>\n",
       "      <td>-14.3333</td>\n",
       "      <td>-170.0</td>\n",
       "    </tr>\n",
       "    <tr>\n",
       "      <th>AND</th>\n",
       "      <td>Andorra</td>\n",
       "      <td>AD</td>\n",
       "      <td>20</td>\n",
       "      <td>42.5000</td>\n",
       "      <td>1.6</td>\n",
       "    </tr>\n",
       "  </tbody>\n",
       "</table>\n",
       "</div>"
      ],
      "text/plain": [
       "                     Country Alpha-2 code Numeric code  Latitude (average)  \\\n",
       "Alpha-3 code                                                                 \n",
       "AFG              Afghanistan           AF            4             33.0000   \n",
       "ALB                  Albania           AL            8             41.0000   \n",
       "DZA                  Algeria           DZ           12             28.0000   \n",
       "ASM           American Samoa           AS           16            -14.3333   \n",
       "AND                  Andorra           AD           20             42.5000   \n",
       "\n",
       "              Longitude (average)  \n",
       "Alpha-3 code                       \n",
       "AFG                          65.0  \n",
       "ALB                          20.0  \n",
       "DZA                           3.0  \n",
       "ASM                        -170.0  \n",
       "AND                           1.6  "
      ]
     },
     "execution_count": 26,
     "metadata": {},
     "output_type": "execute_result"
    }
   ],
   "source": [
    "for col in countries_coordinate.columns:\n",
    "       countries_coordinate[col] = countries_coordinate[col].str.strip(' \\\"')\n",
    "\n",
    "countries_coordinate = countries_coordinate.astype({'Latitude (average)': float,'Longitude (average)':float})\n",
    "\n",
    "\n",
    "\n",
    "countries_coordinate.set_index('Alpha-3 code',inplace=True)\n",
    "\n",
    "countries_coordinate.head()"
   ]
  },
  {
   "cell_type": "markdown",
   "metadata": {},
   "source": [
    "# PEOPLE FULL VACCINETED PER HUNDRED "
   ]
  },
  {
   "cell_type": "code",
   "execution_count": 29,
   "metadata": {},
   "outputs": [
    {
     "ename": "NameError",
     "evalue": "name 'countriesgeo' is not defined",
     "output_type": "error",
     "traceback": [
      "\u001b[1;31m---------------------------------------------------------------------------\u001b[0m",
      "\u001b[1;31mNameError\u001b[0m                                 Traceback (most recent call last)",
      "\u001b[1;32m~\\AppData\\Local\\Temp/ipykernel_13388/3732906907.py\u001b[0m in \u001b[0;36m<module>\u001b[1;34m\u001b[0m\n\u001b[1;32m----> 1\u001b[1;33m \u001b[0mf\u001b[0m \u001b[1;33m=\u001b[0m \u001b[0mopen\u001b[0m\u001b[1;33m(\u001b[0m\u001b[0mcountriesgeo\u001b[0m\u001b[1;33m.\u001b[0m\u001b[0mjson\u001b[0m\u001b[1;33m,\u001b[0m\u001b[1;33m)\u001b[0m\u001b[1;33m\u001b[0m\u001b[1;33m\u001b[0m\u001b[0m\n\u001b[0m\u001b[0;32m      2\u001b[0m \u001b[1;33m\u001b[0m\u001b[0m\n\u001b[0;32m      3\u001b[0m \u001b[0mworld_geo\u001b[0m \u001b[1;33m=\u001b[0m \u001b[0mjson\u001b[0m\u001b[1;33m.\u001b[0m\u001b[0mload\u001b[0m\u001b[1;33m(\u001b[0m\u001b[0mf\u001b[0m\u001b[1;33m)\u001b[0m\u001b[1;33m\u001b[0m\u001b[1;33m\u001b[0m\u001b[0m\n\u001b[0;32m      4\u001b[0m \u001b[1;33m\u001b[0m\u001b[0m\n\u001b[0;32m      5\u001b[0m \u001b[0mpeople_group_vaccinated\u001b[0m \u001b[1;33m=\u001b[0m \u001b[0mowid_covid_data\u001b[0m\u001b[1;33m[\u001b[0m\u001b[1;33m[\u001b[0m\u001b[1;34m'iso_code'\u001b[0m\u001b[1;33m,\u001b[0m\u001b[1;34m'people_fully_vaccinated_per_hundred'\u001b[0m\u001b[1;33m]\u001b[0m\u001b[1;33m]\u001b[0m\u001b[1;33m.\u001b[0m\u001b[0mgroupby\u001b[0m\u001b[1;33m(\u001b[0m\u001b[1;34m'iso_code'\u001b[0m\u001b[1;33m)\u001b[0m\u001b[1;33m.\u001b[0m\u001b[0mmax\u001b[0m\u001b[1;33m(\u001b[0m\u001b[1;33m)\u001b[0m\u001b[1;33m\u001b[0m\u001b[1;33m\u001b[0m\u001b[0m\n",
      "\u001b[1;31mNameError\u001b[0m: name 'countriesgeo' is not defined"
     ]
    }
   ],
   "source": [
    "f = open('countriesgeo.json')\n",
    "\n",
    "world_geo = json.load(f)\n",
    "\n",
    "people_group_vaccinated = owid_covid_data[['iso_code','people_fully_vaccinated_per_hundred']].groupby('iso_code').max()\n",
    "\n",
    "people_group_vaccinated.reset_index(inplace=True)\n",
    "\n",
    "\n",
    "\n",
    "fig = px.choropleth_mapbox(people_group_vaccinated, geojson=world_geo, locations='iso_code', color='people_fully_vaccinated_per_hundred',\n",
    "                           color_continuous_scale=\"Viridis\",\n",
    "                           range_color=(0, people_group_vaccinated['people_fully_vaccinated_per_hundred'].max()),\n",
    "                           mapbox_style=\"carto-positron\",\n",
    "                           zoom= 0.6, center = {\"lat\": -10, \"lon\": -10},\n",
    "                           featureidkey=\"properties.ISO_A3\",\n",
    "                           opacity=0.5,\n",
    "                           labels={'people_fully_vaccinated_per_hundred':'people full vaccinated per 100'}\n",
    "                          )\n",
    "fig.update_layout(  margin={\"r\":0,\"t\":40,\"l\":0,\"b\":0},\n",
    "                     title=dict(text = 'Set me title !'),height=550,width=850)\n",
    "fig.show()\n"
   ]
  },
  {
   "cell_type": "markdown",
   "metadata": {},
   "source": [
    "# TOP 5 AREA HAVE BEST VACCINATIONS PERCENT AT 2/11/2021"
   ]
  },
  {
   "cell_type": "code",
   "execution_count": 17,
   "metadata": {},
   "outputs": [
    {
     "data": {
      "application/vnd.plotly.v1+json": {
       "config": {
        "plotlyServerURL": "https://plot.ly"
       },
       "data": [
        {
         "alignmentgroup": "True",
         "hovertemplate": "percent type=people fully vaccinated per hundred<br>continent=%{x}<br>people per hundred=%{y}<extra></extra>",
         "legendgroup": "people fully vaccinated per hundred",
         "marker": {
          "color": "#636efa",
          "pattern": {
           "shape": ""
          }
         },
         "name": "people fully vaccinated per hundred",
         "offsetgroup": "people fully vaccinated per hundred",
         "orientation": "v",
         "showlegend": true,
         "textposition": "auto",
         "type": "bar",
         "x": [
          "Europe",
          "Oceania",
          "South America",
          "North America",
          "Asia",
          "Africa"
         ],
         "xaxis": "x",
         "y": [
          57.632,
          48.51777777777778,
          47.205384615384624,
          45.519411764705886,
          42.098800000000004,
          11.734716981132076
         ],
         "yaxis": "y"
        },
        {
         "alignmentgroup": "True",
         "hovertemplate": "percent type=people vaccinated perhundred<br>continent=%{x}<br>people per hundred=%{y}<extra></extra>",
         "legendgroup": "people vaccinated perhundred",
         "marker": {
          "color": "#EF553B",
          "pattern": {
           "shape": ""
          }
         },
         "name": "people vaccinated perhundred",
         "offsetgroup": "people vaccinated perhundred",
         "orientation": "v",
         "showlegend": true,
         "textposition": "auto",
         "type": "bar",
         "x": [
          "Europe",
          "Oceania",
          "South America",
          "North America",
          "Asia",
          "Africa"
         ],
         "xaxis": "x",
         "y": [
          61.8732,
          57.05611111111111,
          59.629999999999995,
          52.788823529411765,
          51.883,
          15.904814814814815
         ],
         "yaxis": "y"
        },
        {
         "alignmentgroup": "True",
         "hovertemplate": "percent type=total vaccinations per hundred<br>continent=%{x}<br>people per hundred=%{y}<extra></extra>",
         "legendgroup": "total vaccinations per hundred",
         "marker": {
          "color": "#00cc96",
          "pattern": {
           "shape": ""
          }
         },
         "name": "total vaccinations per hundred",
         "offsetgroup": "total vaccinations per hundred",
         "orientation": "v",
         "showlegend": true,
         "textposition": "auto",
         "type": "bar",
         "x": [
          "Europe",
          "Oceania",
          "South America",
          "North America",
          "Asia",
          "Africa"
         ],
         "xaxis": "x",
         "y": [
          119.2213725490196,
          90.49285714285713,
          110.15615384615384,
          101.71588235294118,
          96.24,
          25.84672727272727
         ],
         "yaxis": "y"
        }
       ],
       "layout": {
        "barmode": "group",
        "height": 600,
        "legend": {
         "title": {
          "text": "percent type"
         },
         "tracegroupgap": 0
        },
        "margin": {
         "t": 60
        },
        "template": {
         "data": {
          "bar": [
           {
            "error_x": {
             "color": "#2a3f5f"
            },
            "error_y": {
             "color": "#2a3f5f"
            },
            "marker": {
             "line": {
              "color": "#E5ECF6",
              "width": 0.5
             },
             "pattern": {
              "fillmode": "overlay",
              "size": 10,
              "solidity": 0.2
             }
            },
            "type": "bar"
           }
          ],
          "barpolar": [
           {
            "marker": {
             "line": {
              "color": "#E5ECF6",
              "width": 0.5
             },
             "pattern": {
              "fillmode": "overlay",
              "size": 10,
              "solidity": 0.2
             }
            },
            "type": "barpolar"
           }
          ],
          "carpet": [
           {
            "aaxis": {
             "endlinecolor": "#2a3f5f",
             "gridcolor": "white",
             "linecolor": "white",
             "minorgridcolor": "white",
             "startlinecolor": "#2a3f5f"
            },
            "baxis": {
             "endlinecolor": "#2a3f5f",
             "gridcolor": "white",
             "linecolor": "white",
             "minorgridcolor": "white",
             "startlinecolor": "#2a3f5f"
            },
            "type": "carpet"
           }
          ],
          "choropleth": [
           {
            "colorbar": {
             "outlinewidth": 0,
             "ticks": ""
            },
            "type": "choropleth"
           }
          ],
          "contour": [
           {
            "colorbar": {
             "outlinewidth": 0,
             "ticks": ""
            },
            "colorscale": [
             [
              0,
              "#0d0887"
             ],
             [
              0.1111111111111111,
              "#46039f"
             ],
             [
              0.2222222222222222,
              "#7201a8"
             ],
             [
              0.3333333333333333,
              "#9c179e"
             ],
             [
              0.4444444444444444,
              "#bd3786"
             ],
             [
              0.5555555555555556,
              "#d8576b"
             ],
             [
              0.6666666666666666,
              "#ed7953"
             ],
             [
              0.7777777777777778,
              "#fb9f3a"
             ],
             [
              0.8888888888888888,
              "#fdca26"
             ],
             [
              1,
              "#f0f921"
             ]
            ],
            "type": "contour"
           }
          ],
          "contourcarpet": [
           {
            "colorbar": {
             "outlinewidth": 0,
             "ticks": ""
            },
            "type": "contourcarpet"
           }
          ],
          "heatmap": [
           {
            "colorbar": {
             "outlinewidth": 0,
             "ticks": ""
            },
            "colorscale": [
             [
              0,
              "#0d0887"
             ],
             [
              0.1111111111111111,
              "#46039f"
             ],
             [
              0.2222222222222222,
              "#7201a8"
             ],
             [
              0.3333333333333333,
              "#9c179e"
             ],
             [
              0.4444444444444444,
              "#bd3786"
             ],
             [
              0.5555555555555556,
              "#d8576b"
             ],
             [
              0.6666666666666666,
              "#ed7953"
             ],
             [
              0.7777777777777778,
              "#fb9f3a"
             ],
             [
              0.8888888888888888,
              "#fdca26"
             ],
             [
              1,
              "#f0f921"
             ]
            ],
            "type": "heatmap"
           }
          ],
          "heatmapgl": [
           {
            "colorbar": {
             "outlinewidth": 0,
             "ticks": ""
            },
            "colorscale": [
             [
              0,
              "#0d0887"
             ],
             [
              0.1111111111111111,
              "#46039f"
             ],
             [
              0.2222222222222222,
              "#7201a8"
             ],
             [
              0.3333333333333333,
              "#9c179e"
             ],
             [
              0.4444444444444444,
              "#bd3786"
             ],
             [
              0.5555555555555556,
              "#d8576b"
             ],
             [
              0.6666666666666666,
              "#ed7953"
             ],
             [
              0.7777777777777778,
              "#fb9f3a"
             ],
             [
              0.8888888888888888,
              "#fdca26"
             ],
             [
              1,
              "#f0f921"
             ]
            ],
            "type": "heatmapgl"
           }
          ],
          "histogram": [
           {
            "marker": {
             "pattern": {
              "fillmode": "overlay",
              "size": 10,
              "solidity": 0.2
             }
            },
            "type": "histogram"
           }
          ],
          "histogram2d": [
           {
            "colorbar": {
             "outlinewidth": 0,
             "ticks": ""
            },
            "colorscale": [
             [
              0,
              "#0d0887"
             ],
             [
              0.1111111111111111,
              "#46039f"
             ],
             [
              0.2222222222222222,
              "#7201a8"
             ],
             [
              0.3333333333333333,
              "#9c179e"
             ],
             [
              0.4444444444444444,
              "#bd3786"
             ],
             [
              0.5555555555555556,
              "#d8576b"
             ],
             [
              0.6666666666666666,
              "#ed7953"
             ],
             [
              0.7777777777777778,
              "#fb9f3a"
             ],
             [
              0.8888888888888888,
              "#fdca26"
             ],
             [
              1,
              "#f0f921"
             ]
            ],
            "type": "histogram2d"
           }
          ],
          "histogram2dcontour": [
           {
            "colorbar": {
             "outlinewidth": 0,
             "ticks": ""
            },
            "colorscale": [
             [
              0,
              "#0d0887"
             ],
             [
              0.1111111111111111,
              "#46039f"
             ],
             [
              0.2222222222222222,
              "#7201a8"
             ],
             [
              0.3333333333333333,
              "#9c179e"
             ],
             [
              0.4444444444444444,
              "#bd3786"
             ],
             [
              0.5555555555555556,
              "#d8576b"
             ],
             [
              0.6666666666666666,
              "#ed7953"
             ],
             [
              0.7777777777777778,
              "#fb9f3a"
             ],
             [
              0.8888888888888888,
              "#fdca26"
             ],
             [
              1,
              "#f0f921"
             ]
            ],
            "type": "histogram2dcontour"
           }
          ],
          "mesh3d": [
           {
            "colorbar": {
             "outlinewidth": 0,
             "ticks": ""
            },
            "type": "mesh3d"
           }
          ],
          "parcoords": [
           {
            "line": {
             "colorbar": {
              "outlinewidth": 0,
              "ticks": ""
             }
            },
            "type": "parcoords"
           }
          ],
          "pie": [
           {
            "automargin": true,
            "type": "pie"
           }
          ],
          "scatter": [
           {
            "marker": {
             "colorbar": {
              "outlinewidth": 0,
              "ticks": ""
             }
            },
            "type": "scatter"
           }
          ],
          "scatter3d": [
           {
            "line": {
             "colorbar": {
              "outlinewidth": 0,
              "ticks": ""
             }
            },
            "marker": {
             "colorbar": {
              "outlinewidth": 0,
              "ticks": ""
             }
            },
            "type": "scatter3d"
           }
          ],
          "scattercarpet": [
           {
            "marker": {
             "colorbar": {
              "outlinewidth": 0,
              "ticks": ""
             }
            },
            "type": "scattercarpet"
           }
          ],
          "scattergeo": [
           {
            "marker": {
             "colorbar": {
              "outlinewidth": 0,
              "ticks": ""
             }
            },
            "type": "scattergeo"
           }
          ],
          "scattergl": [
           {
            "marker": {
             "colorbar": {
              "outlinewidth": 0,
              "ticks": ""
             }
            },
            "type": "scattergl"
           }
          ],
          "scattermapbox": [
           {
            "marker": {
             "colorbar": {
              "outlinewidth": 0,
              "ticks": ""
             }
            },
            "type": "scattermapbox"
           }
          ],
          "scatterpolar": [
           {
            "marker": {
             "colorbar": {
              "outlinewidth": 0,
              "ticks": ""
             }
            },
            "type": "scatterpolar"
           }
          ],
          "scatterpolargl": [
           {
            "marker": {
             "colorbar": {
              "outlinewidth": 0,
              "ticks": ""
             }
            },
            "type": "scatterpolargl"
           }
          ],
          "scatterternary": [
           {
            "marker": {
             "colorbar": {
              "outlinewidth": 0,
              "ticks": ""
             }
            },
            "type": "scatterternary"
           }
          ],
          "surface": [
           {
            "colorbar": {
             "outlinewidth": 0,
             "ticks": ""
            },
            "colorscale": [
             [
              0,
              "#0d0887"
             ],
             [
              0.1111111111111111,
              "#46039f"
             ],
             [
              0.2222222222222222,
              "#7201a8"
             ],
             [
              0.3333333333333333,
              "#9c179e"
             ],
             [
              0.4444444444444444,
              "#bd3786"
             ],
             [
              0.5555555555555556,
              "#d8576b"
             ],
             [
              0.6666666666666666,
              "#ed7953"
             ],
             [
              0.7777777777777778,
              "#fb9f3a"
             ],
             [
              0.8888888888888888,
              "#fdca26"
             ],
             [
              1,
              "#f0f921"
             ]
            ],
            "type": "surface"
           }
          ],
          "table": [
           {
            "cells": {
             "fill": {
              "color": "#EBF0F8"
             },
             "line": {
              "color": "white"
             }
            },
            "header": {
             "fill": {
              "color": "#C8D4E3"
             },
             "line": {
              "color": "white"
             }
            },
            "type": "table"
           }
          ]
         },
         "layout": {
          "annotationdefaults": {
           "arrowcolor": "#2a3f5f",
           "arrowhead": 0,
           "arrowwidth": 1
          },
          "autotypenumbers": "strict",
          "coloraxis": {
           "colorbar": {
            "outlinewidth": 0,
            "ticks": ""
           }
          },
          "colorscale": {
           "diverging": [
            [
             0,
             "#8e0152"
            ],
            [
             0.1,
             "#c51b7d"
            ],
            [
             0.2,
             "#de77ae"
            ],
            [
             0.3,
             "#f1b6da"
            ],
            [
             0.4,
             "#fde0ef"
            ],
            [
             0.5,
             "#f7f7f7"
            ],
            [
             0.6,
             "#e6f5d0"
            ],
            [
             0.7,
             "#b8e186"
            ],
            [
             0.8,
             "#7fbc41"
            ],
            [
             0.9,
             "#4d9221"
            ],
            [
             1,
             "#276419"
            ]
           ],
           "sequential": [
            [
             0,
             "#0d0887"
            ],
            [
             0.1111111111111111,
             "#46039f"
            ],
            [
             0.2222222222222222,
             "#7201a8"
            ],
            [
             0.3333333333333333,
             "#9c179e"
            ],
            [
             0.4444444444444444,
             "#bd3786"
            ],
            [
             0.5555555555555556,
             "#d8576b"
            ],
            [
             0.6666666666666666,
             "#ed7953"
            ],
            [
             0.7777777777777778,
             "#fb9f3a"
            ],
            [
             0.8888888888888888,
             "#fdca26"
            ],
            [
             1,
             "#f0f921"
            ]
           ],
           "sequentialminus": [
            [
             0,
             "#0d0887"
            ],
            [
             0.1111111111111111,
             "#46039f"
            ],
            [
             0.2222222222222222,
             "#7201a8"
            ],
            [
             0.3333333333333333,
             "#9c179e"
            ],
            [
             0.4444444444444444,
             "#bd3786"
            ],
            [
             0.5555555555555556,
             "#d8576b"
            ],
            [
             0.6666666666666666,
             "#ed7953"
            ],
            [
             0.7777777777777778,
             "#fb9f3a"
            ],
            [
             0.8888888888888888,
             "#fdca26"
            ],
            [
             1,
             "#f0f921"
            ]
           ]
          },
          "colorway": [
           "#636efa",
           "#EF553B",
           "#00cc96",
           "#ab63fa",
           "#FFA15A",
           "#19d3f3",
           "#FF6692",
           "#B6E880",
           "#FF97FF",
           "#FECB52"
          ],
          "font": {
           "color": "#2a3f5f"
          },
          "geo": {
           "bgcolor": "white",
           "lakecolor": "white",
           "landcolor": "#E5ECF6",
           "showlakes": true,
           "showland": true,
           "subunitcolor": "white"
          },
          "hoverlabel": {
           "align": "left"
          },
          "hovermode": "closest",
          "mapbox": {
           "style": "light"
          },
          "paper_bgcolor": "white",
          "plot_bgcolor": "#E5ECF6",
          "polar": {
           "angularaxis": {
            "gridcolor": "white",
            "linecolor": "white",
            "ticks": ""
           },
           "bgcolor": "#E5ECF6",
           "radialaxis": {
            "gridcolor": "white",
            "linecolor": "white",
            "ticks": ""
           }
          },
          "scene": {
           "xaxis": {
            "backgroundcolor": "#E5ECF6",
            "gridcolor": "white",
            "gridwidth": 2,
            "linecolor": "white",
            "showbackground": true,
            "ticks": "",
            "zerolinecolor": "white"
           },
           "yaxis": {
            "backgroundcolor": "#E5ECF6",
            "gridcolor": "white",
            "gridwidth": 2,
            "linecolor": "white",
            "showbackground": true,
            "ticks": "",
            "zerolinecolor": "white"
           },
           "zaxis": {
            "backgroundcolor": "#E5ECF6",
            "gridcolor": "white",
            "gridwidth": 2,
            "linecolor": "white",
            "showbackground": true,
            "ticks": "",
            "zerolinecolor": "white"
           }
          },
          "shapedefaults": {
           "line": {
            "color": "#2a3f5f"
           }
          },
          "ternary": {
           "aaxis": {
            "gridcolor": "white",
            "linecolor": "white",
            "ticks": ""
           },
           "baxis": {
            "gridcolor": "white",
            "linecolor": "white",
            "ticks": ""
           },
           "bgcolor": "#E5ECF6",
           "caxis": {
            "gridcolor": "white",
            "linecolor": "white",
            "ticks": ""
           }
          },
          "title": {
           "x": 0.05
          },
          "xaxis": {
           "automargin": true,
           "gridcolor": "white",
           "linecolor": "white",
           "ticks": "",
           "title": {
            "standoff": 15
           },
           "zerolinecolor": "white",
           "zerolinewidth": 2
          },
          "yaxis": {
           "automargin": true,
           "gridcolor": "white",
           "linecolor": "white",
           "ticks": "",
           "title": {
            "standoff": 15
           },
           "zerolinecolor": "white",
           "zerolinewidth": 2
          }
         }
        },
        "width": 750,
        "xaxis": {
         "anchor": "y",
         "autorange": true,
         "domain": [
          0,
          1
         ],
         "range": [
          -0.5,
          5.5
         ],
         "title": {
          "text": "continent"
         },
         "type": "category"
        },
        "yaxis": {
         "anchor": "x",
         "autorange": true,
         "domain": [
          0,
          1
         ],
         "range": [
          0,
          125.49618163054696
         ],
         "title": {
          "text": "people per hundred"
         },
         "type": "linear"
        }
       }
      },
      "image/png": "[encoded data removed]",
      "text/html": [
       "<div>                            <div id=\"960eee30-aa69-418b-b523-818b85e8d88e\" class=\"plotly-graph-div\" style=\"height:600px; width:750px;\"></div>            <script type=\"text/javascript\">                require([\"plotly\"], function(Plotly) {                    window.PLOTLYENV=window.PLOTLYENV || {};                                    if (document.getElementById(\"960eee30-aa69-418b-b523-818b85e8d88e\")) {                    Plotly.newPlot(                        \"960eee30-aa69-418b-b523-818b85e8d88e\",                        [{\"alignmentgroup\":\"True\",\"hovertemplate\":\"percent type=people fully vaccinated per hundred<br>continent=%{x}<br>people per hundred=%{y}<extra></extra>\",\"legendgroup\":\"people fully vaccinated per hundred\",\"marker\":{\"color\":\"#636efa\",\"pattern\":{\"shape\":\"\"}},\"name\":\"people fully vaccinated per hundred\",\"offsetgroup\":\"people fully vaccinated per hundred\",\"orientation\":\"v\",\"showlegend\":true,\"textposition\":\"auto\",\"type\":\"bar\",\"x\":[\"Europe\",\"Oceania\",\"South America\",\"North America\",\"Asia\",\"Africa\"],\"xaxis\":\"x\",\"y\":[57.632,48.51777777777778,47.205384615384624,45.519411764705886,42.098800000000004,11.734716981132076],\"yaxis\":\"y\"},{\"alignmentgroup\":\"True\",\"hovertemplate\":\"percent type=people vaccinated perhundred<br>continent=%{x}<br>people per hundred=%{y}<extra></extra>\",\"legendgroup\":\"people vaccinated perhundred\",\"marker\":{\"color\":\"#EF553B\",\"pattern\":{\"shape\":\"\"}},\"name\":\"people vaccinated perhundred\",\"offsetgroup\":\"people vaccinated perhundred\",\"orientation\":\"v\",\"showlegend\":true,\"textposition\":\"auto\",\"type\":\"bar\",\"x\":[\"Europe\",\"Oceania\",\"South America\",\"North America\",\"Asia\",\"Africa\"],\"xaxis\":\"x\",\"y\":[61.8732,57.05611111111111,59.629999999999995,52.788823529411765,51.883,15.904814814814815],\"yaxis\":\"y\"},{\"alignmentgroup\":\"True\",\"hovertemplate\":\"percent type=total vaccinations per hundred<br>continent=%{x}<br>people per hundred=%{y}<extra></extra>\",\"legendgroup\":\"total vaccinations per hundred\",\"marker\":{\"color\":\"#00cc96\",\"pattern\":{\"shape\":\"\"}},\"name\":\"total vaccinations per hundred\",\"offsetgroup\":\"total vaccinations per hundred\",\"orientation\":\"v\",\"showlegend\":true,\"textposition\":\"auto\",\"type\":\"bar\",\"x\":[\"Europe\",\"Oceania\",\"South America\",\"North America\",\"Asia\",\"Africa\"],\"xaxis\":\"x\",\"y\":[119.2213725490196,90.49285714285713,110.15615384615384,101.71588235294118,96.24,25.84672727272727],\"yaxis\":\"y\"}],                        {\"barmode\":\"group\",\"height\":600,\"legend\":{\"title\":{\"text\":\"percent type\"},\"tracegroupgap\":0},\"margin\":{\"t\":60},\"template\":{\"data\":{\"bar\":[{\"error_x\":{\"color\":\"#2a3f5f\"},\"error_y\":{\"color\":\"#2a3f5f\"},\"marker\":{\"line\":{\"color\":\"#E5ECF6\",\"width\":0.5},\"pattern\":{\"fillmode\":\"overlay\",\"size\":10,\"solidity\":0.2}},\"type\":\"bar\"}],\"barpolar\":[{\"marker\":{\"line\":{\"color\":\"#E5ECF6\",\"width\":0.5},\"pattern\":{\"fillmode\":\"overlay\",\"size\":10,\"solidity\":0.2}},\"type\":\"barpolar\"}],\"carpet\":[{\"aaxis\":{\"endlinecolor\":\"#2a3f5f\",\"gridcolor\":\"white\",\"linecolor\":\"white\",\"minorgridcolor\":\"white\",\"startlinecolor\":\"#2a3f5f\"},\"baxis\":{\"endlinecolor\":\"#2a3f5f\",\"gridcolor\":\"white\",\"linecolor\":\"white\",\"minorgridcolor\":\"white\",\"startlinecolor\":\"#2a3f5f\"},\"type\":\"carpet\"}],\"choropleth\":[{\"colorbar\":{\"outlinewidth\":0,\"ticks\":\"\"},\"type\":\"choropleth\"}],\"contour\":[{\"colorbar\":{\"outlinewidth\":0,\"ticks\":\"\"},\"colorscale\":[[0.0,\"#0d0887\"],[0.1111111111111111,\"#46039f\"],[0.2222222222222222,\"#7201a8\"],[0.3333333333333333,\"#9c179e\"],[0.4444444444444444,\"#bd3786\"],[0.5555555555555556,\"#d8576b\"],[0.6666666666666666,\"#ed7953\"],[0.7777777777777778,\"#fb9f3a\"],[0.8888888888888888,\"#fdca26\"],[1.0,\"#f0f921\"]],\"type\":\"contour\"}],\"contourcarpet\":[{\"colorbar\":{\"outlinewidth\":0,\"ticks\":\"\"},\"type\":\"contourcarpet\"}],\"heatmap\":[{\"colorbar\":{\"outlinewidth\":0,\"ticks\":\"\"},\"colorscale\":[[0.0,\"#0d0887\"],[0.1111111111111111,\"#46039f\"],[0.2222222222222222,\"#7201a8\"],[0.3333333333333333,\"#9c179e\"],[0.4444444444444444,\"#bd3786\"],[0.5555555555555556,\"#d8576b\"],[0.6666666666666666,\"#ed7953\"],[0.7777777777777778,\"#fb9f3a\"],[0.8888888888888888,\"#fdca26\"],[1.0,\"#f0f921\"]],\"type\":\"heatmap\"}],\"heatmapgl\":[{\"colorbar\":{\"outlinewidth\":0,\"ticks\":\"\"},\"colorscale\":[[0.0,\"#0d0887\"],[0.1111111111111111,\"#46039f\"],[0.2222222222222222,\"#7201a8\"],[0.3333333333333333,\"#9c179e\"],[0.4444444444444444,\"#bd3786\"],[0.5555555555555556,\"#d8576b\"],[0.6666666666666666,\"#ed7953\"],[0.7777777777777778,\"#fb9f3a\"],[0.8888888888888888,\"#fdca26\"],[1.0,\"#f0f921\"]],\"type\":\"heatmapgl\"}],\"histogram\":[{\"marker\":{\"pattern\":{\"fillmode\":\"overlay\",\"size\":10,\"solidity\":0.2}},\"type\":\"histogram\"}],\"histogram2d\":[{\"colorbar\":{\"outlinewidth\":0,\"ticks\":\"\"},\"colorscale\":[[0.0,\"#0d0887\"],[0.1111111111111111,\"#46039f\"],[0.2222222222222222,\"#7201a8\"],[0.3333333333333333,\"#9c179e\"],[0.4444444444444444,\"#bd3786\"],[0.5555555555555556,\"#d8576b\"],[0.6666666666666666,\"#ed7953\"],[0.7777777777777778,\"#fb9f3a\"],[0.8888888888888888,\"#fdca26\"],[1.0,\"#f0f921\"]],\"type\":\"histogram2d\"}],\"histogram2dcontour\":[{\"colorbar\":{\"outlinewidth\":0,\"ticks\":\"\"},\"colorscale\":[[0.0,\"#0d0887\"],[0.1111111111111111,\"#46039f\"],[0.2222222222222222,\"#7201a8\"],[0.3333333333333333,\"#9c179e\"],[0.4444444444444444,\"#bd3786\"],[0.5555555555555556,\"#d8576b\"],[0.6666666666666666,\"#ed7953\"],[0.7777777777777778,\"#fb9f3a\"],[0.8888888888888888,\"#fdca26\"],[1.0,\"#f0f921\"]],\"type\":\"histogram2dcontour\"}],\"mesh3d\":[{\"colorbar\":{\"outlinewidth\":0,\"ticks\":\"\"},\"type\":\"mesh3d\"}],\"parcoords\":[{\"line\":{\"colorbar\":{\"outlinewidth\":0,\"ticks\":\"\"}},\"type\":\"parcoords\"}],\"pie\":[{\"automargin\":true,\"type\":\"pie\"}],\"scatter\":[{\"marker\":{\"colorbar\":{\"outlinewidth\":0,\"ticks\":\"\"}},\"type\":\"scatter\"}],\"scatter3d\":[{\"line\":{\"colorbar\":{\"outlinewidth\":0,\"ticks\":\"\"}},\"marker\":{\"colorbar\":{\"outlinewidth\":0,\"ticks\":\"\"}},\"type\":\"scatter3d\"}],\"scattercarpet\":[{\"marker\":{\"colorbar\":{\"outlinewidth\":0,\"ticks\":\"\"}},\"type\":\"scattercarpet\"}],\"scattergeo\":[{\"marker\":{\"colorbar\":{\"outlinewidth\":0,\"ticks\":\"\"}},\"type\":\"scattergeo\"}],\"scattergl\":[{\"marker\":{\"colorbar\":{\"outlinewidth\":0,\"ticks\":\"\"}},\"type\":\"scattergl\"}],\"scattermapbox\":[{\"marker\":{\"colorbar\":{\"outlinewidth\":0,\"ticks\":\"\"}},\"type\":\"scattermapbox\"}],\"scatterpolar\":[{\"marker\":{\"colorbar\":{\"outlinewidth\":0,\"ticks\":\"\"}},\"type\":\"scatterpolar\"}],\"scatterpolargl\":[{\"marker\":{\"colorbar\":{\"outlinewidth\":0,\"ticks\":\"\"}},\"type\":\"scatterpolargl\"}],\"scatterternary\":[{\"marker\":{\"colorbar\":{\"outlinewidth\":0,\"ticks\":\"\"}},\"type\":\"scatterternary\"}],\"surface\":[{\"colorbar\":{\"outlinewidth\":0,\"ticks\":\"\"},\"colorscale\":[[0.0,\"#0d0887\"],[0.1111111111111111,\"#46039f\"],[0.2222222222222222,\"#7201a8\"],[0.3333333333333333,\"#9c179e\"],[0.4444444444444444,\"#bd3786\"],[0.5555555555555556,\"#d8576b\"],[0.6666666666666666,\"#ed7953\"],[0.7777777777777778,\"#fb9f3a\"],[0.8888888888888888,\"#fdca26\"],[1.0,\"#f0f921\"]],\"type\":\"surface\"}],\"table\":[{\"cells\":{\"fill\":{\"color\":\"#EBF0F8\"},\"line\":{\"color\":\"white\"}},\"header\":{\"fill\":{\"color\":\"#C8D4E3\"},\"line\":{\"color\":\"white\"}},\"type\":\"table\"}]},\"layout\":{\"annotationdefaults\":{\"arrowcolor\":\"#2a3f5f\",\"arrowhead\":0,\"arrowwidth\":1},\"autotypenumbers\":\"strict\",\"coloraxis\":{\"colorbar\":{\"outlinewidth\":0,\"ticks\":\"\"}},\"colorscale\":{\"diverging\":[[0,\"#8e0152\"],[0.1,\"#c51b7d\"],[0.2,\"#de77ae\"],[0.3,\"#f1b6da\"],[0.4,\"#fde0ef\"],[0.5,\"#f7f7f7\"],[0.6,\"#e6f5d0\"],[0.7,\"#b8e186\"],[0.8,\"#7fbc41\"],[0.9,\"#4d9221\"],[1,\"#276419\"]],\"sequential\":[[0.0,\"#0d0887\"],[0.1111111111111111,\"#46039f\"],[0.2222222222222222,\"#7201a8\"],[0.3333333333333333,\"#9c179e\"],[0.4444444444444444,\"#bd3786\"],[0.5555555555555556,\"#d8576b\"],[0.6666666666666666,\"#ed7953\"],[0.7777777777777778,\"#fb9f3a\"],[0.8888888888888888,\"#fdca26\"],[1.0,\"#f0f921\"]],\"sequentialminus\":[[0.0,\"#0d0887\"],[0.1111111111111111,\"#46039f\"],[0.2222222222222222,\"#7201a8\"],[0.3333333333333333,\"#9c179e\"],[0.4444444444444444,\"#bd3786\"],[0.5555555555555556,\"#d8576b\"],[0.6666666666666666,\"#ed7953\"],[0.7777777777777778,\"#fb9f3a\"],[0.8888888888888888,\"#fdca26\"],[1.0,\"#f0f921\"]]},\"colorway\":[\"#636efa\",\"#EF553B\",\"#00cc96\",\"#ab63fa\",\"#FFA15A\",\"#19d3f3\",\"#FF6692\",\"#B6E880\",\"#FF97FF\",\"#FECB52\"],\"font\":{\"color\":\"#2a3f5f\"},\"geo\":{\"bgcolor\":\"white\",\"lakecolor\":\"white\",\"landcolor\":\"#E5ECF6\",\"showlakes\":true,\"showland\":true,\"subunitcolor\":\"white\"},\"hoverlabel\":{\"align\":\"left\"},\"hovermode\":\"closest\",\"mapbox\":{\"style\":\"light\"},\"paper_bgcolor\":\"white\",\"plot_bgcolor\":\"#E5ECF6\",\"polar\":{\"angularaxis\":{\"gridcolor\":\"white\",\"linecolor\":\"white\",\"ticks\":\"\"},\"bgcolor\":\"#E5ECF6\",\"radialaxis\":{\"gridcolor\":\"white\",\"linecolor\":\"white\",\"ticks\":\"\"}},\"scene\":{\"xaxis\":{\"backgroundcolor\":\"#E5ECF6\",\"gridcolor\":\"white\",\"gridwidth\":2,\"linecolor\":\"white\",\"showbackground\":true,\"ticks\":\"\",\"zerolinecolor\":\"white\"},\"yaxis\":{\"backgroundcolor\":\"#E5ECF6\",\"gridcolor\":\"white\",\"gridwidth\":2,\"linecolor\":\"white\",\"showbackground\":true,\"ticks\":\"\",\"zerolinecolor\":\"white\"},\"zaxis\":{\"backgroundcolor\":\"#E5ECF6\",\"gridcolor\":\"white\",\"gridwidth\":2,\"linecolor\":\"white\",\"showbackground\":true,\"ticks\":\"\",\"zerolinecolor\":\"white\"}},\"shapedefaults\":{\"line\":{\"color\":\"#2a3f5f\"}},\"ternary\":{\"aaxis\":{\"gridcolor\":\"white\",\"linecolor\":\"white\",\"ticks\":\"\"},\"baxis\":{\"gridcolor\":\"white\",\"linecolor\":\"white\",\"ticks\":\"\"},\"bgcolor\":\"#E5ECF6\",\"caxis\":{\"gridcolor\":\"white\",\"linecolor\":\"white\",\"ticks\":\"\"}},\"title\":{\"x\":0.05},\"xaxis\":{\"automargin\":true,\"gridcolor\":\"white\",\"linecolor\":\"white\",\"ticks\":\"\",\"title\":{\"standoff\":15},\"zerolinecolor\":\"white\",\"zerolinewidth\":2},\"yaxis\":{\"automargin\":true,\"gridcolor\":\"white\",\"linecolor\":\"white\",\"ticks\":\"\",\"title\":{\"standoff\":15},\"zerolinecolor\":\"white\",\"zerolinewidth\":2}}},\"width\":750,\"xaxis\":{\"anchor\":\"y\",\"domain\":[0.0,1.0],\"title\":{\"text\":\"continent\"}},\"yaxis\":{\"anchor\":\"x\",\"domain\":[0.0,1.0],\"title\":{\"text\":\"people per hundred\"}}},                        {\"responsive\": true}                    ).then(function(){\n",
       "                            \n",
       "var gd = document.getElementById('960eee30-aa69-418b-b523-818b85e8d88e');\n",
       "var x = new MutationObserver(function (mutations, observer) {{\n",
       "        var display = window.getComputedStyle(gd).display;\n",
       "        if (!display || display === 'none') {{\n",
       "            console.log([gd, 'removed!']);\n",
       "            Plotly.purge(gd);\n",
       "            observer.disconnect();\n",
       "        }}\n",
       "}});\n",
       "\n",
       "// Listen for the removal of the full notebook cells\n",
       "var notebookContainer = gd.closest('#notebook-container');\n",
       "if (notebookContainer) {{\n",
       "    x.observe(notebookContainer, {childList: true});\n",
       "}}\n",
       "\n",
       "// Listen for the clearing of the current output cell\n",
       "var outputEl = gd.closest('.output');\n",
       "if (outputEl) {{\n",
       "    x.observe(outputEl, {childList: true});\n",
       "}}\n",
       "\n",
       "                        })                };                });            </script>        </div>"
      ]
     },
     "metadata": {},
     "output_type": "display_data"
    }
   ],
   "source": [
    "# at 2/11/2021\n",
    "\n",
    "# lấy max trong nước và lấy trung bình trong châu lục 2 lần group\n",
    "vaccinated   = owid_covid_data[['continent','location','people_fully_vaccinated_per_hundred','people_vaccinated_per_hundred','total_vaccinations_per_hundred']].groupby('location').max(\n",
    ").groupby('continent').mean()\n",
    "\n",
    "top5vaccinated = vaccinated.sort_values('people_fully_vaccinated_per_hundred',ascending=False)\n",
    "\n",
    "top5vaccinated.reset_index(inplace=True)\n",
    "\n",
    "\n",
    "\n",
    "#doi ten cot\n",
    "top5vaccinated.rename(columns={\n",
    "    'people_fully_vaccinated_per_hundred': 'people fully vaccinated per hundred',\n",
    "    'people_vaccinated_per_hundred': 'people vaccinated perhundred',\n",
    "    'total_vaccinations_per_hundred' : 'total vaccinations per hundred'\n",
    "},inplace=True)\n",
    "\n",
    "\n",
    "top5vaccinated_sns = pd.melt(top5vaccinated,id_vars=['continent'],value_vars=['people fully vaccinated per hundred','people vaccinated perhundred','total vaccinations per hundred']\n",
    ",var_name='percent type',value_name='people per hundred')\n",
    "\n",
    "\n",
    "\n",
    "fig = px.bar(top5vaccinated_sns, x=\"continent\", y=\"people per hundred\",\n",
    "             color='percent type',barmode='group',\n",
    "             height=600,width=750)\n",
    "fig.show()\n"
   ]
  },
  {
   "cell_type": "markdown",
   "metadata": {},
   "source": [
    "# TIME LINE OF VACCINATED "
   ]
  },
  {
   "cell_type": "code",
   "execution_count": 18,
   "metadata": {},
   "outputs": [
    {
     "data": {
      "application/vnd.plotly.v1+json": {
       "config": {
        "plotlyServerURL": "https://plot.ly"
       },
       "data": [
        {
         "hovertemplate": "area=Africa<br>date=%{x}<br>total_vaccinations_per_hundred=%{y}<extra></extra>",
         "legendgroup": "Africa",
         "line": {
          "color": "#636efa",
          "dash": "solid"
         },
         "marker": {
          "symbol": "circle"
         },
         "mode": "lines",
         "name": "Africa",
         "orientation": "v",
         "showlegend": true,
         "type": "scatter",
         "x": [
          "2020-01",
          "2020-02",
          "2020-03",
          "2020-04",
          "2020-05",
          "2020-06",
          "2020-07",
          "2020-08",
          "2020-09",
          "2020-10",
          "2020-11",
          "2020-12",
          "2021-01",
          "2021-02",
          "2021-03",
          "2021-04",
          "2021-05",
          "2021-06",
          "2021-07",
          "2021-08",
          "2021-09",
          "2021-10",
          "2021-11"
         ],
         "xaxis": "x",
         "y": [
          0,
          0,
          0,
          0,
          0,
          0,
          0,
          0,
          0,
          0,
          0,
          0,
          0.5734545454545454,
          1.6832727272727273,
          4.042545454545454,
          5.448181818181817,
          8.158545454545454,
          10.116727272727275,
          12.511454545454546,
          16.893272727272727,
          21.53181818181818,
          25.82381818181818,
          25.84672727272727
         ],
         "yaxis": "y"
        },
        {
         "hovertemplate": "area=Asia<br>date=%{x}<br>total_vaccinations_per_hundred=%{y}<extra></extra>",
         "legendgroup": "Asia",
         "line": {
          "color": "#EF553B",
          "dash": "solid"
         },
         "marker": {
          "symbol": "circle"
         },
         "mode": "lines",
         "name": "Asia",
         "orientation": "v",
         "showlegend": true,
         "type": "scatter",
         "x": [
          "2020-01",
          "2020-02",
          "2020-03",
          "2020-04",
          "2020-05",
          "2020-06",
          "2020-07",
          "2020-08",
          "2020-09",
          "2020-10",
          "2020-11",
          "2020-12",
          "2021-01",
          "2021-02",
          "2021-03",
          "2021-04",
          "2021-05",
          "2021-06",
          "2021-07",
          "2021-08",
          "2021-09",
          "2021-10",
          "2021-11"
         ],
         "xaxis": "x",
         "y": [
          0,
          0,
          0,
          0,
          0,
          0,
          0,
          0,
          0,
          0,
          0,
          0.3024,
          2.2102,
          4.5768,
          10.832799999999999,
          16.945999999999998,
          25.4208,
          35.348800000000004,
          49.3508,
          69.5134,
          83.9506,
          95.7774,
          96.24
         ],
         "yaxis": "y"
        },
        {
         "hovertemplate": "area=Europe<br>date=%{x}<br>total_vaccinations_per_hundred=%{y}<extra></extra>",
         "legendgroup": "Europe",
         "line": {
          "color": "#00cc96",
          "dash": "solid"
         },
         "marker": {
          "symbol": "circle"
         },
         "mode": "lines",
         "name": "Europe",
         "orientation": "v",
         "showlegend": true,
         "type": "scatter",
         "x": [
          "2020-01",
          "2020-02",
          "2020-03",
          "2020-04",
          "2020-05",
          "2020-06",
          "2020-07",
          "2020-08",
          "2020-09",
          "2020-10",
          "2020-11",
          "2020-12",
          "2021-01",
          "2021-02",
          "2021-03",
          "2021-04",
          "2021-05",
          "2021-06",
          "2021-07",
          "2021-08",
          "2021-09",
          "2021-10",
          "2021-11"
         ],
         "xaxis": "x",
         "y": [
          0,
          0,
          0,
          0,
          0,
          0,
          0,
          0,
          0,
          0,
          0,
          0.09686274509803923,
          3.6721568627450982,
          9.628235294117648,
          21.780196078431374,
          36.920980392156864,
          56.80862745098039,
          77.01098039215687,
          93.54196078431373,
          104.70450980392157,
          112.43235294117648,
          118.96764705882353,
          119.2213725490196
         ],
         "yaxis": "y"
        },
        {
         "hovertemplate": "area=North America<br>date=%{x}<br>total_vaccinations_per_hundred=%{y}<extra></extra>",
         "legendgroup": "North America",
         "line": {
          "color": "#ab63fa",
          "dash": "solid"
         },
         "marker": {
          "symbol": "circle"
         },
         "mode": "lines",
         "name": "North America",
         "orientation": "v",
         "showlegend": true,
         "type": "scatter",
         "x": [
          "2020-01",
          "2020-02",
          "2020-03",
          "2020-04",
          "2020-05",
          "2020-06",
          "2020-07",
          "2020-08",
          "2020-09",
          "2020-10",
          "2020-11",
          "2020-12",
          "2021-01",
          "2021-02",
          "2021-03",
          "2021-04",
          "2021-05",
          "2021-06",
          "2021-07",
          "2021-08",
          "2021-09",
          "2021-10",
          "2021-11"
         ],
         "xaxis": "x",
         "y": [
          0,
          0,
          0,
          0,
          0,
          0,
          0,
          0,
          0,
          0,
          0,
          0.057058823529411766,
          0.8170588235294118,
          5.031176470588235,
          15.773529411764704,
          26.28970588235294,
          44.06088235294118,
          56.243529411764705,
          68.30617647058823,
          78.69735294117648,
          91.81294117647059,
          101.40264705882353,
          101.71588235294118
         ],
         "yaxis": "y"
        },
        {
         "hovertemplate": "area=Oceania<br>date=%{x}<br>total_vaccinations_per_hundred=%{y}<extra></extra>",
         "legendgroup": "Oceania",
         "line": {
          "color": "#FFA15A",
          "dash": "solid"
         },
         "marker": {
          "symbol": "circle"
         },
         "mode": "lines",
         "name": "Oceania",
         "orientation": "v",
         "showlegend": true,
         "type": "scatter",
         "x": [
          "2020-01",
          "2020-02",
          "2020-03",
          "2020-04",
          "2020-05",
          "2020-06",
          "2020-07",
          "2020-08",
          "2020-09",
          "2020-10",
          "2020-11",
          "2020-12",
          "2021-01",
          "2021-02",
          "2021-03",
          "2021-04",
          "2021-05",
          "2021-06",
          "2021-07",
          "2021-08",
          "2021-09",
          "2021-10",
          "2021-11"
         ],
         "xaxis": "x",
         "y": [
          0,
          0,
          0,
          0,
          0,
          0,
          0,
          0,
          0,
          0,
          0,
          0,
          0,
          0.22238095238095237,
          2.5638095238095238,
          6.844285714285715,
          14.80952380952381,
          32.99095238095238,
          45.29904761904762,
          65.61095238095238,
          75.92190476190476,
          89.31666666666668,
          90.49285714285713
         ],
         "yaxis": "y"
        },
        {
         "hovertemplate": "area=South America<br>date=%{x}<br>total_vaccinations_per_hundred=%{y}<extra></extra>",
         "legendgroup": "South America",
         "line": {
          "color": "#19d3f3",
          "dash": "solid"
         },
         "marker": {
          "symbol": "circle"
         },
         "mode": "lines",
         "name": "South America",
         "orientation": "v",
         "showlegend": true,
         "type": "scatter",
         "x": [
          "2020-01",
          "2020-02",
          "2020-03",
          "2020-04",
          "2020-05",
          "2020-06",
          "2020-07",
          "2020-08",
          "2020-09",
          "2020-10",
          "2020-11",
          "2020-12",
          "2021-01",
          "2021-02",
          "2021-03",
          "2021-04",
          "2021-05",
          "2021-06",
          "2021-07",
          "2021-08",
          "2021-09",
          "2021-10",
          "2021-11"
         ],
         "xaxis": "x",
         "y": [
          0,
          0,
          0,
          0,
          0,
          0,
          0,
          0,
          0,
          0,
          0,
          0.009230769230769232,
          0.16615384615384615,
          5.756923076923077,
          13.521538461538462,
          26.835384615384616,
          36.76384615384615,
          50.100769230769224,
          67.46000000000001,
          85.43230769230769,
          98.91076923076922,
          110.05153846153847,
          110.15615384615384
         ],
         "yaxis": "y"
        }
       ],
       "layout": {
        "height": 550,
        "legend": {
         "title": {
          "text": "area"
         },
         "tracegroupgap": 0
        },
        "template": {
         "data": {
          "bar": [
           {
            "error_x": {
             "color": "#2a3f5f"
            },
            "error_y": {
             "color": "#2a3f5f"
            },
            "marker": {
             "line": {
              "color": "#E5ECF6",
              "width": 0.5
             },
             "pattern": {
              "fillmode": "overlay",
              "size": 10,
              "solidity": 0.2
             }
            },
            "type": "bar"
           }
          ],
          "barpolar": [
           {
            "marker": {
             "line": {
              "color": "#E5ECF6",
              "width": 0.5
             },
             "pattern": {
              "fillmode": "overlay",
              "size": 10,
              "solidity": 0.2
             }
            },
            "type": "barpolar"
           }
          ],
          "carpet": [
           {
            "aaxis": {
             "endlinecolor": "#2a3f5f",
             "gridcolor": "white",
             "linecolor": "white",
             "minorgridcolor": "white",
             "startlinecolor": "#2a3f5f"
            },
            "baxis": {
             "endlinecolor": "#2a3f5f",
             "gridcolor": "white",
             "linecolor": "white",
             "minorgridcolor": "white",
             "startlinecolor": "#2a3f5f"
            },
            "type": "carpet"
           }
          ],
          "choropleth": [
           {
            "colorbar": {
             "outlinewidth": 0,
             "ticks": ""
            },
            "type": "choropleth"
           }
          ],
          "contour": [
           {
            "colorbar": {
             "outlinewidth": 0,
             "ticks": ""
            },
            "colorscale": [
             [
              0,
              "#0d0887"
             ],
             [
              0.1111111111111111,
              "#46039f"
             ],
             [
              0.2222222222222222,
              "#7201a8"
             ],
             [
              0.3333333333333333,
              "#9c179e"
             ],
             [
              0.4444444444444444,
              "#bd3786"
             ],
             [
              0.5555555555555556,
              "#d8576b"
             ],
             [
              0.6666666666666666,
              "#ed7953"
             ],
             [
              0.7777777777777778,
              "#fb9f3a"
             ],
             [
              0.8888888888888888,
              "#fdca26"
             ],
             [
              1,
              "#f0f921"
             ]
            ],
            "type": "contour"
           }
          ],
          "contourcarpet": [
           {
            "colorbar": {
             "outlinewidth": 0,
             "ticks": ""
            },
            "type": "contourcarpet"
           }
          ],
          "heatmap": [
           {
            "colorbar": {
             "outlinewidth": 0,
             "ticks": ""
            },
            "colorscale": [
             [
              0,
              "#0d0887"
             ],
             [
              0.1111111111111111,
              "#46039f"
             ],
             [
              0.2222222222222222,
              "#7201a8"
             ],
             [
              0.3333333333333333,
              "#9c179e"
             ],
             [
              0.4444444444444444,
              "#bd3786"
             ],
             [
              0.5555555555555556,
              "#d8576b"
             ],
             [
              0.6666666666666666,
              "#ed7953"
             ],
             [
              0.7777777777777778,
              "#fb9f3a"
             ],
             [
              0.8888888888888888,
              "#fdca26"
             ],
             [
              1,
              "#f0f921"
             ]
            ],
            "type": "heatmap"
           }
          ],
          "heatmapgl": [
           {
            "colorbar": {
             "outlinewidth": 0,
             "ticks": ""
            },
            "colorscale": [
             [
              0,
              "#0d0887"
             ],
             [
              0.1111111111111111,
              "#46039f"
             ],
             [
              0.2222222222222222,
              "#7201a8"
             ],
             [
              0.3333333333333333,
              "#9c179e"
             ],
             [
              0.4444444444444444,
              "#bd3786"
             ],
             [
              0.5555555555555556,
              "#d8576b"
             ],
             [
              0.6666666666666666,
              "#ed7953"
             ],
             [
              0.7777777777777778,
              "#fb9f3a"
             ],
             [
              0.8888888888888888,
              "#fdca26"
             ],
             [
              1,
              "#f0f921"
             ]
            ],
            "type": "heatmapgl"
           }
          ],
          "histogram": [
           {
            "marker": {
             "pattern": {
              "fillmode": "overlay",
              "size": 10,
              "solidity": 0.2
             }
            },
            "type": "histogram"
           }
          ],
          "histogram2d": [
           {
            "colorbar": {
             "outlinewidth": 0,
             "ticks": ""
            },
            "colorscale": [
             [
              0,
              "#0d0887"
             ],
             [
              0.1111111111111111,
              "#46039f"
             ],
             [
              0.2222222222222222,
              "#7201a8"
             ],
             [
              0.3333333333333333,
              "#9c179e"
             ],
             [
              0.4444444444444444,
              "#bd3786"
             ],
             [
              0.5555555555555556,
              "#d8576b"
             ],
             [
              0.6666666666666666,
              "#ed7953"
             ],
             [
              0.7777777777777778,
              "#fb9f3a"
             ],
             [
              0.8888888888888888,
              "#fdca26"
             ],
             [
              1,
              "#f0f921"
             ]
            ],
            "type": "histogram2d"
           }
          ],
          "histogram2dcontour": [
           {
            "colorbar": {
             "outlinewidth": 0,
             "ticks": ""
            },
            "colorscale": [
             [
              0,
              "#0d0887"
             ],
             [
              0.1111111111111111,
              "#46039f"
             ],
             [
              0.2222222222222222,
              "#7201a8"
             ],
             [
              0.3333333333333333,
              "#9c179e"
             ],
             [
              0.4444444444444444,
              "#bd3786"
             ],
             [
              0.5555555555555556,
              "#d8576b"
             ],
             [
              0.6666666666666666,
              "#ed7953"
             ],
             [
              0.7777777777777778,
              "#fb9f3a"
             ],
             [
              0.8888888888888888,
              "#fdca26"
             ],
             [
              1,
              "#f0f921"
             ]
            ],
            "type": "histogram2dcontour"
           }
          ],
          "mesh3d": [
           {
            "colorbar": {
             "outlinewidth": 0,
             "ticks": ""
            },
            "type": "mesh3d"
           }
          ],
          "parcoords": [
           {
            "line": {
             "colorbar": {
              "outlinewidth": 0,
              "ticks": ""
             }
            },
            "type": "parcoords"
           }
          ],
          "pie": [
           {
            "automargin": true,
            "type": "pie"
           }
          ],
          "scatter": [
           {
            "marker": {
             "colorbar": {
              "outlinewidth": 0,
              "ticks": ""
             }
            },
            "type": "scatter"
           }
          ],
          "scatter3d": [
           {
            "line": {
             "colorbar": {
              "outlinewidth": 0,
              "ticks": ""
             }
            },
            "marker": {
             "colorbar": {
              "outlinewidth": 0,
              "ticks": ""
             }
            },
            "type": "scatter3d"
           }
          ],
          "scattercarpet": [
           {
            "marker": {
             "colorbar": {
              "outlinewidth": 0,
              "ticks": ""
             }
            },
            "type": "scattercarpet"
           }
          ],
          "scattergeo": [
           {
            "marker": {
             "colorbar": {
              "outlinewidth": 0,
              "ticks": ""
             }
            },
            "type": "scattergeo"
           }
          ],
          "scattergl": [
           {
            "marker": {
             "colorbar": {
              "outlinewidth": 0,
              "ticks": ""
             }
            },
            "type": "scattergl"
           }
          ],
          "scattermapbox": [
           {
            "marker": {
             "colorbar": {
              "outlinewidth": 0,
              "ticks": ""
             }
            },
            "type": "scattermapbox"
           }
          ],
          "scatterpolar": [
           {
            "marker": {
             "colorbar": {
              "outlinewidth": 0,
              "ticks": ""
             }
            },
            "type": "scatterpolar"
           }
          ],
          "scatterpolargl": [
           {
            "marker": {
             "colorbar": {
              "outlinewidth": 0,
              "ticks": ""
             }
            },
            "type": "scatterpolargl"
           }
          ],
          "scatterternary": [
           {
            "marker": {
             "colorbar": {
              "outlinewidth": 0,
              "ticks": ""
             }
            },
            "type": "scatterternary"
           }
          ],
          "surface": [
           {
            "colorbar": {
             "outlinewidth": 0,
             "ticks": ""
            },
            "colorscale": [
             [
              0,
              "#0d0887"
             ],
             [
              0.1111111111111111,
              "#46039f"
             ],
             [
              0.2222222222222222,
              "#7201a8"
             ],
             [
              0.3333333333333333,
              "#9c179e"
             ],
             [
              0.4444444444444444,
              "#bd3786"
             ],
             [
              0.5555555555555556,
              "#d8576b"
             ],
             [
              0.6666666666666666,
              "#ed7953"
             ],
             [
              0.7777777777777778,
              "#fb9f3a"
             ],
             [
              0.8888888888888888,
              "#fdca26"
             ],
             [
              1,
              "#f0f921"
             ]
            ],
            "type": "surface"
           }
          ],
          "table": [
           {
            "cells": {
             "fill": {
              "color": "#EBF0F8"
             },
             "line": {
              "color": "white"
             }
            },
            "header": {
             "fill": {
              "color": "#C8D4E3"
             },
             "line": {
              "color": "white"
             }
            },
            "type": "table"
           }
          ]
         },
         "layout": {
          "annotationdefaults": {
           "arrowcolor": "#2a3f5f",
           "arrowhead": 0,
           "arrowwidth": 1
          },
          "autotypenumbers": "strict",
          "coloraxis": {
           "colorbar": {
            "outlinewidth": 0,
            "ticks": ""
           }
          },
          "colorscale": {
           "diverging": [
            [
             0,
             "#8e0152"
            ],
            [
             0.1,
             "#c51b7d"
            ],
            [
             0.2,
             "#de77ae"
            ],
            [
             0.3,
             "#f1b6da"
            ],
            [
             0.4,
             "#fde0ef"
            ],
            [
             0.5,
             "#f7f7f7"
            ],
            [
             0.6,
             "#e6f5d0"
            ],
            [
             0.7,
             "#b8e186"
            ],
            [
             0.8,
             "#7fbc41"
            ],
            [
             0.9,
             "#4d9221"
            ],
            [
             1,
             "#276419"
            ]
           ],
           "sequential": [
            [
             0,
             "#0d0887"
            ],
            [
             0.1111111111111111,
             "#46039f"
            ],
            [
             0.2222222222222222,
             "#7201a8"
            ],
            [
             0.3333333333333333,
             "#9c179e"
            ],
            [
             0.4444444444444444,
             "#bd3786"
            ],
            [
             0.5555555555555556,
             "#d8576b"
            ],
            [
             0.6666666666666666,
             "#ed7953"
            ],
            [
             0.7777777777777778,
             "#fb9f3a"
            ],
            [
             0.8888888888888888,
             "#fdca26"
            ],
            [
             1,
             "#f0f921"
            ]
           ],
           "sequentialminus": [
            [
             0,
             "#0d0887"
            ],
            [
             0.1111111111111111,
             "#46039f"
            ],
            [
             0.2222222222222222,
             "#7201a8"
            ],
            [
             0.3333333333333333,
             "#9c179e"
            ],
            [
             0.4444444444444444,
             "#bd3786"
            ],
            [
             0.5555555555555556,
             "#d8576b"
            ],
            [
             0.6666666666666666,
             "#ed7953"
            ],
            [
             0.7777777777777778,
             "#fb9f3a"
            ],
            [
             0.8888888888888888,
             "#fdca26"
            ],
            [
             1,
             "#f0f921"
            ]
           ]
          },
          "colorway": [
           "#636efa",
           "#EF553B",
           "#00cc96",
           "#ab63fa",
           "#FFA15A",
           "#19d3f3",
           "#FF6692",
           "#B6E880",
           "#FF97FF",
           "#FECB52"
          ],
          "font": {
           "color": "#2a3f5f"
          },
          "geo": {
           "bgcolor": "white",
           "lakecolor": "white",
           "landcolor": "#E5ECF6",
           "showlakes": true,
           "showland": true,
           "subunitcolor": "white"
          },
          "hoverlabel": {
           "align": "left"
          },
          "hovermode": "closest",
          "mapbox": {
           "style": "light"
          },
          "paper_bgcolor": "white",
          "plot_bgcolor": "#E5ECF6",
          "polar": {
           "angularaxis": {
            "gridcolor": "white",
            "linecolor": "white",
            "ticks": ""
           },
           "bgcolor": "#E5ECF6",
           "radialaxis": {
            "gridcolor": "white",
            "linecolor": "white",
            "ticks": ""
           }
          },
          "scene": {
           "xaxis": {
            "backgroundcolor": "#E5ECF6",
            "gridcolor": "white",
            "gridwidth": 2,
            "linecolor": "white",
            "showbackground": true,
            "ticks": "",
            "zerolinecolor": "white"
           },
           "yaxis": {
            "backgroundcolor": "#E5ECF6",
            "gridcolor": "white",
            "gridwidth": 2,
            "linecolor": "white",
            "showbackground": true,
            "ticks": "",
            "zerolinecolor": "white"
           },
           "zaxis": {
            "backgroundcolor": "#E5ECF6",
            "gridcolor": "white",
            "gridwidth": 2,
            "linecolor": "white",
            "showbackground": true,
            "ticks": "",
            "zerolinecolor": "white"
           }
          },
          "shapedefaults": {
           "line": {
            "color": "#2a3f5f"
           }
          },
          "ternary": {
           "aaxis": {
            "gridcolor": "white",
            "linecolor": "white",
            "ticks": ""
           },
           "baxis": {
            "gridcolor": "white",
            "linecolor": "white",
            "ticks": ""
           },
           "bgcolor": "#E5ECF6",
           "caxis": {
            "gridcolor": "white",
            "linecolor": "white",
            "ticks": ""
           }
          },
          "title": {
           "x": 0.05
          },
          "xaxis": {
           "automargin": true,
           "gridcolor": "white",
           "linecolor": "white",
           "ticks": "",
           "title": {
            "standoff": 15
           },
           "zerolinecolor": "white",
           "zerolinewidth": 2
          },
          "yaxis": {
           "automargin": true,
           "gridcolor": "white",
           "linecolor": "white",
           "ticks": "",
           "title": {
            "standoff": 15
           },
           "zerolinecolor": "white",
           "zerolinewidth": 2
          }
         }
        },
        "title": {
         "text": "Set title here"
        },
        "width": 700,
        "xaxis": {
         "anchor": "y",
         "autorange": true,
         "domain": [
          0,
          1
         ],
         "range": [
          "2020-01-01",
          "2021-11-01"
         ],
         "title": {
          "text": "date"
         },
         "type": "date"
        },
        "yaxis": {
         "anchor": "x",
         "autorange": true,
         "domain": [
          0,
          1
         ],
         "range": [
          -6.623409586056645,
          125.84478213507624
         ],
         "title": {
          "text": "total_vaccinations_per_hundred"
         },
         "type": "linear"
        }
       }
      },
      "image/png": "[encoded data removed]",
      "text/html": [
       "<div>                            <div id=\"075f6d0f-aea7-4aa3-8e0b-ef578a0d038d\" class=\"plotly-graph-div\" style=\"height:550px; width:700px;\"></div>            <script type=\"text/javascript\">                require([\"plotly\"], function(Plotly) {                    window.PLOTLYENV=window.PLOTLYENV || {};                                    if (document.getElementById(\"075f6d0f-aea7-4aa3-8e0b-ef578a0d038d\")) {                    Plotly.newPlot(                        \"075f6d0f-aea7-4aa3-8e0b-ef578a0d038d\",                        [{\"hovertemplate\":\"area=Africa<br>date=%{x}<br>total_vaccinations_per_hundred=%{y}<extra></extra>\",\"legendgroup\":\"Africa\",\"line\":{\"color\":\"#636efa\",\"dash\":\"solid\"},\"marker\":{\"symbol\":\"circle\"},\"mode\":\"lines\",\"name\":\"Africa\",\"orientation\":\"v\",\"showlegend\":true,\"type\":\"scatter\",\"x\":[\"2020-01\",\"2020-02\",\"2020-03\",\"2020-04\",\"2020-05\",\"2020-06\",\"2020-07\",\"2020-08\",\"2020-09\",\"2020-10\",\"2020-11\",\"2020-12\",\"2021-01\",\"2021-02\",\"2021-03\",\"2021-04\",\"2021-05\",\"2021-06\",\"2021-07\",\"2021-08\",\"2021-09\",\"2021-10\",\"2021-11\"],\"xaxis\":\"x\",\"y\":[0.0,0.0,0.0,0.0,0.0,0.0,0.0,0.0,0.0,0.0,0.0,0.0,0.5734545454545454,1.6832727272727273,4.042545454545454,5.448181818181817,8.158545454545454,10.116727272727275,12.511454545454546,16.893272727272727,21.53181818181818,25.82381818181818,25.84672727272727],\"yaxis\":\"y\"},{\"hovertemplate\":\"area=Asia<br>date=%{x}<br>total_vaccinations_per_hundred=%{y}<extra></extra>\",\"legendgroup\":\"Asia\",\"line\":{\"color\":\"#EF553B\",\"dash\":\"solid\"},\"marker\":{\"symbol\":\"circle\"},\"mode\":\"lines\",\"name\":\"Asia\",\"orientation\":\"v\",\"showlegend\":true,\"type\":\"scatter\",\"x\":[\"2020-01\",\"2020-02\",\"2020-03\",\"2020-04\",\"2020-05\",\"2020-06\",\"2020-07\",\"2020-08\",\"2020-09\",\"2020-10\",\"2020-11\",\"2020-12\",\"2021-01\",\"2021-02\",\"2021-03\",\"2021-04\",\"2021-05\",\"2021-06\",\"2021-07\",\"2021-08\",\"2021-09\",\"2021-10\",\"2021-11\"],\"xaxis\":\"x\",\"y\":[0.0,0.0,0.0,0.0,0.0,0.0,0.0,0.0,0.0,0.0,0.0,0.3024,2.2102,4.5768,10.832799999999999,16.945999999999998,25.4208,35.348800000000004,49.3508,69.5134,83.9506,95.7774,96.24],\"yaxis\":\"y\"},{\"hovertemplate\":\"area=Europe<br>date=%{x}<br>total_vaccinations_per_hundred=%{y}<extra></extra>\",\"legendgroup\":\"Europe\",\"line\":{\"color\":\"#00cc96\",\"dash\":\"solid\"},\"marker\":{\"symbol\":\"circle\"},\"mode\":\"lines\",\"name\":\"Europe\",\"orientation\":\"v\",\"showlegend\":true,\"type\":\"scatter\",\"x\":[\"2020-01\",\"2020-02\",\"2020-03\",\"2020-04\",\"2020-05\",\"2020-06\",\"2020-07\",\"2020-08\",\"2020-09\",\"2020-10\",\"2020-11\",\"2020-12\",\"2021-01\",\"2021-02\",\"2021-03\",\"2021-04\",\"2021-05\",\"2021-06\",\"2021-07\",\"2021-08\",\"2021-09\",\"2021-10\",\"2021-11\"],\"xaxis\":\"x\",\"y\":[0.0,0.0,0.0,0.0,0.0,0.0,0.0,0.0,0.0,0.0,0.0,0.09686274509803923,3.6721568627450982,9.628235294117648,21.780196078431374,36.920980392156864,56.80862745098039,77.01098039215687,93.54196078431373,104.70450980392157,112.43235294117648,118.96764705882353,119.2213725490196],\"yaxis\":\"y\"},{\"hovertemplate\":\"area=North America<br>date=%{x}<br>total_vaccinations_per_hundred=%{y}<extra></extra>\",\"legendgroup\":\"North America\",\"line\":{\"color\":\"#ab63fa\",\"dash\":\"solid\"},\"marker\":{\"symbol\":\"circle\"},\"mode\":\"lines\",\"name\":\"North America\",\"orientation\":\"v\",\"showlegend\":true,\"type\":\"scatter\",\"x\":[\"2020-01\",\"2020-02\",\"2020-03\",\"2020-04\",\"2020-05\",\"2020-06\",\"2020-07\",\"2020-08\",\"2020-09\",\"2020-10\",\"2020-11\",\"2020-12\",\"2021-01\",\"2021-02\",\"2021-03\",\"2021-04\",\"2021-05\",\"2021-06\",\"2021-07\",\"2021-08\",\"2021-09\",\"2021-10\",\"2021-11\"],\"xaxis\":\"x\",\"y\":[0.0,0.0,0.0,0.0,0.0,0.0,0.0,0.0,0.0,0.0,0.0,0.057058823529411766,0.8170588235294118,5.031176470588235,15.773529411764704,26.28970588235294,44.06088235294118,56.243529411764705,68.30617647058823,78.69735294117648,91.81294117647059,101.40264705882353,101.71588235294118],\"yaxis\":\"y\"},{\"hovertemplate\":\"area=Oceania<br>date=%{x}<br>total_vaccinations_per_hundred=%{y}<extra></extra>\",\"legendgroup\":\"Oceania\",\"line\":{\"color\":\"#FFA15A\",\"dash\":\"solid\"},\"marker\":{\"symbol\":\"circle\"},\"mode\":\"lines\",\"name\":\"Oceania\",\"orientation\":\"v\",\"showlegend\":true,\"type\":\"scatter\",\"x\":[\"2020-01\",\"2020-02\",\"2020-03\",\"2020-04\",\"2020-05\",\"2020-06\",\"2020-07\",\"2020-08\",\"2020-09\",\"2020-10\",\"2020-11\",\"2020-12\",\"2021-01\",\"2021-02\",\"2021-03\",\"2021-04\",\"2021-05\",\"2021-06\",\"2021-07\",\"2021-08\",\"2021-09\",\"2021-10\",\"2021-11\"],\"xaxis\":\"x\",\"y\":[0.0,0.0,0.0,0.0,0.0,0.0,0.0,0.0,0.0,0.0,0.0,0.0,0.0,0.22238095238095237,2.5638095238095238,6.844285714285715,14.80952380952381,32.99095238095238,45.29904761904762,65.61095238095238,75.92190476190476,89.31666666666668,90.49285714285713],\"yaxis\":\"y\"},{\"hovertemplate\":\"area=South America<br>date=%{x}<br>total_vaccinations_per_hundred=%{y}<extra></extra>\",\"legendgroup\":\"South America\",\"line\":{\"color\":\"#19d3f3\",\"dash\":\"solid\"},\"marker\":{\"symbol\":\"circle\"},\"mode\":\"lines\",\"name\":\"South America\",\"orientation\":\"v\",\"showlegend\":true,\"type\":\"scatter\",\"x\":[\"2020-01\",\"2020-02\",\"2020-03\",\"2020-04\",\"2020-05\",\"2020-06\",\"2020-07\",\"2020-08\",\"2020-09\",\"2020-10\",\"2020-11\",\"2020-12\",\"2021-01\",\"2021-02\",\"2021-03\",\"2021-04\",\"2021-05\",\"2021-06\",\"2021-07\",\"2021-08\",\"2021-09\",\"2021-10\",\"2021-11\"],\"xaxis\":\"x\",\"y\":[0.0,0.0,0.0,0.0,0.0,0.0,0.0,0.0,0.0,0.0,0.0,0.009230769230769232,0.16615384615384615,5.756923076923077,13.521538461538462,26.835384615384616,36.76384615384615,50.100769230769224,67.46000000000001,85.43230769230769,98.91076923076922,110.05153846153847,110.15615384615384],\"yaxis\":\"y\"}],                        {\"height\":550,\"legend\":{\"title\":{\"text\":\"area\"},\"tracegroupgap\":0},\"template\":{\"data\":{\"bar\":[{\"error_x\":{\"color\":\"#2a3f5f\"},\"error_y\":{\"color\":\"#2a3f5f\"},\"marker\":{\"line\":{\"color\":\"#E5ECF6\",\"width\":0.5},\"pattern\":{\"fillmode\":\"overlay\",\"size\":10,\"solidity\":0.2}},\"type\":\"bar\"}],\"barpolar\":[{\"marker\":{\"line\":{\"color\":\"#E5ECF6\",\"width\":0.5},\"pattern\":{\"fillmode\":\"overlay\",\"size\":10,\"solidity\":0.2}},\"type\":\"barpolar\"}],\"carpet\":[{\"aaxis\":{\"endlinecolor\":\"#2a3f5f\",\"gridcolor\":\"white\",\"linecolor\":\"white\",\"minorgridcolor\":\"white\",\"startlinecolor\":\"#2a3f5f\"},\"baxis\":{\"endlinecolor\":\"#2a3f5f\",\"gridcolor\":\"white\",\"linecolor\":\"white\",\"minorgridcolor\":\"white\",\"startlinecolor\":\"#2a3f5f\"},\"type\":\"carpet\"}],\"choropleth\":[{\"colorbar\":{\"outlinewidth\":0,\"ticks\":\"\"},\"type\":\"choropleth\"}],\"contour\":[{\"colorbar\":{\"outlinewidth\":0,\"ticks\":\"\"},\"colorscale\":[[0.0,\"#0d0887\"],[0.1111111111111111,\"#46039f\"],[0.2222222222222222,\"#7201a8\"],[0.3333333333333333,\"#9c179e\"],[0.4444444444444444,\"#bd3786\"],[0.5555555555555556,\"#d8576b\"],[0.6666666666666666,\"#ed7953\"],[0.7777777777777778,\"#fb9f3a\"],[0.8888888888888888,\"#fdca26\"],[1.0,\"#f0f921\"]],\"type\":\"contour\"}],\"contourcarpet\":[{\"colorbar\":{\"outlinewidth\":0,\"ticks\":\"\"},\"type\":\"contourcarpet\"}],\"heatmap\":[{\"colorbar\":{\"outlinewidth\":0,\"ticks\":\"\"},\"colorscale\":[[0.0,\"#0d0887\"],[0.1111111111111111,\"#46039f\"],[0.2222222222222222,\"#7201a8\"],[0.3333333333333333,\"#9c179e\"],[0.4444444444444444,\"#bd3786\"],[0.5555555555555556,\"#d8576b\"],[0.6666666666666666,\"#ed7953\"],[0.7777777777777778,\"#fb9f3a\"],[0.8888888888888888,\"#fdca26\"],[1.0,\"#f0f921\"]],\"type\":\"heatmap\"}],\"heatmapgl\":[{\"colorbar\":{\"outlinewidth\":0,\"ticks\":\"\"},\"colorscale\":[[0.0,\"#0d0887\"],[0.1111111111111111,\"#46039f\"],[0.2222222222222222,\"#7201a8\"],[0.3333333333333333,\"#9c179e\"],[0.4444444444444444,\"#bd3786\"],[0.5555555555555556,\"#d8576b\"],[0.6666666666666666,\"#ed7953\"],[0.7777777777777778,\"#fb9f3a\"],[0.8888888888888888,\"#fdca26\"],[1.0,\"#f0f921\"]],\"type\":\"heatmapgl\"}],\"histogram\":[{\"marker\":{\"pattern\":{\"fillmode\":\"overlay\",\"size\":10,\"solidity\":0.2}},\"type\":\"histogram\"}],\"histogram2d\":[{\"colorbar\":{\"outlinewidth\":0,\"ticks\":\"\"},\"colorscale\":[[0.0,\"#0d0887\"],[0.1111111111111111,\"#46039f\"],[0.2222222222222222,\"#7201a8\"],[0.3333333333333333,\"#9c179e\"],[0.4444444444444444,\"#bd3786\"],[0.5555555555555556,\"#d8576b\"],[0.6666666666666666,\"#ed7953\"],[0.7777777777777778,\"#fb9f3a\"],[0.8888888888888888,\"#fdca26\"],[1.0,\"#f0f921\"]],\"type\":\"histogram2d\"}],\"histogram2dcontour\":[{\"colorbar\":{\"outlinewidth\":0,\"ticks\":\"\"},\"colorscale\":[[0.0,\"#0d0887\"],[0.1111111111111111,\"#46039f\"],[0.2222222222222222,\"#7201a8\"],[0.3333333333333333,\"#9c179e\"],[0.4444444444444444,\"#bd3786\"],[0.5555555555555556,\"#d8576b\"],[0.6666666666666666,\"#ed7953\"],[0.7777777777777778,\"#fb9f3a\"],[0.8888888888888888,\"#fdca26\"],[1.0,\"#f0f921\"]],\"type\":\"histogram2dcontour\"}],\"mesh3d\":[{\"colorbar\":{\"outlinewidth\":0,\"ticks\":\"\"},\"type\":\"mesh3d\"}],\"parcoords\":[{\"line\":{\"colorbar\":{\"outlinewidth\":0,\"ticks\":\"\"}},\"type\":\"parcoords\"}],\"pie\":[{\"automargin\":true,\"type\":\"pie\"}],\"scatter\":[{\"marker\":{\"colorbar\":{\"outlinewidth\":0,\"ticks\":\"\"}},\"type\":\"scatter\"}],\"scatter3d\":[{\"line\":{\"colorbar\":{\"outlinewidth\":0,\"ticks\":\"\"}},\"marker\":{\"colorbar\":{\"outlinewidth\":0,\"ticks\":\"\"}},\"type\":\"scatter3d\"}],\"scattercarpet\":[{\"marker\":{\"colorbar\":{\"outlinewidth\":0,\"ticks\":\"\"}},\"type\":\"scattercarpet\"}],\"scattergeo\":[{\"marker\":{\"colorbar\":{\"outlinewidth\":0,\"ticks\":\"\"}},\"type\":\"scattergeo\"}],\"scattergl\":[{\"marker\":{\"colorbar\":{\"outlinewidth\":0,\"ticks\":\"\"}},\"type\":\"scattergl\"}],\"scattermapbox\":[{\"marker\":{\"colorbar\":{\"outlinewidth\":0,\"ticks\":\"\"}},\"type\":\"scattermapbox\"}],\"scatterpolar\":[{\"marker\":{\"colorbar\":{\"outlinewidth\":0,\"ticks\":\"\"}},\"type\":\"scatterpolar\"}],\"scatterpolargl\":[{\"marker\":{\"colorbar\":{\"outlinewidth\":0,\"ticks\":\"\"}},\"type\":\"scatterpolargl\"}],\"scatterternary\":[{\"marker\":{\"colorbar\":{\"outlinewidth\":0,\"ticks\":\"\"}},\"type\":\"scatterternary\"}],\"surface\":[{\"colorbar\":{\"outlinewidth\":0,\"ticks\":\"\"},\"colorscale\":[[0.0,\"#0d0887\"],[0.1111111111111111,\"#46039f\"],[0.2222222222222222,\"#7201a8\"],[0.3333333333333333,\"#9c179e\"],[0.4444444444444444,\"#bd3786\"],[0.5555555555555556,\"#d8576b\"],[0.6666666666666666,\"#ed7953\"],[0.7777777777777778,\"#fb9f3a\"],[0.8888888888888888,\"#fdca26\"],[1.0,\"#f0f921\"]],\"type\":\"surface\"}],\"table\":[{\"cells\":{\"fill\":{\"color\":\"#EBF0F8\"},\"line\":{\"color\":\"white\"}},\"header\":{\"fill\":{\"color\":\"#C8D4E3\"},\"line\":{\"color\":\"white\"}},\"type\":\"table\"}]},\"layout\":{\"annotationdefaults\":{\"arrowcolor\":\"#2a3f5f\",\"arrowhead\":0,\"arrowwidth\":1},\"autotypenumbers\":\"strict\",\"coloraxis\":{\"colorbar\":{\"outlinewidth\":0,\"ticks\":\"\"}},\"colorscale\":{\"diverging\":[[0,\"#8e0152\"],[0.1,\"#c51b7d\"],[0.2,\"#de77ae\"],[0.3,\"#f1b6da\"],[0.4,\"#fde0ef\"],[0.5,\"#f7f7f7\"],[0.6,\"#e6f5d0\"],[0.7,\"#b8e186\"],[0.8,\"#7fbc41\"],[0.9,\"#4d9221\"],[1,\"#276419\"]],\"sequential\":[[0.0,\"#0d0887\"],[0.1111111111111111,\"#46039f\"],[0.2222222222222222,\"#7201a8\"],[0.3333333333333333,\"#9c179e\"],[0.4444444444444444,\"#bd3786\"],[0.5555555555555556,\"#d8576b\"],[0.6666666666666666,\"#ed7953\"],[0.7777777777777778,\"#fb9f3a\"],[0.8888888888888888,\"#fdca26\"],[1.0,\"#f0f921\"]],\"sequentialminus\":[[0.0,\"#0d0887\"],[0.1111111111111111,\"#46039f\"],[0.2222222222222222,\"#7201a8\"],[0.3333333333333333,\"#9c179e\"],[0.4444444444444444,\"#bd3786\"],[0.5555555555555556,\"#d8576b\"],[0.6666666666666666,\"#ed7953\"],[0.7777777777777778,\"#fb9f3a\"],[0.8888888888888888,\"#fdca26\"],[1.0,\"#f0f921\"]]},\"colorway\":[\"#636efa\",\"#EF553B\",\"#00cc96\",\"#ab63fa\",\"#FFA15A\",\"#19d3f3\",\"#FF6692\",\"#B6E880\",\"#FF97FF\",\"#FECB52\"],\"font\":{\"color\":\"#2a3f5f\"},\"geo\":{\"bgcolor\":\"white\",\"lakecolor\":\"white\",\"landcolor\":\"#E5ECF6\",\"showlakes\":true,\"showland\":true,\"subunitcolor\":\"white\"},\"hoverlabel\":{\"align\":\"left\"},\"hovermode\":\"closest\",\"mapbox\":{\"style\":\"light\"},\"paper_bgcolor\":\"white\",\"plot_bgcolor\":\"#E5ECF6\",\"polar\":{\"angularaxis\":{\"gridcolor\":\"white\",\"linecolor\":\"white\",\"ticks\":\"\"},\"bgcolor\":\"#E5ECF6\",\"radialaxis\":{\"gridcolor\":\"white\",\"linecolor\":\"white\",\"ticks\":\"\"}},\"scene\":{\"xaxis\":{\"backgroundcolor\":\"#E5ECF6\",\"gridcolor\":\"white\",\"gridwidth\":2,\"linecolor\":\"white\",\"showbackground\":true,\"ticks\":\"\",\"zerolinecolor\":\"white\"},\"yaxis\":{\"backgroundcolor\":\"#E5ECF6\",\"gridcolor\":\"white\",\"gridwidth\":2,\"linecolor\":\"white\",\"showbackground\":true,\"ticks\":\"\",\"zerolinecolor\":\"white\"},\"zaxis\":{\"backgroundcolor\":\"#E5ECF6\",\"gridcolor\":\"white\",\"gridwidth\":2,\"linecolor\":\"white\",\"showbackground\":true,\"ticks\":\"\",\"zerolinecolor\":\"white\"}},\"shapedefaults\":{\"line\":{\"color\":\"#2a3f5f\"}},\"ternary\":{\"aaxis\":{\"gridcolor\":\"white\",\"linecolor\":\"white\",\"ticks\":\"\"},\"baxis\":{\"gridcolor\":\"white\",\"linecolor\":\"white\",\"ticks\":\"\"},\"bgcolor\":\"#E5ECF6\",\"caxis\":{\"gridcolor\":\"white\",\"linecolor\":\"white\",\"ticks\":\"\"}},\"title\":{\"x\":0.05},\"xaxis\":{\"automargin\":true,\"gridcolor\":\"white\",\"linecolor\":\"white\",\"ticks\":\"\",\"title\":{\"standoff\":15},\"zerolinecolor\":\"white\",\"zerolinewidth\":2},\"yaxis\":{\"automargin\":true,\"gridcolor\":\"white\",\"linecolor\":\"white\",\"ticks\":\"\",\"title\":{\"standoff\":15},\"zerolinecolor\":\"white\",\"zerolinewidth\":2}}},\"title\":{\"text\":\"Set title here\"},\"width\":700,\"xaxis\":{\"anchor\":\"y\",\"domain\":[0.0,1.0],\"title\":{\"text\":\"date\"}},\"yaxis\":{\"anchor\":\"x\",\"domain\":[0.0,1.0],\"title\":{\"text\":\"total_vaccinations_per_hundred\"}}},                        {\"responsive\": true}                    ).then(function(){\n",
       "                            \n",
       "var gd = document.getElementById('075f6d0f-aea7-4aa3-8e0b-ef578a0d038d');\n",
       "var x = new MutationObserver(function (mutations, observer) {{\n",
       "        var display = window.getComputedStyle(gd).display;\n",
       "        if (!display || display === 'none') {{\n",
       "            console.log([gd, 'removed!']);\n",
       "            Plotly.purge(gd);\n",
       "            observer.disconnect();\n",
       "        }}\n",
       "}});\n",
       "\n",
       "// Listen for the removal of the full notebook cells\n",
       "var notebookContainer = gd.closest('#notebook-container');\n",
       "if (notebookContainer) {{\n",
       "    x.observe(notebookContainer, {childList: true});\n",
       "}}\n",
       "\n",
       "// Listen for the clearing of the current output cell\n",
       "var outputEl = gd.closest('.output');\n",
       "if (outputEl) {{\n",
       "    x.observe(outputEl, {childList: true});\n",
       "}}\n",
       "\n",
       "                        })                };                });            </script>        </div>"
      ]
     },
     "metadata": {},
     "output_type": "display_data"
    }
   ],
   "source": [
    "owid_covid_data['date'] = pd.to_datetime(owid_covid_data['date'])\n",
    "\n",
    "area = owid_covid_data['continent'].unique()\n",
    "\n",
    "container = []\n",
    "for er in area:\n",
    "     df_erea = owid_covid_data[owid_covid_data['continent'] == er]\n",
    "     df_erea = df_erea[['date','total_vaccinations_per_hundred']].groupby('date').mean()\n",
    "     df_erea['area'] = er\n",
    "     df_erea.reset_index(inplace=True)\n",
    "     container.append(df_erea)\n",
    "\n",
    "area_time_sr = pd.concat(container,axis=0)\n",
    "\n",
    "area_time_sr['date'] =  area_time_sr['date'].dt.to_period('M')\n",
    "\n",
    "#max it  mean least \n",
    "area_time_sr = area_time_sr.groupby(['date','area']).max() \n",
    "\n",
    "area_time_sr.reset_index(inplace=True)\n",
    "\n",
    "area_time_sr['date'] = area_time_sr['date'].astype(str)\n",
    "\n",
    "\n",
    "fig = px.line(area_time_sr, x=\"date\", y=\"total_vaccinations_per_hundred\", color='area',height=550,width=700\n",
    ",title='Set title here')\n",
    "fig.show()\n"
   ]
  },
  {
   "cell_type": "markdown",
   "metadata": {},
   "source": [
    "# AREA PROPERTIES ABILITY COMPARE\n"
   ]
  },
  {
   "cell_type": "code",
   "execution_count": 19,
   "metadata": {},
   "outputs": [
    {
     "data": {
      "application/vnd.plotly.v1+json": {
       "config": {
        "plotlyServerURL": "https://plot.ly"
       },
       "data": [
        {
         "fill": "toself",
         "fillcolor": "rgba(253, 1, 0, 0.2)",
         "line": {
          "color": "#FD0100"
         },
         "name": "Africa",
         "r": [
          67.95228631578946,
          50.10168238121649,
          25.155272727272724,
          63.72860414119162,
          16.31815415948335,
          66.50072319956945
         ],
         "theta": [
          "stringency_index",
          "median_age",
          "handwashing_facilities",
          "human_development_index",
          "gdp_per_capita",
          "extreme_poverty_r"
         ],
         "type": "scatterpolar"
        },
        {
         "fill": "toself",
         "fillcolor": "rgba(247, 105, 21, 0.2)",
         "line": {
          "color": "#F76915"
         },
         "name": "Asia",
         "r": [
          93.87343337066069,
          72.67770431205523,
          72.28165384615384,
          84.0297429018041,
          73.56500325021332,
          95.09113275637544
         ],
         "theta": [
          "stringency_index",
          "median_age",
          "handwashing_facilities",
          "human_development_index",
          "gdp_per_capita",
          "extreme_poverty_r"
         ],
         "type": "scatterpolar"
        },
        {
         "fill": "toself",
         "fillcolor": "rgba(238, 222, 4, 0.2)",
         "line": {
          "color": "#EEDE04"
         },
         "name": "Europe",
         "r": [
          70.01982775119617,
          100,
          93.954,
          100,
          100,
          99.99999999999999
         ],
         "theta": [
          "stringency_index",
          "median_age",
          "handwashing_facilities",
          "human_development_index",
          "gdp_per_capita",
          "extreme_poverty_r"
         ],
         "type": "scatterpolar"
        },
        {
         "fill": "toself",
         "fillcolor": "rgba(160, 214, 54, 0.2)",
         "line": {
          "color": "#A0D636"
         },
         "name": "North America",
         "r": [
          100,
          77.2832029433346,
          77.5413076923077,
          85.91577300241775,
          63.36892662753782,
          95.14126090532963
         ],
         "theta": [
          "stringency_index",
          "median_age",
          "handwashing_facilities",
          "human_development_index",
          "gdp_per_capita",
          "extreme_poverty_r"
         ],
         "type": "scatterpolar"
        },
        {
         "fill": "toself",
         "fillcolor": "rgba(47, 162, 54, 0.2)",
         "line": {
          "color": "#2FA236"
         },
         "name": "Oceania",
         "r": [
          87.19421052631579,
          64.87203866571586,
          47.867,
          81.15681233933162,
          31.82680685879801,
          90.90450401964411
         ],
         "theta": [
          "stringency_index",
          "median_age",
          "handwashing_facilities",
          "human_development_index",
          "gdp_per_capita",
          "extreme_poverty_r"
         ],
         "type": "scatterpolar"
        },
        {
         "fill": "toself",
         "fillcolor": "rgba(51, 62, 212, 0.2)",
         "line": {
          "color": "#333ED4"
         },
         "name": "South America",
         "r": [
          90.12905263157894,
          71.82473655019412,
          65.99066666666667,
          86.73521850899743,
          41.48839539431542,
          98.01876955161626
         ],
         "theta": [
          "stringency_index",
          "median_age",
          "handwashing_facilities",
          "human_development_index",
          "gdp_per_capita",
          "extreme_poverty_r"
         ],
         "type": "scatterpolar"
        }
       ],
       "layout": {
        "autosize": true,
        "polar": {
         "angularaxis": {
          "type": "category"
         },
         "radialaxis": {
          "autorange": false,
          "range": [
           0,
           100
          ],
          "type": "linear",
          "visible": true
         }
        },
        "showlegend": true,
        "template": {
         "data": {
          "bar": [
           {
            "error_x": {
             "color": "#2a3f5f"
            },
            "error_y": {
             "color": "#2a3f5f"
            },
            "marker": {
             "line": {
              "color": "#E5ECF6",
              "width": 0.5
             },
             "pattern": {
              "fillmode": "overlay",
              "size": 10,
              "solidity": 0.2
             }
            },
            "type": "bar"
           }
          ],
          "barpolar": [
           {
            "marker": {
             "line": {
              "color": "#E5ECF6",
              "width": 0.5
             },
             "pattern": {
              "fillmode": "overlay",
              "size": 10,
              "solidity": 0.2
             }
            },
            "type": "barpolar"
           }
          ],
          "carpet": [
           {
            "aaxis": {
             "endlinecolor": "#2a3f5f",
             "gridcolor": "white",
             "linecolor": "white",
             "minorgridcolor": "white",
             "startlinecolor": "#2a3f5f"
            },
            "baxis": {
             "endlinecolor": "#2a3f5f",
             "gridcolor": "white",
             "linecolor": "white",
             "minorgridcolor": "white",
             "startlinecolor": "#2a3f5f"
            },
            "type": "carpet"
           }
          ],
          "choropleth": [
           {
            "colorbar": {
             "outlinewidth": 0,
             "ticks": ""
            },
            "type": "choropleth"
           }
          ],
          "contour": [
           {
            "colorbar": {
             "outlinewidth": 0,
             "ticks": ""
            },
            "colorscale": [
             [
              0,
              "#0d0887"
             ],
             [
              0.1111111111111111,
              "#46039f"
             ],
             [
              0.2222222222222222,
              "#7201a8"
             ],
             [
              0.3333333333333333,
              "#9c179e"
             ],
             [
              0.4444444444444444,
              "#bd3786"
             ],
             [
              0.5555555555555556,
              "#d8576b"
             ],
             [
              0.6666666666666666,
              "#ed7953"
             ],
             [
              0.7777777777777778,
              "#fb9f3a"
             ],
             [
              0.8888888888888888,
              "#fdca26"
             ],
             [
              1,
              "#f0f921"
             ]
            ],
            "type": "contour"
           }
          ],
          "contourcarpet": [
           {
            "colorbar": {
             "outlinewidth": 0,
             "ticks": ""
            },
            "type": "contourcarpet"
           }
          ],
          "heatmap": [
           {
            "colorbar": {
             "outlinewidth": 0,
             "ticks": ""
            },
            "colorscale": [
             [
              0,
              "#0d0887"
             ],
             [
              0.1111111111111111,
              "#46039f"
             ],
             [
              0.2222222222222222,
              "#7201a8"
             ],
             [
              0.3333333333333333,
              "#9c179e"
             ],
             [
              0.4444444444444444,
              "#bd3786"
             ],
             [
              0.5555555555555556,
              "#d8576b"
             ],
             [
              0.6666666666666666,
              "#ed7953"
             ],
             [
              0.7777777777777778,
              "#fb9f3a"
             ],
             [
              0.8888888888888888,
              "#fdca26"
             ],
             [
              1,
              "#f0f921"
             ]
            ],
            "type": "heatmap"
           }
          ],
          "heatmapgl": [
           {
            "colorbar": {
             "outlinewidth": 0,
             "ticks": ""
            },
            "colorscale": [
             [
              0,
              "#0d0887"
             ],
             [
              0.1111111111111111,
              "#46039f"
             ],
             [
              0.2222222222222222,
              "#7201a8"
             ],
             [
              0.3333333333333333,
              "#9c179e"
             ],
             [
              0.4444444444444444,
              "#bd3786"
             ],
             [
              0.5555555555555556,
              "#d8576b"
             ],
             [
              0.6666666666666666,
              "#ed7953"
             ],
             [
              0.7777777777777778,
              "#fb9f3a"
             ],
             [
              0.8888888888888888,
              "#fdca26"
             ],
             [
              1,
              "#f0f921"
             ]
            ],
            "type": "heatmapgl"
           }
          ],
          "histogram": [
           {
            "marker": {
             "pattern": {
              "fillmode": "overlay",
              "size": 10,
              "solidity": 0.2
             }
            },
            "type": "histogram"
           }
          ],
          "histogram2d": [
           {
            "colorbar": {
             "outlinewidth": 0,
             "ticks": ""
            },
            "colorscale": [
             [
              0,
              "#0d0887"
             ],
             [
              0.1111111111111111,
              "#46039f"
             ],
             [
              0.2222222222222222,
              "#7201a8"
             ],
             [
              0.3333333333333333,
              "#9c179e"
             ],
             [
              0.4444444444444444,
              "#bd3786"
             ],
             [
              0.5555555555555556,
              "#d8576b"
             ],
             [
              0.6666666666666666,
              "#ed7953"
             ],
             [
              0.7777777777777778,
              "#fb9f3a"
             ],
             [
              0.8888888888888888,
              "#fdca26"
             ],
             [
              1,
              "#f0f921"
             ]
            ],
            "type": "histogram2d"
           }
          ],
          "histogram2dcontour": [
           {
            "colorbar": {
             "outlinewidth": 0,
             "ticks": ""
            },
            "colorscale": [
             [
              0,
              "#0d0887"
             ],
             [
              0.1111111111111111,
              "#46039f"
             ],
             [
              0.2222222222222222,
              "#7201a8"
             ],
             [
              0.3333333333333333,
              "#9c179e"
             ],
             [
              0.4444444444444444,
              "#bd3786"
             ],
             [
              0.5555555555555556,
              "#d8576b"
             ],
             [
              0.6666666666666666,
              "#ed7953"
             ],
             [
              0.7777777777777778,
              "#fb9f3a"
             ],
             [
              0.8888888888888888,
              "#fdca26"
             ],
             [
              1,
              "#f0f921"
             ]
            ],
            "type": "histogram2dcontour"
           }
          ],
          "mesh3d": [
           {
            "colorbar": {
             "outlinewidth": 0,
             "ticks": ""
            },
            "type": "mesh3d"
           }
          ],
          "parcoords": [
           {
            "line": {
             "colorbar": {
              "outlinewidth": 0,
              "ticks": ""
             }
            },
            "type": "parcoords"
           }
          ],
          "pie": [
           {
            "automargin": true,
            "type": "pie"
           }
          ],
          "scatter": [
           {
            "marker": {
             "colorbar": {
              "outlinewidth": 0,
              "ticks": ""
             }
            },
            "type": "scatter"
           }
          ],
          "scatter3d": [
           {
            "line": {
             "colorbar": {
              "outlinewidth": 0,
              "ticks": ""
             }
            },
            "marker": {
             "colorbar": {
              "outlinewidth": 0,
              "ticks": ""
             }
            },
            "type": "scatter3d"
           }
          ],
          "scattercarpet": [
           {
            "marker": {
             "colorbar": {
              "outlinewidth": 0,
              "ticks": ""
             }
            },
            "type": "scattercarpet"
           }
          ],
          "scattergeo": [
           {
            "marker": {
             "colorbar": {
              "outlinewidth": 0,
              "ticks": ""
             }
            },
            "type": "scattergeo"
           }
          ],
          "scattergl": [
           {
            "marker": {
             "colorbar": {
              "outlinewidth": 0,
              "ticks": ""
             }
            },
            "type": "scattergl"
           }
          ],
          "scattermapbox": [
           {
            "marker": {
             "colorbar": {
              "outlinewidth": 0,
              "ticks": ""
             }
            },
            "type": "scattermapbox"
           }
          ],
          "scatterpolar": [
           {
            "marker": {
             "colorbar": {
              "outlinewidth": 0,
              "ticks": ""
             }
            },
            "type": "scatterpolar"
           }
          ],
          "scatterpolargl": [
           {
            "marker": {
             "colorbar": {
              "outlinewidth": 0,
              "ticks": ""
             }
            },
            "type": "scatterpolargl"
           }
          ],
          "scatterternary": [
           {
            "marker": {
             "colorbar": {
              "outlinewidth": 0,
              "ticks": ""
             }
            },
            "type": "scatterternary"
           }
          ],
          "surface": [
           {
            "colorbar": {
             "outlinewidth": 0,
             "ticks": ""
            },
            "colorscale": [
             [
              0,
              "#0d0887"
             ],
             [
              0.1111111111111111,
              "#46039f"
             ],
             [
              0.2222222222222222,
              "#7201a8"
             ],
             [
              0.3333333333333333,
              "#9c179e"
             ],
             [
              0.4444444444444444,
              "#bd3786"
             ],
             [
              0.5555555555555556,
              "#d8576b"
             ],
             [
              0.6666666666666666,
              "#ed7953"
             ],
             [
              0.7777777777777778,
              "#fb9f3a"
             ],
             [
              0.8888888888888888,
              "#fdca26"
             ],
             [
              1,
              "#f0f921"
             ]
            ],
            "type": "surface"
           }
          ],
          "table": [
           {
            "cells": {
             "fill": {
              "color": "#EBF0F8"
             },
             "line": {
              "color": "white"
             }
            },
            "header": {
             "fill": {
              "color": "#C8D4E3"
             },
             "line": {
              "color": "white"
             }
            },
            "type": "table"
           }
          ]
         },
         "layout": {
          "annotationdefaults": {
           "arrowcolor": "#2a3f5f",
           "arrowhead": 0,
           "arrowwidth": 1
          },
          "autotypenumbers": "strict",
          "coloraxis": {
           "colorbar": {
            "outlinewidth": 0,
            "ticks": ""
           }
          },
          "colorscale": {
           "diverging": [
            [
             0,
             "#8e0152"
            ],
            [
             0.1,
             "#c51b7d"
            ],
            [
             0.2,
             "#de77ae"
            ],
            [
             0.3,
             "#f1b6da"
            ],
            [
             0.4,
             "#fde0ef"
            ],
            [
             0.5,
             "#f7f7f7"
            ],
            [
             0.6,
             "#e6f5d0"
            ],
            [
             0.7,
             "#b8e186"
            ],
            [
             0.8,
             "#7fbc41"
            ],
            [
             0.9,
             "#4d9221"
            ],
            [
             1,
             "#276419"
            ]
           ],
           "sequential": [
            [
             0,
             "#0d0887"
            ],
            [
             0.1111111111111111,
             "#46039f"
            ],
            [
             0.2222222222222222,
             "#7201a8"
            ],
            [
             0.3333333333333333,
             "#9c179e"
            ],
            [
             0.4444444444444444,
             "#bd3786"
            ],
            [
             0.5555555555555556,
             "#d8576b"
            ],
            [
             0.6666666666666666,
             "#ed7953"
            ],
            [
             0.7777777777777778,
             "#fb9f3a"
            ],
            [
             0.8888888888888888,
             "#fdca26"
            ],
            [
             1,
             "#f0f921"
            ]
           ],
           "sequentialminus": [
            [
             0,
             "#0d0887"
            ],
            [
             0.1111111111111111,
             "#46039f"
            ],
            [
             0.2222222222222222,
             "#7201a8"
            ],
            [
             0.3333333333333333,
             "#9c179e"
            ],
            [
             0.4444444444444444,
             "#bd3786"
            ],
            [
             0.5555555555555556,
             "#d8576b"
            ],
            [
             0.6666666666666666,
             "#ed7953"
            ],
            [
             0.7777777777777778,
             "#fb9f3a"
            ],
            [
             0.8888888888888888,
             "#fdca26"
            ],
            [
             1,
             "#f0f921"
            ]
           ]
          },
          "colorway": [
           "#636efa",
           "#EF553B",
           "#00cc96",
           "#ab63fa",
           "#FFA15A",
           "#19d3f3",
           "#FF6692",
           "#B6E880",
           "#FF97FF",
           "#FECB52"
          ],
          "font": {
           "color": "#2a3f5f"
          },
          "geo": {
           "bgcolor": "white",
           "lakecolor": "white",
           "landcolor": "#E5ECF6",
           "showlakes": true,
           "showland": true,
           "subunitcolor": "white"
          },
          "hoverlabel": {
           "align": "left"
          },
          "hovermode": "closest",
          "mapbox": {
           "style": "light"
          },
          "paper_bgcolor": "white",
          "plot_bgcolor": "#E5ECF6",
          "polar": {
           "angularaxis": {
            "gridcolor": "white",
            "linecolor": "white",
            "ticks": ""
           },
           "bgcolor": "#E5ECF6",
           "radialaxis": {
            "gridcolor": "white",
            "linecolor": "white",
            "ticks": ""
           }
          },
          "scene": {
           "xaxis": {
            "backgroundcolor": "#E5ECF6",
            "gridcolor": "white",
            "gridwidth": 2,
            "linecolor": "white",
            "showbackground": true,
            "ticks": "",
            "zerolinecolor": "white"
           },
           "yaxis": {
            "backgroundcolor": "#E5ECF6",
            "gridcolor": "white",
            "gridwidth": 2,
            "linecolor": "white",
            "showbackground": true,
            "ticks": "",
            "zerolinecolor": "white"
           },
           "zaxis": {
            "backgroundcolor": "#E5ECF6",
            "gridcolor": "white",
            "gridwidth": 2,
            "linecolor": "white",
            "showbackground": true,
            "ticks": "",
            "zerolinecolor": "white"
           }
          },
          "shapedefaults": {
           "line": {
            "color": "#2a3f5f"
           }
          },
          "ternary": {
           "aaxis": {
            "gridcolor": "white",
            "linecolor": "white",
            "ticks": ""
           },
           "baxis": {
            "gridcolor": "white",
            "linecolor": "white",
            "ticks": ""
           },
           "bgcolor": "#E5ECF6",
           "caxis": {
            "gridcolor": "white",
            "linecolor": "white",
            "ticks": ""
           }
          },
          "title": {
           "x": 0.05
          },
          "xaxis": {
           "automargin": true,
           "gridcolor": "white",
           "linecolor": "white",
           "ticks": "",
           "title": {
            "standoff": 15
           },
           "zerolinecolor": "white",
           "zerolinewidth": 2
          },
          "yaxis": {
           "automargin": true,
           "gridcolor": "white",
           "linecolor": "white",
           "ticks": "",
           "title": {
            "standoff": 15
           },
           "zerolinecolor": "white",
           "zerolinewidth": 2
          }
         }
        },
        "title": {
         "text": "Put title here for me"
        }
       }
      },
      "image/png": "[encoded data removed]",
      "text/html": [
       "<div>                            <div id=\"c68b3390-fbb1-48ae-bf15-ec4c6f27c657\" class=\"plotly-graph-div\" style=\"height:525px; width:600px;\"></div>            <script type=\"text/javascript\">                require([\"plotly\"], function(Plotly) {                    window.PLOTLYENV=window.PLOTLYENV || {};                                    if (document.getElementById(\"c68b3390-fbb1-48ae-bf15-ec4c6f27c657\")) {                    Plotly.newPlot(                        \"c68b3390-fbb1-48ae-bf15-ec4c6f27c657\",                        [{\"fill\":\"toself\",\"fillcolor\":\"rgba(253, 1, 0, 0.2)\",\"line\":{\"color\":\"#FD0100\"},\"name\":\"Africa\",\"r\":[67.95228631578946,50.10168238121649,25.155272727272724,63.72860414119162,16.31815415948335,66.50072319956945],\"theta\":[\"stringency_index\",\"median_age\",\"handwashing_facilities\",\"human_development_index\",\"gdp_per_capita\",\"extreme_poverty_r\"],\"type\":\"scatterpolar\"},{\"fill\":\"toself\",\"fillcolor\":\"rgba(247, 105, 21, 0.2)\",\"line\":{\"color\":\"#F76915\"},\"name\":\"Asia\",\"r\":[93.87343337066069,72.67770431205523,72.28165384615384,84.0297429018041,73.56500325021332,95.09113275637544],\"theta\":[\"stringency_index\",\"median_age\",\"handwashing_facilities\",\"human_development_index\",\"gdp_per_capita\",\"extreme_poverty_r\"],\"type\":\"scatterpolar\"},{\"fill\":\"toself\",\"fillcolor\":\"rgba(238, 222, 4, 0.2)\",\"line\":{\"color\":\"#EEDE04\"},\"name\":\"Europe\",\"r\":[70.01982775119617,100.0,93.954,100.0,100.0,99.99999999999999],\"theta\":[\"stringency_index\",\"median_age\",\"handwashing_facilities\",\"human_development_index\",\"gdp_per_capita\",\"extreme_poverty_r\"],\"type\":\"scatterpolar\"},{\"fill\":\"toself\",\"fillcolor\":\"rgba(160, 214, 54, 0.2)\",\"line\":{\"color\":\"#A0D636\"},\"name\":\"North America\",\"r\":[100.0,77.2832029433346,77.5413076923077,85.91577300241775,63.36892662753782,95.14126090532963],\"theta\":[\"stringency_index\",\"median_age\",\"handwashing_facilities\",\"human_development_index\",\"gdp_per_capita\",\"extreme_poverty_r\"],\"type\":\"scatterpolar\"},{\"fill\":\"toself\",\"fillcolor\":\"rgba(47, 162, 54, 0.2)\",\"line\":{\"color\":\"#2FA236\"},\"name\":\"Oceania\",\"r\":[87.19421052631579,64.87203866571586,47.867,81.15681233933162,31.82680685879801,90.90450401964411],\"theta\":[\"stringency_index\",\"median_age\",\"handwashing_facilities\",\"human_development_index\",\"gdp_per_capita\",\"extreme_poverty_r\"],\"type\":\"scatterpolar\"},{\"fill\":\"toself\",\"fillcolor\":\"rgba(51, 62, 212, 0.2)\",\"line\":{\"color\":\"#333ED4\"},\"name\":\"South America\",\"r\":[90.12905263157894,71.82473655019412,65.99066666666667,86.73521850899743,41.48839539431542,98.01876955161626],\"theta\":[\"stringency_index\",\"median_age\",\"handwashing_facilities\",\"human_development_index\",\"gdp_per_capita\",\"extreme_poverty_r\"],\"type\":\"scatterpolar\"}],                        {\"polar\":{\"radialaxis\":{\"range\":[0,100],\"visible\":true}},\"showlegend\":true,\"template\":{\"data\":{\"bar\":[{\"error_x\":{\"color\":\"#2a3f5f\"},\"error_y\":{\"color\":\"#2a3f5f\"},\"marker\":{\"line\":{\"color\":\"#E5ECF6\",\"width\":0.5},\"pattern\":{\"fillmode\":\"overlay\",\"size\":10,\"solidity\":0.2}},\"type\":\"bar\"}],\"barpolar\":[{\"marker\":{\"line\":{\"color\":\"#E5ECF6\",\"width\":0.5},\"pattern\":{\"fillmode\":\"overlay\",\"size\":10,\"solidity\":0.2}},\"type\":\"barpolar\"}],\"carpet\":[{\"aaxis\":{\"endlinecolor\":\"#2a3f5f\",\"gridcolor\":\"white\",\"linecolor\":\"white\",\"minorgridcolor\":\"white\",\"startlinecolor\":\"#2a3f5f\"},\"baxis\":{\"endlinecolor\":\"#2a3f5f\",\"gridcolor\":\"white\",\"linecolor\":\"white\",\"minorgridcolor\":\"white\",\"startlinecolor\":\"#2a3f5f\"},\"type\":\"carpet\"}],\"choropleth\":[{\"colorbar\":{\"outlinewidth\":0,\"ticks\":\"\"},\"type\":\"choropleth\"}],\"contour\":[{\"colorbar\":{\"outlinewidth\":0,\"ticks\":\"\"},\"colorscale\":[[0.0,\"#0d0887\"],[0.1111111111111111,\"#46039f\"],[0.2222222222222222,\"#7201a8\"],[0.3333333333333333,\"#9c179e\"],[0.4444444444444444,\"#bd3786\"],[0.5555555555555556,\"#d8576b\"],[0.6666666666666666,\"#ed7953\"],[0.7777777777777778,\"#fb9f3a\"],[0.8888888888888888,\"#fdca26\"],[1.0,\"#f0f921\"]],\"type\":\"contour\"}],\"contourcarpet\":[{\"colorbar\":{\"outlinewidth\":0,\"ticks\":\"\"},\"type\":\"contourcarpet\"}],\"heatmap\":[{\"colorbar\":{\"outlinewidth\":0,\"ticks\":\"\"},\"colorscale\":[[0.0,\"#0d0887\"],[0.1111111111111111,\"#46039f\"],[0.2222222222222222,\"#7201a8\"],[0.3333333333333333,\"#9c179e\"],[0.4444444444444444,\"#bd3786\"],[0.5555555555555556,\"#d8576b\"],[0.6666666666666666,\"#ed7953\"],[0.7777777777777778,\"#fb9f3a\"],[0.8888888888888888,\"#fdca26\"],[1.0,\"#f0f921\"]],\"type\":\"heatmap\"}],\"heatmapgl\":[{\"colorbar\":{\"outlinewidth\":0,\"ticks\":\"\"},\"colorscale\":[[0.0,\"#0d0887\"],[0.1111111111111111,\"#46039f\"],[0.2222222222222222,\"#7201a8\"],[0.3333333333333333,\"#9c179e\"],[0.4444444444444444,\"#bd3786\"],[0.5555555555555556,\"#d8576b\"],[0.6666666666666666,\"#ed7953\"],[0.7777777777777778,\"#fb9f3a\"],[0.8888888888888888,\"#fdca26\"],[1.0,\"#f0f921\"]],\"type\":\"heatmapgl\"}],\"histogram\":[{\"marker\":{\"pattern\":{\"fillmode\":\"overlay\",\"size\":10,\"solidity\":0.2}},\"type\":\"histogram\"}],\"histogram2d\":[{\"colorbar\":{\"outlinewidth\":0,\"ticks\":\"\"},\"colorscale\":[[0.0,\"#0d0887\"],[0.1111111111111111,\"#46039f\"],[0.2222222222222222,\"#7201a8\"],[0.3333333333333333,\"#9c179e\"],[0.4444444444444444,\"#bd3786\"],[0.5555555555555556,\"#d8576b\"],[0.6666666666666666,\"#ed7953\"],[0.7777777777777778,\"#fb9f3a\"],[0.8888888888888888,\"#fdca26\"],[1.0,\"#f0f921\"]],\"type\":\"histogram2d\"}],\"histogram2dcontour\":[{\"colorbar\":{\"outlinewidth\":0,\"ticks\":\"\"},\"colorscale\":[[0.0,\"#0d0887\"],[0.1111111111111111,\"#46039f\"],[0.2222222222222222,\"#7201a8\"],[0.3333333333333333,\"#9c179e\"],[0.4444444444444444,\"#bd3786\"],[0.5555555555555556,\"#d8576b\"],[0.6666666666666666,\"#ed7953\"],[0.7777777777777778,\"#fb9f3a\"],[0.8888888888888888,\"#fdca26\"],[1.0,\"#f0f921\"]],\"type\":\"histogram2dcontour\"}],\"mesh3d\":[{\"colorbar\":{\"outlinewidth\":0,\"ticks\":\"\"},\"type\":\"mesh3d\"}],\"parcoords\":[{\"line\":{\"colorbar\":{\"outlinewidth\":0,\"ticks\":\"\"}},\"type\":\"parcoords\"}],\"pie\":[{\"automargin\":true,\"type\":\"pie\"}],\"scatter\":[{\"marker\":{\"colorbar\":{\"outlinewidth\":0,\"ticks\":\"\"}},\"type\":\"scatter\"}],\"scatter3d\":[{\"line\":{\"colorbar\":{\"outlinewidth\":0,\"ticks\":\"\"}},\"marker\":{\"colorbar\":{\"outlinewidth\":0,\"ticks\":\"\"}},\"type\":\"scatter3d\"}],\"scattercarpet\":[{\"marker\":{\"colorbar\":{\"outlinewidth\":0,\"ticks\":\"\"}},\"type\":\"scattercarpet\"}],\"scattergeo\":[{\"marker\":{\"colorbar\":{\"outlinewidth\":0,\"ticks\":\"\"}},\"type\":\"scattergeo\"}],\"scattergl\":[{\"marker\":{\"colorbar\":{\"outlinewidth\":0,\"ticks\":\"\"}},\"type\":\"scattergl\"}],\"scattermapbox\":[{\"marker\":{\"colorbar\":{\"outlinewidth\":0,\"ticks\":\"\"}},\"type\":\"scattermapbox\"}],\"scatterpolar\":[{\"marker\":{\"colorbar\":{\"outlinewidth\":0,\"ticks\":\"\"}},\"type\":\"scatterpolar\"}],\"scatterpolargl\":[{\"marker\":{\"colorbar\":{\"outlinewidth\":0,\"ticks\":\"\"}},\"type\":\"scatterpolargl\"}],\"scatterternary\":[{\"marker\":{\"colorbar\":{\"outlinewidth\":0,\"ticks\":\"\"}},\"type\":\"scatterternary\"}],\"surface\":[{\"colorbar\":{\"outlinewidth\":0,\"ticks\":\"\"},\"colorscale\":[[0.0,\"#0d0887\"],[0.1111111111111111,\"#46039f\"],[0.2222222222222222,\"#7201a8\"],[0.3333333333333333,\"#9c179e\"],[0.4444444444444444,\"#bd3786\"],[0.5555555555555556,\"#d8576b\"],[0.6666666666666666,\"#ed7953\"],[0.7777777777777778,\"#fb9f3a\"],[0.8888888888888888,\"#fdca26\"],[1.0,\"#f0f921\"]],\"type\":\"surface\"}],\"table\":[{\"cells\":{\"fill\":{\"color\":\"#EBF0F8\"},\"line\":{\"color\":\"white\"}},\"header\":{\"fill\":{\"color\":\"#C8D4E3\"},\"line\":{\"color\":\"white\"}},\"type\":\"table\"}]},\"layout\":{\"annotationdefaults\":{\"arrowcolor\":\"#2a3f5f\",\"arrowhead\":0,\"arrowwidth\":1},\"autotypenumbers\":\"strict\",\"coloraxis\":{\"colorbar\":{\"outlinewidth\":0,\"ticks\":\"\"}},\"colorscale\":{\"diverging\":[[0,\"#8e0152\"],[0.1,\"#c51b7d\"],[0.2,\"#de77ae\"],[0.3,\"#f1b6da\"],[0.4,\"#fde0ef\"],[0.5,\"#f7f7f7\"],[0.6,\"#e6f5d0\"],[0.7,\"#b8e186\"],[0.8,\"#7fbc41\"],[0.9,\"#4d9221\"],[1,\"#276419\"]],\"sequential\":[[0.0,\"#0d0887\"],[0.1111111111111111,\"#46039f\"],[0.2222222222222222,\"#7201a8\"],[0.3333333333333333,\"#9c179e\"],[0.4444444444444444,\"#bd3786\"],[0.5555555555555556,\"#d8576b\"],[0.6666666666666666,\"#ed7953\"],[0.7777777777777778,\"#fb9f3a\"],[0.8888888888888888,\"#fdca26\"],[1.0,\"#f0f921\"]],\"sequentialminus\":[[0.0,\"#0d0887\"],[0.1111111111111111,\"#46039f\"],[0.2222222222222222,\"#7201a8\"],[0.3333333333333333,\"#9c179e\"],[0.4444444444444444,\"#bd3786\"],[0.5555555555555556,\"#d8576b\"],[0.6666666666666666,\"#ed7953\"],[0.7777777777777778,\"#fb9f3a\"],[0.8888888888888888,\"#fdca26\"],[1.0,\"#f0f921\"]]},\"colorway\":[\"#636efa\",\"#EF553B\",\"#00cc96\",\"#ab63fa\",\"#FFA15A\",\"#19d3f3\",\"#FF6692\",\"#B6E880\",\"#FF97FF\",\"#FECB52\"],\"font\":{\"color\":\"#2a3f5f\"},\"geo\":{\"bgcolor\":\"white\",\"lakecolor\":\"white\",\"landcolor\":\"#E5ECF6\",\"showlakes\":true,\"showland\":true,\"subunitcolor\":\"white\"},\"hoverlabel\":{\"align\":\"left\"},\"hovermode\":\"closest\",\"mapbox\":{\"style\":\"light\"},\"paper_bgcolor\":\"white\",\"plot_bgcolor\":\"#E5ECF6\",\"polar\":{\"angularaxis\":{\"gridcolor\":\"white\",\"linecolor\":\"white\",\"ticks\":\"\"},\"bgcolor\":\"#E5ECF6\",\"radialaxis\":{\"gridcolor\":\"white\",\"linecolor\":\"white\",\"ticks\":\"\"}},\"scene\":{\"xaxis\":{\"backgroundcolor\":\"#E5ECF6\",\"gridcolor\":\"white\",\"gridwidth\":2,\"linecolor\":\"white\",\"showbackground\":true,\"ticks\":\"\",\"zerolinecolor\":\"white\"},\"yaxis\":{\"backgroundcolor\":\"#E5ECF6\",\"gridcolor\":\"white\",\"gridwidth\":2,\"linecolor\":\"white\",\"showbackground\":true,\"ticks\":\"\",\"zerolinecolor\":\"white\"},\"zaxis\":{\"backgroundcolor\":\"#E5ECF6\",\"gridcolor\":\"white\",\"gridwidth\":2,\"linecolor\":\"white\",\"showbackground\":true,\"ticks\":\"\",\"zerolinecolor\":\"white\"}},\"shapedefaults\":{\"line\":{\"color\":\"#2a3f5f\"}},\"ternary\":{\"aaxis\":{\"gridcolor\":\"white\",\"linecolor\":\"white\",\"ticks\":\"\"},\"baxis\":{\"gridcolor\":\"white\",\"linecolor\":\"white\",\"ticks\":\"\"},\"bgcolor\":\"#E5ECF6\",\"caxis\":{\"gridcolor\":\"white\",\"linecolor\":\"white\",\"ticks\":\"\"}},\"title\":{\"x\":0.05},\"xaxis\":{\"automargin\":true,\"gridcolor\":\"white\",\"linecolor\":\"white\",\"ticks\":\"\",\"title\":{\"standoff\":15},\"zerolinecolor\":\"white\",\"zerolinewidth\":2},\"yaxis\":{\"automargin\":true,\"gridcolor\":\"white\",\"linecolor\":\"white\",\"ticks\":\"\",\"title\":{\"standoff\":15},\"zerolinecolor\":\"white\",\"zerolinewidth\":2}}},\"title\":{\"text\":\"Put title here for me\"},\"width\":600},                        {\"responsive\": true}                    ).then(function(){\n",
       "                            \n",
       "var gd = document.getElementById('c68b3390-fbb1-48ae-bf15-ec4c6f27c657');\n",
       "var x = new MutationObserver(function (mutations, observer) {{\n",
       "        var display = window.getComputedStyle(gd).display;\n",
       "        if (!display || display === 'none') {{\n",
       "            console.log([gd, 'removed!']);\n",
       "            Plotly.purge(gd);\n",
       "            observer.disconnect();\n",
       "        }}\n",
       "}});\n",
       "\n",
       "// Listen for the removal of the full notebook cells\n",
       "var notebookContainer = gd.closest('#notebook-container');\n",
       "if (notebookContainer) {{\n",
       "    x.observe(notebookContainer, {childList: true});\n",
       "}}\n",
       "\n",
       "// Listen for the clearing of the current output cell\n",
       "var outputEl = gd.closest('.output');\n",
       "if (outputEl) {{\n",
       "    x.observe(outputEl, {childList: true});\n",
       "}}\n",
       "\n",
       "                        })                };                });            </script>        </div>"
      ]
     },
     "metadata": {},
     "output_type": "display_data"
    }
   ],
   "source": [
    "#TODO: 5 properties to compare \n",
    "# stringency_index\n",
    "# median_age\n",
    "# 1 -  extreme_poverty (we need good properties)\n",
    "# handwashing_facilities\n",
    "# human_development_index\n",
    "# gdp_per_capita\n",
    "\n",
    "Ability5_base_location = owid_covid_data[['continent','date','location','stringency_index','median_age','extreme_poverty','handwashing_facilities'\n",
    ",'human_development_index','gdp_per_capita']].groupby('location').last()\n",
    "\n",
    "\n",
    "\n",
    "# phần bù của tỉ lệ nghèo đói\n",
    "Ability5_base_location['extreme_poverty_r'] = 100 - Ability5_base_location['extreme_poverty']\n",
    "Ability5_base_location.drop(columns=['extreme_poverty'],inplace=True)\n",
    "\n",
    "\n",
    "Ability5_base_area = Ability5_base_location.groupby('continent').mean()\n",
    "\n",
    "\n",
    "# tẻ lệ gpd trê nuocs lớn nhất\n",
    "Ability5_base_area['gdp_per_capita'] *= 100 / Ability5_base_area['gdp_per_capita'].max()\n",
    "Ability5_base_area['stringency_index'] *= 100 / Ability5_base_area['stringency_index'].max()\n",
    "Ability5_base_area['human_development_index'] *= 100 / Ability5_base_area['human_development_index'].max()\n",
    "Ability5_base_area['extreme_poverty_r'] *= 100 / Ability5_base_area['extreme_poverty_r'].max()\n",
    "Ability5_base_area['median_age'] *= 100 / Ability5_base_area['median_age'].max()\n",
    "# #  --------------------------------------------------------------------\n",
    "\n",
    "figgo = go.Figure()\n",
    "\n",
    "idc = 0\n",
    "\n",
    "for er in Ability5_base_area.index:\n",
    "      record = Ability5_base_area.loc[er]\n",
    "      det = record.tolist()\n",
    "      aColor = colors6[idc]\n",
    "      r,g,b = ImageColor.getcolor(aColor, \"RGB\")\n",
    "      figgo.add_trace(go.Scatterpolar(\n",
    "      r= det,\n",
    "      theta=Ability5_base_area.columns,\n",
    "      line = dict(color= aColor),\n",
    "      fill='toself',\n",
    "      fillcolor = \"rgba({r}, {g}, {b}, 0.2)\".format(r=r,g=g,b=b),\n",
    "      name=er,\n",
    "      ))\n",
    "      idc+=1\n",
    "\n",
    "figgo.update_layout(\n",
    "  polar=dict(\n",
    "    radialaxis=dict(\n",
    "      visible=True,\n",
    "      range=[0, 100]\n",
    "    )),\n",
    "  showlegend=True,\n",
    "  title= dict(text='Put title here for me'),\n",
    "  width=600\n",
    ")\n",
    "\n",
    "figgo.show()\n",
    "\n"
   ]
  },
  {
   "cell_type": "markdown",
   "metadata": {},
   "source": [
    "# SHARE POPULATION IN CASE"
   ]
  },
  {
   "cell_type": "code",
   "execution_count": 20,
   "metadata": {},
   "outputs": [
    {
     "data": {
      "application/vnd.plotly.v1+json": {
       "config": {
        "plotlyServerURL": "https://plot.ly"
       },
       "data": [
        {
         "domain": {
          "x": [
           0,
           0.45
          ],
          "y": [
           0.575,
           1
          ]
         },
         "hole": 0.4,
         "hoverinfo": "label+percent+name",
         "labels": [
          "Africa",
          "Asia",
          "Europe",
          "North America",
          "Oceania",
          "South America"
         ],
         "name": "Share Population",
         "type": "pie",
         "values": [
          1371693397,
          4652557947,
          750832184,
          592829053,
          42936804,
          433953687
         ]
        },
        {
         "domain": {
          "x": [
           0.55,
           1
          ],
          "y": [
           0.575,
           1
          ]
         },
         "hole": 0.4,
         "hoverinfo": "label+percent+name",
         "labels": [
          "Africa",
          "Asia",
          "Europe",
          "North America",
          "Oceania",
          "South America"
         ],
         "name": "Share Cases",
         "type": "pie",
         "values": [
          8507361,
          79571893,
          65377080,
          55456312,
          263369,
          38396741
         ]
        },
        {
         "domain": {
          "x": [
           0,
           0.45
          ],
          "y": [
           0,
           0.425
          ]
         },
         "hole": 0.4,
         "hoverinfo": "label+percent+name",
         "labels": [
          "Africa",
          "Asia",
          "Europe",
          "North America",
          "Oceania",
          "South America"
         ],
         "name": "Share Deaths",
         "type": "pie",
         "values": [
          218561,
          1178919,
          1313814,
          1128788,
          2856,
          1170638
         ]
        },
        {
         "domain": {
          "x": [
           0.55,
           1
          ],
          "y": [
           0,
           0.425
          ]
         },
         "hole": 0.4,
         "hoverinfo": "label+percent+name",
         "labels": [
          "Africa",
          "Asia",
          "Europe",
          "North America",
          "Oceania",
          "South America"
         ],
         "name": "Share Vaccinations",
         "type": "pie",
         "values": [
          196774148,
          4817907303,
          863142464,
          691287374,
          45655178,
          513143637
         ]
        }
       ],
       "layout": {
        "annotations": [
         {
          "font": {
           "size": 13
          },
          "showarrow": false,
          "text": "Population",
          "x": 0.17,
          "y": 0.805
         },
         {
          "font": {
           "size": 13
          },
          "showarrow": false,
          "text": "Case",
          "x": 0.79,
          "y": 0.805
         },
         {
          "font": {
           "size": 13
          },
          "showarrow": false,
          "text": "Death",
          "x": 0.2,
          "y": 0.19
         },
         {
          "font": {
           "size": 13
          },
          "showarrow": false,
          "text": "Vaccination",
          "x": 0.83,
          "y": 0.19
         }
        ],
        "height": 550,
        "margin": {
         "b": 5,
         "l": 5,
         "r": 5,
         "t": 40
        },
        "template": {
         "data": {
          "bar": [
           {
            "error_x": {
             "color": "#2a3f5f"
            },
            "error_y": {
             "color": "#2a3f5f"
            },
            "marker": {
             "line": {
              "color": "#E5ECF6",
              "width": 0.5
             },
             "pattern": {
              "fillmode": "overlay",
              "size": 10,
              "solidity": 0.2
             }
            },
            "type": "bar"
           }
          ],
          "barpolar": [
           {
            "marker": {
             "line": {
              "color": "#E5ECF6",
              "width": 0.5
             },
             "pattern": {
              "fillmode": "overlay",
              "size": 10,
              "solidity": 0.2
             }
            },
            "type": "barpolar"
           }
          ],
          "carpet": [
           {
            "aaxis": {
             "endlinecolor": "#2a3f5f",
             "gridcolor": "white",
             "linecolor": "white",
             "minorgridcolor": "white",
             "startlinecolor": "#2a3f5f"
            },
            "baxis": {
             "endlinecolor": "#2a3f5f",
             "gridcolor": "white",
             "linecolor": "white",
             "minorgridcolor": "white",
             "startlinecolor": "#2a3f5f"
            },
            "type": "carpet"
           }
          ],
          "choropleth": [
           {
            "colorbar": {
             "outlinewidth": 0,
             "ticks": ""
            },
            "type": "choropleth"
           }
          ],
          "contour": [
           {
            "colorbar": {
             "outlinewidth": 0,
             "ticks": ""
            },
            "colorscale": [
             [
              0,
              "#0d0887"
             ],
             [
              0.1111111111111111,
              "#46039f"
             ],
             [
              0.2222222222222222,
              "#7201a8"
             ],
             [
              0.3333333333333333,
              "#9c179e"
             ],
             [
              0.4444444444444444,
              "#bd3786"
             ],
             [
              0.5555555555555556,
              "#d8576b"
             ],
             [
              0.6666666666666666,
              "#ed7953"
             ],
             [
              0.7777777777777778,
              "#fb9f3a"
             ],
             [
              0.8888888888888888,
              "#fdca26"
             ],
             [
              1,
              "#f0f921"
             ]
            ],
            "type": "contour"
           }
          ],
          "contourcarpet": [
           {
            "colorbar": {
             "outlinewidth": 0,
             "ticks": ""
            },
            "type": "contourcarpet"
           }
          ],
          "heatmap": [
           {
            "colorbar": {
             "outlinewidth": 0,
             "ticks": ""
            },
            "colorscale": [
             [
              0,
              "#0d0887"
             ],
             [
              0.1111111111111111,
              "#46039f"
             ],
             [
              0.2222222222222222,
              "#7201a8"
             ],
             [
              0.3333333333333333,
              "#9c179e"
             ],
             [
              0.4444444444444444,
              "#bd3786"
             ],
             [
              0.5555555555555556,
              "#d8576b"
             ],
             [
              0.6666666666666666,
              "#ed7953"
             ],
             [
              0.7777777777777778,
              "#fb9f3a"
             ],
             [
              0.8888888888888888,
              "#fdca26"
             ],
             [
              1,
              "#f0f921"
             ]
            ],
            "type": "heatmap"
           }
          ],
          "heatmapgl": [
           {
            "colorbar": {
             "outlinewidth": 0,
             "ticks": ""
            },
            "colorscale": [
             [
              0,
              "#0d0887"
             ],
             [
              0.1111111111111111,
              "#46039f"
             ],
             [
              0.2222222222222222,
              "#7201a8"
             ],
             [
              0.3333333333333333,
              "#9c179e"
             ],
             [
              0.4444444444444444,
              "#bd3786"
             ],
             [
              0.5555555555555556,
              "#d8576b"
             ],
             [
              0.6666666666666666,
              "#ed7953"
             ],
             [
              0.7777777777777778,
              "#fb9f3a"
             ],
             [
              0.8888888888888888,
              "#fdca26"
             ],
             [
              1,
              "#f0f921"
             ]
            ],
            "type": "heatmapgl"
           }
          ],
          "histogram": [
           {
            "marker": {
             "pattern": {
              "fillmode": "overlay",
              "size": 10,
              "solidity": 0.2
             }
            },
            "type": "histogram"
           }
          ],
          "histogram2d": [
           {
            "colorbar": {
             "outlinewidth": 0,
             "ticks": ""
            },
            "colorscale": [
             [
              0,
              "#0d0887"
             ],
             [
              0.1111111111111111,
              "#46039f"
             ],
             [
              0.2222222222222222,
              "#7201a8"
             ],
             [
              0.3333333333333333,
              "#9c179e"
             ],
             [
              0.4444444444444444,
              "#bd3786"
             ],
             [
              0.5555555555555556,
              "#d8576b"
             ],
             [
              0.6666666666666666,
              "#ed7953"
             ],
             [
              0.7777777777777778,
              "#fb9f3a"
             ],
             [
              0.8888888888888888,
              "#fdca26"
             ],
             [
              1,
              "#f0f921"
             ]
            ],
            "type": "histogram2d"
           }
          ],
          "histogram2dcontour": [
           {
            "colorbar": {
             "outlinewidth": 0,
             "ticks": ""
            },
            "colorscale": [
             [
              0,
              "#0d0887"
             ],
             [
              0.1111111111111111,
              "#46039f"
             ],
             [
              0.2222222222222222,
              "#7201a8"
             ],
             [
              0.3333333333333333,
              "#9c179e"
             ],
             [
              0.4444444444444444,
              "#bd3786"
             ],
             [
              0.5555555555555556,
              "#d8576b"
             ],
             [
              0.6666666666666666,
              "#ed7953"
             ],
             [
              0.7777777777777778,
              "#fb9f3a"
             ],
             [
              0.8888888888888888,
              "#fdca26"
             ],
             [
              1,
              "#f0f921"
             ]
            ],
            "type": "histogram2dcontour"
           }
          ],
          "mesh3d": [
           {
            "colorbar": {
             "outlinewidth": 0,
             "ticks": ""
            },
            "type": "mesh3d"
           }
          ],
          "parcoords": [
           {
            "line": {
             "colorbar": {
              "outlinewidth": 0,
              "ticks": ""
             }
            },
            "type": "parcoords"
           }
          ],
          "pie": [
           {
            "automargin": true,
            "type": "pie"
           }
          ],
          "scatter": [
           {
            "marker": {
             "colorbar": {
              "outlinewidth": 0,
              "ticks": ""
             }
            },
            "type": "scatter"
           }
          ],
          "scatter3d": [
           {
            "line": {
             "colorbar": {
              "outlinewidth": 0,
              "ticks": ""
             }
            },
            "marker": {
             "colorbar": {
              "outlinewidth": 0,
              "ticks": ""
             }
            },
            "type": "scatter3d"
           }
          ],
          "scattercarpet": [
           {
            "marker": {
             "colorbar": {
              "outlinewidth": 0,
              "ticks": ""
             }
            },
            "type": "scattercarpet"
           }
          ],
          "scattergeo": [
           {
            "marker": {
             "colorbar": {
              "outlinewidth": 0,
              "ticks": ""
             }
            },
            "type": "scattergeo"
           }
          ],
          "scattergl": [
           {
            "marker": {
             "colorbar": {
              "outlinewidth": 0,
              "ticks": ""
             }
            },
            "type": "scattergl"
           }
          ],
          "scattermapbox": [
           {
            "marker": {
             "colorbar": {
              "outlinewidth": 0,
              "ticks": ""
             }
            },
            "type": "scattermapbox"
           }
          ],
          "scatterpolar": [
           {
            "marker": {
             "colorbar": {
              "outlinewidth": 0,
              "ticks": ""
             }
            },
            "type": "scatterpolar"
           }
          ],
          "scatterpolargl": [
           {
            "marker": {
             "colorbar": {
              "outlinewidth": 0,
              "ticks": ""
             }
            },
            "type": "scatterpolargl"
           }
          ],
          "scatterternary": [
           {
            "marker": {
             "colorbar": {
              "outlinewidth": 0,
              "ticks": ""
             }
            },
            "type": "scatterternary"
           }
          ],
          "surface": [
           {
            "colorbar": {
             "outlinewidth": 0,
             "ticks": ""
            },
            "colorscale": [
             [
              0,
              "#0d0887"
             ],
             [
              0.1111111111111111,
              "#46039f"
             ],
             [
              0.2222222222222222,
              "#7201a8"
             ],
             [
              0.3333333333333333,
              "#9c179e"
             ],
             [
              0.4444444444444444,
              "#bd3786"
             ],
             [
              0.5555555555555556,
              "#d8576b"
             ],
             [
              0.6666666666666666,
              "#ed7953"
             ],
             [
              0.7777777777777778,
              "#fb9f3a"
             ],
             [
              0.8888888888888888,
              "#fdca26"
             ],
             [
              1,
              "#f0f921"
             ]
            ],
            "type": "surface"
           }
          ],
          "table": [
           {
            "cells": {
             "fill": {
              "color": "#EBF0F8"
             },
             "line": {
              "color": "white"
             }
            },
            "header": {
             "fill": {
              "color": "#C8D4E3"
             },
             "line": {
              "color": "white"
             }
            },
            "type": "table"
           }
          ]
         },
         "layout": {
          "annotationdefaults": {
           "arrowcolor": "#2a3f5f",
           "arrowhead": 0,
           "arrowwidth": 1
          },
          "autotypenumbers": "strict",
          "coloraxis": {
           "colorbar": {
            "outlinewidth": 0,
            "ticks": ""
           }
          },
          "colorscale": {
           "diverging": [
            [
             0,
             "#8e0152"
            ],
            [
             0.1,
             "#c51b7d"
            ],
            [
             0.2,
             "#de77ae"
            ],
            [
             0.3,
             "#f1b6da"
            ],
            [
             0.4,
             "#fde0ef"
            ],
            [
             0.5,
             "#f7f7f7"
            ],
            [
             0.6,
             "#e6f5d0"
            ],
            [
             0.7,
             "#b8e186"
            ],
            [
             0.8,
             "#7fbc41"
            ],
            [
             0.9,
             "#4d9221"
            ],
            [
             1,
             "#276419"
            ]
           ],
           "sequential": [
            [
             0,
             "#0d0887"
            ],
            [
             0.1111111111111111,
             "#46039f"
            ],
            [
             0.2222222222222222,
             "#7201a8"
            ],
            [
             0.3333333333333333,
             "#9c179e"
            ],
            [
             0.4444444444444444,
             "#bd3786"
            ],
            [
             0.5555555555555556,
             "#d8576b"
            ],
            [
             0.6666666666666666,
             "#ed7953"
            ],
            [
             0.7777777777777778,
             "#fb9f3a"
            ],
            [
             0.8888888888888888,
             "#fdca26"
            ],
            [
             1,
             "#f0f921"
            ]
           ],
           "sequentialminus": [
            [
             0,
             "#0d0887"
            ],
            [
             0.1111111111111111,
             "#46039f"
            ],
            [
             0.2222222222222222,
             "#7201a8"
            ],
            [
             0.3333333333333333,
             "#9c179e"
            ],
            [
             0.4444444444444444,
             "#bd3786"
            ],
            [
             0.5555555555555556,
             "#d8576b"
            ],
            [
             0.6666666666666666,
             "#ed7953"
            ],
            [
             0.7777777777777778,
             "#fb9f3a"
            ],
            [
             0.8888888888888888,
             "#fdca26"
            ],
            [
             1,
             "#f0f921"
            ]
           ]
          },
          "colorway": [
           "#636efa",
           "#EF553B",
           "#00cc96",
           "#ab63fa",
           "#FFA15A",
           "#19d3f3",
           "#FF6692",
           "#B6E880",
           "#FF97FF",
           "#FECB52"
          ],
          "font": {
           "color": "#2a3f5f"
          },
          "geo": {
           "bgcolor": "white",
           "lakecolor": "white",
           "landcolor": "#E5ECF6",
           "showlakes": true,
           "showland": true,
           "subunitcolor": "white"
          },
          "hoverlabel": {
           "align": "left"
          },
          "hovermode": "closest",
          "mapbox": {
           "style": "light"
          },
          "paper_bgcolor": "white",
          "plot_bgcolor": "#E5ECF6",
          "polar": {
           "angularaxis": {
            "gridcolor": "white",
            "linecolor": "white",
            "ticks": ""
           },
           "bgcolor": "#E5ECF6",
           "radialaxis": {
            "gridcolor": "white",
            "linecolor": "white",
            "ticks": ""
           }
          },
          "scene": {
           "xaxis": {
            "backgroundcolor": "#E5ECF6",
            "gridcolor": "white",
            "gridwidth": 2,
            "linecolor": "white",
            "showbackground": true,
            "ticks": "",
            "zerolinecolor": "white"
           },
           "yaxis": {
            "backgroundcolor": "#E5ECF6",
            "gridcolor": "white",
            "gridwidth": 2,
            "linecolor": "white",
            "showbackground": true,
            "ticks": "",
            "zerolinecolor": "white"
           },
           "zaxis": {
            "backgroundcolor": "#E5ECF6",
            "gridcolor": "white",
            "gridwidth": 2,
            "linecolor": "white",
            "showbackground": true,
            "ticks": "",
            "zerolinecolor": "white"
           }
          },
          "shapedefaults": {
           "line": {
            "color": "#2a3f5f"
           }
          },
          "ternary": {
           "aaxis": {
            "gridcolor": "white",
            "linecolor": "white",
            "ticks": ""
           },
           "baxis": {
            "gridcolor": "white",
            "linecolor": "white",
            "ticks": ""
           },
           "bgcolor": "#E5ECF6",
           "caxis": {
            "gridcolor": "white",
            "linecolor": "white",
            "ticks": ""
           }
          },
          "title": {
           "x": 0.05
          },
          "xaxis": {
           "automargin": true,
           "gridcolor": "white",
           "linecolor": "white",
           "ticks": "",
           "title": {
            "standoff": 15
           },
           "zerolinecolor": "white",
           "zerolinewidth": 2
          },
          "yaxis": {
           "automargin": true,
           "gridcolor": "white",
           "linecolor": "white",
           "ticks": "",
           "title": {
            "standoff": 15
           },
           "zerolinecolor": "white",
           "zerolinewidth": 2
          }
         }
        },
        "title": {
         "text": "Give me title here"
        },
        "width": 800
       }
      },
      "image/png": "[encoded data removed]",
      "text/html": [
       "<div>                            <div id=\"d7e37c05-7533-4c2d-9325-ee5af89d5e8e\" class=\"plotly-graph-div\" style=\"height:550px; width:800px;\"></div>            <script type=\"text/javascript\">                require([\"plotly\"], function(Plotly) {                    window.PLOTLYENV=window.PLOTLYENV || {};                                    if (document.getElementById(\"d7e37c05-7533-4c2d-9325-ee5af89d5e8e\")) {                    Plotly.newPlot(                        \"d7e37c05-7533-4c2d-9325-ee5af89d5e8e\",                        [{\"domain\":{\"x\":[0.0,0.45],\"y\":[0.575,1.0]},\"hole\":0.4,\"hoverinfo\":\"label+percent+name\",\"labels\":[\"Africa\",\"Asia\",\"Europe\",\"North America\",\"Oceania\",\"South America\"],\"name\":\"Share Population\",\"type\":\"pie\",\"values\":[1371693397.0,4652557947.0,750832184.0,592829053.0,42936804.0,433953687.0]},{\"domain\":{\"x\":[0.55,1.0],\"y\":[0.575,1.0]},\"hole\":0.4,\"hoverinfo\":\"label+percent+name\",\"labels\":[\"Africa\",\"Asia\",\"Europe\",\"North America\",\"Oceania\",\"South America\"],\"name\":\"Share Cases\",\"type\":\"pie\",\"values\":[8507361.0,79571893.0,65377080.0,55456312.0,263369.0,38396741.0]},{\"domain\":{\"x\":[0.0,0.45],\"y\":[0.0,0.425]},\"hole\":0.4,\"hoverinfo\":\"label+percent+name\",\"labels\":[\"Africa\",\"Asia\",\"Europe\",\"North America\",\"Oceania\",\"South America\"],\"name\":\"Share Deaths\",\"type\":\"pie\",\"values\":[218561.0,1178919.0,1313814.0,1128788.0,2856.0,1170638.0]},{\"domain\":{\"x\":[0.55,1.0],\"y\":[0.0,0.425]},\"hole\":0.4,\"hoverinfo\":\"label+percent+name\",\"labels\":[\"Africa\",\"Asia\",\"Europe\",\"North America\",\"Oceania\",\"South America\"],\"name\":\"Share Vaccinations\",\"type\":\"pie\",\"values\":[196774148.0,4817907303.0,863142464.0,691287374.0,45655178.0,513143637.0]}],                        {\"annotations\":[{\"font\":{\"size\":13},\"showarrow\":false,\"text\":\"Population\",\"x\":0.17,\"y\":0.805},{\"font\":{\"size\":13},\"showarrow\":false,\"text\":\"Case\",\"x\":0.79,\"y\":0.805},{\"font\":{\"size\":13},\"showarrow\":false,\"text\":\"Death\",\"x\":0.2,\"y\":0.19},{\"font\":{\"size\":13},\"showarrow\":false,\"text\":\"Vaccination\",\"x\":0.83,\"y\":0.19}],\"height\":550,\"margin\":{\"b\":5,\"l\":5,\"r\":5,\"t\":40},\"template\":{\"data\":{\"bar\":[{\"error_x\":{\"color\":\"#2a3f5f\"},\"error_y\":{\"color\":\"#2a3f5f\"},\"marker\":{\"line\":{\"color\":\"#E5ECF6\",\"width\":0.5},\"pattern\":{\"fillmode\":\"overlay\",\"size\":10,\"solidity\":0.2}},\"type\":\"bar\"}],\"barpolar\":[{\"marker\":{\"line\":{\"color\":\"#E5ECF6\",\"width\":0.5},\"pattern\":{\"fillmode\":\"overlay\",\"size\":10,\"solidity\":0.2}},\"type\":\"barpolar\"}],\"carpet\":[{\"aaxis\":{\"endlinecolor\":\"#2a3f5f\",\"gridcolor\":\"white\",\"linecolor\":\"white\",\"minorgridcolor\":\"white\",\"startlinecolor\":\"#2a3f5f\"},\"baxis\":{\"endlinecolor\":\"#2a3f5f\",\"gridcolor\":\"white\",\"linecolor\":\"white\",\"minorgridcolor\":\"white\",\"startlinecolor\":\"#2a3f5f\"},\"type\":\"carpet\"}],\"choropleth\":[{\"colorbar\":{\"outlinewidth\":0,\"ticks\":\"\"},\"type\":\"choropleth\"}],\"contour\":[{\"colorbar\":{\"outlinewidth\":0,\"ticks\":\"\"},\"colorscale\":[[0.0,\"#0d0887\"],[0.1111111111111111,\"#46039f\"],[0.2222222222222222,\"#7201a8\"],[0.3333333333333333,\"#9c179e\"],[0.4444444444444444,\"#bd3786\"],[0.5555555555555556,\"#d8576b\"],[0.6666666666666666,\"#ed7953\"],[0.7777777777777778,\"#fb9f3a\"],[0.8888888888888888,\"#fdca26\"],[1.0,\"#f0f921\"]],\"type\":\"contour\"}],\"contourcarpet\":[{\"colorbar\":{\"outlinewidth\":0,\"ticks\":\"\"},\"type\":\"contourcarpet\"}],\"heatmap\":[{\"colorbar\":{\"outlinewidth\":0,\"ticks\":\"\"},\"colorscale\":[[0.0,\"#0d0887\"],[0.1111111111111111,\"#46039f\"],[0.2222222222222222,\"#7201a8\"],[0.3333333333333333,\"#9c179e\"],[0.4444444444444444,\"#bd3786\"],[0.5555555555555556,\"#d8576b\"],[0.6666666666666666,\"#ed7953\"],[0.7777777777777778,\"#fb9f3a\"],[0.8888888888888888,\"#fdca26\"],[1.0,\"#f0f921\"]],\"type\":\"heatmap\"}],\"heatmapgl\":[{\"colorbar\":{\"outlinewidth\":0,\"ticks\":\"\"},\"colorscale\":[[0.0,\"#0d0887\"],[0.1111111111111111,\"#46039f\"],[0.2222222222222222,\"#7201a8\"],[0.3333333333333333,\"#9c179e\"],[0.4444444444444444,\"#bd3786\"],[0.5555555555555556,\"#d8576b\"],[0.6666666666666666,\"#ed7953\"],[0.7777777777777778,\"#fb9f3a\"],[0.8888888888888888,\"#fdca26\"],[1.0,\"#f0f921\"]],\"type\":\"heatmapgl\"}],\"histogram\":[{\"marker\":{\"pattern\":{\"fillmode\":\"overlay\",\"size\":10,\"solidity\":0.2}},\"type\":\"histogram\"}],\"histogram2d\":[{\"colorbar\":{\"outlinewidth\":0,\"ticks\":\"\"},\"colorscale\":[[0.0,\"#0d0887\"],[0.1111111111111111,\"#46039f\"],[0.2222222222222222,\"#7201a8\"],[0.3333333333333333,\"#9c179e\"],[0.4444444444444444,\"#bd3786\"],[0.5555555555555556,\"#d8576b\"],[0.6666666666666666,\"#ed7953\"],[0.7777777777777778,\"#fb9f3a\"],[0.8888888888888888,\"#fdca26\"],[1.0,\"#f0f921\"]],\"type\":\"histogram2d\"}],\"histogram2dcontour\":[{\"colorbar\":{\"outlinewidth\":0,\"ticks\":\"\"},\"colorscale\":[[0.0,\"#0d0887\"],[0.1111111111111111,\"#46039f\"],[0.2222222222222222,\"#7201a8\"],[0.3333333333333333,\"#9c179e\"],[0.4444444444444444,\"#bd3786\"],[0.5555555555555556,\"#d8576b\"],[0.6666666666666666,\"#ed7953\"],[0.7777777777777778,\"#fb9f3a\"],[0.8888888888888888,\"#fdca26\"],[1.0,\"#f0f921\"]],\"type\":\"histogram2dcontour\"}],\"mesh3d\":[{\"colorbar\":{\"outlinewidth\":0,\"ticks\":\"\"},\"type\":\"mesh3d\"}],\"parcoords\":[{\"line\":{\"colorbar\":{\"outlinewidth\":0,\"ticks\":\"\"}},\"type\":\"parcoords\"}],\"pie\":[{\"automargin\":true,\"type\":\"pie\"}],\"scatter\":[{\"marker\":{\"colorbar\":{\"outlinewidth\":0,\"ticks\":\"\"}},\"type\":\"scatter\"}],\"scatter3d\":[{\"line\":{\"colorbar\":{\"outlinewidth\":0,\"ticks\":\"\"}},\"marker\":{\"colorbar\":{\"outlinewidth\":0,\"ticks\":\"\"}},\"type\":\"scatter3d\"}],\"scattercarpet\":[{\"marker\":{\"colorbar\":{\"outlinewidth\":0,\"ticks\":\"\"}},\"type\":\"scattercarpet\"}],\"scattergeo\":[{\"marker\":{\"colorbar\":{\"outlinewidth\":0,\"ticks\":\"\"}},\"type\":\"scattergeo\"}],\"scattergl\":[{\"marker\":{\"colorbar\":{\"outlinewidth\":0,\"ticks\":\"\"}},\"type\":\"scattergl\"}],\"scattermapbox\":[{\"marker\":{\"colorbar\":{\"outlinewidth\":0,\"ticks\":\"\"}},\"type\":\"scattermapbox\"}],\"scatterpolar\":[{\"marker\":{\"colorbar\":{\"outlinewidth\":0,\"ticks\":\"\"}},\"type\":\"scatterpolar\"}],\"scatterpolargl\":[{\"marker\":{\"colorbar\":{\"outlinewidth\":0,\"ticks\":\"\"}},\"type\":\"scatterpolargl\"}],\"scatterternary\":[{\"marker\":{\"colorbar\":{\"outlinewidth\":0,\"ticks\":\"\"}},\"type\":\"scatterternary\"}],\"surface\":[{\"colorbar\":{\"outlinewidth\":0,\"ticks\":\"\"},\"colorscale\":[[0.0,\"#0d0887\"],[0.1111111111111111,\"#46039f\"],[0.2222222222222222,\"#7201a8\"],[0.3333333333333333,\"#9c179e\"],[0.4444444444444444,\"#bd3786\"],[0.5555555555555556,\"#d8576b\"],[0.6666666666666666,\"#ed7953\"],[0.7777777777777778,\"#fb9f3a\"],[0.8888888888888888,\"#fdca26\"],[1.0,\"#f0f921\"]],\"type\":\"surface\"}],\"table\":[{\"cells\":{\"fill\":{\"color\":\"#EBF0F8\"},\"line\":{\"color\":\"white\"}},\"header\":{\"fill\":{\"color\":\"#C8D4E3\"},\"line\":{\"color\":\"white\"}},\"type\":\"table\"}]},\"layout\":{\"annotationdefaults\":{\"arrowcolor\":\"#2a3f5f\",\"arrowhead\":0,\"arrowwidth\":1},\"autotypenumbers\":\"strict\",\"coloraxis\":{\"colorbar\":{\"outlinewidth\":0,\"ticks\":\"\"}},\"colorscale\":{\"diverging\":[[0,\"#8e0152\"],[0.1,\"#c51b7d\"],[0.2,\"#de77ae\"],[0.3,\"#f1b6da\"],[0.4,\"#fde0ef\"],[0.5,\"#f7f7f7\"],[0.6,\"#e6f5d0\"],[0.7,\"#b8e186\"],[0.8,\"#7fbc41\"],[0.9,\"#4d9221\"],[1,\"#276419\"]],\"sequential\":[[0.0,\"#0d0887\"],[0.1111111111111111,\"#46039f\"],[0.2222222222222222,\"#7201a8\"],[0.3333333333333333,\"#9c179e\"],[0.4444444444444444,\"#bd3786\"],[0.5555555555555556,\"#d8576b\"],[0.6666666666666666,\"#ed7953\"],[0.7777777777777778,\"#fb9f3a\"],[0.8888888888888888,\"#fdca26\"],[1.0,\"#f0f921\"]],\"sequentialminus\":[[0.0,\"#0d0887\"],[0.1111111111111111,\"#46039f\"],[0.2222222222222222,\"#7201a8\"],[0.3333333333333333,\"#9c179e\"],[0.4444444444444444,\"#bd3786\"],[0.5555555555555556,\"#d8576b\"],[0.6666666666666666,\"#ed7953\"],[0.7777777777777778,\"#fb9f3a\"],[0.8888888888888888,\"#fdca26\"],[1.0,\"#f0f921\"]]},\"colorway\":[\"#636efa\",\"#EF553B\",\"#00cc96\",\"#ab63fa\",\"#FFA15A\",\"#19d3f3\",\"#FF6692\",\"#B6E880\",\"#FF97FF\",\"#FECB52\"],\"font\":{\"color\":\"#2a3f5f\"},\"geo\":{\"bgcolor\":\"white\",\"lakecolor\":\"white\",\"landcolor\":\"#E5ECF6\",\"showlakes\":true,\"showland\":true,\"subunitcolor\":\"white\"},\"hoverlabel\":{\"align\":\"left\"},\"hovermode\":\"closest\",\"mapbox\":{\"style\":\"light\"},\"paper_bgcolor\":\"white\",\"plot_bgcolor\":\"#E5ECF6\",\"polar\":{\"angularaxis\":{\"gridcolor\":\"white\",\"linecolor\":\"white\",\"ticks\":\"\"},\"bgcolor\":\"#E5ECF6\",\"radialaxis\":{\"gridcolor\":\"white\",\"linecolor\":\"white\",\"ticks\":\"\"}},\"scene\":{\"xaxis\":{\"backgroundcolor\":\"#E5ECF6\",\"gridcolor\":\"white\",\"gridwidth\":2,\"linecolor\":\"white\",\"showbackground\":true,\"ticks\":\"\",\"zerolinecolor\":\"white\"},\"yaxis\":{\"backgroundcolor\":\"#E5ECF6\",\"gridcolor\":\"white\",\"gridwidth\":2,\"linecolor\":\"white\",\"showbackground\":true,\"ticks\":\"\",\"zerolinecolor\":\"white\"},\"zaxis\":{\"backgroundcolor\":\"#E5ECF6\",\"gridcolor\":\"white\",\"gridwidth\":2,\"linecolor\":\"white\",\"showbackground\":true,\"ticks\":\"\",\"zerolinecolor\":\"white\"}},\"shapedefaults\":{\"line\":{\"color\":\"#2a3f5f\"}},\"ternary\":{\"aaxis\":{\"gridcolor\":\"white\",\"linecolor\":\"white\",\"ticks\":\"\"},\"baxis\":{\"gridcolor\":\"white\",\"linecolor\":\"white\",\"ticks\":\"\"},\"bgcolor\":\"#E5ECF6\",\"caxis\":{\"gridcolor\":\"white\",\"linecolor\":\"white\",\"ticks\":\"\"}},\"title\":{\"x\":0.05},\"xaxis\":{\"automargin\":true,\"gridcolor\":\"white\",\"linecolor\":\"white\",\"ticks\":\"\",\"title\":{\"standoff\":15},\"zerolinecolor\":\"white\",\"zerolinewidth\":2},\"yaxis\":{\"automargin\":true,\"gridcolor\":\"white\",\"linecolor\":\"white\",\"ticks\":\"\",\"title\":{\"standoff\":15},\"zerolinecolor\":\"white\",\"zerolinewidth\":2}}},\"title\":{\"text\":\"Give me title here\"},\"width\":800},                        {\"responsive\": true}                    ).then(function(){\n",
       "                            \n",
       "var gd = document.getElementById('d7e37c05-7533-4c2d-9325-ee5af89d5e8e');\n",
       "var x = new MutationObserver(function (mutations, observer) {{\n",
       "        var display = window.getComputedStyle(gd).display;\n",
       "        if (!display || display === 'none') {{\n",
       "            console.log([gd, 'removed!']);\n",
       "            Plotly.purge(gd);\n",
       "            observer.disconnect();\n",
       "        }}\n",
       "}});\n",
       "\n",
       "// Listen for the removal of the full notebook cells\n",
       "var notebookContainer = gd.closest('#notebook-container');\n",
       "if (notebookContainer) {{\n",
       "    x.observe(notebookContainer, {childList: true});\n",
       "}}\n",
       "\n",
       "// Listen for the clearing of the current output cell\n",
       "var outputEl = gd.closest('.output');\n",
       "if (outputEl) {{\n",
       "    x.observe(outputEl, {childList: true});\n",
       "}}\n",
       "\n",
       "                        })                };                });            </script>        </div>"
      ]
     },
     "metadata": {},
     "output_type": "display_data"
    }
   ],
   "source": [
    "\n",
    "\n",
    "\n",
    "fig = make_subplots(rows=2, cols=2, specs=[[{'type':'domain'}, {'type':'domain'}],[{'type':'domain'}, {'type':'domain'}]])\n",
    "\n",
    "\n",
    "c4date = owid_covid_data[['continent','location','population','total_cases','total_deaths','total_vaccinations']].groupby('location').last().groupby('continent').sum()\n",
    "\n",
    "\n",
    "labels = c4date.index\n",
    "\n",
    "fig.add_trace(go.Pie(labels=labels, values=c4date.loc[c4date.index,'population'], name=\"Share Population\"),\n",
    "              1, 1)\n",
    "fig.add_trace(go.Pie(labels=labels, values=c4date.loc[c4date.index,'total_cases'].tolist(), name=\"Share Cases\"),\n",
    "              1, 2)\n",
    "fig.add_trace(go.Pie(labels=labels, values=c4date.loc[c4date.index,'total_deaths'].tolist(), name=\"Share Deaths\"),\n",
    "              2, 1)\n",
    "fig.add_trace(go.Pie(labels=labels, values=c4date.loc[c4date.index,'total_vaccinations'].tolist(), name=\"Share Vaccinations\"),\n",
    "              2, 2)        \n",
    "\n",
    "fig.update_traces(hole=.4, hoverinfo=\"label+percent+name\")\n",
    "\n",
    "fig.update_layout(\n",
    "    title_text=\"Give me title here\",\n",
    "    margin={\"r\":5,\"t\":40,\"l\":5,\"b\":5},\n",
    "    height= 550,\n",
    "    width = 800,\n",
    "    # Add annotations in the center of the donut pies.\n",
    "    annotations=[dict(text='Population', x= 0.17, y=0.805, font_size=13, showarrow=False),\n",
    "                 dict(text='Case', x=0.79, y=0.805, font_size=13, showarrow=False),\n",
    "                 dict(text='Death',x=0.2, y= 0.19, font_size=13, showarrow=False),\n",
    "                 dict(text='Vaccination', x=0.83, y= 0.19, font_size=13, showarrow=False)\n",
    "                 ])\n",
    "fig.show()\n",
    "         "
   ]
  },
  {
   "cell_type": "markdown",
   "metadata": {},
   "source": [
    "# RELATION BETWEEN VACCINATION AND NEW CASE ,NEW DEATH"
   ]
  },
  {
   "cell_type": "code",
   "execution_count": 21,
   "metadata": {},
   "outputs": [
    {
     "data": {
      "application/vnd.plotly.v1+json": {
       "config": {
        "plotlyServerURL": "https://plot.ly"
       },
       "data": [
        {
         "coloraxis": "coloraxis",
         "hovertemplate": "x: %{x}<br>y: %{y}<br>color: %{z}<extra></extra>",
         "name": "0",
         "type": "heatmap",
         "x": [
          "people_vaccinated",
          "people_fully_vaccinated",
          "total_boosters",
          "new_cases",
          "new_deaths",
          "stringency_index",
          "new_vaccinations"
         ],
         "xaxis": "x",
         "y": [
          "people_vaccinated",
          "people_fully_vaccinated",
          "total_boosters",
          "new_cases",
          "new_deaths",
          "stringency_index",
          "new_vaccinations"
         ],
         "yaxis": "y",
         "z": [
          [
           1,
           0.9718738836584853,
           0.9068444729859487,
           -0.2524606122238816,
           -0.57475879646291,
           -0.9261535883918833,
           0.6249201519918138
          ],
          [
           0.9718738836584853,
           1,
           0.9090191513956069,
           -0.22012733927923034,
           -0.5465879086691288,
           -0.9089778153630146,
           0.5436194671883985
          ],
          [
           0.9068444729859487,
           0.9090191513956069,
           1,
           -0.19961145099117372,
           -0.5169452548300335,
           -0.8926030356294149,
           0.2892477944167826
          ],
          [
           -0.2524606122238816,
           -0.22012733927923034,
           -0.19961145099117372,
           1,
           0.7980073022809517,
           0.07769073357502132,
           -0.0717873926238764
          ],
          [
           -0.57475879646291,
           -0.5465879086691288,
           -0.5169452548300335,
           0.7980073022809517,
           1,
           0.2338326481468758,
           -0.2876796658838312
          ],
          [
           -0.9261535883918833,
           -0.9089778153630146,
           -0.8926030356294149,
           0.07769073357502132,
           0.2338326481468758,
           1,
           -0.5752384392028238
          ],
          [
           0.6249201519918138,
           0.5436194671883985,
           0.2892477944167826,
           -0.0717873926238764,
           -0.2876796658838312,
           -0.5752384392028238,
           1
          ]
         ]
        }
       ],
       "layout": {
        "autosize": true,
        "coloraxis": {
         "colorscale": [
          [
           0,
           "#0d0887"
          ],
          [
           0.1111111111111111,
           "#46039f"
          ],
          [
           0.2222222222222222,
           "#7201a8"
          ],
          [
           0.3333333333333333,
           "#9c179e"
          ],
          [
           0.4444444444444444,
           "#bd3786"
          ],
          [
           0.5555555555555556,
           "#d8576b"
          ],
          [
           0.6666666666666666,
           "#ed7953"
          ],
          [
           0.7777777777777778,
           "#fb9f3a"
          ],
          [
           0.8888888888888888,
           "#fdca26"
          ],
          [
           1,
           "#f0f921"
          ]
         ]
        },
        "template": {
         "data": {
          "bar": [
           {
            "error_x": {
             "color": "#2a3f5f"
            },
            "error_y": {
             "color": "#2a3f5f"
            },
            "marker": {
             "line": {
              "color": "#E5ECF6",
              "width": 0.5
             },
             "pattern": {
              "fillmode": "overlay",
              "size": 10,
              "solidity": 0.2
             }
            },
            "type": "bar"
           }
          ],
          "barpolar": [
           {
            "marker": {
             "line": {
              "color": "#E5ECF6",
              "width": 0.5
             },
             "pattern": {
              "fillmode": "overlay",
              "size": 10,
              "solidity": 0.2
             }
            },
            "type": "barpolar"
           }
          ],
          "carpet": [
           {
            "aaxis": {
             "endlinecolor": "#2a3f5f",
             "gridcolor": "white",
             "linecolor": "white",
             "minorgridcolor": "white",
             "startlinecolor": "#2a3f5f"
            },
            "baxis": {
             "endlinecolor": "#2a3f5f",
             "gridcolor": "white",
             "linecolor": "white",
             "minorgridcolor": "white",
             "startlinecolor": "#2a3f5f"
            },
            "type": "carpet"
           }
          ],
          "choropleth": [
           {
            "colorbar": {
             "outlinewidth": 0,
             "ticks": ""
            },
            "type": "choropleth"
           }
          ],
          "contour": [
           {
            "colorbar": {
             "outlinewidth": 0,
             "ticks": ""
            },
            "colorscale": [
             [
              0,
              "#0d0887"
             ],
             [
              0.1111111111111111,
              "#46039f"
             ],
             [
              0.2222222222222222,
              "#7201a8"
             ],
             [
              0.3333333333333333,
              "#9c179e"
             ],
             [
              0.4444444444444444,
              "#bd3786"
             ],
             [
              0.5555555555555556,
              "#d8576b"
             ],
             [
              0.6666666666666666,
              "#ed7953"
             ],
             [
              0.7777777777777778,
              "#fb9f3a"
             ],
             [
              0.8888888888888888,
              "#fdca26"
             ],
             [
              1,
              "#f0f921"
             ]
            ],
            "type": "contour"
           }
          ],
          "contourcarpet": [
           {
            "colorbar": {
             "outlinewidth": 0,
             "ticks": ""
            },
            "type": "contourcarpet"
           }
          ],
          "heatmap": [
           {
            "colorbar": {
             "outlinewidth": 0,
             "ticks": ""
            },
            "colorscale": [
             [
              0,
              "#0d0887"
             ],
             [
              0.1111111111111111,
              "#46039f"
             ],
             [
              0.2222222222222222,
              "#7201a8"
             ],
             [
              0.3333333333333333,
              "#9c179e"
             ],
             [
              0.4444444444444444,
              "#bd3786"
             ],
             [
              0.5555555555555556,
              "#d8576b"
             ],
             [
              0.6666666666666666,
              "#ed7953"
             ],
             [
              0.7777777777777778,
              "#fb9f3a"
             ],
             [
              0.8888888888888888,
              "#fdca26"
             ],
             [
              1,
              "#f0f921"
             ]
            ],
            "type": "heatmap"
           }
          ],
          "heatmapgl": [
           {
            "colorbar": {
             "outlinewidth": 0,
             "ticks": ""
            },
            "colorscale": [
             [
              0,
              "#0d0887"
             ],
             [
              0.1111111111111111,
              "#46039f"
             ],
             [
              0.2222222222222222,
              "#7201a8"
             ],
             [
              0.3333333333333333,
              "#9c179e"
             ],
             [
              0.4444444444444444,
              "#bd3786"
             ],
             [
              0.5555555555555556,
              "#d8576b"
             ],
             [
              0.6666666666666666,
              "#ed7953"
             ],
             [
              0.7777777777777778,
              "#fb9f3a"
             ],
             [
              0.8888888888888888,
              "#fdca26"
             ],
             [
              1,
              "#f0f921"
             ]
            ],
            "type": "heatmapgl"
           }
          ],
          "histogram": [
           {
            "marker": {
             "pattern": {
              "fillmode": "overlay",
              "size": 10,
              "solidity": 0.2
             }
            },
            "type": "histogram"
           }
          ],
          "histogram2d": [
           {
            "colorbar": {
             "outlinewidth": 0,
             "ticks": ""
            },
            "colorscale": [
             [
              0,
              "#0d0887"
             ],
             [
              0.1111111111111111,
              "#46039f"
             ],
             [
              0.2222222222222222,
              "#7201a8"
             ],
             [
              0.3333333333333333,
              "#9c179e"
             ],
             [
              0.4444444444444444,
              "#bd3786"
             ],
             [
              0.5555555555555556,
              "#d8576b"
             ],
             [
              0.6666666666666666,
              "#ed7953"
             ],
             [
              0.7777777777777778,
              "#fb9f3a"
             ],
             [
              0.8888888888888888,
              "#fdca26"
             ],
             [
              1,
              "#f0f921"
             ]
            ],
            "type": "histogram2d"
           }
          ],
          "histogram2dcontour": [
           {
            "colorbar": {
             "outlinewidth": 0,
             "ticks": ""
            },
            "colorscale": [
             [
              0,
              "#0d0887"
             ],
             [
              0.1111111111111111,
              "#46039f"
             ],
             [
              0.2222222222222222,
              "#7201a8"
             ],
             [
              0.3333333333333333,
              "#9c179e"
             ],
             [
              0.4444444444444444,
              "#bd3786"
             ],
             [
              0.5555555555555556,
              "#d8576b"
             ],
             [
              0.6666666666666666,
              "#ed7953"
             ],
             [
              0.7777777777777778,
              "#fb9f3a"
             ],
             [
              0.8888888888888888,
              "#fdca26"
             ],
             [
              1,
              "#f0f921"
             ]
            ],
            "type": "histogram2dcontour"
           }
          ],
          "mesh3d": [
           {
            "colorbar": {
             "outlinewidth": 0,
             "ticks": ""
            },
            "type": "mesh3d"
           }
          ],
          "parcoords": [
           {
            "line": {
             "colorbar": {
              "outlinewidth": 0,
              "ticks": ""
             }
            },
            "type": "parcoords"
           }
          ],
          "pie": [
           {
            "automargin": true,
            "type": "pie"
           }
          ],
          "scatter": [
           {
            "marker": {
             "colorbar": {
              "outlinewidth": 0,
              "ticks": ""
             }
            },
            "type": "scatter"
           }
          ],
          "scatter3d": [
           {
            "line": {
             "colorbar": {
              "outlinewidth": 0,
              "ticks": ""
             }
            },
            "marker": {
             "colorbar": {
              "outlinewidth": 0,
              "ticks": ""
             }
            },
            "type": "scatter3d"
           }
          ],
          "scattercarpet": [
           {
            "marker": {
             "colorbar": {
              "outlinewidth": 0,
              "ticks": ""
             }
            },
            "type": "scattercarpet"
           }
          ],
          "scattergeo": [
           {
            "marker": {
             "colorbar": {
              "outlinewidth": 0,
              "ticks": ""
             }
            },
            "type": "scattergeo"
           }
          ],
          "scattergl": [
           {
            "marker": {
             "colorbar": {
              "outlinewidth": 0,
              "ticks": ""
             }
            },
            "type": "scattergl"
           }
          ],
          "scattermapbox": [
           {
            "marker": {
             "colorbar": {
              "outlinewidth": 0,
              "ticks": ""
             }
            },
            "type": "scattermapbox"
           }
          ],
          "scatterpolar": [
           {
            "marker": {
             "colorbar": {
              "outlinewidth": 0,
              "ticks": ""
             }
            },
            "type": "scatterpolar"
           }
          ],
          "scatterpolargl": [
           {
            "marker": {
             "colorbar": {
              "outlinewidth": 0,
              "ticks": ""
             }
            },
            "type": "scatterpolargl"
           }
          ],
          "scatterternary": [
           {
            "marker": {
             "colorbar": {
              "outlinewidth": 0,
              "ticks": ""
             }
            },
            "type": "scatterternary"
           }
          ],
          "surface": [
           {
            "colorbar": {
             "outlinewidth": 0,
             "ticks": ""
            },
            "colorscale": [
             [
              0,
              "#0d0887"
             ],
             [
              0.1111111111111111,
              "#46039f"
             ],
             [
              0.2222222222222222,
              "#7201a8"
             ],
             [
              0.3333333333333333,
              "#9c179e"
             ],
             [
              0.4444444444444444,
              "#bd3786"
             ],
             [
              0.5555555555555556,
              "#d8576b"
             ],
             [
              0.6666666666666666,
              "#ed7953"
             ],
             [
              0.7777777777777778,
              "#fb9f3a"
             ],
             [
              0.8888888888888888,
              "#fdca26"
             ],
             [
              1,
              "#f0f921"
             ]
            ],
            "type": "surface"
           }
          ],
          "table": [
           {
            "cells": {
             "fill": {
              "color": "#EBF0F8"
             },
             "line": {
              "color": "white"
             }
            },
            "header": {
             "fill": {
              "color": "#C8D4E3"
             },
             "line": {
              "color": "white"
             }
            },
            "type": "table"
           }
          ]
         },
         "layout": {
          "annotationdefaults": {
           "arrowcolor": "#2a3f5f",
           "arrowhead": 0,
           "arrowwidth": 1
          },
          "autotypenumbers": "strict",
          "coloraxis": {
           "colorbar": {
            "outlinewidth": 0,
            "ticks": ""
           }
          },
          "colorscale": {
           "diverging": [
            [
             0,
             "#8e0152"
            ],
            [
             0.1,
             "#c51b7d"
            ],
            [
             0.2,
             "#de77ae"
            ],
            [
             0.3,
             "#f1b6da"
            ],
            [
             0.4,
             "#fde0ef"
            ],
            [
             0.5,
             "#f7f7f7"
            ],
            [
             0.6,
             "#e6f5d0"
            ],
            [
             0.7,
             "#b8e186"
            ],
            [
             0.8,
             "#7fbc41"
            ],
            [
             0.9,
             "#4d9221"
            ],
            [
             1,
             "#276419"
            ]
           ],
           "sequential": [
            [
             0,
             "#0d0887"
            ],
            [
             0.1111111111111111,
             "#46039f"
            ],
            [
             0.2222222222222222,
             "#7201a8"
            ],
            [
             0.3333333333333333,
             "#9c179e"
            ],
            [
             0.4444444444444444,
             "#bd3786"
            ],
            [
             0.5555555555555556,
             "#d8576b"
            ],
            [
             0.6666666666666666,
             "#ed7953"
            ],
            [
             0.7777777777777778,
             "#fb9f3a"
            ],
            [
             0.8888888888888888,
             "#fdca26"
            ],
            [
             1,
             "#f0f921"
            ]
           ],
           "sequentialminus": [
            [
             0,
             "#0d0887"
            ],
            [
             0.1111111111111111,
             "#46039f"
            ],
            [
             0.2222222222222222,
             "#7201a8"
            ],
            [
             0.3333333333333333,
             "#9c179e"
            ],
            [
             0.4444444444444444,
             "#bd3786"
            ],
            [
             0.5555555555555556,
             "#d8576b"
            ],
            [
             0.6666666666666666,
             "#ed7953"
            ],
            [
             0.7777777777777778,
             "#fb9f3a"
            ],
            [
             0.8888888888888888,
             "#fdca26"
            ],
            [
             1,
             "#f0f921"
            ]
           ]
          },
          "colorway": [
           "#636efa",
           "#EF553B",
           "#00cc96",
           "#ab63fa",
           "#FFA15A",
           "#19d3f3",
           "#FF6692",
           "#B6E880",
           "#FF97FF",
           "#FECB52"
          ],
          "font": {
           "color": "#2a3f5f"
          },
          "geo": {
           "bgcolor": "white",
           "lakecolor": "white",
           "landcolor": "#E5ECF6",
           "showlakes": true,
           "showland": true,
           "subunitcolor": "white"
          },
          "hoverlabel": {
           "align": "left"
          },
          "hovermode": "closest",
          "mapbox": {
           "style": "light"
          },
          "paper_bgcolor": "white",
          "plot_bgcolor": "#E5ECF6",
          "polar": {
           "angularaxis": {
            "gridcolor": "white",
            "linecolor": "white",
            "ticks": ""
           },
           "bgcolor": "#E5ECF6",
           "radialaxis": {
            "gridcolor": "white",
            "linecolor": "white",
            "ticks": ""
           }
          },
          "scene": {
           "xaxis": {
            "backgroundcolor": "#E5ECF6",
            "gridcolor": "white",
            "gridwidth": 2,
            "linecolor": "white",
            "showbackground": true,
            "ticks": "",
            "zerolinecolor": "white"
           },
           "yaxis": {
            "backgroundcolor": "#E5ECF6",
            "gridcolor": "white",
            "gridwidth": 2,
            "linecolor": "white",
            "showbackground": true,
            "ticks": "",
            "zerolinecolor": "white"
           },
           "zaxis": {
            "backgroundcolor": "#E5ECF6",
            "gridcolor": "white",
            "gridwidth": 2,
            "linecolor": "white",
            "showbackground": true,
            "ticks": "",
            "zerolinecolor": "white"
           }
          },
          "shapedefaults": {
           "line": {
            "color": "#2a3f5f"
           }
          },
          "ternary": {
           "aaxis": {
            "gridcolor": "white",
            "linecolor": "white",
            "ticks": ""
           },
           "baxis": {
            "gridcolor": "white",
            "linecolor": "white",
            "ticks": ""
           },
           "bgcolor": "#E5ECF6",
           "caxis": {
            "gridcolor": "white",
            "linecolor": "white",
            "ticks": ""
           }
          },
          "title": {
           "x": 0.05
          },
          "xaxis": {
           "automargin": true,
           "gridcolor": "white",
           "linecolor": "white",
           "ticks": "",
           "title": {
            "standoff": 15
           },
           "zerolinecolor": "white",
           "zerolinewidth": 2
          },
          "yaxis": {
           "automargin": true,
           "gridcolor": "white",
           "linecolor": "white",
           "ticks": "",
           "title": {
            "standoff": 15
           },
           "zerolinecolor": "white",
           "zerolinewidth": 2
          }
         }
        },
        "title": {
         "text": "Set title here"
        },
        "xaxis": {
         "anchor": "y",
         "autorange": true,
         "constrain": "domain",
         "domain": [
          0.43937708565072303,
          0.560622914349277
         ],
         "range": [
          -0.5,
          6.5
         ],
         "scaleanchor": "y",
         "type": "category"
        },
        "yaxis": {
         "anchor": "x",
         "autorange": true,
         "constrain": "domain",
         "domain": [
          0,
          1
         ],
         "range": [
          6.5,
          -0.5
         ],
         "type": "category"
        }
       }
      },
      "image/png": "[encoded data removed]",
      "text/html": [
       "<div>                            <div id=\"4293b31b-0641-4681-979c-49a3c322d4c8\" class=\"plotly-graph-div\" style=\"height:525px; width:600px;\"></div>            <script type=\"text/javascript\">                require([\"plotly\"], function(Plotly) {                    window.PLOTLYENV=window.PLOTLYENV || {};                                    if (document.getElementById(\"4293b31b-0641-4681-979c-49a3c322d4c8\")) {                    Plotly.newPlot(                        \"4293b31b-0641-4681-979c-49a3c322d4c8\",                        [{\"coloraxis\":\"coloraxis\",\"hovertemplate\":\"x: %{x}<br>y: %{y}<br>color: %{z}<extra></extra>\",\"name\":\"0\",\"type\":\"heatmap\",\"x\":[\"people_vaccinated\",\"people_fully_vaccinated\",\"total_boosters\",\"new_cases\",\"new_deaths\",\"stringency_index\",\"new_vaccinations\"],\"xaxis\":\"x\",\"y\":[\"people_vaccinated\",\"people_fully_vaccinated\",\"total_boosters\",\"new_cases\",\"new_deaths\",\"stringency_index\",\"new_vaccinations\"],\"yaxis\":\"y\",\"z\":[[1.0,0.9718738836584853,0.9068444729859487,-0.2524606122238816,-0.57475879646291,-0.9261535883918833,0.6249201519918138],[0.9718738836584853,1.0,0.9090191513956069,-0.22012733927923034,-0.5465879086691288,-0.9089778153630146,0.5436194671883985],[0.9068444729859487,0.9090191513956069,1.0,-0.19961145099117372,-0.5169452548300335,-0.8926030356294149,0.2892477944167826],[-0.2524606122238816,-0.22012733927923034,-0.19961145099117372,1.0,0.7980073022809517,0.07769073357502132,-0.0717873926238764],[-0.57475879646291,-0.5465879086691288,-0.5169452548300335,0.7980073022809517,1.0,0.2338326481468758,-0.2876796658838312],[-0.9261535883918833,-0.9089778153630146,-0.8926030356294149,0.07769073357502132,0.2338326481468758,1.0,-0.5752384392028238],[0.6249201519918138,0.5436194671883985,0.2892477944167826,-0.0717873926238764,-0.2876796658838312,-0.5752384392028238,1.0]]}],                        {\"coloraxis\":{\"colorscale\":[[0.0,\"#0d0887\"],[0.1111111111111111,\"#46039f\"],[0.2222222222222222,\"#7201a8\"],[0.3333333333333333,\"#9c179e\"],[0.4444444444444444,\"#bd3786\"],[0.5555555555555556,\"#d8576b\"],[0.6666666666666666,\"#ed7953\"],[0.7777777777777778,\"#fb9f3a\"],[0.8888888888888888,\"#fdca26\"],[1.0,\"#f0f921\"]]},\"template\":{\"data\":{\"bar\":[{\"error_x\":{\"color\":\"#2a3f5f\"},\"error_y\":{\"color\":\"#2a3f5f\"},\"marker\":{\"line\":{\"color\":\"#E5ECF6\",\"width\":0.5},\"pattern\":{\"fillmode\":\"overlay\",\"size\":10,\"solidity\":0.2}},\"type\":\"bar\"}],\"barpolar\":[{\"marker\":{\"line\":{\"color\":\"#E5ECF6\",\"width\":0.5},\"pattern\":{\"fillmode\":\"overlay\",\"size\":10,\"solidity\":0.2}},\"type\":\"barpolar\"}],\"carpet\":[{\"aaxis\":{\"endlinecolor\":\"#2a3f5f\",\"gridcolor\":\"white\",\"linecolor\":\"white\",\"minorgridcolor\":\"white\",\"startlinecolor\":\"#2a3f5f\"},\"baxis\":{\"endlinecolor\":\"#2a3f5f\",\"gridcolor\":\"white\",\"linecolor\":\"white\",\"minorgridcolor\":\"white\",\"startlinecolor\":\"#2a3f5f\"},\"type\":\"carpet\"}],\"choropleth\":[{\"colorbar\":{\"outlinewidth\":0,\"ticks\":\"\"},\"type\":\"choropleth\"}],\"contour\":[{\"colorbar\":{\"outlinewidth\":0,\"ticks\":\"\"},\"colorscale\":[[0.0,\"#0d0887\"],[0.1111111111111111,\"#46039f\"],[0.2222222222222222,\"#7201a8\"],[0.3333333333333333,\"#9c179e\"],[0.4444444444444444,\"#bd3786\"],[0.5555555555555556,\"#d8576b\"],[0.6666666666666666,\"#ed7953\"],[0.7777777777777778,\"#fb9f3a\"],[0.8888888888888888,\"#fdca26\"],[1.0,\"#f0f921\"]],\"type\":\"contour\"}],\"contourcarpet\":[{\"colorbar\":{\"outlinewidth\":0,\"ticks\":\"\"},\"type\":\"contourcarpet\"}],\"heatmap\":[{\"colorbar\":{\"outlinewidth\":0,\"ticks\":\"\"},\"colorscale\":[[0.0,\"#0d0887\"],[0.1111111111111111,\"#46039f\"],[0.2222222222222222,\"#7201a8\"],[0.3333333333333333,\"#9c179e\"],[0.4444444444444444,\"#bd3786\"],[0.5555555555555556,\"#d8576b\"],[0.6666666666666666,\"#ed7953\"],[0.7777777777777778,\"#fb9f3a\"],[0.8888888888888888,\"#fdca26\"],[1.0,\"#f0f921\"]],\"type\":\"heatmap\"}],\"heatmapgl\":[{\"colorbar\":{\"outlinewidth\":0,\"ticks\":\"\"},\"colorscale\":[[0.0,\"#0d0887\"],[0.1111111111111111,\"#46039f\"],[0.2222222222222222,\"#7201a8\"],[0.3333333333333333,\"#9c179e\"],[0.4444444444444444,\"#bd3786\"],[0.5555555555555556,\"#d8576b\"],[0.6666666666666666,\"#ed7953\"],[0.7777777777777778,\"#fb9f3a\"],[0.8888888888888888,\"#fdca26\"],[1.0,\"#f0f921\"]],\"type\":\"heatmapgl\"}],\"histogram\":[{\"marker\":{\"pattern\":{\"fillmode\":\"overlay\",\"size\":10,\"solidity\":0.2}},\"type\":\"histogram\"}],\"histogram2d\":[{\"colorbar\":{\"outlinewidth\":0,\"ticks\":\"\"},\"colorscale\":[[0.0,\"#0d0887\"],[0.1111111111111111,\"#46039f\"],[0.2222222222222222,\"#7201a8\"],[0.3333333333333333,\"#9c179e\"],[0.4444444444444444,\"#bd3786\"],[0.5555555555555556,\"#d8576b\"],[0.6666666666666666,\"#ed7953\"],[0.7777777777777778,\"#fb9f3a\"],[0.8888888888888888,\"#fdca26\"],[1.0,\"#f0f921\"]],\"type\":\"histogram2d\"}],\"histogram2dcontour\":[{\"colorbar\":{\"outlinewidth\":0,\"ticks\":\"\"},\"colorscale\":[[0.0,\"#0d0887\"],[0.1111111111111111,\"#46039f\"],[0.2222222222222222,\"#7201a8\"],[0.3333333333333333,\"#9c179e\"],[0.4444444444444444,\"#bd3786\"],[0.5555555555555556,\"#d8576b\"],[0.6666666666666666,\"#ed7953\"],[0.7777777777777778,\"#fb9f3a\"],[0.8888888888888888,\"#fdca26\"],[1.0,\"#f0f921\"]],\"type\":\"histogram2dcontour\"}],\"mesh3d\":[{\"colorbar\":{\"outlinewidth\":0,\"ticks\":\"\"},\"type\":\"mesh3d\"}],\"parcoords\":[{\"line\":{\"colorbar\":{\"outlinewidth\":0,\"ticks\":\"\"}},\"type\":\"parcoords\"}],\"pie\":[{\"automargin\":true,\"type\":\"pie\"}],\"scatter\":[{\"marker\":{\"colorbar\":{\"outlinewidth\":0,\"ticks\":\"\"}},\"type\":\"scatter\"}],\"scatter3d\":[{\"line\":{\"colorbar\":{\"outlinewidth\":0,\"ticks\":\"\"}},\"marker\":{\"colorbar\":{\"outlinewidth\":0,\"ticks\":\"\"}},\"type\":\"scatter3d\"}],\"scattercarpet\":[{\"marker\":{\"colorbar\":{\"outlinewidth\":0,\"ticks\":\"\"}},\"type\":\"scattercarpet\"}],\"scattergeo\":[{\"marker\":{\"colorbar\":{\"outlinewidth\":0,\"ticks\":\"\"}},\"type\":\"scattergeo\"}],\"scattergl\":[{\"marker\":{\"colorbar\":{\"outlinewidth\":0,\"ticks\":\"\"}},\"type\":\"scattergl\"}],\"scattermapbox\":[{\"marker\":{\"colorbar\":{\"outlinewidth\":0,\"ticks\":\"\"}},\"type\":\"scattermapbox\"}],\"scatterpolar\":[{\"marker\":{\"colorbar\":{\"outlinewidth\":0,\"ticks\":\"\"}},\"type\":\"scatterpolar\"}],\"scatterpolargl\":[{\"marker\":{\"colorbar\":{\"outlinewidth\":0,\"ticks\":\"\"}},\"type\":\"scatterpolargl\"}],\"scatterternary\":[{\"marker\":{\"colorbar\":{\"outlinewidth\":0,\"ticks\":\"\"}},\"type\":\"scatterternary\"}],\"surface\":[{\"colorbar\":{\"outlinewidth\":0,\"ticks\":\"\"},\"colorscale\":[[0.0,\"#0d0887\"],[0.1111111111111111,\"#46039f\"],[0.2222222222222222,\"#7201a8\"],[0.3333333333333333,\"#9c179e\"],[0.4444444444444444,\"#bd3786\"],[0.5555555555555556,\"#d8576b\"],[0.6666666666666666,\"#ed7953\"],[0.7777777777777778,\"#fb9f3a\"],[0.8888888888888888,\"#fdca26\"],[1.0,\"#f0f921\"]],\"type\":\"surface\"}],\"table\":[{\"cells\":{\"fill\":{\"color\":\"#EBF0F8\"},\"line\":{\"color\":\"white\"}},\"header\":{\"fill\":{\"color\":\"#C8D4E3\"},\"line\":{\"color\":\"white\"}},\"type\":\"table\"}]},\"layout\":{\"annotationdefaults\":{\"arrowcolor\":\"#2a3f5f\",\"arrowhead\":0,\"arrowwidth\":1},\"autotypenumbers\":\"strict\",\"coloraxis\":{\"colorbar\":{\"outlinewidth\":0,\"ticks\":\"\"}},\"colorscale\":{\"diverging\":[[0,\"#8e0152\"],[0.1,\"#c51b7d\"],[0.2,\"#de77ae\"],[0.3,\"#f1b6da\"],[0.4,\"#fde0ef\"],[0.5,\"#f7f7f7\"],[0.6,\"#e6f5d0\"],[0.7,\"#b8e186\"],[0.8,\"#7fbc41\"],[0.9,\"#4d9221\"],[1,\"#276419\"]],\"sequential\":[[0.0,\"#0d0887\"],[0.1111111111111111,\"#46039f\"],[0.2222222222222222,\"#7201a8\"],[0.3333333333333333,\"#9c179e\"],[0.4444444444444444,\"#bd3786\"],[0.5555555555555556,\"#d8576b\"],[0.6666666666666666,\"#ed7953\"],[0.7777777777777778,\"#fb9f3a\"],[0.8888888888888888,\"#fdca26\"],[1.0,\"#f0f921\"]],\"sequentialminus\":[[0.0,\"#0d0887\"],[0.1111111111111111,\"#46039f\"],[0.2222222222222222,\"#7201a8\"],[0.3333333333333333,\"#9c179e\"],[0.4444444444444444,\"#bd3786\"],[0.5555555555555556,\"#d8576b\"],[0.6666666666666666,\"#ed7953\"],[0.7777777777777778,\"#fb9f3a\"],[0.8888888888888888,\"#fdca26\"],[1.0,\"#f0f921\"]]},\"colorway\":[\"#636efa\",\"#EF553B\",\"#00cc96\",\"#ab63fa\",\"#FFA15A\",\"#19d3f3\",\"#FF6692\",\"#B6E880\",\"#FF97FF\",\"#FECB52\"],\"font\":{\"color\":\"#2a3f5f\"},\"geo\":{\"bgcolor\":\"white\",\"lakecolor\":\"white\",\"landcolor\":\"#E5ECF6\",\"showlakes\":true,\"showland\":true,\"subunitcolor\":\"white\"},\"hoverlabel\":{\"align\":\"left\"},\"hovermode\":\"closest\",\"mapbox\":{\"style\":\"light\"},\"paper_bgcolor\":\"white\",\"plot_bgcolor\":\"#E5ECF6\",\"polar\":{\"angularaxis\":{\"gridcolor\":\"white\",\"linecolor\":\"white\",\"ticks\":\"\"},\"bgcolor\":\"#E5ECF6\",\"radialaxis\":{\"gridcolor\":\"white\",\"linecolor\":\"white\",\"ticks\":\"\"}},\"scene\":{\"xaxis\":{\"backgroundcolor\":\"#E5ECF6\",\"gridcolor\":\"white\",\"gridwidth\":2,\"linecolor\":\"white\",\"showbackground\":true,\"ticks\":\"\",\"zerolinecolor\":\"white\"},\"yaxis\":{\"backgroundcolor\":\"#E5ECF6\",\"gridcolor\":\"white\",\"gridwidth\":2,\"linecolor\":\"white\",\"showbackground\":true,\"ticks\":\"\",\"zerolinecolor\":\"white\"},\"zaxis\":{\"backgroundcolor\":\"#E5ECF6\",\"gridcolor\":\"white\",\"gridwidth\":2,\"linecolor\":\"white\",\"showbackground\":true,\"ticks\":\"\",\"zerolinecolor\":\"white\"}},\"shapedefaults\":{\"line\":{\"color\":\"#2a3f5f\"}},\"ternary\":{\"aaxis\":{\"gridcolor\":\"white\",\"linecolor\":\"white\",\"ticks\":\"\"},\"baxis\":{\"gridcolor\":\"white\",\"linecolor\":\"white\",\"ticks\":\"\"},\"bgcolor\":\"#E5ECF6\",\"caxis\":{\"gridcolor\":\"white\",\"linecolor\":\"white\",\"ticks\":\"\"}},\"title\":{\"x\":0.05},\"xaxis\":{\"automargin\":true,\"gridcolor\":\"white\",\"linecolor\":\"white\",\"ticks\":\"\",\"title\":{\"standoff\":15},\"zerolinecolor\":\"white\",\"zerolinewidth\":2},\"yaxis\":{\"automargin\":true,\"gridcolor\":\"white\",\"linecolor\":\"white\",\"ticks\":\"\",\"title\":{\"standoff\":15},\"zerolinecolor\":\"white\",\"zerolinewidth\":2}}},\"title\":{\"text\":\"Set title here\"},\"width\":600,\"xaxis\":{\"anchor\":\"y\",\"constrain\":\"domain\",\"domain\":[0.0,1.0],\"scaleanchor\":\"y\"},\"yaxis\":{\"anchor\":\"x\",\"autorange\":\"reversed\",\"constrain\":\"domain\",\"domain\":[0.0,1.0]}},                        {\"responsive\": true}                    ).then(function(){\n",
       "                            \n",
       "var gd = document.getElementById('4293b31b-0641-4681-979c-49a3c322d4c8');\n",
       "var x = new MutationObserver(function (mutations, observer) {{\n",
       "        var display = window.getComputedStyle(gd).display;\n",
       "        if (!display || display === 'none') {{\n",
       "            console.log([gd, 'removed!']);\n",
       "            Plotly.purge(gd);\n",
       "            observer.disconnect();\n",
       "        }}\n",
       "}});\n",
       "\n",
       "// Listen for the removal of the full notebook cells\n",
       "var notebookContainer = gd.closest('#notebook-container');\n",
       "if (notebookContainer) {{\n",
       "    x.observe(notebookContainer, {childList: true});\n",
       "}}\n",
       "\n",
       "// Listen for the clearing of the current output cell\n",
       "var outputEl = gd.closest('.output');\n",
       "if (outputEl) {{\n",
       "    x.observe(outputEl, {childList: true});\n",
       "}}\n",
       "\n",
       "                        })                };                });            </script>        </div>"
      ]
     },
     "metadata": {},
     "output_type": "display_data"
    }
   ],
   "source": [
    "# HEAT MAP people_vaccinated,people_fully_vaccinated,total_boosters,NEW CASE,NEW DEATH\n",
    "\n",
    "\n",
    "relation5_el = owid_covid_data[['people_vaccinated','people_fully_vaccinated','total_boosters'\n",
    ",'new_cases','new_deaths','location','date','stringency_index','new_vaccinations']]\n",
    "\n",
    "relation5_el= relation5_el.groupby('date').mean()\n",
    "\n",
    "corr_relation5_el = relation5_el.corr()\n",
    "\n",
    "corr_relation5_el.head()\n",
    "\n",
    "fig = px.imshow(corr_relation5_el\n",
    ", title=\"Set title here\",width=600)\n",
    "\n",
    "fig.show()\n"
   ]
  },
  {
   "cell_type": "markdown",
   "metadata": {},
   "source": [
    "# BOX PLOT NEW VACCINATIONS "
   ]
  },
  {
   "cell_type": "code",
   "execution_count": 22,
   "metadata": {},
   "outputs": [
    {
     "data": {
      "application/vnd.plotly.v1+json": {
       "config": {
        "plotlyServerURL": "https://plot.ly"
       },
       "data": [
        {
         "alignmentgroup": "True",
         "hovertemplate": "Y title (unit)=Asia<br>x title (unit)=%{x}<extra></extra>",
         "legendgroup": "Asia",
         "marker": {
          "color": "#636efa"
         },
         "name": "Asia",
         "notched": false,
         "offsetgroup": "Asia",
         "orientation": "h",
         "showlegend": true,
         "type": "box",
         "x": [
          null,
          null,
          null,
          null,
          null,
          null,
          null,
          null,
          null,
          null,
          null,
          null,
          null,
          null,
          null,
          null,
          null,
          null,
          null,
          null,
          null,
          null,
          null,
          null,
          null,
          null,
          null,
          null,
          null,
          null,
          null,
          null,
          null,
          null,
          null,
          null,
          null,
          null,
          null,
          null,
          null,
          null,
          null,
          null,
          null,
          null,
          null,
          null,
          null,
          null,
          null,
          null,
          null,
          null,
          null,
          null,
          null,
          null,
          null,
          null,
          null,
          null,
          null,
          null,
          null,
          null,
          null,
          null,
          null,
          null,
          null,
          null,
          null,
          null,
          null,
          null,
          null,
          null,
          null,
          null,
          null,
          null,
          null,
          null,
          null,
          null,
          null,
          null,
          null,
          null,
          null,
          null,
          null,
          null,
          null,
          null,
          null,
          null,
          null,
          null,
          null,
          null,
          null,
          null,
          null,
          null,
          null,
          null,
          null,
          null,
          null,
          null,
          null,
          null,
          null,
          null,
          null,
          null,
          null,
          null,
          null,
          null,
          null,
          null,
          null,
          null,
          null,
          null,
          null,
          null,
          null,
          null,
          null,
          null,
          null,
          null,
          null,
          null,
          null,
          null,
          null,
          null,
          null,
          null,
          null,
          null,
          null,
          null,
          null,
          null,
          null,
          null,
          null,
          null,
          null,
          null,
          null,
          null,
          null,
          null,
          null,
          null,
          null,
          null,
          null,
          null,
          null,
          null,
          null,
          null,
          null,
          null,
          null,
          null,
          null,
          null,
          null,
          null,
          null,
          null,
          null,
          null,
          null,
          null,
          null,
          null,
          null,
          null,
          null,
          null,
          null,
          null,
          null,
          null,
          null,
          null,
          null,
          null,
          null,
          null,
          null,
          null,
          null,
          null,
          null,
          null,
          null,
          null,
          null,
          null,
          null,
          null,
          null,
          null,
          null,
          null,
          null,
          null,
          null,
          null,
          null,
          null,
          null,
          null,
          null,
          null,
          null,
          null,
          null,
          null,
          null,
          null,
          null,
          null,
          null,
          null,
          null,
          null,
          null,
          null,
          null,
          null,
          null,
          null,
          null,
          null,
          null,
          null,
          null,
          null,
          null,
          null,
          null,
          null,
          null,
          null,
          null,
          null,
          null,
          null,
          null,
          null,
          null,
          null,
          null,
          null,
          null,
          null,
          null,
          null,
          null,
          null,
          null,
          null,
          null,
          null,
          null,
          null,
          null,
          null,
          null,
          null,
          null,
          null,
          null,
          null,
          null,
          null,
          null,
          null,
          null,
          null,
          null,
          null,
          null,
          null,
          null,
          null,
          null,
          null,
          null,
          null,
          null,
          null,
          null,
          null,
          null,
          null,
          null,
          null,
          null,
          null,
          null,
          null,
          null,
          null,
          null,
          null,
          null,
          null,
          null,
          null,
          null,
          null,
          null,
          null,
          null,
          null,
          null,
          null,
          null,
          null,
          null,
          null,
          null,
          null,
          null,
          null,
          null,
          null,
          null,
          null,
          null,
          null,
          null,
          null,
          null,
          null,
          null,
          null,
          null,
          null,
          null,
          null,
          7382,
          24902,
          44632,
          62878,
          42243.5,
          19476.5,
          16806,
          53265,
          68165.5,
          52944.666666666664,
          51977,
          53739,
          36022,
          36210,
          50595.333333333336,
          51623.666666666664,
          43116.333333333336,
          27262.25,
          45506.75,
          31592.75,
          32304.25,
          28942,
          31686.25,
          35674,
          76617.66666666667,
          134835,
          180649,
          109694.75,
          60214.2,
          127151,
          128917.6,
          110224.2,
          155951.5,
          157713,
          99356.75,
          64742.8,
          130738.66666666667,
          84995.16666666667,
          99407.5,
          187916.33333333334,
          181633.83333333334,
          96769.16666666667,
          71099.33333333333,
          110217.66666666667,
          100487.5,
          107783.42857142857,
          148987.42857142858,
          116797.85714285714,
          98920,
          42092.71428571428,
          113654.42857142857,
          76461.5,
          111725.1,
          115224,
          173123.2857142857,
          80737.14285714286,
          56294.666666666664,
          96435.66666666667,
          126463.81818181818,
          135165.63636363635,
          159435.16666666666,
          128616.6,
          94073.375,
          60846.5,
          89946.22222222222,
          127880.27272727272,
          123950.36363636363,
          122340.69230769231,
          101348.92307692308,
          85874,
          38428.583333333336,
          76200,
          96876.5,
          140842.92857142858,
          151306.15384615384,
          145191.07142857142,
          142348.58333333334,
          18661.071428571428,
          149472.4705882353,
          120516.05882352941,
          97694.15,
          65776.47368421052,
          148755.84210526315,
          139943.29411764705,
          37073.58823529412,
          248877.9375,
          181991.63157894736,
          187400.2105263158,
          190292.76470588235,
          251830.35294117648,
          204028,
          56838.76470588235,
          243756.72222222222,
          333001.75,
          328710.4210526316,
          456879.84210526315,
          526627.7368421053,
          406744.5263157895,
          276177.84210526315,
          298439.27777777775,
          310466.71428571426,
          374202.4090909091,
          496799.125,
          510807.0416666667,
          296118.8181818182,
          288930.8333333333,
          306243.08,
          332179.04,
          296266.84,
          465960.52,
          427291.32,
          310227.25,
          293398,
          431732.86363636365,
          301178.08,
          327649.2916666667,
          335235.48,
          300799.96,
          228609.72,
          174593.65217391305,
          307774.04347826086,
          219280.75,
          293908.82608695654,
          419770.96428571426,
          275392.875,
          243578.3,
          264019.45,
          402724.5,
          399824.6296296296,
          457886.3214285714,
          504319.9259259259,
          646952.72,
          379700.4,
          294036,
          355805.14285714284,
          335216.6956521739,
          326334.3333333333,
          488348.6538461539,
          640105.3913043478,
          597914.619047619,
          396866.5238095238,
          626735.5,
          596021.3478260869,
          657043.9565217391,
          730556.3181818182,
          703790.3478260869,
          630160.0833333334,
          701337.0454545454,
          735171.24,
          652987.074074074,
          627016.5925925926,
          794870.5769230769,
          740341.1481481482,
          631137.5833333334,
          676226.7391304348,
          830126.48,
          821115.6551724138,
          957597,
          828518.6785714285,
          997337.0869565217,
          1058815.7272727273,
          1056564.9,
          1262511.380952381,
          997494.6923076923,
          1101962.423076923,
          914710.2962962963,
          1162207.32,
          900944,
          729747.9615384615,
          829659.0370370371,
          822645.4074074074,
          916231.4,
          1003188.7857142857,
          950944.9629629629,
          858335.7916666666,
          752851.8888888889,
          680439.3571428572,
          1006563.4642857143,
          1056209.5862068965,
          1119864.4137931035,
          1126451.896551724,
          1101992.423076923,
          1079842.375,
          1415177.2916666667,
          1344846.125,
          1314741.625,
          1442915.88,
          1320679.0384615385,
          1327994.96,
          1162523.4583333333,
          1103030.8846153845,
          1071708.5,
          902641.5862068966,
          1116505.148148148,
          972083.92,
          1012067.04,
          624806.5185185185,
          727503.1034482758,
          767846.5357142857,
          682676.5172413794,
          1017821.6785714285,
          663832.48,
          590371.5238095238,
          575590.875,
          657262.3703703703,
          788884.2857142857,
          961714.4230769231,
          893028.7307692308,
          874264.64,
          817318.7916666666,
          532931.875,
          613584.5833333334,
          770056.4583333334,
          865334.304347826,
          1023729.5384615385,
          1026007.12,
          948372.4166666666,
          742109,
          923612.0645161291,
          912826.1875,
          1019526.3793103448,
          1119838.1379310344,
          1105351.1724137932,
          833143.7407407408,
          758912.5862068966,
          855059.4137931034,
          889872.8709677419,
          1052516.71875,
          991741.2068965518,
          1076890.3461538462,
          896756.7692307692,
          752743.6785714285,
          881174.4285714285,
          998445.0689655172,
          851809.8387096775,
          749464.0344827586,
          704992.96,
          892636.3478260869,
          548810.5238095238,
          714313.3214285715,
          966496.4285714285,
          902823.551724138,
          870645.8928571428,
          912308.8461538461,
          777028.1481481482,
          734769.1923076923,
          777189.6896551724,
          963778.1428571428,
          967334.1724137932,
          909346.7741935484,
          1343278.08,
          1273421.7272727273,
          832045.8076923077,
          954062.8518518518,
          899515.7407407408,
          1146196.3666666667,
          884178.1071428572,
          833565.5652173914,
          583033.76,
          642695.5925925926,
          596708.7,
          978778.0689655172,
          1181562.9583333333,
          1008730.7307692308,
          650820.52,
          1017637.9545454546,
          667182.92,
          814492.7,
          477785.63333333336,
          703383.3333333334,
          753432.6666666666,
          652940.5555555555,
          1150216.8333333333,
          726976.0869565217,
          578293.5384615385,
          632169.9285714285,
          601691.6923076923,
          770884.6538461539,
          821781.16,
          477820.4583333333,
          408088.2083333333,
          972636.2307692308,
          597298.5555555555,
          897559.7307692308,
          566845.4137931034,
          530215.8333333334,
          592878.6666666666,
          365881.2083333333,
          403013.63333333336,
          553580.9354838709,
          466667.26666666666,
          414287.77777777775,
          679034.9130434783,
          581546.3478260869,
          540291.8333333334,
          411968.8461538461,
          627770.2222222222,
          517913.3703703704,
          434039.1666666667,
          430301.2916666667,
          326035.95238095237,
          427896,
          431977.8888888889,
          690501.75,
          751158.6923076923,
          556265.84,
          652954.4090909091,
          458004.86363636365,
          584029.8181818182,
          368298.6956521739,
          625531.6666666666,
          609985.32,
          713986.84,
          920195.7272727273,
          879402.4285714285,
          656982.6315789474,
          740544.6818181818,
          632538.2380952381
         ],
         "x0": " ",
         "xaxis": "x",
         "y0": " ",
         "yaxis": "y"
        },
        {
         "alignmentgroup": "True",
         "hovertemplate": "Y title (unit)=Europe<br>x title (unit)=%{x}<extra></extra>",
         "legendgroup": "Europe",
         "marker": {
          "color": "#EF553B"
         },
         "name": "Europe",
         "notched": false,
         "offsetgroup": "Europe",
         "orientation": "h",
         "showlegend": true,
         "type": "box",
         "x": [
          null,
          null,
          null,
          null,
          null,
          null,
          null,
          null,
          null,
          null,
          null,
          null,
          null,
          null,
          null,
          null,
          null,
          null,
          null,
          null,
          null,
          null,
          null,
          null,
          null,
          null,
          null,
          null,
          null,
          null,
          null,
          null,
          null,
          null,
          null,
          null,
          null,
          null,
          null,
          null,
          null,
          null,
          null,
          null,
          null,
          null,
          null,
          null,
          null,
          null,
          null,
          null,
          null,
          null,
          null,
          null,
          null,
          null,
          null,
          null,
          null,
          null,
          null,
          null,
          null,
          null,
          null,
          null,
          null,
          null,
          null,
          null,
          null,
          null,
          null,
          null,
          null,
          null,
          null,
          null,
          null,
          null,
          null,
          null,
          null,
          null,
          null,
          null,
          null,
          null,
          null,
          null,
          null,
          null,
          null,
          null,
          null,
          null,
          null,
          null,
          null,
          null,
          null,
          null,
          null,
          null,
          null,
          null,
          null,
          null,
          null,
          null,
          null,
          null,
          null,
          null,
          null,
          null,
          null,
          null,
          null,
          null,
          null,
          null,
          null,
          null,
          null,
          null,
          null,
          null,
          null,
          null,
          null,
          null,
          null,
          null,
          null,
          null,
          null,
          null,
          null,
          null,
          null,
          null,
          null,
          null,
          null,
          null,
          null,
          null,
          null,
          null,
          null,
          null,
          null,
          null,
          null,
          null,
          null,
          null,
          null,
          null,
          null,
          null,
          null,
          null,
          null,
          null,
          null,
          null,
          null,
          null,
          null,
          null,
          null,
          null,
          null,
          null,
          null,
          null,
          null,
          null,
          null,
          null,
          null,
          null,
          null,
          null,
          null,
          null,
          null,
          null,
          null,
          null,
          null,
          null,
          null,
          null,
          null,
          null,
          null,
          null,
          null,
          null,
          null,
          null,
          null,
          null,
          null,
          null,
          null,
          null,
          null,
          null,
          null,
          null,
          null,
          null,
          null,
          null,
          null,
          null,
          null,
          null,
          null,
          null,
          null,
          null,
          null,
          null,
          null,
          null,
          null,
          null,
          null,
          null,
          null,
          null,
          null,
          null,
          null,
          null,
          null,
          null,
          null,
          null,
          null,
          null,
          null,
          null,
          null,
          null,
          null,
          null,
          null,
          null,
          null,
          null,
          null,
          null,
          null,
          null,
          null,
          null,
          null,
          null,
          null,
          null,
          null,
          null,
          null,
          null,
          null,
          null,
          null,
          null,
          null,
          null,
          null,
          null,
          null,
          null,
          null,
          null,
          null,
          null,
          null,
          null,
          null,
          null,
          null,
          null,
          null,
          null,
          null,
          null,
          null,
          null,
          null,
          null,
          null,
          null,
          null,
          null,
          null,
          null,
          null,
          null,
          null,
          null,
          null,
          null,
          null,
          null,
          null,
          null,
          null,
          null,
          null,
          null,
          null,
          null,
          null,
          null,
          null,
          null,
          null,
          null,
          null,
          null,
          null,
          null,
          null,
          null,
          null,
          null,
          null,
          0,
          0,
          0,
          0,
          0,
          0,
          0,
          0,
          0,
          0,
          0,
          0,
          0,
          0.5,
          2.6666666666666665,
          9,
          5,
          6,
          7.5,
          7,
          89.6,
          56.4,
          0.3333333333333333,
          148,
          1205.6,
          2477,
          4634.65,
          6641.809523809524,
          5566.105263157895,
          2339.5555555555557,
          5583.611111111111,
          3539.157894736842,
          10114.21052631579,
          14656.227272727272,
          12743.42857142857,
          14395.95652173913,
          15585.653846153846,
          9320.130434782608,
          6352.4,
          22363.5,
          26456.74074074074,
          32551.74074074074,
          31535.071428571428,
          31952.5,
          19480.222222222223,
          13913.083333333334,
          23241.56,
          31628.833333333332,
          33819.566666666666,
          36789,
          35204.83870967742,
          30844.074074074073,
          17400,
          30980.03846153846,
          34699.566666666666,
          34825.03333333333,
          41221.8,
          40658.8275862069,
          34846.58620689655,
          22555.24,
          36147.653846153844,
          38987.24137931035,
          43914.1935483871,
          45066.09375,
          41092.3,
          31907.724137931036,
          17510.25925925926,
          31641.14814814815,
          36834.206896551725,
          41964.89655172414,
          48845.357142857145,
          48709.607142857145,
          33584.607142857145,
          17599.666666666668,
          32762.48148148148,
          37737.4,
          47601,
          50316.5,
          42686.74193548387,
          30259.206896551725,
          18021.653846153848,
          34678,
          41390.68965517241,
          50478.7,
          52885,
          49035.6875,
          39218.433333333334,
          19560,
          37927.933333333334,
          43644.71875,
          57170.8125,
          76281.62857142858,
          63527.17647058824,
          50459.85294117647,
          29081.64285714286,
          46279.48275862069,
          50146.41176470588,
          65443.757575757576,
          65212.08823529412,
          61835.794117647056,
          51195.818181818184,
          30133.7,
          46872.13333333333,
          48735.35294117647,
          54396.91428571429,
          61605.194444444445,
          70947.08823529411,
          61092.84375,
          35955.41379310345,
          52800.142857142855,
          60811.14705882353,
          70937.38888888889,
          75408.21212121213,
          82488.57575757576,
          56560.5625,
          45177.64,
          68593.04347826086,
          74495.36666666667,
          85076.05555555556,
          89362.62162162163,
          66515.73529411765,
          50074.030303030304,
          26033.1,
          32768.90625,
          78336.27272727272,
          102774.22222222222,
          114068.08333333333,
          104881.27777777778,
          74659.33333333333,
          45458.25806451613,
          68846.15151515152,
          89262.6052631579,
          108447.44117647059,
          111297.81818181818,
          107550.2,
          77411.65625,
          58570.12903225807,
          68655.625,
          91993.69444444444,
          114082.27777777778,
          112490.15789473684,
          109844.44444444444,
          97205.2,
          52805.81481481482,
          89596.46666666666,
          99325.24324324324,
          141677.77777777778,
          149935.94285714286,
          116757.21212121213,
          71943.5625,
          55920.32142857143,
          91965,
          115014.72727272728,
          147244.63888888888,
          157373.05555555556,
          134773.17647058822,
          103988.45454545454,
          56462.5625,
          110557.7741935484,
          136278.88571428572,
          166571.85294117648,
          125418.625,
          146298.9393939394,
          121112.09375,
          72731.93103448275,
          114205.03225806452,
          141059.9714285714,
          136532.92105263157,
          146171.91428571427,
          138115.57142857142,
          133123.0303030303,
          59360.84375,
          84507.08108108108,
          119430.81081081081,
          164301.16666666666,
          148560.75,
          140326.14285714287,
          102730.20588235294,
          70075,
          109565.96774193548,
          155755.30555555556,
          169379.38888888888,
          135777.18421052632,
          152224.15151515152,
          122308.96551724138,
          78182.96666666666,
          124649.05714285714,
          157819.32352941178,
          186692.45454545456,
          176102.32352941178,
          148648.77142857143,
          128332.54838709677,
          77101.03571428571,
          125716.71875,
          129390.69444444444,
          152054.94444444444,
          178612.35294117648,
          167725.06666666668,
          118290.46666666666,
          68893.19354838709,
          113934.94117647059,
          167913.37142857144,
          159332.8,
          163855.0285714286,
          144328.03125,
          117197.27586206897,
          86135.88888888889,
          149803.72413793104,
          161155.0909090909,
          167151.5588235294,
          174268.78787878787,
          153377.32258064515,
          106087.53125,
          67997.83333333333,
          115818.90625,
          153801.69444444444,
          150463.67567567568,
          142849.63888888888,
          138215.45714285714,
          97739.21212121213,
          54213.875,
          107302.29411764706,
          140807.86486486485,
          141868.05128205128,
          136791.7105263158,
          185321.93103448275,
          95709.21428571429,
          69795.84615384616,
          122512.88888888889,
          179382.63636363635,
          140296.20588235295,
          140303.91428571427,
          150154.12903225806,
          92943.70833333333,
          51873.769230769234,
          107641.86666666667,
          139002.71875,
          124933.65714285715,
          132223.25714285715,
          117132.5294117647,
          85162.58823529411,
          45518.21428571428,
          88326.16666666667,
          114355.9705882353,
          126462.54285714286,
          100871.57142857143,
          95579.65625,
          83031.33333333333,
          47748.5,
          85334.21428571429,
          116687.0303030303,
          107376.72972972973,
          108690.06060606061,
          156113.89655172414,
          119500.96296296296,
          37894.07407407407,
          76814.84375,
          81626.7027027027,
          88550.36111111111,
          94180.38235294117,
          86111.59375,
          65205.393939393936,
          38004.51612903226,
          72053.3870967742,
          87757.6875,
          90587.42424242424,
          81076.88235294117,
          81097.61764705883,
          52445.90625,
          30604.266666666666,
          69860.09677419355,
          80093.16129032258,
          88886.6,
          68066.91891891892,
          77765.93548387097,
          47270.92857142857,
          26945.068965517243,
          49587.6875,
          83554.06666666667,
          62024.096774193546,
          63512.41176470588,
          69026.8,
          40899.06451612903,
          25503.266666666666,
          67114.06896551725,
          52230.8,
          61718.30303030303,
          54804.36363636364,
          52178,
          32259.074074074073,
          14686.555555555555,
          37590.967741935485,
          49739.8125,
          53529.828571428574,
          40639.393939393936,
          44966.25,
          33705.25,
          17397.333333333332,
          41869.51612903226,
          38499.967741935485,
          47439.121212121216,
          73267.625,
          52275.89655172414,
          41424.31034482759,
          18610.037037037036,
          45367.03448275862,
          55900.724137931036,
          61368.93548387097,
          94223.67741935483,
          52491,
          37132.24137931035,
          19703.793103448275,
          37094.724137931036,
          40456.275862068964,
          61321.242424242424,
          42371.90625,
          64392.433333333334,
          35194.82142857143,
          17122.4,
          40174.03703703704,
          42900.290322580644,
          49403.48484848485,
          60390.57575757576,
          72201.13333333333,
          67674.10714285714,
          17160,
          41379.89655172414,
          55798.137931034486,
          65954.87096774194,
          56771.74193548387,
          77595.875,
          71944.06896551725,
          36818.28,
          46309.38461538462,
          89753.66666666667
         ],
         "x0": " ",
         "xaxis": "x",
         "y0": " ",
         "yaxis": "y"
        },
        {
         "alignmentgroup": "True",
         "hovertemplate": "Y title (unit)=Africa<br>x title (unit)=%{x}<extra></extra>",
         "legendgroup": "Africa",
         "marker": {
          "color": "#00cc96"
         },
         "name": "Africa",
         "notched": false,
         "offsetgroup": "Africa",
         "orientation": "h",
         "showlegend": true,
         "type": "box",
         "x": [
          null,
          null,
          null,
          null,
          null,
          null,
          null,
          null,
          null,
          null,
          null,
          null,
          null,
          null,
          null,
          null,
          null,
          null,
          null,
          null,
          null,
          null,
          null,
          null,
          null,
          null,
          null,
          null,
          null,
          null,
          null,
          null,
          null,
          null,
          null,
          null,
          null,
          null,
          null,
          null,
          null,
          null,
          null,
          null,
          null,
          null,
          null,
          null,
          null,
          null,
          null,
          null,
          null,
          null,
          null,
          null,
          null,
          null,
          null,
          null,
          null,
          null,
          null,
          null,
          null,
          null,
          null,
          null,
          null,
          null,
          null,
          null,
          null,
          null,
          null,
          null,
          null,
          null,
          null,
          null,
          null,
          null,
          null,
          null,
          null,
          null,
          null,
          null,
          null,
          null,
          null,
          null,
          null,
          null,
          null,
          null,
          null,
          null,
          null,
          null,
          null,
          null,
          null,
          null,
          null,
          null,
          null,
          null,
          null,
          null,
          null,
          null,
          null,
          null,
          null,
          null,
          null,
          null,
          null,
          null,
          null,
          null,
          null,
          null,
          null,
          null,
          null,
          null,
          null,
          null,
          null,
          null,
          null,
          null,
          null,
          null,
          null,
          null,
          null,
          null,
          null,
          null,
          null,
          null,
          null,
          null,
          null,
          null,
          null,
          null,
          null,
          null,
          null,
          null,
          null,
          null,
          null,
          null,
          null,
          null,
          null,
          null,
          null,
          null,
          null,
          null,
          null,
          null,
          null,
          null,
          null,
          null,
          null,
          null,
          null,
          null,
          null,
          null,
          null,
          null,
          null,
          null,
          null,
          null,
          null,
          null,
          null,
          null,
          null,
          null,
          null,
          null,
          null,
          null,
          null,
          null,
          null,
          null,
          null,
          null,
          null,
          null,
          null,
          null,
          null,
          null,
          null,
          null,
          null,
          null,
          null,
          null,
          null,
          null,
          null,
          null,
          null,
          null,
          null,
          null,
          null,
          null,
          null,
          null,
          null,
          null,
          null,
          null,
          null,
          null,
          null,
          null,
          null,
          null,
          null,
          null,
          null,
          null,
          null,
          null,
          null,
          null,
          null,
          null,
          null,
          null,
          null,
          null,
          null,
          null,
          null,
          null,
          null,
          null,
          null,
          null,
          null,
          null,
          null,
          null,
          null,
          null,
          null,
          null,
          null,
          null,
          null,
          null,
          null,
          null,
          null,
          null,
          null,
          null,
          null,
          null,
          null,
          null,
          null,
          null,
          null,
          null,
          null,
          null,
          null,
          null,
          null,
          null,
          null,
          null,
          null,
          null,
          null,
          null,
          null,
          null,
          null,
          null,
          null,
          null,
          null,
          null,
          null,
          null,
          null,
          null,
          null,
          null,
          null,
          null,
          null,
          null,
          null,
          null,
          null,
          null,
          null,
          null,
          null,
          null,
          null,
          null,
          null,
          null,
          null,
          null,
          null,
          null,
          null,
          null,
          null,
          null,
          null,
          null,
          null,
          null,
          null,
          null,
          null,
          null,
          null,
          null,
          null,
          null,
          null,
          null,
          null,
          null,
          null,
          null,
          null,
          null,
          null,
          null,
          null,
          null,
          null,
          null,
          null,
          null,
          null,
          null,
          null,
          null,
          null,
          null,
          null,
          null,
          null,
          null,
          null,
          null,
          null,
          null,
          null,
          null,
          null,
          null,
          null,
          null,
          null,
          3000,
          null,
          null,
          null,
          2187,
          null,
          null,
          1463,
          null,
          null,
          2823,
          2875,
          3192,
          2082,
          30,
          36000,
          74081,
          29207.5,
          25957.5,
          43325,
          56512,
          55731,
          null,
          null,
          33880.5,
          67286.5,
          56480,
          256785,
          276436,
          null,
          null,
          99410,
          89102,
          77022.5,
          45021.666666666664,
          51466,
          4974,
          7671,
          33581.666666666664,
          74356.75,
          69702.25,
          60663.75,
          46100.25,
          2575.6666666666665,
          4471.333333333333,
          40231.25,
          42665.75,
          29198.2,
          40726.25,
          40599.8,
          10252.5,
          3875.25,
          23403.833333333332,
          39264.833333333336,
          37681.6,
          77251,
          49038,
          1048.8,
          11358,
          32702,
          26489.428571428572,
          3396.4285714285716,
          4014,
          15393.166666666666,
          1337.8,
          3474.4285714285716,
          14970.125,
          38530.555555555555,
          38060.857142857145,
          29545.428571428572,
          20327.25,
          5778.666666666667,
          6803,
          27681.333333333332,
          23360,
          31094.75,
          24072.8,
          20066.4,
          4935.25,
          5586.4,
          18506.428571428572,
          24583.6,
          31968.714285714286,
          16406.571428571428,
          15525.857142857143,
          8987,
          9402.875,
          10984.42857142857,
          14408.166666666666,
          7678.25,
          11047.857142857143,
          17072.8,
          3399.5,
          4366.5,
          6544.333333333333,
          11195.222222222223,
          7011.777777777777,
          9260.125,
          9411.333333333334,
          5405.142857142857,
          7171.833333333333,
          18587.11111111111,
          30077.333333333332,
          11649,
          6802,
          8196.875,
          6595.833333333333,
          12408.285714285714,
          26920.545454545456,
          22103.727272727272,
          14394.7,
          51365.666666666664,
          17885.1,
          9981.25,
          9824.857142857143,
          45261.857142857145,
          25150.5,
          12524.57142857143,
          10659.857142857143,
          34728.5,
          9872.285714285714,
          10863.875,
          55397.77777777778,
          60200,
          48809.333333333336,
          52224.625,
          30186.4,
          18788.8,
          26970.333333333332,
          73713.77777777778,
          16425.666666666668,
          20778.666666666668,
          19153.25,
          8767,
          13099.375,
          18602.5,
          41839.6,
          43763.4,
          45202,
          21889.833333333332,
          11741,
          8825,
          17274,
          61787.6,
          47247.88888888889,
          40725.11111111111,
          37066.9,
          13885.375,
          11048.333333333334,
          17120.75,
          24891.470588235294,
          26015.5,
          36799.9,
          31443.2,
          15209,
          6313.5,
          8151.8,
          13524.714285714286,
          8750.2,
          28580.444444444445,
          37751.333333333336,
          13879.888888888889,
          17927.222222222223,
          12505.666666666666,
          25374.4,
          25859.777777777777,
          32310.333333333332,
          18264.875,
          10698,
          19754,
          32301.222222222223,
          36583.75,
          25260,
          23706.666666666668,
          35850.5,
          10755.125,
          7399.666666666667,
          52146.857142857145,
          37664.8,
          36608.375,
          82777.57142857143,
          16838.2,
          16844.2,
          10435.142857142857,
          78989.42857142857,
          65119.8,
          13961.2,
          19953,
          69024.6,
          7593.5,
          7628.8,
          77086.22222222222,
          112764.125,
          78950.66666666667,
          85935.85714285714,
          35843,
          23878.571428571428,
          13307,
          68751.14285714286,
          152018.3,
          10808,
          32157.11111111111,
          53563,
          23146.666666666668,
          34561,
          105102.4,
          30476.5,
          62411,
          80805,
          60466.8,
          34706.8,
          23603.2,
          103503,
          114131.28571428571,
          107198.85714285714,
          115868.88888888889,
          90827,
          76470,
          27535,
          114801,
          121427.11111111111,
          39015.71428571428,
          22323.833333333332,
          28122.8,
          32637.285714285714,
          153457.16666666666,
          29819.666666666668,
          57572.28571428572,
          115995.42857142857,
          94583,
          17617.25,
          87069.57142857143,
          19495.714285714286,
          158457,
          12999.4,
          56341.5,
          111321.25,
          213693.25,
          136203.5,
          19159,
          63344,
          73448,
          88599.2,
          215573.2857142857,
          32981,
          24110,
          49557.5,
          45945.5,
          42164.333333333336,
          68097.33333333333,
          68843.875,
          30239,
          28271.166666666668,
          16959.6,
          34767.28571428572,
          37970.4,
          30826.2,
          39155.2,
          31559.166666666668,
          27589.166666666668,
          19406.2,
          21502.166666666668,
          30395.166666666668,
          77544.57142857143,
          43050.8,
          21781.2,
          17005.2,
          14933.5,
          15358,
          17189,
          27326.6,
          24651.8,
          46489.833333333336,
          14668.166666666666,
          16715.2,
          40115.75,
          27537.8,
          25702,
          31214,
          34127.4,
          19094,
          11694,
          42242.8,
          22272,
          46017.8,
          47211,
          36829.666666666664,
          30897.166666666668,
          13958.8,
          33788,
          18945
         ],
         "x0": " ",
         "xaxis": "x",
         "y0": " ",
         "yaxis": "y"
        },
        {
         "alignmentgroup": "True",
         "hovertemplate": "Y title (unit)=North America<br>x title (unit)=%{x}<extra></extra>",
         "legendgroup": "North America",
         "marker": {
          "color": "#ab63fa"
         },
         "name": "North America",
         "notched": false,
         "offsetgroup": "North America",
         "orientation": "h",
         "showlegend": true,
         "type": "box",
         "x": [
          null,
          null,
          null,
          null,
          null,
          null,
          null,
          null,
          null,
          null,
          null,
          null,
          null,
          null,
          null,
          null,
          null,
          null,
          null,
          null,
          null,
          null,
          null,
          null,
          null,
          null,
          null,
          null,
          null,
          null,
          null,
          null,
          null,
          null,
          null,
          null,
          null,
          null,
          null,
          null,
          null,
          null,
          null,
          null,
          null,
          null,
          null,
          null,
          null,
          null,
          null,
          null,
          null,
          null,
          null,
          null,
          null,
          null,
          null,
          null,
          null,
          null,
          null,
          null,
          null,
          null,
          null,
          null,
          null,
          null,
          null,
          null,
          null,
          null,
          null,
          null,
          null,
          null,
          null,
          null,
          null,
          null,
          null,
          null,
          null,
          null,
          null,
          null,
          null,
          null,
          null,
          null,
          null,
          null,
          null,
          null,
          null,
          null,
          null,
          null,
          null,
          null,
          null,
          null,
          null,
          null,
          null,
          null,
          null,
          null,
          null,
          null,
          null,
          null,
          null,
          null,
          null,
          null,
          null,
          null,
          null,
          null,
          null,
          null,
          null,
          null,
          null,
          null,
          null,
          null,
          null,
          null,
          null,
          null,
          null,
          null,
          null,
          null,
          null,
          null,
          null,
          null,
          null,
          null,
          null,
          null,
          null,
          null,
          null,
          null,
          null,
          null,
          null,
          null,
          null,
          null,
          null,
          null,
          null,
          null,
          null,
          null,
          null,
          null,
          null,
          null,
          null,
          null,
          null,
          null,
          null,
          null,
          null,
          null,
          null,
          null,
          null,
          null,
          null,
          null,
          null,
          null,
          null,
          null,
          null,
          null,
          null,
          null,
          null,
          null,
          null,
          null,
          null,
          null,
          null,
          null,
          null,
          null,
          null,
          null,
          null,
          null,
          null,
          null,
          null,
          null,
          null,
          null,
          null,
          null,
          null,
          null,
          null,
          null,
          null,
          null,
          null,
          null,
          null,
          null,
          null,
          null,
          null,
          null,
          null,
          null,
          null,
          null,
          null,
          null,
          null,
          null,
          null,
          null,
          null,
          null,
          null,
          null,
          null,
          null,
          null,
          null,
          null,
          null,
          null,
          null,
          null,
          null,
          null,
          null,
          null,
          null,
          null,
          null,
          null,
          null,
          null,
          null,
          null,
          null,
          null,
          null,
          null,
          null,
          null,
          null,
          null,
          null,
          null,
          null,
          null,
          null,
          null,
          null,
          null,
          null,
          null,
          null,
          null,
          null,
          null,
          null,
          null,
          null,
          null,
          null,
          null,
          null,
          null,
          null,
          null,
          null,
          null,
          null,
          null,
          null,
          null,
          null,
          null,
          null,
          null,
          null,
          null,
          null,
          null,
          null,
          null,
          null,
          null,
          null,
          null,
          null,
          null,
          null,
          null,
          null,
          null,
          null,
          null,
          null,
          null,
          null,
          null,
          null,
          null,
          null,
          null,
          null,
          null,
          null,
          null,
          null,
          null,
          null,
          null,
          null,
          null,
          null,
          null,
          null,
          null,
          null,
          null,
          null,
          null,
          null,
          null,
          null,
          4290,
          24636,
          80413.5,
          137201.5,
          208382,
          90727,
          52395.5,
          194342.5,
          226807.5,
          289972.5,
          102812.5,
          7827,
          70417.5,
          49710,
          198401.33333333334,
          245623,
          284925.3333333333,
          215860.5,
          43896.5,
          132746,
          70930.5,
          335904.5,
          281145.3333333333,
          348317,
          400047.3333333333,
          424873.6666666667,
          182737.66666666666,
          92746,
          368943.6666666667,
          427479,
          481971,
          493972.3333333333,
          464406.6666666667,
          244968.33333333334,
          114106,
          314761,
          462437,
          553835,
          432133.25,
          429594.25,
          233956.5,
          105711.5,
          348907,
          421659,
          486184,
          493531.75,
          479584.5,
          347693,
          156697,
          458018.3333333333,
          422493.75,
          536892,
          588480.5,
          590974,
          442079,
          154845.33333333334,
          530895,
          992863.5,
          773232.6666666666,
          807973.3333333334,
          869021.6666666666,
          500551.3333333333,
          202979.66666666666,
          591194,
          362229,
          424211.6,
          428045.2,
          380546.5,
          206668,
          111964.66666666667,
          315307,
          411311,
          447265.3333333333,
          530747.5,
          561058.8333333334,
          434007.8,
          195248.8,
          428540.6,
          377311.5714285714,
          385035.25,
          424281.125,
          431348.5,
          375849.8333333333,
          204932,
          459888.8,
          517660.1666666667,
          523312.14285714284,
          489471.75,
          624141.3333333334,
          502083,
          201258,
          412636.8333333333,
          522448.5,
          505079.14285714284,
          540635.1428571428,
          534815,
          512358,
          253338,
          535036,
          555318.5,
          783238.6,
          828823,
          716099.3333333334,
          575981.8,
          297256.8,
          637531.8,
          690506.8333333334,
          803691.3333333334,
          592080.25,
          763584.2,
          710438,
          231077,
          881809.25,
          764008,
          718861.8571428572,
          591900.6666666666,
          499235.7,
          419610.125,
          443243.25,
          742485,
          500558.8888888889,
          504747.44444444444,
          417865.0909090909,
          348662.07692307694,
          243584.66666666666,
          181948,
          379061.125,
          362713.63636363635,
          355134.25,
          387255.2727272727,
          311555.8461538461,
          300590.6666666667,
          166674.625,
          320252,
          294710.1818181818,
          263795.3846153846,
          292857.23076923075,
          301290.3333333333,
          232775.8,
          150010.625,
          290680.44444444444,
          303069.7272727273,
          323845,
          299333.6666666667,
          318605.7272727273,
          234459.11111111112,
          121034,
          294494.14285714284,
          251029.6,
          244155.16666666666,
          325195.5,
          280720.45454545453,
          230677.3,
          159554,
          295202.25,
          202909.91666666666,
          202618.92307692306,
          279846.75,
          281272,
          205726.41666666666,
          132342.8,
          197063.3,
          200019.18181818182,
          177964.46666666667,
          158084.83333333334,
          188493.5,
          195739.55555555556,
          116589.3,
          91503.9,
          180359.85714285713,
          170553.5625,
          219521.07142857142,
          263346.8333333333,
          261743.66666666666,
          106643.88888888889,
          164881.66666666666,
          181430.76923076922,
          227432.92307692306,
          172713.07692307694,
          186609.5,
          154303.75,
          112985.3,
          200689.6,
          189030.58333333334,
          157578.64285714287,
          154642.4,
          169334.42857142858,
          151627,
          103499.33333333333,
          171018.2,
          158817.5,
          165981,
          179639.75,
          177909.33333333334,
          161937.66666666666,
          99443.55555555556,
          181412.9090909091,
          183300.08333333334,
          164487.42857142858,
          156768.83333333334,
          176607,
          134878.7142857143,
          66337.14285714286,
          193595.11111111112,
          174379.08333333334,
          144095.73333333334,
          154125.14285714287,
          144137.85714285713,
          149392.88888888888,
          97799.42857142857,
          192909.33333333334,
          149550.6923076923,
          134302.13333333333,
          135290.64285714287,
          147111.76923076922,
          135917.66666666666,
          88233,
          164142.85714285713,
          99980,
          149886.26666666666,
          162686.06666666668,
          199453.13333333333,
          231744.2,
          174473.55555555556,
          192522.875,
          180279.53846153847,
          184763.93333333332,
          164955.33333333334,
          174545.46666666667,
          168447.92307692306,
          139104.7,
          143486.5,
          155716.61538461538,
          140236,
          170259.07142857142,
          167562.2142857143,
          87895.9,
          69081.5,
          205422.375,
          108433.93333333333,
          102072.875,
          162993.53846153847,
          191722.57142857142,
          222498,
          223020.5,
          237832.875,
          142570.66666666666,
          200294.53846153847,
          190287.9090909091,
          155930.07142857142,
          137535.9,
          96085.55555555556,
          165339,
          167763.18181818182,
          164836.76923076922,
          210901,
          215531.36363636365,
          150978.72727272726,
          103433.5,
          145407.72727272726,
          151574.75,
          165457.54545454544,
          163370,
          125960.81818181818,
          180076.3,
          83223.33333333333,
          70870.85714285714,
          150531.81818181818,
          155028.5,
          163684.625,
          271763.1538461539,
          154034.08333333334,
          114015.7,
          143711.9090909091,
          161649.33333333334,
          169779.58333333334,
          132172.7857142857,
          206506.25,
          194366.125,
          98833.54545454546,
          185018.11111111112,
          165883.5,
          142974.64285714287,
          145152.64285714287,
          173586.38461538462,
          132002.41666666666,
          92578.4,
          153368.36363636365,
          186483.63636363635,
          180836.83333333334,
          180981.61538461538,
          197191.375,
          79871.6,
          58403.333333333336,
          149758.77777777778,
          143432.8,
          139148.36363636365,
          171660.07692307694,
          203442.75,
          122685.25,
          84373.90909090909,
          141111.7,
          195933.6,
          111679.75,
          130889.63636363637,
          148789,
          112653,
          65703.625,
          266185.2727272727,
          131236.91666666666,
          137300.63636363635,
          159938.5,
          188528.63636363635,
          139732.63636363635,
          116659.4,
          212157.7,
          251699.76923076922,
          136190.75,
          143341.81818181818,
          153041.81818181818,
          730706.3636363636,
          59480.666666666664,
          39663.875,
          12306.5
         ],
         "x0": " ",
         "xaxis": "x",
         "y0": " ",
         "yaxis": "y"
        },
        {
         "alignmentgroup": "True",
         "hovertemplate": "Y title (unit)=South America<br>x title (unit)=%{x}<extra></extra>",
         "legendgroup": "South America",
         "marker": {
          "color": "#FFA15A"
         },
         "name": "South America",
         "notched": false,
         "offsetgroup": "South America",
         "orientation": "h",
         "showlegend": true,
         "type": "box",
         "x": [
          null,
          null,
          null,
          null,
          null,
          null,
          null,
          null,
          null,
          null,
          null,
          null,
          null,
          null,
          null,
          null,
          null,
          null,
          null,
          null,
          null,
          null,
          null,
          null,
          null,
          null,
          null,
          null,
          null,
          null,
          null,
          null,
          null,
          null,
          null,
          null,
          null,
          null,
          null,
          null,
          null,
          null,
          null,
          null,
          null,
          null,
          null,
          null,
          null,
          null,
          null,
          null,
          null,
          null,
          null,
          null,
          null,
          null,
          null,
          null,
          null,
          null,
          null,
          null,
          null,
          null,
          null,
          null,
          null,
          null,
          null,
          null,
          null,
          null,
          null,
          null,
          null,
          null,
          null,
          null,
          null,
          null,
          null,
          null,
          null,
          null,
          null,
          null,
          null,
          null,
          null,
          null,
          null,
          null,
          null,
          null,
          null,
          null,
          null,
          null,
          null,
          null,
          null,
          null,
          null,
          null,
          null,
          null,
          null,
          null,
          null,
          null,
          null,
          null,
          null,
          null,
          null,
          null,
          null,
          null,
          null,
          null,
          null,
          null,
          null,
          null,
          null,
          null,
          null,
          null,
          null,
          null,
          null,
          null,
          null,
          null,
          null,
          null,
          null,
          null,
          null,
          null,
          null,
          null,
          null,
          null,
          null,
          null,
          null,
          null,
          null,
          null,
          null,
          null,
          null,
          null,
          null,
          null,
          null,
          null,
          null,
          null,
          null,
          null,
          null,
          null,
          null,
          null,
          null,
          null,
          null,
          null,
          null,
          null,
          null,
          null,
          null,
          null,
          null,
          null,
          null,
          null,
          null,
          null,
          null,
          null,
          null,
          null,
          null,
          null,
          null,
          null,
          null,
          null,
          null,
          null,
          null,
          null,
          null,
          null,
          null,
          null,
          null,
          null,
          null,
          null,
          null,
          null,
          null,
          null,
          null,
          null,
          null,
          null,
          null,
          null,
          null,
          null,
          null,
          null,
          null,
          null,
          null,
          null,
          null,
          null,
          null,
          null,
          null,
          null,
          null,
          null,
          null,
          null,
          null,
          null,
          null,
          null,
          null,
          null,
          null,
          null,
          null,
          null,
          null,
          null,
          null,
          null,
          null,
          null,
          null,
          null,
          null,
          null,
          null,
          null,
          null,
          null,
          null,
          null,
          null,
          null,
          null,
          null,
          null,
          null,
          null,
          null,
          null,
          null,
          null,
          null,
          null,
          null,
          null,
          null,
          null,
          null,
          null,
          null,
          null,
          null,
          null,
          null,
          null,
          null,
          null,
          null,
          null,
          null,
          null,
          null,
          null,
          null,
          null,
          null,
          null,
          null,
          null,
          null,
          null,
          null,
          null,
          null,
          null,
          null,
          null,
          null,
          null,
          null,
          null,
          null,
          null,
          null,
          null,
          null,
          null,
          null,
          null,
          null,
          null,
          null,
          null,
          null,
          null,
          null,
          null,
          null,
          null,
          null,
          null,
          null,
          null,
          null,
          null,
          null,
          null,
          null,
          null,
          null,
          null,
          null,
          null,
          null,
          null,
          null,
          null,
          null,
          null,
          null,
          null,
          null,
          null,
          null,
          null,
          null,
          null,
          null,
          null,
          4782,
          3143,
          311,
          0,
          0,
          0,
          0,
          0,
          0,
          0,
          405,
          1443,
          205,
          0,
          1,
          0,
          1,
          0,
          0,
          1033,
          6917,
          3431,
          90,
          56,
          6024,
          14864,
          13191.5,
          32953.75,
          31113.5,
          75099,
          17726.75,
          24734.25,
          40785.75,
          73473.5,
          82800.75,
          46694.6,
          71511.4,
          17729.75,
          13034.75,
          45914.75,
          101036.25,
          193768.5,
          57119.333333333336,
          118112.33333333333,
          47676.75,
          73897.25,
          96403.2,
          123926.8,
          122813.8,
          114058,
          98424.4,
          24982.6,
          66914.6,
          108992,
          93367.4,
          90438.16666666667,
          91809.5,
          60680.166666666664,
          27504.333333333332,
          37529.666666666664,
          59721.57142857143,
          57275,
          61825.28571428572,
          71030,
          58503.666666666664,
          24218.428571428572,
          29986.625,
          83560.625,
          96174.22222222222,
          103425.22222222222,
          103584.11111111111,
          24931.85714285714,
          6742.666666666667,
          65284.71428571428,
          77967.75,
          82095.25,
          125367.55555555556,
          130518.77777777778,
          68197.77777777778,
          24550.666666666668,
          119049.11111111111,
          84617.375,
          76068.875,
          105455.11111111111,
          100306.77777777778,
          40307.3,
          20102.444444444445,
          108802.55555555556,
          160115.6,
          122183.4,
          118006.66666666667,
          115019.22222222222,
          77121.1,
          34128.3,
          101940.33333333333,
          86683.33333333333,
          159627.2,
          74235.5,
          30161.428571428572,
          57270.875,
          22548.88888888889,
          154960.77777777778,
          175695.875,
          236423.125,
          164310.77777777778,
          155711.33333333334,
          136626.11111111112,
          38963.625,
          137787.125,
          411861.2,
          173569.44444444444,
          77132.42857142857,
          75553.42857142857,
          50704.75,
          22513.875,
          139823.66666666666,
          64983,
          93976.55555555556,
          154045.3,
          294082.44444444444,
          112488.55555555556,
          54896.22222222222,
          172146.125,
          212803.625,
          146248.3,
          199006.625,
          166647.75,
          86572.375,
          45331.75,
          162441,
          221940,
          178668.125,
          110220.75,
          106749.5,
          40526.875,
          21314,
          52812.42857142857,
          165670.88888888888,
          186762.22222222222,
          229486.75,
          335288.5714285714,
          110304.125,
          39131.333333333336,
          150492.11111111112,
          170716,
          182824,
          178185.66666666666,
          76492.14285714286,
          71571,
          46854.125,
          82458.25,
          90746.375,
          163971.2,
          170531.375,
          229421.75,
          110084.33333333333,
          70525,
          143967.11111111112,
          198577.22222222222,
          177102.4,
          235177.8,
          149592.88888888888,
          157726,
          80329.6,
          82755.44444444444,
          136075.5,
          137588,
          283121,
          255910.2857142857,
          124599.28571428571,
          50485.88888888889,
          166080.88888888888,
          264418.875,
          252926.5,
          479912.85714285716,
          258156.75,
          238578.57142857142,
          126899.625,
          236763.11111111112,
          360092.125,
          332907.625,
          267238.8888888889,
          134863.875,
          118941,
          76661.28571428571,
          96067.88888888889,
          380334.125,
          150260.25,
          132632.4,
          128628.5,
          140185.875,
          101394.75,
          267123.1,
          214078.875,
          452406.5,
          339233.5714285714,
          320070.4285714286,
          173374.83333333334,
          215843.14285714287,
          290799.3333333333,
          338053.14285714284,
          460050,
          406337.77777777775,
          260479.5,
          385011.125,
          130633.22222222222,
          210483.22222222222,
          325348.22222222225,
          362556,
          392341.5,
          249279.7,
          169627.375,
          109829.25,
          387129.6666666667,
          376357.875,
          293264.875,
          341174.6,
          125928.44444444444,
          408026.875,
          101012,
          143650,
          488602.22222222225,
          325336.5,
          167317.125,
          148291.42857142858,
          416890.75,
          220970.3,
          99403,
          142870.11111111112,
          370817.77777777775,
          132276.14285714287,
          113303.44444444444,
          124148.75,
          204932.44444444444,
          566438.875,
          328876.875,
          341188.1,
          336572.1,
          157203.55555555556,
          140837.33333333334,
          104348.75,
          324080.77777777775,
          243724,
          345597.1,
          557460,
          257735.4,
          172341.5,
          118236.625,
          377523.22222222225,
          119839,
          135377.14285714287,
          367272.4285714286,
          169333.7142857143,
          125422.71428571429,
          313041,
          358870.5,
          188477,
          148555.83333333334,
          327056.77777777775,
          469257.375,
          427224.5714285714,
          138784.57142857142,
          109596.57142857143,
          144257.42857142858,
          324350.6666666667,
          477009,
          143140.6,
          172086,
          393047.3333333333,
          115813.85714285714,
          455526,
          130975.66666666667,
          124945,
          114645.33333333333,
          103583.71428571429,
          310587,
          329765,
          322706,
          153164.16666666666,
          142385.66666666666,
          145688.66666666666,
          150148.5,
          134649,
          129503,
          120413.83333333333,
          201182.875,
          286028.44444444444,
          296913.6666666667,
          269116.625,
          207684,
          111617.33333333333,
          159816.8,
          112743.14285714286,
          157690,
          836814.875,
          171409.4,
          71907.25,
          108288.66666666667,
          415311.8333333333,
          183993.8,
          103491,
          483823.5,
          853742.4285714285,
          224628,
          116168.66666666667,
          160329.2857142857,
          511171.71428571426,
          166866.16666666666,
          157408.8,
          100173.75,
          52329.25,
          52263,
          70499.33333333333
         ],
         "x0": " ",
         "xaxis": "x",
         "y0": " ",
         "yaxis": "y"
        },
        {
         "alignmentgroup": "True",
         "hovertemplate": "Y title (unit)=Oceania<br>x title (unit)=%{x}<extra></extra>",
         "legendgroup": "Oceania",
         "marker": {
          "color": "#19d3f3"
         },
         "name": "Oceania",
         "notched": false,
         "offsetgroup": "Oceania",
         "orientation": "h",
         "showlegend": true,
         "type": "box",
         "x": [
          null,
          null,
          null,
          null,
          null,
          null,
          null,
          null,
          null,
          null,
          null,
          null,
          null,
          null,
          null,
          null,
          null,
          null,
          null,
          null,
          null,
          null,
          null,
          null,
          null,
          null,
          null,
          null,
          null,
          null,
          null,
          null,
          null,
          null,
          null,
          null,
          null,
          null,
          null,
          null,
          null,
          null,
          null,
          null,
          null,
          null,
          null,
          null,
          null,
          null,
          null,
          null,
          null,
          null,
          null,
          null,
          null,
          null,
          null,
          null,
          null,
          null,
          null,
          null,
          null,
          null,
          null,
          null,
          null,
          null,
          null,
          null,
          null,
          null,
          null,
          null,
          null,
          null,
          null,
          null,
          null,
          null,
          null,
          null,
          null,
          null,
          null,
          null,
          null,
          null,
          null,
          null,
          null,
          null,
          null,
          null,
          null,
          null,
          null,
          null,
          null,
          null,
          null,
          null,
          null,
          null,
          null,
          null,
          null,
          null,
          null,
          null,
          null,
          null,
          null,
          null,
          null,
          null,
          null,
          null,
          null,
          null,
          null,
          null,
          null,
          null,
          null,
          null,
          null,
          null,
          null,
          null,
          null,
          null,
          null,
          null,
          null,
          null,
          null,
          null,
          null,
          null,
          null,
          null,
          null,
          null,
          null,
          null,
          null,
          null,
          null,
          null,
          null,
          null,
          null,
          null,
          null,
          null,
          null,
          null,
          null,
          null,
          null,
          null,
          null,
          null,
          null,
          null,
          null,
          null,
          null,
          null,
          null,
          null,
          null,
          null,
          null,
          null,
          null,
          null,
          null,
          null,
          null,
          null,
          null,
          null,
          null,
          null,
          null,
          null,
          null,
          null,
          null,
          null,
          null,
          null,
          null,
          null,
          null,
          null,
          null,
          null,
          null,
          null,
          null,
          null,
          null,
          null,
          null,
          null,
          null,
          null,
          null,
          null,
          null,
          null,
          null,
          null,
          null,
          null,
          null,
          null,
          null,
          null,
          null,
          null,
          null,
          null,
          null,
          null,
          null,
          null,
          null,
          null,
          null,
          null,
          null,
          null,
          null,
          null,
          null,
          null,
          null,
          null,
          null,
          null,
          null,
          null,
          null,
          null,
          null,
          null,
          null,
          null,
          null,
          null,
          null,
          null,
          null,
          null,
          null,
          null,
          null,
          null,
          null,
          null,
          null,
          null,
          null,
          null,
          null,
          null,
          null,
          null,
          null,
          null,
          null,
          null,
          null,
          null,
          null,
          null,
          null,
          null,
          null,
          null,
          null,
          null,
          null,
          null,
          null,
          null,
          null,
          null,
          null,
          null,
          null,
          null,
          null,
          null,
          null,
          null,
          null,
          null,
          null,
          null,
          null,
          null,
          null,
          null,
          null,
          null,
          null,
          null,
          null,
          null,
          null,
          null,
          null,
          null,
          null,
          null,
          null,
          null,
          null,
          null,
          null,
          null,
          null,
          null,
          null,
          null,
          null,
          null,
          null,
          null,
          null,
          null,
          null,
          null,
          null,
          null,
          null,
          null,
          null,
          null,
          null,
          null,
          null,
          null,
          null,
          null,
          null,
          null,
          null,
          null,
          null,
          null,
          null,
          null,
          null,
          null,
          null,
          null,
          null,
          null,
          null,
          null,
          null,
          null,
          null,
          null,
          null,
          null,
          null,
          null,
          null,
          null,
          null,
          null,
          null,
          null,
          null,
          null,
          null,
          null,
          null,
          null,
          null,
          null,
          null,
          null,
          null,
          null,
          null,
          null,
          null,
          null,
          null,
          null,
          null,
          null,
          null,
          null,
          null,
          null,
          null,
          null,
          null,
          null,
          null,
          null,
          null,
          450,
          null,
          29,
          65,
          69,
          1608,
          2241,
          5263.5,
          3990.5,
          4047,
          1617,
          1809,
          4343,
          3686.3333333333335,
          5960.5,
          6246,
          3176,
          2504,
          2767.5,
          4806,
          7422.5,
          8994.5,
          5721.5,
          12616.5,
          2006,
          1409.5,
          9768.5,
          11640.5,
          12254,
          8383,
          7770.5,
          2112,
          13382,
          16396,
          24347,
          26732.5,
          27550,
          25486,
          9876,
          9373.5,
          30347,
          39247.5,
          40385,
          42867,
          3233,
          8435.5,
          1040.5,
          5944,
          35155.5,
          41572.5,
          44763,
          22957,
          15830.5,
          7646.5,
          32073,
          34714,
          35889.5,
          35002.5,
          30586.333333333332,
          13699,
          45855.5,
          36930.5,
          36953,
          38886,
          40153.5,
          35066,
          12343,
          2894,
          17052,
          35108.5,
          46853.5,
          39869,
          34351,
          12356,
          5040,
          33545,
          46490,
          45990,
          48015,
          45033.5,
          16924,
          6113,
          42440,
          45749.5,
          48785,
          50827,
          46110.5,
          19310,
          7581.5,
          47120,
          55158.5,
          54160.5,
          58310,
          15562,
          7967,
          3806,
          12981,
          60979.5,
          65052,
          70872.5,
          71139,
          34992.5,
          17952,
          66805.5,
          79312.5,
          81111.5,
          83411.5,
          80846,
          49148,
          32637,
          66435.5,
          81366,
          77116.5,
          88370,
          21558,
          11941,
          7304,
          40932,
          87150.5,
          80213.5,
          82313.5,
          75810,
          38415.5,
          21011.5,
          73075.5,
          81814,
          81961,
          81434,
          70853,
          41672,
          27688,
          71208,
          82925,
          59916,
          104129.5,
          87446.5,
          52848,
          28369.5,
          75396,
          90194,
          86388.5,
          90679.5,
          83214,
          57234.5,
          30525.5,
          81930,
          95734,
          97444,
          97730,
          92305,
          59527,
          33018,
          94761.5,
          102060,
          114463.5,
          110263.5,
          107707,
          71904,
          41776,
          105096.5,
          115182.5,
          132394,
          122572,
          126445.5,
          81426,
          49347.5,
          112222.5,
          130958.5,
          134086.5,
          141095.5,
          139048.5,
          96365,
          53956,
          128169.5,
          156665,
          155961.5,
          159424.5,
          163029.5,
          104151.5,
          59986.5,
          162622.5,
          164780.5,
          154429,
          166512.5,
          184427.5,
          124927.5,
          88437,
          177778.5,
          194606,
          211958.5,
          199925.5,
          203882.5,
          149706.5,
          103344.5,
          177651,
          210421,
          210575.5,
          195615,
          199677.5,
          145891,
          84659,
          162714,
          183666.5,
          189087.5,
          190213,
          184071.5,
          128830,
          83508,
          197920,
          182102.5,
          184177.5,
          181496.5,
          199261.5,
          140190.5,
          99586,
          185560.5,
          192726.5,
          193279.5,
          198377.5,
          180714,
          135288.5,
          84931.5,
          171889,
          187929,
          174524,
          193405.5,
          186955.5,
          130527,
          82659.5,
          120711.5,
          207001.5,
          203106.5,
          206701.5,
          208282.5,
          158857.5,
          103953.5,
          190862,
          204690.5,
          193791.5,
          190375,
          184237.5,
          163391.5,
          94321,
          159974.5,
          158936.5,
          158498,
          159043.5,
          157285,
          117118.5,
          72214,
          121273.5,
          133040.5,
          128062,
          133985,
          123595.5,
          91042.5,
          52013,
          114210.5,
          84593.5
         ],
         "x0": " ",
         "xaxis": "x",
         "y0": " ",
         "yaxis": "y"
        }
       ],
       "layout": {
        "boxmode": "group",
        "height": 550,
        "legend": {
         "title": {
          "text": "Y title (unit)"
         },
         "tracegroupgap": 0
        },
        "margin": {
         "b": 0,
         "l": 0,
         "r": 0,
         "t": 40
        },
        "template": {
         "data": {
          "bar": [
           {
            "error_x": {
             "color": "#2a3f5f"
            },
            "error_y": {
             "color": "#2a3f5f"
            },
            "marker": {
             "line": {
              "color": "#E5ECF6",
              "width": 0.5
             },
             "pattern": {
              "fillmode": "overlay",
              "size": 10,
              "solidity": 0.2
             }
            },
            "type": "bar"
           }
          ],
          "barpolar": [
           {
            "marker": {
             "line": {
              "color": "#E5ECF6",
              "width": 0.5
             },
             "pattern": {
              "fillmode": "overlay",
              "size": 10,
              "solidity": 0.2
             }
            },
            "type": "barpolar"
           }
          ],
          "carpet": [
           {
            "aaxis": {
             "endlinecolor": "#2a3f5f",
             "gridcolor": "white",
             "linecolor": "white",
             "minorgridcolor": "white",
             "startlinecolor": "#2a3f5f"
            },
            "baxis": {
             "endlinecolor": "#2a3f5f",
             "gridcolor": "white",
             "linecolor": "white",
             "minorgridcolor": "white",
             "startlinecolor": "#2a3f5f"
            },
            "type": "carpet"
           }
          ],
          "choropleth": [
           {
            "colorbar": {
             "outlinewidth": 0,
             "ticks": ""
            },
            "type": "choropleth"
           }
          ],
          "contour": [
           {
            "colorbar": {
             "outlinewidth": 0,
             "ticks": ""
            },
            "colorscale": [
             [
              0,
              "#0d0887"
             ],
             [
              0.1111111111111111,
              "#46039f"
             ],
             [
              0.2222222222222222,
              "#7201a8"
             ],
             [
              0.3333333333333333,
              "#9c179e"
             ],
             [
              0.4444444444444444,
              "#bd3786"
             ],
             [
              0.5555555555555556,
              "#d8576b"
             ],
             [
              0.6666666666666666,
              "#ed7953"
             ],
             [
              0.7777777777777778,
              "#fb9f3a"
             ],
             [
              0.8888888888888888,
              "#fdca26"
             ],
             [
              1,
              "#f0f921"
             ]
            ],
            "type": "contour"
           }
          ],
          "contourcarpet": [
           {
            "colorbar": {
             "outlinewidth": 0,
             "ticks": ""
            },
            "type": "contourcarpet"
           }
          ],
          "heatmap": [
           {
            "colorbar": {
             "outlinewidth": 0,
             "ticks": ""
            },
            "colorscale": [
             [
              0,
              "#0d0887"
             ],
             [
              0.1111111111111111,
              "#46039f"
             ],
             [
              0.2222222222222222,
              "#7201a8"
             ],
             [
              0.3333333333333333,
              "#9c179e"
             ],
             [
              0.4444444444444444,
              "#bd3786"
             ],
             [
              0.5555555555555556,
              "#d8576b"
             ],
             [
              0.6666666666666666,
              "#ed7953"
             ],
             [
              0.7777777777777778,
              "#fb9f3a"
             ],
             [
              0.8888888888888888,
              "#fdca26"
             ],
             [
              1,
              "#f0f921"
             ]
            ],
            "type": "heatmap"
           }
          ],
          "heatmapgl": [
           {
            "colorbar": {
             "outlinewidth": 0,
             "ticks": ""
            },
            "colorscale": [
             [
              0,
              "#0d0887"
             ],
             [
              0.1111111111111111,
              "#46039f"
             ],
             [
              0.2222222222222222,
              "#7201a8"
             ],
             [
              0.3333333333333333,
              "#9c179e"
             ],
             [
              0.4444444444444444,
              "#bd3786"
             ],
             [
              0.5555555555555556,
              "#d8576b"
             ],
             [
              0.6666666666666666,
              "#ed7953"
             ],
             [
              0.7777777777777778,
              "#fb9f3a"
             ],
             [
              0.8888888888888888,
              "#fdca26"
             ],
             [
              1,
              "#f0f921"
             ]
            ],
            "type": "heatmapgl"
           }
          ],
          "histogram": [
           {
            "marker": {
             "pattern": {
              "fillmode": "overlay",
              "size": 10,
              "solidity": 0.2
             }
            },
            "type": "histogram"
           }
          ],
          "histogram2d": [
           {
            "colorbar": {
             "outlinewidth": 0,
             "ticks": ""
            },
            "colorscale": [
             [
              0,
              "#0d0887"
             ],
             [
              0.1111111111111111,
              "#46039f"
             ],
             [
              0.2222222222222222,
              "#7201a8"
             ],
             [
              0.3333333333333333,
              "#9c179e"
             ],
             [
              0.4444444444444444,
              "#bd3786"
             ],
             [
              0.5555555555555556,
              "#d8576b"
             ],
             [
              0.6666666666666666,
              "#ed7953"
             ],
             [
              0.7777777777777778,
              "#fb9f3a"
             ],
             [
              0.8888888888888888,
              "#fdca26"
             ],
             [
              1,
              "#f0f921"
             ]
            ],
            "type": "histogram2d"
           }
          ],
          "histogram2dcontour": [
           {
            "colorbar": {
             "outlinewidth": 0,
             "ticks": ""
            },
            "colorscale": [
             [
              0,
              "#0d0887"
             ],
             [
              0.1111111111111111,
              "#46039f"
             ],
             [
              0.2222222222222222,
              "#7201a8"
             ],
             [
              0.3333333333333333,
              "#9c179e"
             ],
             [
              0.4444444444444444,
              "#bd3786"
             ],
             [
              0.5555555555555556,
              "#d8576b"
             ],
             [
              0.6666666666666666,
              "#ed7953"
             ],
             [
              0.7777777777777778,
              "#fb9f3a"
             ],
             [
              0.8888888888888888,
              "#fdca26"
             ],
             [
              1,
              "#f0f921"
             ]
            ],
            "type": "histogram2dcontour"
           }
          ],
          "mesh3d": [
           {
            "colorbar": {
             "outlinewidth": 0,
             "ticks": ""
            },
            "type": "mesh3d"
           }
          ],
          "parcoords": [
           {
            "line": {
             "colorbar": {
              "outlinewidth": 0,
              "ticks": ""
             }
            },
            "type": "parcoords"
           }
          ],
          "pie": [
           {
            "automargin": true,
            "type": "pie"
           }
          ],
          "scatter": [
           {
            "marker": {
             "colorbar": {
              "outlinewidth": 0,
              "ticks": ""
             }
            },
            "type": "scatter"
           }
          ],
          "scatter3d": [
           {
            "line": {
             "colorbar": {
              "outlinewidth": 0,
              "ticks": ""
             }
            },
            "marker": {
             "colorbar": {
              "outlinewidth": 0,
              "ticks": ""
             }
            },
            "type": "scatter3d"
           }
          ],
          "scattercarpet": [
           {
            "marker": {
             "colorbar": {
              "outlinewidth": 0,
              "ticks": ""
             }
            },
            "type": "scattercarpet"
           }
          ],
          "scattergeo": [
           {
            "marker": {
             "colorbar": {
              "outlinewidth": 0,
              "ticks": ""
             }
            },
            "type": "scattergeo"
           }
          ],
          "scattergl": [
           {
            "marker": {
             "colorbar": {
              "outlinewidth": 0,
              "ticks": ""
             }
            },
            "type": "scattergl"
           }
          ],
          "scattermapbox": [
           {
            "marker": {
             "colorbar": {
              "outlinewidth": 0,
              "ticks": ""
             }
            },
            "type": "scattermapbox"
           }
          ],
          "scatterpolar": [
           {
            "marker": {
             "colorbar": {
              "outlinewidth": 0,
              "ticks": ""
             }
            },
            "type": "scatterpolar"
           }
          ],
          "scatterpolargl": [
           {
            "marker": {
             "colorbar": {
              "outlinewidth": 0,
              "ticks": ""
             }
            },
            "type": "scatterpolargl"
           }
          ],
          "scatterternary": [
           {
            "marker": {
             "colorbar": {
              "outlinewidth": 0,
              "ticks": ""
             }
            },
            "type": "scatterternary"
           }
          ],
          "surface": [
           {
            "colorbar": {
             "outlinewidth": 0,
             "ticks": ""
            },
            "colorscale": [
             [
              0,
              "#0d0887"
             ],
             [
              0.1111111111111111,
              "#46039f"
             ],
             [
              0.2222222222222222,
              "#7201a8"
             ],
             [
              0.3333333333333333,
              "#9c179e"
             ],
             [
              0.4444444444444444,
              "#bd3786"
             ],
             [
              0.5555555555555556,
              "#d8576b"
             ],
             [
              0.6666666666666666,
              "#ed7953"
             ],
             [
              0.7777777777777778,
              "#fb9f3a"
             ],
             [
              0.8888888888888888,
              "#fdca26"
             ],
             [
              1,
              "#f0f921"
             ]
            ],
            "type": "surface"
           }
          ],
          "table": [
           {
            "cells": {
             "fill": {
              "color": "#EBF0F8"
             },
             "line": {
              "color": "white"
             }
            },
            "header": {
             "fill": {
              "color": "#C8D4E3"
             },
             "line": {
              "color": "white"
             }
            },
            "type": "table"
           }
          ]
         },
         "layout": {
          "annotationdefaults": {
           "arrowcolor": "#2a3f5f",
           "arrowhead": 0,
           "arrowwidth": 1
          },
          "autotypenumbers": "strict",
          "coloraxis": {
           "colorbar": {
            "outlinewidth": 0,
            "ticks": ""
           }
          },
          "colorscale": {
           "diverging": [
            [
             0,
             "#8e0152"
            ],
            [
             0.1,
             "#c51b7d"
            ],
            [
             0.2,
             "#de77ae"
            ],
            [
             0.3,
             "#f1b6da"
            ],
            [
             0.4,
             "#fde0ef"
            ],
            [
             0.5,
             "#f7f7f7"
            ],
            [
             0.6,
             "#e6f5d0"
            ],
            [
             0.7,
             "#b8e186"
            ],
            [
             0.8,
             "#7fbc41"
            ],
            [
             0.9,
             "#4d9221"
            ],
            [
             1,
             "#276419"
            ]
           ],
           "sequential": [
            [
             0,
             "#0d0887"
            ],
            [
             0.1111111111111111,
             "#46039f"
            ],
            [
             0.2222222222222222,
             "#7201a8"
            ],
            [
             0.3333333333333333,
             "#9c179e"
            ],
            [
             0.4444444444444444,
             "#bd3786"
            ],
            [
             0.5555555555555556,
             "#d8576b"
            ],
            [
             0.6666666666666666,
             "#ed7953"
            ],
            [
             0.7777777777777778,
             "#fb9f3a"
            ],
            [
             0.8888888888888888,
             "#fdca26"
            ],
            [
             1,
             "#f0f921"
            ]
           ],
           "sequentialminus": [
            [
             0,
             "#0d0887"
            ],
            [
             0.1111111111111111,
             "#46039f"
            ],
            [
             0.2222222222222222,
             "#7201a8"
            ],
            [
             0.3333333333333333,
             "#9c179e"
            ],
            [
             0.4444444444444444,
             "#bd3786"
            ],
            [
             0.5555555555555556,
             "#d8576b"
            ],
            [
             0.6666666666666666,
             "#ed7953"
            ],
            [
             0.7777777777777778,
             "#fb9f3a"
            ],
            [
             0.8888888888888888,
             "#fdca26"
            ],
            [
             1,
             "#f0f921"
            ]
           ]
          },
          "colorway": [
           "#636efa",
           "#EF553B",
           "#00cc96",
           "#ab63fa",
           "#FFA15A",
           "#19d3f3",
           "#FF6692",
           "#B6E880",
           "#FF97FF",
           "#FECB52"
          ],
          "font": {
           "color": "#2a3f5f"
          },
          "geo": {
           "bgcolor": "white",
           "lakecolor": "white",
           "landcolor": "#E5ECF6",
           "showlakes": true,
           "showland": true,
           "subunitcolor": "white"
          },
          "hoverlabel": {
           "align": "left"
          },
          "hovermode": "closest",
          "mapbox": {
           "style": "light"
          },
          "paper_bgcolor": "white",
          "plot_bgcolor": "#E5ECF6",
          "polar": {
           "angularaxis": {
            "gridcolor": "white",
            "linecolor": "white",
            "ticks": ""
           },
           "bgcolor": "#E5ECF6",
           "radialaxis": {
            "gridcolor": "white",
            "linecolor": "white",
            "ticks": ""
           }
          },
          "scene": {
           "xaxis": {
            "backgroundcolor": "#E5ECF6",
            "gridcolor": "white",
            "gridwidth": 2,
            "linecolor": "white",
            "showbackground": true,
            "ticks": "",
            "zerolinecolor": "white"
           },
           "yaxis": {
            "backgroundcolor": "#E5ECF6",
            "gridcolor": "white",
            "gridwidth": 2,
            "linecolor": "white",
            "showbackground": true,
            "ticks": "",
            "zerolinecolor": "white"
           },
           "zaxis": {
            "backgroundcolor": "#E5ECF6",
            "gridcolor": "white",
            "gridwidth": 2,
            "linecolor": "white",
            "showbackground": true,
            "ticks": "",
            "zerolinecolor": "white"
           }
          },
          "shapedefaults": {
           "line": {
            "color": "#2a3f5f"
           }
          },
          "ternary": {
           "aaxis": {
            "gridcolor": "white",
            "linecolor": "white",
            "ticks": ""
           },
           "baxis": {
            "gridcolor": "white",
            "linecolor": "white",
            "ticks": ""
           },
           "bgcolor": "#E5ECF6",
           "caxis": {
            "gridcolor": "white",
            "linecolor": "white",
            "ticks": ""
           }
          },
          "title": {
           "x": 0.05
          },
          "xaxis": {
           "automargin": true,
           "gridcolor": "white",
           "linecolor": "white",
           "ticks": "",
           "title": {
            "standoff": 15
           },
           "zerolinecolor": "white",
           "zerolinewidth": 2
          },
          "yaxis": {
           "automargin": true,
           "gridcolor": "white",
           "linecolor": "white",
           "ticks": "",
           "title": {
            "standoff": 15
           },
           "zerolinecolor": "white",
           "zerolinewidth": 2
          }
         }
        },
        "title": {
         "text": "set title here"
        },
        "width": 600,
        "xaxis": {
         "anchor": "y",
         "autorange": true,
         "domain": [
          0,
          1
         ],
         "range": [
          -80161.99333333332,
          1523077.8733333333
         ],
         "title": {
          "text": "x title (unit)"
         },
         "type": "linear"
        },
        "yaxis": {
         "anchor": "x",
         "autorange": true,
         "domain": [
          0,
          1
         ],
         "range": [
          -0.5064794816414687,
          0.5064794816414687
         ],
         "type": "category"
        }
       }
      },
      "image/png": "[encoded data removed]",
      "text/html": [
       "<div>                            <div id=\"3acd3cd1-5532-4942-9266-7737ade07ec8\" class=\"plotly-graph-div\" style=\"height:550px; width:600px;\"></div>            <script type=\"text/javascript\">                require([\"plotly\"], function(Plotly) {                    window.PLOTLYENV=window.PLOTLYENV || {};                                    if (document.getElementById(\"3acd3cd1-5532-4942-9266-7737ade07ec8\")) {                    Plotly.newPlot(                        \"3acd3cd1-5532-4942-9266-7737ade07ec8\",                        [{\"alignmentgroup\":\"True\",\"hovertemplate\":\"Y title (unit)=Asia<br>x title (unit)=%{x}<extra></extra>\",\"legendgroup\":\"Asia\",\"marker\":{\"color\":\"#636efa\"},\"name\":\"Asia\",\"notched\":false,\"offsetgroup\":\"Asia\",\"orientation\":\"h\",\"showlegend\":true,\"type\":\"box\",\"x\":[null,null,null,null,null,null,null,null,null,null,null,null,null,null,null,null,null,null,null,null,null,null,null,null,null,null,null,null,null,null,null,null,null,null,null,null,null,null,null,null,null,null,null,null,null,null,null,null,null,null,null,null,null,null,null,null,null,null,null,null,null,null,null,null,null,null,null,null,null,null,null,null,null,null,null,null,null,null,null,null,null,null,null,null,null,null,null,null,null,null,null,null,null,null,null,null,null,null,null,null,null,null,null,null,null,null,null,null,null,null,null,null,null,null,null,null,null,null,null,null,null,null,null,null,null,null,null,null,null,null,null,null,null,null,null,null,null,null,null,null,null,null,null,null,null,null,null,null,null,null,null,null,null,null,null,null,null,null,null,null,null,null,null,null,null,null,null,null,null,null,null,null,null,null,null,null,null,null,null,null,null,null,null,null,null,null,null,null,null,null,null,null,null,null,null,null,null,null,null,null,null,null,null,null,null,null,null,null,null,null,null,null,null,null,null,null,null,null,null,null,null,null,null,null,null,null,null,null,null,null,null,null,null,null,null,null,null,null,null,null,null,null,null,null,null,null,null,null,null,null,null,null,null,null,null,null,null,null,null,null,null,null,null,null,null,null,null,null,null,null,null,null,null,null,null,null,null,null,null,null,null,null,null,null,null,null,null,null,null,null,null,null,null,null,null,null,null,null,null,null,null,null,null,null,null,null,null,null,null,null,null,null,null,null,null,null,null,null,null,null,null,null,null,null,null,null,null,null,null,null,null,null,null,null,null,null,null,null,null,null,null,null,null,null,null,null,null,null,null,null,null,null,null,null,7382.0,24902.0,44632.0,62878.0,42243.5,19476.5,16806.0,53265.0,68165.5,52944.666666666664,51977.0,53739.0,36022.0,36210.0,50595.333333333336,51623.666666666664,43116.333333333336,27262.25,45506.75,31592.75,32304.25,28942.0,31686.25,35674.0,76617.66666666667,134835.0,180649.0,109694.75,60214.2,127151.0,128917.6,110224.2,155951.5,157713.0,99356.75,64742.8,130738.66666666667,84995.16666666667,99407.5,187916.33333333334,181633.83333333334,96769.16666666667,71099.33333333333,110217.66666666667,100487.5,107783.42857142857,148987.42857142858,116797.85714285714,98920.0,42092.71428571428,113654.42857142857,76461.5,111725.1,115224.0,173123.2857142857,80737.14285714286,56294.666666666664,96435.66666666667,126463.81818181818,135165.63636363635,159435.16666666666,128616.6,94073.375,60846.5,89946.22222222222,127880.27272727272,123950.36363636363,122340.69230769231,101348.92307692308,85874.0,38428.583333333336,76200.0,96876.5,140842.92857142858,151306.15384615384,145191.07142857142,142348.58333333334,18661.071428571428,149472.4705882353,120516.05882352941,97694.15,65776.47368421052,148755.84210526315,139943.29411764705,37073.58823529412,248877.9375,181991.63157894736,187400.2105263158,190292.76470588235,251830.35294117648,204028.0,56838.76470588235,243756.72222222222,333001.75,328710.4210526316,456879.84210526315,526627.7368421053,406744.5263157895,276177.84210526315,298439.27777777775,310466.71428571426,374202.4090909091,496799.125,510807.0416666667,296118.8181818182,288930.8333333333,306243.08,332179.04,296266.84,465960.52,427291.32,310227.25,293398.0,431732.86363636365,301178.08,327649.2916666667,335235.48,300799.96,228609.72,174593.65217391305,307774.04347826086,219280.75,293908.82608695654,419770.96428571426,275392.875,243578.3,264019.45,402724.5,399824.6296296296,457886.3214285714,504319.9259259259,646952.72,379700.4,294036.0,355805.14285714284,335216.6956521739,326334.3333333333,488348.6538461539,640105.3913043478,597914.619047619,396866.5238095238,626735.5,596021.3478260869,657043.9565217391,730556.3181818182,703790.3478260869,630160.0833333334,701337.0454545454,735171.24,652987.074074074,627016.5925925926,794870.5769230769,740341.1481481482,631137.5833333334,676226.7391304348,830126.48,821115.6551724138,957597.0,828518.6785714285,997337.0869565217,1058815.7272727273,1056564.9,1262511.380952381,997494.6923076923,1101962.423076923,914710.2962962963,1162207.32,900944.0,729747.9615384615,829659.0370370371,822645.4074074074,916231.4,1003188.7857142857,950944.9629629629,858335.7916666666,752851.8888888889,680439.3571428572,1006563.4642857143,1056209.5862068965,1119864.4137931035,1126451.896551724,1101992.423076923,1079842.375,1415177.2916666667,1344846.125,1314741.625,1442915.88,1320679.0384615385,1327994.96,1162523.4583333333,1103030.8846153845,1071708.5,902641.5862068966,1116505.148148148,972083.92,1012067.04,624806.5185185185,727503.1034482758,767846.5357142857,682676.5172413794,1017821.6785714285,663832.48,590371.5238095238,575590.875,657262.3703703703,788884.2857142857,961714.4230769231,893028.7307692308,874264.64,817318.7916666666,532931.875,613584.5833333334,770056.4583333334,865334.304347826,1023729.5384615385,1026007.12,948372.4166666666,742109.0,923612.0645161291,912826.1875,1019526.3793103448,1119838.1379310344,1105351.1724137932,833143.7407407408,758912.5862068966,855059.4137931034,889872.8709677419,1052516.71875,991741.2068965518,1076890.3461538462,896756.7692307692,752743.6785714285,881174.4285714285,998445.0689655172,851809.8387096775,749464.0344827586,704992.96,892636.3478260869,548810.5238095238,714313.3214285715,966496.4285714285,902823.551724138,870645.8928571428,912308.8461538461,777028.1481481482,734769.1923076923,777189.6896551724,963778.1428571428,967334.1724137932,909346.7741935484,1343278.08,1273421.7272727273,832045.8076923077,954062.8518518518,899515.7407407408,1146196.3666666667,884178.1071428572,833565.5652173914,583033.76,642695.5925925926,596708.7,978778.0689655172,1181562.9583333333,1008730.7307692308,650820.52,1017637.9545454546,667182.92,814492.7,477785.63333333336,703383.3333333334,753432.6666666666,652940.5555555555,1150216.8333333333,726976.0869565217,578293.5384615385,632169.9285714285,601691.6923076923,770884.6538461539,821781.16,477820.4583333333,408088.2083333333,972636.2307692308,597298.5555555555,897559.7307692308,566845.4137931034,530215.8333333334,592878.6666666666,365881.2083333333,403013.63333333336,553580.9354838709,466667.26666666666,414287.77777777775,679034.9130434783,581546.3478260869,540291.8333333334,411968.8461538461,627770.2222222222,517913.3703703704,434039.1666666667,430301.2916666667,326035.95238095237,427896.0,431977.8888888889,690501.75,751158.6923076923,556265.84,652954.4090909091,458004.86363636365,584029.8181818182,368298.6956521739,625531.6666666666,609985.32,713986.84,920195.7272727273,879402.4285714285,656982.6315789474,740544.6818181818,632538.2380952381],\"x0\":\" \",\"xaxis\":\"x\",\"y0\":\" \",\"yaxis\":\"y\"},{\"alignmentgroup\":\"True\",\"hovertemplate\":\"Y title (unit)=Europe<br>x title (unit)=%{x}<extra></extra>\",\"legendgroup\":\"Europe\",\"marker\":{\"color\":\"#EF553B\"},\"name\":\"Europe\",\"notched\":false,\"offsetgroup\":\"Europe\",\"orientation\":\"h\",\"showlegend\":true,\"type\":\"box\",\"x\":[null,null,null,null,null,null,null,null,null,null,null,null,null,null,null,null,null,null,null,null,null,null,null,null,null,null,null,null,null,null,null,null,null,null,null,null,null,null,null,null,null,null,null,null,null,null,null,null,null,null,null,null,null,null,null,null,null,null,null,null,null,null,null,null,null,null,null,null,null,null,null,null,null,null,null,null,null,null,null,null,null,null,null,null,null,null,null,null,null,null,null,null,null,null,null,null,null,null,null,null,null,null,null,null,null,null,null,null,null,null,null,null,null,null,null,null,null,null,null,null,null,null,null,null,null,null,null,null,null,null,null,null,null,null,null,null,null,null,null,null,null,null,null,null,null,null,null,null,null,null,null,null,null,null,null,null,null,null,null,null,null,null,null,null,null,null,null,null,null,null,null,null,null,null,null,null,null,null,null,null,null,null,null,null,null,null,null,null,null,null,null,null,null,null,null,null,null,null,null,null,null,null,null,null,null,null,null,null,null,null,null,null,null,null,null,null,null,null,null,null,null,null,null,null,null,null,null,null,null,null,null,null,null,null,null,null,null,null,null,null,null,null,null,null,null,null,null,null,null,null,null,null,null,null,null,null,null,null,null,null,null,null,null,null,null,null,null,null,null,null,null,null,null,null,null,null,null,null,null,null,null,null,null,null,null,null,null,null,null,null,null,null,null,null,null,null,null,null,null,null,null,null,null,null,null,null,null,null,null,null,null,null,null,null,null,null,null,null,null,null,null,null,null,null,null,null,null,null,null,null,null,null,null,null,null,null,null,0.0,0.0,0.0,0.0,0.0,0.0,0.0,0.0,0.0,0.0,0.0,0.0,0.0,0.5,2.6666666666666665,9.0,5.0,6.0,7.5,7.0,89.6,56.4,0.3333333333333333,148.0,1205.6,2477.0,4634.65,6641.809523809524,5566.105263157895,2339.5555555555557,5583.611111111111,3539.157894736842,10114.21052631579,14656.227272727272,12743.42857142857,14395.95652173913,15585.653846153846,9320.130434782608,6352.4,22363.5,26456.74074074074,32551.74074074074,31535.071428571428,31952.5,19480.222222222223,13913.083333333334,23241.56,31628.833333333332,33819.566666666666,36789.0,35204.83870967742,30844.074074074073,17400.0,30980.03846153846,34699.566666666666,34825.03333333333,41221.8,40658.8275862069,34846.58620689655,22555.24,36147.653846153844,38987.24137931035,43914.1935483871,45066.09375,41092.3,31907.724137931036,17510.25925925926,31641.14814814815,36834.206896551725,41964.89655172414,48845.357142857145,48709.607142857145,33584.607142857145,17599.666666666668,32762.48148148148,37737.4,47601.0,50316.5,42686.74193548387,30259.206896551725,18021.653846153848,34678.0,41390.68965517241,50478.7,52885.0,49035.6875,39218.433333333334,19560.0,37927.933333333334,43644.71875,57170.8125,76281.62857142858,63527.17647058824,50459.85294117647,29081.64285714286,46279.48275862069,50146.41176470588,65443.757575757576,65212.08823529412,61835.794117647056,51195.818181818184,30133.7,46872.13333333333,48735.35294117647,54396.91428571429,61605.194444444445,70947.08823529411,61092.84375,35955.41379310345,52800.142857142855,60811.14705882353,70937.38888888889,75408.21212121213,82488.57575757576,56560.5625,45177.64,68593.04347826086,74495.36666666667,85076.05555555556,89362.62162162163,66515.73529411765,50074.030303030304,26033.1,32768.90625,78336.27272727272,102774.22222222222,114068.08333333333,104881.27777777778,74659.33333333333,45458.25806451613,68846.15151515152,89262.6052631579,108447.44117647059,111297.81818181818,107550.2,77411.65625,58570.12903225807,68655.625,91993.69444444444,114082.27777777778,112490.15789473684,109844.44444444444,97205.2,52805.81481481482,89596.46666666666,99325.24324324324,141677.77777777778,149935.94285714286,116757.21212121213,71943.5625,55920.32142857143,91965.0,115014.72727272728,147244.63888888888,157373.05555555556,134773.17647058822,103988.45454545454,56462.5625,110557.7741935484,136278.88571428572,166571.85294117648,125418.625,146298.9393939394,121112.09375,72731.93103448275,114205.03225806452,141059.9714285714,136532.92105263157,146171.91428571427,138115.57142857142,133123.0303030303,59360.84375,84507.08108108108,119430.81081081081,164301.16666666666,148560.75,140326.14285714287,102730.20588235294,70075.0,109565.96774193548,155755.30555555556,169379.38888888888,135777.18421052632,152224.15151515152,122308.96551724138,78182.96666666666,124649.05714285714,157819.32352941178,186692.45454545456,176102.32352941178,148648.77142857143,128332.54838709677,77101.03571428571,125716.71875,129390.69444444444,152054.94444444444,178612.35294117648,167725.06666666668,118290.46666666666,68893.19354838709,113934.94117647059,167913.37142857144,159332.8,163855.0285714286,144328.03125,117197.27586206897,86135.88888888889,149803.72413793104,161155.0909090909,167151.5588235294,174268.78787878787,153377.32258064515,106087.53125,67997.83333333333,115818.90625,153801.69444444444,150463.67567567568,142849.63888888888,138215.45714285714,97739.21212121213,54213.875,107302.29411764706,140807.86486486485,141868.05128205128,136791.7105263158,185321.93103448275,95709.21428571429,69795.84615384616,122512.88888888889,179382.63636363635,140296.20588235295,140303.91428571427,150154.12903225806,92943.70833333333,51873.769230769234,107641.86666666667,139002.71875,124933.65714285715,132223.25714285715,117132.5294117647,85162.58823529411,45518.21428571428,88326.16666666667,114355.9705882353,126462.54285714286,100871.57142857143,95579.65625,83031.33333333333,47748.5,85334.21428571429,116687.0303030303,107376.72972972973,108690.06060606061,156113.89655172414,119500.96296296296,37894.07407407407,76814.84375,81626.7027027027,88550.36111111111,94180.38235294117,86111.59375,65205.393939393936,38004.51612903226,72053.3870967742,87757.6875,90587.42424242424,81076.88235294117,81097.61764705883,52445.90625,30604.266666666666,69860.09677419355,80093.16129032258,88886.6,68066.91891891892,77765.93548387097,47270.92857142857,26945.068965517243,49587.6875,83554.06666666667,62024.096774193546,63512.41176470588,69026.8,40899.06451612903,25503.266666666666,67114.06896551725,52230.8,61718.30303030303,54804.36363636364,52178.0,32259.074074074073,14686.555555555555,37590.967741935485,49739.8125,53529.828571428574,40639.393939393936,44966.25,33705.25,17397.333333333332,41869.51612903226,38499.967741935485,47439.121212121216,73267.625,52275.89655172414,41424.31034482759,18610.037037037036,45367.03448275862,55900.724137931036,61368.93548387097,94223.67741935483,52491.0,37132.24137931035,19703.793103448275,37094.724137931036,40456.275862068964,61321.242424242424,42371.90625,64392.433333333334,35194.82142857143,17122.4,40174.03703703704,42900.290322580644,49403.48484848485,60390.57575757576,72201.13333333333,67674.10714285714,17160.0,41379.89655172414,55798.137931034486,65954.87096774194,56771.74193548387,77595.875,71944.06896551725,36818.28,46309.38461538462,89753.66666666667],\"x0\":\" \",\"xaxis\":\"x\",\"y0\":\" \",\"yaxis\":\"y\"},{\"alignmentgroup\":\"True\",\"hovertemplate\":\"Y title (unit)=Africa<br>x title (unit)=%{x}<extra></extra>\",\"legendgroup\":\"Africa\",\"marker\":{\"color\":\"#00cc96\"},\"name\":\"Africa\",\"notched\":false,\"offsetgroup\":\"Africa\",\"orientation\":\"h\",\"showlegend\":true,\"type\":\"box\",\"x\":[null,null,null,null,null,null,null,null,null,null,null,null,null,null,null,null,null,null,null,null,null,null,null,null,null,null,null,null,null,null,null,null,null,null,null,null,null,null,null,null,null,null,null,null,null,null,null,null,null,null,null,null,null,null,null,null,null,null,null,null,null,null,null,null,null,null,null,null,null,null,null,null,null,null,null,null,null,null,null,null,null,null,null,null,null,null,null,null,null,null,null,null,null,null,null,null,null,null,null,null,null,null,null,null,null,null,null,null,null,null,null,null,null,null,null,null,null,null,null,null,null,null,null,null,null,null,null,null,null,null,null,null,null,null,null,null,null,null,null,null,null,null,null,null,null,null,null,null,null,null,null,null,null,null,null,null,null,null,null,null,null,null,null,null,null,null,null,null,null,null,null,null,null,null,null,null,null,null,null,null,null,null,null,null,null,null,null,null,null,null,null,null,null,null,null,null,null,null,null,null,null,null,null,null,null,null,null,null,null,null,null,null,null,null,null,null,null,null,null,null,null,null,null,null,null,null,null,null,null,null,null,null,null,null,null,null,null,null,null,null,null,null,null,null,null,null,null,null,null,null,null,null,null,null,null,null,null,null,null,null,null,null,null,null,null,null,null,null,null,null,null,null,null,null,null,null,null,null,null,null,null,null,null,null,null,null,null,null,null,null,null,null,null,null,null,null,null,null,null,null,null,null,null,null,null,null,null,null,null,null,null,null,null,null,null,null,null,null,null,null,null,null,null,null,null,null,null,null,null,null,null,null,null,null,null,null,null,null,null,null,null,null,null,null,null,null,null,null,null,null,null,null,null,null,null,null,null,null,null,null,null,null,null,null,null,null,null,null,null,null,null,null,null,null,null,null,null,null,null,null,null,3000.0,null,null,null,2187.0,null,null,1463.0,null,null,2823.0,2875.0,3192.0,2082.0,30.0,36000.0,74081.0,29207.5,25957.5,43325.0,56512.0,55731.0,null,null,33880.5,67286.5,56480.0,256785.0,276436.0,null,null,99410.0,89102.0,77022.5,45021.666666666664,51466.0,4974.0,7671.0,33581.666666666664,74356.75,69702.25,60663.75,46100.25,2575.6666666666665,4471.333333333333,40231.25,42665.75,29198.2,40726.25,40599.8,10252.5,3875.25,23403.833333333332,39264.833333333336,37681.6,77251.0,49038.0,1048.8,11358.0,32702.0,26489.428571428572,3396.4285714285716,4014.0,15393.166666666666,1337.8,3474.4285714285716,14970.125,38530.555555555555,38060.857142857145,29545.428571428572,20327.25,5778.666666666667,6803.0,27681.333333333332,23360.0,31094.75,24072.8,20066.4,4935.25,5586.4,18506.428571428572,24583.6,31968.714285714286,16406.571428571428,15525.857142857143,8987.0,9402.875,10984.42857142857,14408.166666666666,7678.25,11047.857142857143,17072.8,3399.5,4366.5,6544.333333333333,11195.222222222223,7011.777777777777,9260.125,9411.333333333334,5405.142857142857,7171.833333333333,18587.11111111111,30077.333333333332,11649.0,6802.0,8196.875,6595.833333333333,12408.285714285714,26920.545454545456,22103.727272727272,14394.7,51365.666666666664,17885.1,9981.25,9824.857142857143,45261.857142857145,25150.5,12524.57142857143,10659.857142857143,34728.5,9872.285714285714,10863.875,55397.77777777778,60200.0,48809.333333333336,52224.625,30186.4,18788.8,26970.333333333332,73713.77777777778,16425.666666666668,20778.666666666668,19153.25,8767.0,13099.375,18602.5,41839.6,43763.4,45202.0,21889.833333333332,11741.0,8825.0,17274.0,61787.6,47247.88888888889,40725.11111111111,37066.9,13885.375,11048.333333333334,17120.75,24891.470588235294,26015.5,36799.9,31443.2,15209.0,6313.5,8151.8,13524.714285714286,8750.2,28580.444444444445,37751.333333333336,13879.888888888889,17927.222222222223,12505.666666666666,25374.4,25859.777777777777,32310.333333333332,18264.875,10698.0,19754.0,32301.222222222223,36583.75,25260.0,23706.666666666668,35850.5,10755.125,7399.666666666667,52146.857142857145,37664.8,36608.375,82777.57142857143,16838.2,16844.2,10435.142857142857,78989.42857142857,65119.8,13961.2,19953.0,69024.6,7593.5,7628.8,77086.22222222222,112764.125,78950.66666666667,85935.85714285714,35843.0,23878.571428571428,13307.0,68751.14285714286,152018.3,10808.0,32157.11111111111,53563.0,23146.666666666668,34561.0,105102.4,30476.5,62411.0,80805.0,60466.8,34706.8,23603.2,103503.0,114131.28571428571,107198.85714285714,115868.88888888889,90827.0,76470.0,27535.0,114801.0,121427.11111111111,39015.71428571428,22323.833333333332,28122.8,32637.285714285714,153457.16666666666,29819.666666666668,57572.28571428572,115995.42857142857,94583.0,17617.25,87069.57142857143,19495.714285714286,158457.0,12999.4,56341.5,111321.25,213693.25,136203.5,19159.0,63344.0,73448.0,88599.2,215573.2857142857,32981.0,24110.0,49557.5,45945.5,42164.333333333336,68097.33333333333,68843.875,30239.0,28271.166666666668,16959.6,34767.28571428572,37970.4,30826.2,39155.2,31559.166666666668,27589.166666666668,19406.2,21502.166666666668,30395.166666666668,77544.57142857143,43050.8,21781.2,17005.2,14933.5,15358.0,17189.0,27326.6,24651.8,46489.833333333336,14668.166666666666,16715.2,40115.75,27537.8,25702.0,31214.0,34127.4,19094.0,11694.0,42242.8,22272.0,46017.8,47211.0,36829.666666666664,30897.166666666668,13958.8,33788.0,18945.0],\"x0\":\" \",\"xaxis\":\"x\",\"y0\":\" \",\"yaxis\":\"y\"},{\"alignmentgroup\":\"True\",\"hovertemplate\":\"Y title (unit)=North America<br>x title (unit)=%{x}<extra></extra>\",\"legendgroup\":\"North America\",\"marker\":{\"color\":\"#ab63fa\"},\"name\":\"North America\",\"notched\":false,\"offsetgroup\":\"North America\",\"orientation\":\"h\",\"showlegend\":true,\"type\":\"box\",\"x\":[null,null,null,null,null,null,null,null,null,null,null,null,null,null,null,null,null,null,null,null,null,null,null,null,null,null,null,null,null,null,null,null,null,null,null,null,null,null,null,null,null,null,null,null,null,null,null,null,null,null,null,null,null,null,null,null,null,null,null,null,null,null,null,null,null,null,null,null,null,null,null,null,null,null,null,null,null,null,null,null,null,null,null,null,null,null,null,null,null,null,null,null,null,null,null,null,null,null,null,null,null,null,null,null,null,null,null,null,null,null,null,null,null,null,null,null,null,null,null,null,null,null,null,null,null,null,null,null,null,null,null,null,null,null,null,null,null,null,null,null,null,null,null,null,null,null,null,null,null,null,null,null,null,null,null,null,null,null,null,null,null,null,null,null,null,null,null,null,null,null,null,null,null,null,null,null,null,null,null,null,null,null,null,null,null,null,null,null,null,null,null,null,null,null,null,null,null,null,null,null,null,null,null,null,null,null,null,null,null,null,null,null,null,null,null,null,null,null,null,null,null,null,null,null,null,null,null,null,null,null,null,null,null,null,null,null,null,null,null,null,null,null,null,null,null,null,null,null,null,null,null,null,null,null,null,null,null,null,null,null,null,null,null,null,null,null,null,null,null,null,null,null,null,null,null,null,null,null,null,null,null,null,null,null,null,null,null,null,null,null,null,null,null,null,null,null,null,null,null,null,null,null,null,null,null,null,null,null,null,null,null,null,null,null,null,null,null,null,null,null,null,null,null,null,null,null,null,null,null,null,null,null,null,null,null,null,null,null,null,null,null,null,null,null,null,null,null,null,4290.0,24636.0,80413.5,137201.5,208382.0,90727.0,52395.5,194342.5,226807.5,289972.5,102812.5,7827.0,70417.5,49710.0,198401.33333333334,245623.0,284925.3333333333,215860.5,43896.5,132746.0,70930.5,335904.5,281145.3333333333,348317.0,400047.3333333333,424873.6666666667,182737.66666666666,92746.0,368943.6666666667,427479.0,481971.0,493972.3333333333,464406.6666666667,244968.33333333334,114106.0,314761.0,462437.0,553835.0,432133.25,429594.25,233956.5,105711.5,348907.0,421659.0,486184.0,493531.75,479584.5,347693.0,156697.0,458018.3333333333,422493.75,536892.0,588480.5,590974.0,442079.0,154845.33333333334,530895.0,992863.5,773232.6666666666,807973.3333333334,869021.6666666666,500551.3333333333,202979.66666666666,591194.0,362229.0,424211.6,428045.2,380546.5,206668.0,111964.66666666667,315307.0,411311.0,447265.3333333333,530747.5,561058.8333333334,434007.8,195248.8,428540.6,377311.5714285714,385035.25,424281.125,431348.5,375849.8333333333,204932.0,459888.8,517660.1666666667,523312.14285714284,489471.75,624141.3333333334,502083.0,201258.0,412636.8333333333,522448.5,505079.14285714284,540635.1428571428,534815.0,512358.0,253338.0,535036.0,555318.5,783238.6,828823.0,716099.3333333334,575981.8,297256.8,637531.8,690506.8333333334,803691.3333333334,592080.25,763584.2,710438.0,231077.0,881809.25,764008.0,718861.8571428572,591900.6666666666,499235.7,419610.125,443243.25,742485.0,500558.8888888889,504747.44444444444,417865.0909090909,348662.07692307694,243584.66666666666,181948.0,379061.125,362713.63636363635,355134.25,387255.2727272727,311555.8461538461,300590.6666666667,166674.625,320252.0,294710.1818181818,263795.3846153846,292857.23076923075,301290.3333333333,232775.8,150010.625,290680.44444444444,303069.7272727273,323845.0,299333.6666666667,318605.7272727273,234459.11111111112,121034.0,294494.14285714284,251029.6,244155.16666666666,325195.5,280720.45454545453,230677.3,159554.0,295202.25,202909.91666666666,202618.92307692306,279846.75,281272.0,205726.41666666666,132342.8,197063.3,200019.18181818182,177964.46666666667,158084.83333333334,188493.5,195739.55555555556,116589.3,91503.9,180359.85714285713,170553.5625,219521.07142857142,263346.8333333333,261743.66666666666,106643.88888888889,164881.66666666666,181430.76923076922,227432.92307692306,172713.07692307694,186609.5,154303.75,112985.3,200689.6,189030.58333333334,157578.64285714287,154642.4,169334.42857142858,151627.0,103499.33333333333,171018.2,158817.5,165981.0,179639.75,177909.33333333334,161937.66666666666,99443.55555555556,181412.9090909091,183300.08333333334,164487.42857142858,156768.83333333334,176607.0,134878.7142857143,66337.14285714286,193595.11111111112,174379.08333333334,144095.73333333334,154125.14285714287,144137.85714285713,149392.88888888888,97799.42857142857,192909.33333333334,149550.6923076923,134302.13333333333,135290.64285714287,147111.76923076922,135917.66666666666,88233.0,164142.85714285713,99980.0,149886.26666666666,162686.06666666668,199453.13333333333,231744.2,174473.55555555556,192522.875,180279.53846153847,184763.93333333332,164955.33333333334,174545.46666666667,168447.92307692306,139104.7,143486.5,155716.61538461538,140236.0,170259.07142857142,167562.2142857143,87895.9,69081.5,205422.375,108433.93333333333,102072.875,162993.53846153847,191722.57142857142,222498.0,223020.5,237832.875,142570.66666666666,200294.53846153847,190287.9090909091,155930.07142857142,137535.9,96085.55555555556,165339.0,167763.18181818182,164836.76923076922,210901.0,215531.36363636365,150978.72727272726,103433.5,145407.72727272726,151574.75,165457.54545454544,163370.0,125960.81818181818,180076.3,83223.33333333333,70870.85714285714,150531.81818181818,155028.5,163684.625,271763.1538461539,154034.08333333334,114015.7,143711.9090909091,161649.33333333334,169779.58333333334,132172.7857142857,206506.25,194366.125,98833.54545454546,185018.11111111112,165883.5,142974.64285714287,145152.64285714287,173586.38461538462,132002.41666666666,92578.4,153368.36363636365,186483.63636363635,180836.83333333334,180981.61538461538,197191.375,79871.6,58403.333333333336,149758.77777777778,143432.8,139148.36363636365,171660.07692307694,203442.75,122685.25,84373.90909090909,141111.7,195933.6,111679.75,130889.63636363637,148789.0,112653.0,65703.625,266185.2727272727,131236.91666666666,137300.63636363635,159938.5,188528.63636363635,139732.63636363635,116659.4,212157.7,251699.76923076922,136190.75,143341.81818181818,153041.81818181818,730706.3636363636,59480.666666666664,39663.875,12306.5],\"x0\":\" \",\"xaxis\":\"x\",\"y0\":\" \",\"yaxis\":\"y\"},{\"alignmentgroup\":\"True\",\"hovertemplate\":\"Y title (unit)=South America<br>x title (unit)=%{x}<extra></extra>\",\"legendgroup\":\"South America\",\"marker\":{\"color\":\"#FFA15A\"},\"name\":\"South America\",\"notched\":false,\"offsetgroup\":\"South America\",\"orientation\":\"h\",\"showlegend\":true,\"type\":\"box\",\"x\":[null,null,null,null,null,null,null,null,null,null,null,null,null,null,null,null,null,null,null,null,null,null,null,null,null,null,null,null,null,null,null,null,null,null,null,null,null,null,null,null,null,null,null,null,null,null,null,null,null,null,null,null,null,null,null,null,null,null,null,null,null,null,null,null,null,null,null,null,null,null,null,null,null,null,null,null,null,null,null,null,null,null,null,null,null,null,null,null,null,null,null,null,null,null,null,null,null,null,null,null,null,null,null,null,null,null,null,null,null,null,null,null,null,null,null,null,null,null,null,null,null,null,null,null,null,null,null,null,null,null,null,null,null,null,null,null,null,null,null,null,null,null,null,null,null,null,null,null,null,null,null,null,null,null,null,null,null,null,null,null,null,null,null,null,null,null,null,null,null,null,null,null,null,null,null,null,null,null,null,null,null,null,null,null,null,null,null,null,null,null,null,null,null,null,null,null,null,null,null,null,null,null,null,null,null,null,null,null,null,null,null,null,null,null,null,null,null,null,null,null,null,null,null,null,null,null,null,null,null,null,null,null,null,null,null,null,null,null,null,null,null,null,null,null,null,null,null,null,null,null,null,null,null,null,null,null,null,null,null,null,null,null,null,null,null,null,null,null,null,null,null,null,null,null,null,null,null,null,null,null,null,null,null,null,null,null,null,null,null,null,null,null,null,null,null,null,null,null,null,null,null,null,null,null,null,null,null,null,null,null,null,null,null,null,null,null,null,null,null,null,null,null,null,null,null,null,null,null,null,null,null,null,null,null,null,null,null,null,null,null,null,null,null,null,null,null,null,null,null,null,null,null,null,null,null,null,null,null,null,4782.0,3143.0,311.0,0.0,0.0,0.0,0.0,0.0,0.0,0.0,405.0,1443.0,205.0,0.0,1.0,0.0,1.0,0.0,0.0,1033.0,6917.0,3431.0,90.0,56.0,6024.0,14864.0,13191.5,32953.75,31113.5,75099.0,17726.75,24734.25,40785.75,73473.5,82800.75,46694.6,71511.4,17729.75,13034.75,45914.75,101036.25,193768.5,57119.333333333336,118112.33333333333,47676.75,73897.25,96403.2,123926.8,122813.8,114058.0,98424.4,24982.6,66914.6,108992.0,93367.4,90438.16666666667,91809.5,60680.166666666664,27504.333333333332,37529.666666666664,59721.57142857143,57275.0,61825.28571428572,71030.0,58503.666666666664,24218.428571428572,29986.625,83560.625,96174.22222222222,103425.22222222222,103584.11111111111,24931.85714285714,6742.666666666667,65284.71428571428,77967.75,82095.25,125367.55555555556,130518.77777777778,68197.77777777778,24550.666666666668,119049.11111111111,84617.375,76068.875,105455.11111111111,100306.77777777778,40307.3,20102.444444444445,108802.55555555556,160115.6,122183.4,118006.66666666667,115019.22222222222,77121.1,34128.3,101940.33333333333,86683.33333333333,159627.2,74235.5,30161.428571428572,57270.875,22548.88888888889,154960.77777777778,175695.875,236423.125,164310.77777777778,155711.33333333334,136626.11111111112,38963.625,137787.125,411861.2,173569.44444444444,77132.42857142857,75553.42857142857,50704.75,22513.875,139823.66666666666,64983.0,93976.55555555556,154045.3,294082.44444444444,112488.55555555556,54896.22222222222,172146.125,212803.625,146248.3,199006.625,166647.75,86572.375,45331.75,162441.0,221940.0,178668.125,110220.75,106749.5,40526.875,21314.0,52812.42857142857,165670.88888888888,186762.22222222222,229486.75,335288.5714285714,110304.125,39131.333333333336,150492.11111111112,170716.0,182824.0,178185.66666666666,76492.14285714286,71571.0,46854.125,82458.25,90746.375,163971.2,170531.375,229421.75,110084.33333333333,70525.0,143967.11111111112,198577.22222222222,177102.4,235177.8,149592.88888888888,157726.0,80329.6,82755.44444444444,136075.5,137588.0,283121.0,255910.2857142857,124599.28571428571,50485.88888888889,166080.88888888888,264418.875,252926.5,479912.85714285716,258156.75,238578.57142857142,126899.625,236763.11111111112,360092.125,332907.625,267238.8888888889,134863.875,118941.0,76661.28571428571,96067.88888888889,380334.125,150260.25,132632.4,128628.5,140185.875,101394.75,267123.1,214078.875,452406.5,339233.5714285714,320070.4285714286,173374.83333333334,215843.14285714287,290799.3333333333,338053.14285714284,460050.0,406337.77777777775,260479.5,385011.125,130633.22222222222,210483.22222222222,325348.22222222225,362556.0,392341.5,249279.7,169627.375,109829.25,387129.6666666667,376357.875,293264.875,341174.6,125928.44444444444,408026.875,101012.0,143650.0,488602.22222222225,325336.5,167317.125,148291.42857142858,416890.75,220970.3,99403.0,142870.11111111112,370817.77777777775,132276.14285714287,113303.44444444444,124148.75,204932.44444444444,566438.875,328876.875,341188.1,336572.1,157203.55555555556,140837.33333333334,104348.75,324080.77777777775,243724.0,345597.1,557460.0,257735.4,172341.5,118236.625,377523.22222222225,119839.0,135377.14285714287,367272.4285714286,169333.7142857143,125422.71428571429,313041.0,358870.5,188477.0,148555.83333333334,327056.77777777775,469257.375,427224.5714285714,138784.57142857142,109596.57142857143,144257.42857142858,324350.6666666667,477009.0,143140.6,172086.0,393047.3333333333,115813.85714285714,455526.0,130975.66666666667,124945.0,114645.33333333333,103583.71428571429,310587.0,329765.0,322706.0,153164.16666666666,142385.66666666666,145688.66666666666,150148.5,134649.0,129503.0,120413.83333333333,201182.875,286028.44444444444,296913.6666666667,269116.625,207684.0,111617.33333333333,159816.8,112743.14285714286,157690.0,836814.875,171409.4,71907.25,108288.66666666667,415311.8333333333,183993.8,103491.0,483823.5,853742.4285714285,224628.0,116168.66666666667,160329.2857142857,511171.71428571426,166866.16666666666,157408.8,100173.75,52329.25,52263.0,70499.33333333333],\"x0\":\" \",\"xaxis\":\"x\",\"y0\":\" \",\"yaxis\":\"y\"},{\"alignmentgroup\":\"True\",\"hovertemplate\":\"Y title (unit)=Oceania<br>x title (unit)=%{x}<extra></extra>\",\"legendgroup\":\"Oceania\",\"marker\":{\"color\":\"#19d3f3\"},\"name\":\"Oceania\",\"notched\":false,\"offsetgroup\":\"Oceania\",\"orientation\":\"h\",\"showlegend\":true,\"type\":\"box\",\"x\":[null,null,null,null,null,null,null,null,null,null,null,null,null,null,null,null,null,null,null,null,null,null,null,null,null,null,null,null,null,null,null,null,null,null,null,null,null,null,null,null,null,null,null,null,null,null,null,null,null,null,null,null,null,null,null,null,null,null,null,null,null,null,null,null,null,null,null,null,null,null,null,null,null,null,null,null,null,null,null,null,null,null,null,null,null,null,null,null,null,null,null,null,null,null,null,null,null,null,null,null,null,null,null,null,null,null,null,null,null,null,null,null,null,null,null,null,null,null,null,null,null,null,null,null,null,null,null,null,null,null,null,null,null,null,null,null,null,null,null,null,null,null,null,null,null,null,null,null,null,null,null,null,null,null,null,null,null,null,null,null,null,null,null,null,null,null,null,null,null,null,null,null,null,null,null,null,null,null,null,null,null,null,null,null,null,null,null,null,null,null,null,null,null,null,null,null,null,null,null,null,null,null,null,null,null,null,null,null,null,null,null,null,null,null,null,null,null,null,null,null,null,null,null,null,null,null,null,null,null,null,null,null,null,null,null,null,null,null,null,null,null,null,null,null,null,null,null,null,null,null,null,null,null,null,null,null,null,null,null,null,null,null,null,null,null,null,null,null,null,null,null,null,null,null,null,null,null,null,null,null,null,null,null,null,null,null,null,null,null,null,null,null,null,null,null,null,null,null,null,null,null,null,null,null,null,null,null,null,null,null,null,null,null,null,null,null,null,null,null,null,null,null,null,null,null,null,null,null,null,null,null,null,null,null,null,null,null,null,null,null,null,null,null,null,null,null,null,null,null,null,null,null,null,null,null,null,null,null,null,null,null,null,null,null,null,null,null,null,null,null,null,null,null,null,null,null,null,null,null,null,null,null,null,null,null,null,null,null,null,null,null,null,null,null,null,null,null,null,null,null,null,null,null,null,null,null,null,null,null,null,null,null,null,450.0,null,29.0,65.0,69.0,1608.0,2241.0,5263.5,3990.5,4047.0,1617.0,1809.0,4343.0,3686.3333333333335,5960.5,6246.0,3176.0,2504.0,2767.5,4806.0,7422.5,8994.5,5721.5,12616.5,2006.0,1409.5,9768.5,11640.5,12254.0,8383.0,7770.5,2112.0,13382.0,16396.0,24347.0,26732.5,27550.0,25486.0,9876.0,9373.5,30347.0,39247.5,40385.0,42867.0,3233.0,8435.5,1040.5,5944.0,35155.5,41572.5,44763.0,22957.0,15830.5,7646.5,32073.0,34714.0,35889.5,35002.5,30586.333333333332,13699.0,45855.5,36930.5,36953.0,38886.0,40153.5,35066.0,12343.0,2894.0,17052.0,35108.5,46853.5,39869.0,34351.0,12356.0,5040.0,33545.0,46490.0,45990.0,48015.0,45033.5,16924.0,6113.0,42440.0,45749.5,48785.0,50827.0,46110.5,19310.0,7581.5,47120.0,55158.5,54160.5,58310.0,15562.0,7967.0,3806.0,12981.0,60979.5,65052.0,70872.5,71139.0,34992.5,17952.0,66805.5,79312.5,81111.5,83411.5,80846.0,49148.0,32637.0,66435.5,81366.0,77116.5,88370.0,21558.0,11941.0,7304.0,40932.0,87150.5,80213.5,82313.5,75810.0,38415.5,21011.5,73075.5,81814.0,81961.0,81434.0,70853.0,41672.0,27688.0,71208.0,82925.0,59916.0,104129.5,87446.5,52848.0,28369.5,75396.0,90194.0,86388.5,90679.5,83214.0,57234.5,30525.5,81930.0,95734.0,97444.0,97730.0,92305.0,59527.0,33018.0,94761.5,102060.0,114463.5,110263.5,107707.0,71904.0,41776.0,105096.5,115182.5,132394.0,122572.0,126445.5,81426.0,49347.5,112222.5,130958.5,134086.5,141095.5,139048.5,96365.0,53956.0,128169.5,156665.0,155961.5,159424.5,163029.5,104151.5,59986.5,162622.5,164780.5,154429.0,166512.5,184427.5,124927.5,88437.0,177778.5,194606.0,211958.5,199925.5,203882.5,149706.5,103344.5,177651.0,210421.0,210575.5,195615.0,199677.5,145891.0,84659.0,162714.0,183666.5,189087.5,190213.0,184071.5,128830.0,83508.0,197920.0,182102.5,184177.5,181496.5,199261.5,140190.5,99586.0,185560.5,192726.5,193279.5,198377.5,180714.0,135288.5,84931.5,171889.0,187929.0,174524.0,193405.5,186955.5,130527.0,82659.5,120711.5,207001.5,203106.5,206701.5,208282.5,158857.5,103953.5,190862.0,204690.5,193791.5,190375.0,184237.5,163391.5,94321.0,159974.5,158936.5,158498.0,159043.5,157285.0,117118.5,72214.0,121273.5,133040.5,128062.0,133985.0,123595.5,91042.5,52013.0,114210.5,84593.5],\"x0\":\" \",\"xaxis\":\"x\",\"y0\":\" \",\"yaxis\":\"y\"}],                        {\"boxmode\":\"group\",\"height\":550,\"legend\":{\"title\":{\"text\":\"Y title (unit)\"},\"tracegroupgap\":0},\"margin\":{\"b\":0,\"l\":0,\"r\":0,\"t\":40},\"template\":{\"data\":{\"bar\":[{\"error_x\":{\"color\":\"#2a3f5f\"},\"error_y\":{\"color\":\"#2a3f5f\"},\"marker\":{\"line\":{\"color\":\"#E5ECF6\",\"width\":0.5},\"pattern\":{\"fillmode\":\"overlay\",\"size\":10,\"solidity\":0.2}},\"type\":\"bar\"}],\"barpolar\":[{\"marker\":{\"line\":{\"color\":\"#E5ECF6\",\"width\":0.5},\"pattern\":{\"fillmode\":\"overlay\",\"size\":10,\"solidity\":0.2}},\"type\":\"barpolar\"}],\"carpet\":[{\"aaxis\":{\"endlinecolor\":\"#2a3f5f\",\"gridcolor\":\"white\",\"linecolor\":\"white\",\"minorgridcolor\":\"white\",\"startlinecolor\":\"#2a3f5f\"},\"baxis\":{\"endlinecolor\":\"#2a3f5f\",\"gridcolor\":\"white\",\"linecolor\":\"white\",\"minorgridcolor\":\"white\",\"startlinecolor\":\"#2a3f5f\"},\"type\":\"carpet\"}],\"choropleth\":[{\"colorbar\":{\"outlinewidth\":0,\"ticks\":\"\"},\"type\":\"choropleth\"}],\"contour\":[{\"colorbar\":{\"outlinewidth\":0,\"ticks\":\"\"},\"colorscale\":[[0.0,\"#0d0887\"],[0.1111111111111111,\"#46039f\"],[0.2222222222222222,\"#7201a8\"],[0.3333333333333333,\"#9c179e\"],[0.4444444444444444,\"#bd3786\"],[0.5555555555555556,\"#d8576b\"],[0.6666666666666666,\"#ed7953\"],[0.7777777777777778,\"#fb9f3a\"],[0.8888888888888888,\"#fdca26\"],[1.0,\"#f0f921\"]],\"type\":\"contour\"}],\"contourcarpet\":[{\"colorbar\":{\"outlinewidth\":0,\"ticks\":\"\"},\"type\":\"contourcarpet\"}],\"heatmap\":[{\"colorbar\":{\"outlinewidth\":0,\"ticks\":\"\"},\"colorscale\":[[0.0,\"#0d0887\"],[0.1111111111111111,\"#46039f\"],[0.2222222222222222,\"#7201a8\"],[0.3333333333333333,\"#9c179e\"],[0.4444444444444444,\"#bd3786\"],[0.5555555555555556,\"#d8576b\"],[0.6666666666666666,\"#ed7953\"],[0.7777777777777778,\"#fb9f3a\"],[0.8888888888888888,\"#fdca26\"],[1.0,\"#f0f921\"]],\"type\":\"heatmap\"}],\"heatmapgl\":[{\"colorbar\":{\"outlinewidth\":0,\"ticks\":\"\"},\"colorscale\":[[0.0,\"#0d0887\"],[0.1111111111111111,\"#46039f\"],[0.2222222222222222,\"#7201a8\"],[0.3333333333333333,\"#9c179e\"],[0.4444444444444444,\"#bd3786\"],[0.5555555555555556,\"#d8576b\"],[0.6666666666666666,\"#ed7953\"],[0.7777777777777778,\"#fb9f3a\"],[0.8888888888888888,\"#fdca26\"],[1.0,\"#f0f921\"]],\"type\":\"heatmapgl\"}],\"histogram\":[{\"marker\":{\"pattern\":{\"fillmode\":\"overlay\",\"size\":10,\"solidity\":0.2}},\"type\":\"histogram\"}],\"histogram2d\":[{\"colorbar\":{\"outlinewidth\":0,\"ticks\":\"\"},\"colorscale\":[[0.0,\"#0d0887\"],[0.1111111111111111,\"#46039f\"],[0.2222222222222222,\"#7201a8\"],[0.3333333333333333,\"#9c179e\"],[0.4444444444444444,\"#bd3786\"],[0.5555555555555556,\"#d8576b\"],[0.6666666666666666,\"#ed7953\"],[0.7777777777777778,\"#fb9f3a\"],[0.8888888888888888,\"#fdca26\"],[1.0,\"#f0f921\"]],\"type\":\"histogram2d\"}],\"histogram2dcontour\":[{\"colorbar\":{\"outlinewidth\":0,\"ticks\":\"\"},\"colorscale\":[[0.0,\"#0d0887\"],[0.1111111111111111,\"#46039f\"],[0.2222222222222222,\"#7201a8\"],[0.3333333333333333,\"#9c179e\"],[0.4444444444444444,\"#bd3786\"],[0.5555555555555556,\"#d8576b\"],[0.6666666666666666,\"#ed7953\"],[0.7777777777777778,\"#fb9f3a\"],[0.8888888888888888,\"#fdca26\"],[1.0,\"#f0f921\"]],\"type\":\"histogram2dcontour\"}],\"mesh3d\":[{\"colorbar\":{\"outlinewidth\":0,\"ticks\":\"\"},\"type\":\"mesh3d\"}],\"parcoords\":[{\"line\":{\"colorbar\":{\"outlinewidth\":0,\"ticks\":\"\"}},\"type\":\"parcoords\"}],\"pie\":[{\"automargin\":true,\"type\":\"pie\"}],\"scatter\":[{\"marker\":{\"colorbar\":{\"outlinewidth\":0,\"ticks\":\"\"}},\"type\":\"scatter\"}],\"scatter3d\":[{\"line\":{\"colorbar\":{\"outlinewidth\":0,\"ticks\":\"\"}},\"marker\":{\"colorbar\":{\"outlinewidth\":0,\"ticks\":\"\"}},\"type\":\"scatter3d\"}],\"scattercarpet\":[{\"marker\":{\"colorbar\":{\"outlinewidth\":0,\"ticks\":\"\"}},\"type\":\"scattercarpet\"}],\"scattergeo\":[{\"marker\":{\"colorbar\":{\"outlinewidth\":0,\"ticks\":\"\"}},\"type\":\"scattergeo\"}],\"scattergl\":[{\"marker\":{\"colorbar\":{\"outlinewidth\":0,\"ticks\":\"\"}},\"type\":\"scattergl\"}],\"scattermapbox\":[{\"marker\":{\"colorbar\":{\"outlinewidth\":0,\"ticks\":\"\"}},\"type\":\"scattermapbox\"}],\"scatterpolar\":[{\"marker\":{\"colorbar\":{\"outlinewidth\":0,\"ticks\":\"\"}},\"type\":\"scatterpolar\"}],\"scatterpolargl\":[{\"marker\":{\"colorbar\":{\"outlinewidth\":0,\"ticks\":\"\"}},\"type\":\"scatterpolargl\"}],\"scatterternary\":[{\"marker\":{\"colorbar\":{\"outlinewidth\":0,\"ticks\":\"\"}},\"type\":\"scatterternary\"}],\"surface\":[{\"colorbar\":{\"outlinewidth\":0,\"ticks\":\"\"},\"colorscale\":[[0.0,\"#0d0887\"],[0.1111111111111111,\"#46039f\"],[0.2222222222222222,\"#7201a8\"],[0.3333333333333333,\"#9c179e\"],[0.4444444444444444,\"#bd3786\"],[0.5555555555555556,\"#d8576b\"],[0.6666666666666666,\"#ed7953\"],[0.7777777777777778,\"#fb9f3a\"],[0.8888888888888888,\"#fdca26\"],[1.0,\"#f0f921\"]],\"type\":\"surface\"}],\"table\":[{\"cells\":{\"fill\":{\"color\":\"#EBF0F8\"},\"line\":{\"color\":\"white\"}},\"header\":{\"fill\":{\"color\":\"#C8D4E3\"},\"line\":{\"color\":\"white\"}},\"type\":\"table\"}]},\"layout\":{\"annotationdefaults\":{\"arrowcolor\":\"#2a3f5f\",\"arrowhead\":0,\"arrowwidth\":1},\"autotypenumbers\":\"strict\",\"coloraxis\":{\"colorbar\":{\"outlinewidth\":0,\"ticks\":\"\"}},\"colorscale\":{\"diverging\":[[0,\"#8e0152\"],[0.1,\"#c51b7d\"],[0.2,\"#de77ae\"],[0.3,\"#f1b6da\"],[0.4,\"#fde0ef\"],[0.5,\"#f7f7f7\"],[0.6,\"#e6f5d0\"],[0.7,\"#b8e186\"],[0.8,\"#7fbc41\"],[0.9,\"#4d9221\"],[1,\"#276419\"]],\"sequential\":[[0.0,\"#0d0887\"],[0.1111111111111111,\"#46039f\"],[0.2222222222222222,\"#7201a8\"],[0.3333333333333333,\"#9c179e\"],[0.4444444444444444,\"#bd3786\"],[0.5555555555555556,\"#d8576b\"],[0.6666666666666666,\"#ed7953\"],[0.7777777777777778,\"#fb9f3a\"],[0.8888888888888888,\"#fdca26\"],[1.0,\"#f0f921\"]],\"sequentialminus\":[[0.0,\"#0d0887\"],[0.1111111111111111,\"#46039f\"],[0.2222222222222222,\"#7201a8\"],[0.3333333333333333,\"#9c179e\"],[0.4444444444444444,\"#bd3786\"],[0.5555555555555556,\"#d8576b\"],[0.6666666666666666,\"#ed7953\"],[0.7777777777777778,\"#fb9f3a\"],[0.8888888888888888,\"#fdca26\"],[1.0,\"#f0f921\"]]},\"colorway\":[\"#636efa\",\"#EF553B\",\"#00cc96\",\"#ab63fa\",\"#FFA15A\",\"#19d3f3\",\"#FF6692\",\"#B6E880\",\"#FF97FF\",\"#FECB52\"],\"font\":{\"color\":\"#2a3f5f\"},\"geo\":{\"bgcolor\":\"white\",\"lakecolor\":\"white\",\"landcolor\":\"#E5ECF6\",\"showlakes\":true,\"showland\":true,\"subunitcolor\":\"white\"},\"hoverlabel\":{\"align\":\"left\"},\"hovermode\":\"closest\",\"mapbox\":{\"style\":\"light\"},\"paper_bgcolor\":\"white\",\"plot_bgcolor\":\"#E5ECF6\",\"polar\":{\"angularaxis\":{\"gridcolor\":\"white\",\"linecolor\":\"white\",\"ticks\":\"\"},\"bgcolor\":\"#E5ECF6\",\"radialaxis\":{\"gridcolor\":\"white\",\"linecolor\":\"white\",\"ticks\":\"\"}},\"scene\":{\"xaxis\":{\"backgroundcolor\":\"#E5ECF6\",\"gridcolor\":\"white\",\"gridwidth\":2,\"linecolor\":\"white\",\"showbackground\":true,\"ticks\":\"\",\"zerolinecolor\":\"white\"},\"yaxis\":{\"backgroundcolor\":\"#E5ECF6\",\"gridcolor\":\"white\",\"gridwidth\":2,\"linecolor\":\"white\",\"showbackground\":true,\"ticks\":\"\",\"zerolinecolor\":\"white\"},\"zaxis\":{\"backgroundcolor\":\"#E5ECF6\",\"gridcolor\":\"white\",\"gridwidth\":2,\"linecolor\":\"white\",\"showbackground\":true,\"ticks\":\"\",\"zerolinecolor\":\"white\"}},\"shapedefaults\":{\"line\":{\"color\":\"#2a3f5f\"}},\"ternary\":{\"aaxis\":{\"gridcolor\":\"white\",\"linecolor\":\"white\",\"ticks\":\"\"},\"baxis\":{\"gridcolor\":\"white\",\"linecolor\":\"white\",\"ticks\":\"\"},\"bgcolor\":\"#E5ECF6\",\"caxis\":{\"gridcolor\":\"white\",\"linecolor\":\"white\",\"ticks\":\"\"}},\"title\":{\"x\":0.05},\"xaxis\":{\"automargin\":true,\"gridcolor\":\"white\",\"linecolor\":\"white\",\"ticks\":\"\",\"title\":{\"standoff\":15},\"zerolinecolor\":\"white\",\"zerolinewidth\":2},\"yaxis\":{\"automargin\":true,\"gridcolor\":\"white\",\"linecolor\":\"white\",\"ticks\":\"\",\"title\":{\"standoff\":15},\"zerolinecolor\":\"white\",\"zerolinewidth\":2}}},\"title\":{\"text\":\"set title here\"},\"width\":600,\"xaxis\":{\"anchor\":\"y\",\"domain\":[0.0,1.0],\"title\":{\"text\":\"x title (unit)\"}},\"yaxis\":{\"anchor\":\"x\",\"domain\":[0.0,1.0]}},                        {\"responsive\": true}                    ).then(function(){\n",
       "                            \n",
       "var gd = document.getElementById('3acd3cd1-5532-4942-9266-7737ade07ec8');\n",
       "var x = new MutationObserver(function (mutations, observer) {{\n",
       "        var display = window.getComputedStyle(gd).display;\n",
       "        if (!display || display === 'none') {{\n",
       "            console.log([gd, 'removed!']);\n",
       "            Plotly.purge(gd);\n",
       "            observer.disconnect();\n",
       "        }}\n",
       "}});\n",
       "\n",
       "// Listen for the removal of the full notebook cells\n",
       "var notebookContainer = gd.closest('#notebook-container');\n",
       "if (notebookContainer) {{\n",
       "    x.observe(notebookContainer, {childList: true});\n",
       "}}\n",
       "\n",
       "// Listen for the clearing of the current output cell\n",
       "var outputEl = gd.closest('.output');\n",
       "if (outputEl) {{\n",
       "    x.observe(outputEl, {childList: true});\n",
       "}}\n",
       "\n",
       "                        })                };                });            </script>        </div>"
      ]
     },
     "metadata": {},
     "output_type": "display_data"
    }
   ],
   "source": [
    "\n",
    "#use date above\n",
    "erea = owid_covid_data['continent'].unique()\n",
    "\n",
    "container = []\n",
    "\n",
    "for er in erea:\n",
    "    df_erea = owid_covid_data[owid_covid_data['continent'] == er].groupby('date').mean()\n",
    "    df_erea['erea'] = er\n",
    "    df_erea.reset_index(inplace=True)\n",
    "    df_erea = df_erea[['erea','new_vaccinations']]\n",
    "    container.append(df_erea)\n",
    "\n",
    "boxerea_vaccine = pd.concat(container,axis=0)\n",
    "\n",
    "fig = px.box(boxerea_vaccine, x=\"new_vaccinations\", color=\"erea\",height= 550,width=600,\n",
    " labels={   \"new_vaccinations\": \"x title (unit)\",\n",
    "            \"erea\": \"Y title (unit)\",})\n",
    "\n",
    "fig.update_layout(title_text='set title here',margin={\"r\":0,\"t\":40,\"l\":0,\"b\":0})\n",
    "fig.show()\n"
   ]
  }
 ],
 "metadata": {
  "interpreter": {
   "hash": "0ac516125b3ee16d4eaa41f008fade7bad50b808bd1b6d74d2e8ae0015ba9066"
  },
  "kernelspec": {
   "display_name": "Python 3 (ipykernel)",
   "language": "python",
   "name": "python3"
  },
  "language_info": {
   "codemirror_mode": {
    "name": "ipython",
    "version": 3
   },
   "file_extension": ".py",
   "mimetype": "text/x-python",
   "name": "python",
   "nbconvert_exporter": "python",
   "pygments_lexer": "ipython3",
   "version": "3.9.7"
  }
 },
 "nbformat": 4,
 "nbformat_minor": 4
}
